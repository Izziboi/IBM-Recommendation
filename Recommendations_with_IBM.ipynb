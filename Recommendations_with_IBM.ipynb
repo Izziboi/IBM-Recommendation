{
 "cells": [
  {
   "cell_type": "markdown",
   "metadata": {},
   "source": [
    "# Recommendations with IBM\n",
    "\n",
    "In this notebook, you will be putting your recommendation skills to use on real data from the IBM Watson Studio platform. \n",
    "\n",
    "\n",
    "You may either submit your notebook through the workspace here, or you may work from your local machine and submit through the next page.  Either way assure that your code passes the project [RUBRIC](https://review.udacity.com/#!/rubrics/2322/view).  **Please save regularly.**\n",
    "\n",
    "By following the table of contents, you will build out a number of different methods for making recommendations that can be used for different situations. \n",
    "\n",
    "\n",
    "## Table of Contents\n",
    "\n",
    "I. [Exploratory Data Analysis](#Exploratory-Data-Analysis)<br>\n",
    "II. [Rank Based Recommendations](#Rank)<br>\n",
    "III. [User-User Based Collaborative Filtering](#User-User)<br>\n",
    "IV. [Content Based Recommendations (EXTRA - NOT REQUIRED)](#Content-Recs)<br>\n",
    "V. [Matrix Factorization](#Matrix-Fact)<br>\n",
    "VI. [Extras & Concluding](#conclusions)\n",
    "\n",
    "At the end of the notebook, you will find directions for how to submit your work.  Let's get started by importing the necessary libraries and reading in the data."
   ]
  },
  {
   "cell_type": "code",
   "execution_count": 215,
   "metadata": {},
   "outputs": [
    {
     "name": "stdout",
     "output_type": "stream",
     "text": [
      "   article_id                                              title  \\\n",
      "0      1430.0  using pixiedust for fast, flexible, and easier...   \n",
      "1      1314.0       healthcare python streaming application demo   \n",
      "2      1429.0         use deep learning for image classification   \n",
      "3      1338.0          ml optimization using cognitive assistant   \n",
      "4      1276.0          deploy your python model as a restful api   \n",
      "\n",
      "                                      email  \n",
      "0  ef5f11f77ba020cd36e1105a00ab868bbdbf7fe7  \n",
      "1  083cbdfa93c8444beaa4c5f5e0f5f9198e4f9e0b  \n",
      "2  b96a4f2e92d8572034b1e9b28f9ac673765cd074  \n",
      "3  06485706b34a5c9bf2a0ecdac41daf7e7654ceb7  \n",
      "4  f01220c46fc92c6e6b161b1849de11faacd7ccb2  \n"
     ]
    }
   ],
   "source": [
    "import pandas as pd\n",
    "import numpy as np\n",
    "import matplotlib.pyplot as plt\n",
    "import project_tests as t\n",
    "import pickle\n",
    "\n",
    "%matplotlib inline\n",
    "\n",
    "df = pd.read_csv('user-item-interactions.csv')\n",
    "df_content = pd.read_csv('articles_community.csv')\n",
    "del df['Unnamed: 0']\n",
    "del df_content['Unnamed: 0']\n",
    "\n",
    "# Show df to get an idea of the data\n",
    "print(df.head())"
   ]
  },
  {
   "cell_type": "code",
   "execution_count": 216,
   "metadata": {},
   "outputs": [
    {
     "name": "stdout",
     "output_type": "stream",
     "text": [
      "(45993, 3)\n"
     ]
    }
   ],
   "source": [
    "print(df.shape) # 45993 rows and 3 columns"
   ]
  },
  {
   "cell_type": "code",
   "execution_count": 217,
   "metadata": {
    "scrolled": true
   },
   "outputs": [
    {
     "name": "stdout",
     "output_type": "stream",
     "text": [
      "                                            doc_body  \\\n",
      "0  Skip navigation Sign in SearchLoading...\\r\\n\\r...   \n",
      "1  No Free Hunch Navigation * kaggle.com\\r\\n\\r\\n ...   \n",
      "2  ☰ * Login\\r\\n * Sign Up\\r\\n\\r\\n * Learning Pat...   \n",
      "3  DATALAYER: HIGH THROUGHPUT, LOW LATENCY AT SCA...   \n",
      "4  Skip navigation Sign in SearchLoading...\\r\\n\\r...   \n",
      "\n",
      "                                     doc_description  \\\n",
      "0  Detect bad readings in real time using Python ...   \n",
      "1  See the forest, see the trees. Here lies the c...   \n",
      "2  Here’s this week’s news in Data Science and Bi...   \n",
      "3  Learn how distributed DBs solve the problem of...   \n",
      "4  This video demonstrates the power of IBM DataS...   \n",
      "\n",
      "                                       doc_full_name doc_status  article_id  \n",
      "0  Detect Malfunctioning IoT Sensors with Streami...       Live           0  \n",
      "1  Communicating data science: A guide to present...       Live           1  \n",
      "2         This Week in Data Science (April 18, 2017)       Live           2  \n",
      "3  DataLayer Conference: Boost the performance of...       Live           3  \n",
      "4      Analyze NY Restaurant data using Spark in DSX       Live           4  \n"
     ]
    }
   ],
   "source": [
    "# Show df_content to get an idea of the data\n",
    "print(df_content.head())"
   ]
  },
  {
   "cell_type": "code",
   "execution_count": 218,
   "metadata": {},
   "outputs": [
    {
     "name": "stdout",
     "output_type": "stream",
     "text": [
      "(1056, 5)\n"
     ]
    }
   ],
   "source": [
    "print(df_content.shape) # 1056 rows and 5 columns"
   ]
  },
  {
   "cell_type": "markdown",
   "metadata": {},
   "source": [
    "### <a class=\"anchor\" id=\"Exploratory-Data-Analysis\">Part I : Exploratory Data Analysis</a>\n",
    "\n",
    "Use the dictionary and cells below to provide some insight into the descriptive statistics of the data.\n",
    "\n",
    "`1.` What is the distribution of how many articles a user interacts with in the dataset?  Provide a visual and descriptive statistics to assist with giving a look at the number of times each user interacts with an article.  "
   ]
  },
  {
   "cell_type": "code",
   "execution_count": 219,
   "metadata": {
    "scrolled": false
   },
   "outputs": [
    {
     "name": "stdout",
     "output_type": "stream",
     "text": [
      "article_id     0\n",
      "title          0\n",
      "email         17\n",
      "dtype: int64\n"
     ]
    }
   ],
   "source": [
    "print(df.isnull().sum()) # Sum of null entries by columns"
   ]
  },
  {
   "cell_type": "code",
   "execution_count": 220,
   "metadata": {},
   "outputs": [
    {
     "name": "stdout",
     "output_type": "stream",
     "text": [
      "       article_id                                              title email\n",
      "25131      1016.0  why you should master r (even if it might even...   NaN\n",
      "29758      1393.0                       the nurse assignment problem   NaN\n",
      "29759        20.0  working interactively with rstudio and noteboo...   NaN\n",
      "29760      1174.0      breast cancer wisconsin (diagnostic) data set   NaN\n",
      "29761        62.0  data visualization: the importance of excludin...   NaN\n",
      "35264       224.0                   using apply, sapply, lapply in r   NaN\n",
      "35276       961.0                     beyond parallelize and collect   NaN\n",
      "35277       268.0                      sector correlations shiny app   NaN\n",
      "35278       268.0                      sector correlations shiny app   NaN\n",
      "35279       268.0                      sector correlations shiny app   NaN\n",
      "35280       268.0                      sector correlations shiny app   NaN\n",
      "35281       415.0  using machine learning to predict value of hom...   NaN\n",
      "35282       846.0        pearson correlation aggregation on sparksql   NaN\n",
      "35283       268.0                      sector correlations shiny app   NaN\n",
      "35284       162.0  an introduction to stock market data analysis ...   NaN\n",
      "42749       647.0                 getting started with apache mahout   NaN\n",
      "42750       965.0  data visualization playbook: revisiting the ba...   NaN\n"
     ]
    }
   ],
   "source": [
    "print(df.loc[df['email'].isnull()]) # Dataframe of the 17 null 'email' entries with other columns"
   ]
  },
  {
   "cell_type": "code",
   "execution_count": 221,
   "metadata": {},
   "outputs": [
    {
     "name": "stdout",
     "output_type": "stream",
     "text": [
      "doc_body           14\n",
      "doc_description     3\n",
      "doc_full_name       0\n",
      "doc_status          0\n",
      "article_id          0\n",
      "dtype: int64\n"
     ]
    }
   ],
   "source": [
    "print(df_content.isnull().sum()) # Sum of null entries by columns"
   ]
  },
  {
   "cell_type": "code",
   "execution_count": 222,
   "metadata": {},
   "outputs": [
    {
     "name": "stdout",
     "output_type": "stream",
     "text": [
      "     doc_body                                    doc_description  \\\n",
      "206       NaN  Watch how to convert XML data to CSV format to...   \n",
      "276       NaN  Love to work in Microsoft Excel? Watch how to ...   \n",
      "484       NaN  See how to evaluate and convert your DDL and S...   \n",
      "508       NaN  Watch how to generate SQL-based reports for Cl...   \n",
      "540       NaN  Need to move some data to the cloud for wareho...   \n",
      "638       NaN  See how to create a new dashDB instance and po...   \n",
      "667       NaN  See how to connect dashDB, as a source and tar...   \n",
      "706       NaN  Aginity Workbench is a free application known ...   \n",
      "842       NaN  Learn how to configure a dashDB connection in ...   \n",
      "876       NaN  See how to populate data into a table in your ...   \n",
      "889       NaN  Watch how to apply association rules using R t...   \n",
      "947       NaN  Watch how to extract and export dashDB data to...   \n",
      "1037      NaN  See how quick and easy it is to set up a dashD...   \n",
      "1054      NaN  Learn how to use IBM dashDB as data store for ...   \n",
      "\n",
      "                                          doc_full_name doc_status  article_id  \n",
      "206                           Load XML data into dashDB       Live         206  \n",
      "276                         Integrate dashDB with Excel       Live         276  \n",
      "484        Convert IBM Puredata for Analytics to dashDB       Live         483  \n",
      "508    Use dashDB with IBM Embeddable Reporting Service       Live         507  \n",
      "540                  Convert data from Oracle to dashDB       Live         539  \n",
      "638        Load JSON from Cloudant database into dashDB       Live         637  \n",
      "667              Integrate dashDB and Informatica Cloud       Live         666  \n",
      "706                Use Aginity Workbench for IBM dashDB       Live         704  \n",
      "842     Leverage dashDB in Cognos Business Intelligence       Live         839  \n",
      "876              Load data from the desktop into dashDB       Live         873  \n",
      "889   Perform market basket analysis using dashDB and R       Live         886  \n",
      "947        Extract and export dashDB data to a CSV file       Live         944  \n",
      "1037                 Get started with dashDB on Bluemix       Live        1032  \n",
      "1054                              Use dashDB with Spark       Live        1049  \n"
     ]
    }
   ],
   "source": [
    "print(df_content.loc[df_content['doc_body'].isnull()]) # Dataframe of the 14 null 'doc_body' entries with other columns"
   ]
  },
  {
   "cell_type": "code",
   "execution_count": 223,
   "metadata": {},
   "outputs": [
    {
     "name": "stdout",
     "output_type": "stream",
     "text": [
      "                                              doc_body doc_description  \\\n",
      "354  The search index lets you create flexible quer...             NaN   \n",
      "768  Compose The Compose logo Articles Sign in Free...             NaN   \n",
      "919  Cloudant Query is a powerful declarative JSON ...             NaN   \n",
      "\n",
      "                                  doc_full_name doc_status  article_id  \n",
      "354          Build the search index in Cloudant       Live         354  \n",
      "768  Announcing the Data Browser for JanusGraph       Live         765  \n",
      "919                  Use the new Cloudant query       Live         916  \n"
     ]
    }
   ],
   "source": [
    "print(df_content.loc[df_content['doc_description'].isnull()]) # Dataframe of the 3 null 'doc_description' entries with other columns"
   ]
  },
  {
   "cell_type": "code",
   "execution_count": 224,
   "metadata": {},
   "outputs": [
    {
     "name": "stdout",
     "output_type": "stream",
     "text": [
      "article_id  title                                                         email                                   \n",
      "528.0       10 tips on using jupyter notebook                             7888dc37498447d0477be7ee2c4176543f5a6190    937\n",
      "373.0       working with notebooks in dsx                                 3731e18b64e753dc509712c64bc8b219fb379a47    927\n",
      "1396.0      times world university ranking analysis                       7277e817525abfd50b1f0f53b2b413ccc9336f58    671\n",
      "732.0       rapidly build machine learning flows with dsx                 1c4b74e232865f95f25e28c91e1109be2b64004a    643\n",
      "151.0       jupyter notebook tutorial                                     7dc02db8b76fffbdfe29542da672d4d5fd5ed4ae    627\n",
      "                                                                                                                     ... \n",
      "1364.0      predicting churn with the spss random tree algorithm          21a68f0bfaedf3ce97d85100b618c1635a83ce17      1\n",
      "766.0       making data science a team sport                              7888dc37498447d0477be7ee2c4176543f5a6190      1\n",
      "508.0       data science in the cloud                                     c62eedcf1f342ebe734e678f3a089d712b77b4ec      1\n",
      "1427.0      use xgboost, scikit-learn & ibm watson machine learning apis  5d593d452915eb961c1c72edd6a8823da43ab61d      1\n",
      "1351.0      model bike sharing data with spss                             c87456fa2b3c0922bfd4c3531fc7265505a541ab      1\n",
      "Length: 618, dtype: int64\n"
     ]
    }
   ],
   "source": [
    "most_viewed_art = df.loc[df['article_id']].value_counts()\n",
    "print(most_viewed_art)"
   ]
  },
  {
   "cell_type": "code",
   "execution_count": 225,
   "metadata": {},
   "outputs": [
    {
     "name": "stdout",
     "output_type": "stream",
     "text": [
      "['abbf639ba05daa5249c520e290283a6d726ba78d', '1f18e8aaccd6c8720180c3fe264c8aef5b00697f']\n"
     ]
    }
   ],
   "source": [
    "def num_of_users(min, max, col='email'):\n",
    "    '''\n",
    "    This function filters out the users in 'user-item-interactions.csv' dataset by their emails, without repetition.\n",
    "    \n",
    "    Params:\n",
    "    1. min (int): Minimum index of the list of users you want to view. Should not be less than zero.\n",
    "    2. max (int): Maximum index of the list of users you want to view. Should not be greater than 5149.\n",
    "    3. col (DataFrame): Specifically chosen as the email column of the 'user-item-interactions.csv' dataset.\n",
    "    \n",
    "    Returns:\n",
    "    1. tot_users (list): A list of all the user emails without repetition.\n",
    "    2. len_tot_users (int): The total number of users.\n",
    "    3. choose_users (list): List of emails of a chosen number of users.\n",
    "    '''\n",
    "    df_email = df[col]\n",
    "    user_list = list(df_email)\n",
    "    tot_users = list(df_email.unique())\n",
    "    len_tot_users = len(tot_users)\n",
    "    if min > len_tot_users or max > len_tot_users:\n",
    "        print(\"'max' must not be greater than {}.\".format(len_tot_users))\n",
    "    elif min < 0 or max < 0:\n",
    "        print(\"'min' or 'max' must not be negative.\")\n",
    "    elif min > max:\n",
    "        print(\"'min' must be less than 'max'\")\n",
    "    else:\n",
    "        choose_users = tot_users[min:max]\n",
    "        return tot_users, len_tot_users, choose_users\n",
    "    \n",
    "    \n",
    "users, no_of_users, some_users = num_of_users(5147, 5149)\n",
    "\n",
    "# Choose a range of users to view their emails\n",
    "print(some_users)"
   ]
  },
  {
   "cell_type": "code",
   "execution_count": 226,
   "metadata": {},
   "outputs": [
    {
     "name": "stdout",
     "output_type": "stream",
     "text": [
      "['ef5f11f77ba020cd36e1105a00ab868bbdbf7fe7', '083cbdfa93c8444beaa4c5f5e0f5f9198e4f9e0b', 'b96a4f2e92d8572034b1e9b28f9ac673765cd074', '06485706b34a5c9bf2a0ecdac41daf7e7654ceb7', 'f01220c46fc92c6e6b161b1849de11faacd7ccb2', 'b32cd4e1a74e55ac42e4ef484b1f0ad41ee3b1c5', '3c2de1b0a92728aa53064a22ff7bd7319878ed95', '3bbca9c41c66c4ecc46bc14eac7b7ab1ab0a5bea', '8b6fb4bbb7a27b336ba35420bf58337d877455c7', '35d5799b6ea3ba24f921ed38f7f9a8039ad06ba4', 'fc4e4290f2f320d80711bbe019618cc5be8815fa', 'de6333cc934b9b7663ea38ca7cf13d59a4baae3b', '5e8b6eea25188b0516fc111a32daa59a4419f767', 'f44787ebd5330e097a1ee8aea81d970200e912bb', 'ec123f6658890db92d7db29a04c03e5e2098fa43', '9ac67534404850b3850c331c66e9233504ec5eaa', '011ae4de07ffb332b0f51c155a35c23c80294962', 'f0d738c18e8ef4736beabea9db813cd86cc5a148', '737e9353c4266ccaa254acfd611024741a923842', '07545b0e6624cdfb2c81a17624c9326a1371c446', '8dc8d7ec2356b1b106eb3d723f3c234e03ab3f1e', 'b6926a8fa3ece411773bfba65c455fb15df4d6c6', '2b6c0f514c2f2b04ad3c4583407dccd0810469ee', '3b241403886ff0b565c4c00bbe5f86647ece0a92', 'c6a8adeabf6f5c38f9d68d23212d50c90a03dd02', '9c6a1df760ef61af7eff9aa1d3895e5b8c9a034b', '2d9467af544c96e5e58cd1fdf142d12389b2c437', '3b5c304f93db685df40d297a18e69a4a5b1f14aa', '044e0e49589bc60c0e3a4e8a2723b774d4fa1f8d', '1b5393b06f6c0f2e4507605baf01bc42c5b15818', '430bdfe1dd179eb05abc237d1f498bd5aa2f8fac', '20c6b6f18eb5fa53e5559afd74f4ccf01db37594', '5a4b625e4d73fbd4964f7664dd516b8a0abb033f', 'bb39719e764e6d0e5f7f70b6b0a21def1dfe440e', '248c7b0a9d8b25e7727d7c31877f5fe4dd6e71ca', '3268a4aa6766954f5ba5e54d8b7a64beaf649493', 'fc13d5569199133d97d4bba932ed10e35051fe30', 'e654f8ce61fbb1e536a5eee4e490cdcb97f68077', '41c651cc0805755d11669600385d177e23f48cc8', 'd385b6c44711688ce2a33eb596495bf9243e1750', '992c47f26922da061bd22ad7f30b24a7016ba4ad', '0e27bcf05a07481aacedbc1697db0abc80aaa89d', '04280117a1b04ca713602877bcac40230edbab65', '53f7280e23a67e69d095f4d0abc4aa3cd950882e', 'd5843ed71361c87b364f578f20a48101289d60f9', 'a5e5a52ab275f02a72d5c2fa61687e73d895855a', 'b3b884da0f386758459539036cb23ddacb6c1173', 'd7eebc8654fec2e19490ebf6cf9906d437d811c8', 'd9032ff68d0fd45dfd18c0c5f7324619bb55362c', '2cc9433633a6c51945c7d3cb37b04a9939d19b0c', 'b1711b92b8aef2fc57bf040d7c00407d60f12533', '53db7ac77dbb80d6f5c32ed5d19c1a8720078814', '337eb89ffe579e5f89b2b44a5369f9c2922211da', 'a048a7d8de76a4aad9d30a11025ad4883d0981b8', '1d0e33ac6d6efc747a22d8accb54b3a4894aed10', '1930fb6767b27af86bc7737077a0946ec570993a', '47059a18ef23b8c10f14e5d83d8a760354d8cb23', 'b2d2c70ed5de62cf8a1d4ded7dd141cfbbdd0388', 'f0fbd5ddcad0c1872e771bfb2d96997409ec7817', '3427a5a4065625363e28ac8e85a57a9436010e9c', 'a1768bf013cfd2742a97dfda091faebc5254a85f', 'e54a6b1c77b5c29188a55b653227f99ecf85ee19', '264b9bb05e9ff8b703dfe654ab6e74833970a6fa', '99798d8bd5a772571a89c1ea39ccec83bbbaa944', '556d061e287f5b915580311754ab2f880ffecd93', 'f85188a0355203b26f4d143244b56bef05fc8bf3', 'bc358f0c5461c4be3971ab1d77f2cd681994cefa', 'e6581f7316d26b5537e8f9270cc0307a22e4bfd9', '488ea53f66f6a5c4f872c1f0f46b26324a16fb40', '383273e6185969bd9b93ace8d20cfab0a75e6979', 'a62b937b7f3e4ecfcd161d765718af7783941c28', '95c7035ba31c7ab85d49262f01a6ee3f6d2dabed', '8b41b490051877bad7b5cc8cb9ba8420d4ed8d4a', '0b7baea286ab4988c19d018e8e30ea29118e899d', '8d2e64be62f374764647db3d99b3268400678029', '273473011b2664ce6c2c2bf34d7d47960513b33d', '48f8154b819d51c3f89b327c5f825d061d8926fc', '3c67c75430392122d80ea00ceb313841d4a35c16', '70534df906cb8618a2d6238416316092f6f59200', '77da2e815df87a996149295308acd892d07f5fbf', '50bae9e35e0a33c6c3ae5d0414828a18b046c13d', 'ed62ca9f1e16a783461f82abe7aec8176fa5e6b1', '3d2a021a443d0634623056937132564cedc7e828', '9fcd3d6f69137c5cc19c6cb3c39c3d90adb172a8', '7953a806440ad7803ef7ebc0a74942ff6719095c', '198a05da8931a3cfaa9163dff75e506952ddcfbe', '3f8cc93d9ab98284d874e99c39aca0e4fc497792', 'ba2f2f6e54004b14a211925db45bcb39c8ec76c3', 'c449370a2cdac7c9c7d0fabf3bf7eb4bc633dcd5', '6e970af5de681a5efab33f970cec4b4f5c7fa234', '06726954be97560be4da40f9303ec47abe1f3050', '7c2525cb8ac1e7bad9597c51a62dc6131ed0e4aa', 'f331c486a4e648cfe41ffbb93eeaecaabc17c914', '26214b92f591f11241c91b10221162106844141c', 'd394810533103327228a328803eeee0e3db7e640', '9acf830624818cd478260cdab051fa293fd965ce', 'd3365b561e8b7ada81131d840b3d76e287084167', '2f5c7feae533ce046f2cb16fb3a29fe00528ed66', '37943b1d038fc564a54b86ec7babcbdab0cd85ba', 'f7f051ca45c724b5fe9552306f1ee8f68bf135ec', '61f2a8f3c0a6335542feed8cc95038c96ed97668', 'd71b82bbb53e11e65ab7ec96e309ce651f56d4d3', '7888dc37498447d0477be7ee2c4176543f5a6190', 'd7ee629c5a5a42cbdc7372ea64aa818d1ec17ee1', '1c39ffa00d5aa9ece0f8a58cfee50cdb472cd529', '6b3aa71dfcb5a89586bcf8801996a3a38620a135', '534bd1dcca0bc94323046b12b0c1042c0d161b38', '78826e6ce0e911c1e2fbce3a1d03c790498a0c14', '4d28ad552b124f86209f47a3684cbc8ec50ac08c', 'ab52130742eb79c16b5d06206a0096e696b96899', '7b60c26b07961186809b3a3a372efadf6def82be', 'bb117937d5ada165b5643cb4d343fbe417379f95', 'bb7589e21750a3ee9e82b20d6f4779aa25849620', 'b1b4ae77b748cd2316e9e5eab344787de535b0c2', '1467ede91b615584de24be41c4bc9bf7f34c4827', 'b59069ee4c72befdc450ea398889551dc6776069', 'd9ac80e876de44c9eb2eeeff27711643b1ca307e', '12d8329ee97aaf951d22d08782e57eb3ab736115', '08fb0cb8e53ab4c36d587934d4419d1509b24339', 'be79155a74c669297f981d84c2be0863af954d85', 'cf03bed131116722d196cf8a4984fa5b20521c26', '2ed0d1956fb10a0870cddd2b917c3ddcc440caf0', '6351613315c508416f7e00e332c327d21c514c00', '835e8885954a8161c10afd5ba5babea2970846a1', 'b05467cb9a2b2dd4b9f7ce7a1c502d432de9775c', 'd02fb7ba38a91411fe5a7c470ebe9f61adcb543f', '0ef7fe8bbe058b8fdc4a787fb882f59ed1e4a206', '3ccab26159d1ddfee93ad1d84e29f060b84fa194', 'e9667876bbf9f08e978c8cdf20050944aa9809c8', '3de77c86844e6bf4aefea59cb42acd327bdb13c2', '276d9d8ca0bf52c780b5a3fc554fa69e74f934a3', '482dd26dee01d2a567bbe2f120b700b36ea2c0bd', '90e8d91f646c4af9b44eaac0ef00d0d4996d8448', '1e3004a0c1425850e3f87252f7a7035ba77a6f94', '40b1ef41687b2681d7d92221ce074291d94289f0', '063adc1a060228137612dc513f6cd4f27373f1fb', 'e39d9c6fb10aa54b8151723fdfdaa87b0f733438', '98c7415a2588acb5b977b7f3a2cd696f5cfff4e0', 'a3c64218fff1ff912355884e23d851de04850119', '2e1c6bf10ced564a5e05c3ac732ff4e501c004cc', 'e8d919cea9225f4d6a7b36436d8c10ed189d9d34', '5b6e405ec03f461d2ed2be9a4c7ab9d899e051eb', '6acc97b5748a16e16c199982d9718181c19304f1', '5857b1056eeb6c244fbe99736f1387ef3230d424', 'c62eedcf1f342ebe734e678f3a089d712b77b4ec', '13b78c6768d2f85d4549d1013803654e2e2bd49e', '7a114a58f6a127dd1da64d921ea07a70026e2b58', '9570cded0d81f725006e6f344e784b1b3462c98f', 'd5e2aa03f02105eef2f3d8da991f85d3949fb056', '1fe5fb4703fd379bd85b37cb08ba0d04e8553802', '08743234098cad824bcce010c3a21eefb1cd006c', 'c11aeaa863a6e09bc1c8d5d5ad00bb0cf632f125', '34076217940ef884c7de9d87bda6bc5d1269c4e1', '08c7ce33f345bda513c344f9a860966e73553d7f', '38cc5f4e99cf31b384a31e0650d2a8c3f526bd7b', '43d649bea92b49afe5bce882bd50b89f23da1db5', '1e2a8c11b00b40e98295059ba96f40e7ae415c51', '55abaa411f4171d2ec0d5f3ad163fc07f44ca29a', '761e174b3f37f9e0e3a2355120e661ff4405fd2d', '0b815a18e5661ba79cf41c03d713aead6c08b4d7', 'ef9a5704cce7299d9429eaa6946e8820388ce9e9', '27028b7f17b9393cb0109e97985f7f903c953b1a', '4ce2d0b8a5598aa19155256a35d6e7adea28cadc', '9e0cb60be089a9b65d5194afedc38a5a42112673', '9bb617fb10c8337178fc6ef0686af34bd76f0a3a', 'bb8dddb77742a0435ad43d516a2b9d69f832c5c8', 'a674549c21b5d7390f2bde579606fca54b9df422', '6375d9f8aa09de0b80ce265ad7e41b580b04ae87', '8a7a6cad059cf068d48aaa71b100d04865f86cc2', 'fd824fc62b4753107e3db7704cd9e8a4a1c961f1', '9b012cab711b61c2a943179ca1a4ea24f3e98fd7', '22d2a85c46a82a0342d823d93816826610dc3541', '19f828111c83bd70ceda0b145f649ac2aa4523b6', '3c70d8e1db0d5b90b57804d07acb90bbf4171d7a', '40982f49bd2db74e8cdae63e824491bc0687eca1', '01c1d21cdafc17e1fea3f0b5aec586aed932703b', 'f6efab35d95e0fae56f1593429400d9c20952533', 'feaea388105a4ccc48795b191bbf0c26a23b1356', 'cd8ed0494c2dc61237d2955d83dbc1b6d6a704c9', '71aee4d2685446b81400c1ea1eca260074a30b66', 'c5cf31fa9bdbec9638b7359783d3fb6f924ae222', '60cccf761e3320db63ea726bc235cc2c281418e4', '544992cdd4e6b4f20833c57933f584c4cd366e82', '12bb8a9740400ced27ae5a7d4c990ac3b7e3c77d', '2c529f5b31b10590340686fc2dca08982a4ccf94', '0e321f3b0387d0e8a5b46ff55ff3b4f820fa38b9', '38d63557c2ba70ceded69d0666dce709e82b7038', '9d0c85174ef3fbe12cbd35d3965aadd74c96600e', 'b61bc6842ca05530a1f1de4fd03b7a14e3a1c1f5', '12d12337affd7862c6733cedb3deb02bed2385ba', 'fc65d55d9d53c00b311a05b0f12dc6cd87076495', '3a37a48d9e3b1f6035e058c7ae1c8090e82caa95', '0129dfcdb701b6e1d309934be6393004c6683a2d', '3cc3997de28a194eb4e84487312ddbed55aa1779', '0e6cfaae829cd1ff109f01e7487b83be53cfc2f3', '519ad628591a7f0b0a4ef78dcc6fc16f2eba9e30', '6a5863ef7766f57077af63df125d86a8314322a7', '0b810c9cb6b36f147a9d9a2dfa800ab9c820ac5f', '79bc45ade8801db18426b8948dcede98b8a7383d', '0000b6387a0366322d7fbfc6434af145adf7fed1', 'eeb3c7b99c14004ba399fe88edf4e5d220c19f75', '2d6f63e80f403da9bf2402d068dad283b4108fde', '8510a5010a5d4c89f5b07baac6de80cd12cfaf93', '7dc02db8b76fffbdfe29542da672d4d5fd5ed4ae', '6520e9a3f42ac0f3d9cdfb576c15d320a7fbcfd7', 'ad42c43214e96c20ae5b1c45bfcf2fa54589d102', '7c8d3031b1318722ac282ea5f97edbb616e85d48', '7f7448251622f8e6197e09f0a92c13855b5e8d12', '5f22985aeed340528a1006677e733155f2575edd', '6f6dd1b3ba6452a536c8e6500b00f74ec59a2e5f', 'b99224a22088941592520e13559e621ba7778fcc', 'debdb12e52164cddf5ff96c445d76240f7178af5', 'c87456fa2b3c0922bfd4c3531fc7265505a541ab', 'dc716911a33e23c23667a082667f40a4a6e4671d', '4fcc6a9c7e27646575b94df639e82dc96adb4895', 'de1d1ef855aae387b5b449951284c74b497fc363', '40a942b88fbc6b891eb335e12fbc589870098153', '262ca9613725183ee054d1e90e3b41f7d870304e', 'cb6f7e37be269032385c076dfaab26fdc7893be7', '1497370a6c987b7bc068629f25dc8c625e080313', 'a565ca89d08f0af342866e611fd1008f2ee40534', '9de7ab7b7cc6ae3dfaee89d594fe668f5d5e481c', '1588af175b283915f597fc4719cbb2c8621c4fc2', 'f2d3e483c348ef75ad11f59051d5030c8290918f', 'e06949f8eda4d1529e93c01a48cb4493e4bb117e', '3f311d5188151149e35adcb757006071f6a3bc83', '278d31cec74187cd4959da0b9da18ffc812c4026', 'e9d730cd03d8be93d13ece580430eeeb90b36428', 'bad68e08a418398b39d44935550242f0dcf53631', 'c2e7c5a688883e3971dea8c52b2d5d33c54c90be', '85dba08f6995b90fc0509897b45ef2e20143ace5', 'd2ea007085194f9328670d21040122193c476ea3', '74ca1ae8b034f7fad73a54d55fb1f58747f00493', 'b82f7e1bda7af727e88723655b0ad3e7ca9efc0c', '797e0cfbe7378fffb17b8883c68df9e402a1d868', '3ba6dcb78b29d418aba12d87ce12069aedf9d233', 'a4e0189fbcb320cc06b20778cfea9ef309c8d978', 'ce5cd24339133b3b6b4c3580a54a8233b8ba3850', '52ae4b1531616fcc2347a2a1f202e18ac9f85207', '56fb1cc4e61b1ddda2ba7d94827bfe1d1a79cb89', '06d952c170e9ad4031faca3116fff1df0fc3478e', '284d0c17905de71e209b376e3309c0b08134f7e2', 'ab1add68d609d74fac7bcbc9a530ea51ae5d0e0e', 'b347abc54a930f703e552491c075e94ac485509b', 'd53071c9f495307a7a2b9d3619f7ec6e8721e1b7', '489a171b15bfb7e591d96dc17f325720b694baa9', 'a30c13392c8ddd3dadde4e4cdff459afec2021c2', '5aa4bca14b7dfcf7a85f8686a6b3a96ae28648cf', 'f1ccb4d9d8446f26c6c8ee2a135782f984526860', '642a03131fac764519aa964c65549d789f565896', 'a21e2cf0559ea7ae44ccb1ad80abd68bdee0df8c', 'f913286b721842916e1a269d05333b61211192b0', '8dea1002fa73da9a123bc96f59e1e8e162b9c54c', '59b523336f094f93d5c63a59a6b2fc0d2c01221d', 'be4a3defb425df2e8249dcc9cad38541c552b04d', '80b0cde82a3ada16d053b542243ba80b03ce29ae', '11d3ebc60909abb7734167f57e1de94f10d02cff', '9f2d990fe914cacbcf224425da548c66a71843cb', '6ac245d55f41edc3a9523612b1d95798c6f46f3c', '41a44dd24e5e1fdfa8008c2806844a2f3828af6b', '0f71bc1180e8c970e868f10c1550eb7cc2a3d049', '39d8bc4f402f3dd0ac3c69103f1d26adbb654458', '3efe19eab884395af9b705bd5ddd7cc55fddd6ab', '2e942e0336a5865fe33971189b9845f5fd8d50bd', '27a30f5f544806a65988ef7140d85dcbef166d74', 'e685741240520687a02b033e21938ddf3acdab7f', '0afad57721ae5fb49d8e8e71cb79935eb3185ffb', '974cb64b9ec8e780c0547ac3c89e0270811fcb3a', '60f9195f19b3678f7e5fe6dcd7b3a6b12d3a309e', '71d3b50267ed2c545fabfbf03b8b757c7b7387f1', '40e30aa24a6a21f1efdd0149c56b1a2f155a5fd5', '98e86fae49fca35aa930d1f1740d21e56232d2bc', '83872a57e34cb69fe4ee76908b004440d410ed22', '123316601ada540973d20980ec8c5533aad21c3c', 'f9eddb9b8bb18555eeaae9a4be3c59bddea617e2', '43a9ecbd5e6bdaa8d5aeb0b61eda3c955b87a902', 'b933b43528eb05a9d50e90797acded3aa5ae1f17', 'fadc436273ed47dfb8b998d2e7f9f2d5b11c3f76', 'b091902cd32a452b17e3d26194d48387fff18854', 'c058d5840b808519f30819b7835f856ff9221e49', '66fd330648798030d5fe39b4ea5b8f61e618eb6e', 'e6935741658bccc27aaa65fa507e4daa90731628', 'bde8fed8c11b14d334794101fdd777634b088a93', '25ab751c6472088f6ff6d0bdd91d19bd0925b12b', '82cc82c06edcd19b84466931ef5068c304b99d62', '50c78cf639a0713376403cc5d3acf2da0e1bbb14', '4710d60fd620d2bd3721659c82def82f0ad561ee', '11304ae794b552e6c929654daaea245e5b57f03b', 'd071bdb6d8691541d276c1f3e4dd781c88c00c9a', '85bd9a5b292b2f0dbcbb54ca4fc03ee15b668ac3', '29b54c80d7eca298412e3318d1c77a1db0aef7b5', '5f0aeb128884aa460069aefa8bc2c18f35b158e7', '9547d2595a4dc890d9a776e02770b7ee3ac50ce9', '2044db77374f55e8b488129551c1a47a3dfec55f', '7b1389c3204f4205132973e68dfe2d20912df0f2', 'aa127ad38141ece697c094d1e15419dbce031304', '7c00150e68b59670c5fb449f05811e9be0a4f237', 'e93b42ac575aba40188a7faf71730aa62d32d6a7', 'b387fa6a9efdb80f501b7bb7edc6f340f2534eb1', 'b1ed178efa1fbf7e416d965e6363e0dfa6c56937', '9be85a38c2875fa4ae6963129c0929a2bc9b8e50', 'fa0bd5a3a6956303722530f26854c8dd9f83dfd1', '34866de2e3a36cde0c611df976615f6e0179265f', 'd2a7d5f12726a2701a480ff5462668831f2f28e3', '17e174ea75f09ecf2495c4178419e1669ab4d44c', '9711e400800ab18c85c6b3bca9249eba4d5f6748', 'f56a722c510049061b230bdf1e82d77513fa59d2', 'c0085a4f25ac3c3ee8c6179c79167224bdb69210', 'bd3137cdf2ab2ebc46ecff7805f68a02f41c065e', 'd9f3307083ac6b585d7793ac3dedd19fbb531b6e', 'b6b535913f6c8f055544b53e1b5af7b553c65438', '4c039c21fd6163e2eda41e23594d2ece3a5d4198', '85420dfd445a5f6e7f2474157ea8929a10b0d808', '46ae2f0af020b35aee8394176efadc7201c5cb16', '9e94b696a3fc57aa21c8b912273208c3ca153e02', '10354c600604d1d27d0e4e454165509805c05601', '6aa21b67505909963eeaf380558d77820976c12e', '976bdbb2f3adc6910c77643e2965f7711c0ee482', '9e4f5d404e397f0772ae7d5114315384aaff18eb', 'f23106b0d92036b5dd93661f7162a477825da5b2', '50b34cc22db66d2e88c39bdc4e666c91ccbb0a65', 'c9086fbe74843c4792d030260be1499c558edc03', '4182e7674cceb7c3128a75ce26b6f46c6b9e0397', 'b94fcf7f426dd3abebcb976fa83a8a02e8c1543d', '00772abe2d0b269b2336fc27f0f4d7cb1d2b65d7', 'fff9fc3ec67bd18ed57a34ed1e67410942c4cd81', 'e42e15d8b833610a2ab966252dd10961d06c4bf0', 'e5eac0862ec676bdf9343936237d7d428e610e22', 'dc8a5e147e13f9c056238af0a6e7773c6d9bde00', '27084f1d0a1be41e3a6402cd7a4ac5e73171d174', '84c1a0b09e773e5ce16c18aa424fec491b623cd4', 'e7e0388ceafdc0a988aee59cc992864efa17d578', '04778f945755d435c7e959cb440a04b165d1c5d7', '071ea7e6de69b2c78ce52d2e1954ccbd19886990', '4fb11d360db453ef0669d0171ff19e9c17f2ad4a', '3731e18b64e753dc509712c64bc8b219fb379a47', 'e71cb94e4f325b260918aa95b3e0f31942bd30cb', '1c4b74e232865f95f25e28c91e1109be2b64004a', 'b27dce7272bec1f3a5071cb49595d6204e260bdf', 'df9efa117c132df6d41c4f298814461e2a52ced8', 'a046ffc97bf91c360f95b2655859ec2ccb71e29c', 'cb370470a9d6842aa2f680b1a8f5513cea8df7f8', '93e16dde2364ddad3a9de5eb3d44a36dde93d617', 'd470b1ea3041a1b46dd1b57e68ad71e14037c5c9', 'bb495f9a19aae834e9b094ad29313b8fb1ac6750', '082e2cc49d991d7dd6aae99a32ceb362f08140e8', '1f609cd8f9c09c5dd7bbaafae4b80327d17c56db', '6acce368db0d56d3a55bf88029037364e64492f2', '14a57bdee079f534597a0b725e8157b2d015f34d', 'db287732ee2a5fc4531f07fb2ccb6deb09099b8c', 'e9b13b89e01370eb7682425399c42421f48cc4c8', 'd2da0bfb39d1ac62fb941bcc27887b41fe0994ca', 'c885a5d03062a85158759b1fb03c766ae57fd88e', '5d593d452915eb961c1c72edd6a8823da43ab61d', '8dbf8a5087eeaa2f2e32de1be77b5b60247124af', '36d35ea5daaeafd939a0c6132d44c553ca896b4b', 'cf31f9f4dfdf85ec22992161836ccb59bfc9f0be', 'a8f63da03202cb5ed6af1985adf820d2f2f4cb4d', 'be23558695ddaeab90cf6e2f17316b34ba0a4eb0', 'a6c48bb52e0c3a1c76a0c014bdb872f956e4fb9c', 'dd8285bb1460fa08d14194fb2506f26e9c3e32b1', 'a30342a74966e5ab9724e35cdd21922dd62027a9', '21a68f0bfaedf3ce97d85100b618c1635a83ce17', 'dd5a65b8fd8aeb82559ec23700e606253457452e', '26c3cd4eb6b2d3300f6c4f72221f671655b32f50', 'd4a2943777dfb6fc0ad6e6e93cde929b1be19b83', 'bf33574c184a938306c0252f5d782f3d32637581', '63d29dfeb25f94e6a1cd311d60c2ca15f8c7402a', '7867b688ccc8ec91f1c36608c97600f573ec5ce1', '3b938190379afd14c5522013428e441f7c08c4b5', 'b2926913d95598ec0c007746d693fe3e466ff2d4', '5ca31e77626667c534f6c6cb91795ad3643e10b4', '0e9133cc840db778f590caf8a11d46c3b2a69e81', '906374385b67b5614c231f7fd70428c58bf3b382', '05b7bdeb2440376bfb76bb78de87159526f397b6', 'e663c1d76335b72b37305a8618ac23c1dcd34f95', '6a2b79c9f35c6894f5643ea2fe2c364efa69e6ad', '2a73716aa68319e147636dfab4165490e368e6d9', '689df35a7263c70f0165f21b2efcc290125d86cb', '548b8dca5a4a26c096908ef1f888f13cd78e35a3', 'a59295ed75656fcc0a55a55c83c8efa4e8aa4a47', 'f208a859b19e175e92c8148f616cdaf39c9e6c8f', '1749cf3b1caa1b6ef860bfb9898fa46701f7210a', '606b34aca719bb5147fd80c835dc0486406ee150', '2650a50a27dc6a633c0b2c3d174f0544590db626', '442522f6f2bcddf700f4c3b7e6226fe618368f50', 'a6ca6ae2d20fc40f61115a77a6fb394e53b613ee', 'a0a9460301c532fa951bd23c7e34d3e69b8a81c6', '2788962f7d7ef5f9cecb782f2a800e7f7ba87004', 'f8e33986168559ac0ea9a4e81bd6452b7df3aade', '8bd9189221a0362a5a899c7b46823d5f570e2a75', '5ad581aade337d70c3cfcbb435bf51028114ec97', '6df95010825b685400d61f02463b39000f3ee6c3', 'd743db9c0c0489619c1cafa0ee49b98088485ae9', '67189216e738ace749c97ffc9c92fda82f5117a0', 'fcc0d1edf9abe38753ebcf961b7c144246491a14', 'e06db2dc8cf0d352361e197be063175d7f1c6bf4', '3dd47d77f94fe071ea67b945b94e5953e2e3b3a2', '9557b7576159d6b7f61782d2e9a24afa2ed8b78e', 'f6ad51e4a0aa81c0b08a39159573641e4a71a3a7', '0e2b00f1363d616cf251bb9a40ff014658afecb3', 'fe23488ba397bfb3ca68714e0f78815d8a08cba9', 'c615f1184fd65ccea021e7014c91e0f9093ef39d', 'ee430d4230b55f213bf72601f7649a62286401d7', '6c6fe338b42c62726efdb71f1d3bf88fc41baed4', '7277e817525abfd50b1f0f53b2b413ccc9336f58', 'b94036daf8d5921050c7b2524f0aaba0fc13a6bd', '0447217e952be081246dd1511bc7298ceef27859', '521677dd326ee5ce6e10a6dbaa26d47190f2433e', 'c4a9c35ccbff4982a916a41597727ab71fd0a079', 'a3cd6e160c96479eb09e9fb91df5b6f0c0ca15b8', '18d271c22fd776fa906181ce738b6a83c773ad83', 'c1a487614dc3377ce08565a47219c2c3c7acebc3', '49a07d7c9fd392da8e5efa348f1d77a76ed572a0', 'd964dfcbde82085e3697c6c9e9368dcb61fc3ddc', 'a3cd52102257fe1bdaa5c5033f5b39ec5beee86a', 'f12a7b80f5303be35a34424149b81a8518c39d7e', '40cd8c911f4ffb8c1798441aef46ecc3831a43d1', '614855172b650310fb1e1fbcf9ff6270259915ae', '51ab776941fe0a14f7704ec2e980ebddcfc3bfe7', 'ef991a2483804d64053733fd2cd475b98b9c55a6', 'c52f6bde6cf60a7d7f3d45ed85ddbe9709fc7b05', '7a5b6384e09acc4f619f6586890e5cd087d5639a', '8c8722ce532afae77859e7049c2b01942e4fb4ce', '4318109b9d27be47fdc8841270d844845a6c1cec', '3ab887a06205a11ed009c74a145533ea0925a6b9', 'f1e8ff0b0816e78e577738308b9f9c7eb7e75210', '7ed22622dfbde9fa2ee18980e186dc1c0a15f554', 'bcaeb4520ea32cec6f5d34fe0f68a9f4af8cbe04', '11b3702318c69e0bfcbb1155ef0bdfd2262d46d6', '35f3ebf43f11600e26b01fba612d5ed374d68d05', 'b1dfe3df0f07a5a30a3de4fb2e6c11f134882696', '9263b073ecaf3310b2f928cba0f90c0484fea84e', 'f9cb099d0ad3954e433f4f91a4957a09556f042c', '214482d988ff1dfd5d1be45b17a993a4964c37dd', 'a43ddc92a3308f2c0d27958f4f9c93b4241b4124', 'dd95a8888a86f2db2da6bf8fff5bc01035917e2e', '26b1eed521116228bf05964afa747a920b977074', '5775bb8a2e0cf20b7e27b95ad3fa7ba0bbae2950', '2f52ace671d3c27981da7b79c2173a3819cd23c2', 'a7f95c8754133c56e3f214fb03ce7be7c06044f3', 'd58de983053859d25838e477baa06c06842b0b42', '93f6ea4a34a0c71a7bb0aba7d884edac740866da', 'c33938bed2d281a6316603f1924d0a941888ad11', '3a94e91f07dce1f8c9cc9929495a7fd5137a5d45', 'fb5bf9543d8d5c8df539ce4a0bb07c8d6a4f2895', 'ceb0c21b558a1b12fa62d4b43cd9818c579d6ed5', '3eb3c7f5bba97b42ee62b0a4469f32c26daa0807', '9e9f35313bdc0297a008ae74ec4eabd2193643ad', '1d4f02811e6272f2f212e1c7f774b9878fed1a12', 'a1e7a66b39250e61845f7c061368e01e68e7cb28', '28ab0d5150b113bae5c92cf993dd2a74fda9727b', '304ec8a73ea62a04f6623fe1c4426d755378b0cc', 'fef0c6be3a2ed226e1fb8a811b0ee68a389f6f3c', '01455f0ab0a5a22a93d94ad35f6e78431aa90625', 'e4bab0e430ecdd2bf5a60c1c914653ab76939e7b', '2c9018ac0bf581b621c4340b360b0fb86e89fa7e', 'bb12fa5ec11edc3ca74e11b8fb09178a20a89321', '260a8255872d057eacf8f816b84be884e299989f', '0286bfe26356436658cf4b29b232f0700f0bb9ce', '9fe8d0d49af8d5f7c8b6de38cb10e7d66f6b4090', 'a53f4e4bc017052de39740d94fa083a7a7415011', '1c93c435a153aac41b226ddcf30ae058234faf57', '2afa452020d416d48418f1319769130cfd993a8d', '122713726bce474b238677d502d309b7e07d9ed8', '61fab61648ca188a862eedfaeb2fa9ada07c1a23', '92c9d8ac59eb36180117e609d8b689855249cf49', '4bc2b36ceda97fe92fdaad80fe611b5eb50fdf64', 'ba9a17effd083cbec9ad677130abc8a2475e3f72', '11ffde9324ac9aca0d83133374451e68004eccb1', '46fb4e5322ffa23c102e1366f9074cdc70fe434d', '254d4dde8b062abc0ca90fcd3e44a4632f21046d', '45a91e593f9642976a4742014e912bdad6761237', 'c43496980515ed9fba8deba8c13e186b2b725ee4', '21225e23601dcd38c703f7fa08d71991f8a0ed44', '5578be6ec2893b8c5f4bb628c7e739cc0c8b2bf8', 'e51e78f1f8969718eeecdad957a66f84247ee848', '17e4ceb15b389f172ca2ccbb2512c4b5d72a1f6a', '3fab80cd6ecb613dd99843fd9ab2dce334d22389', '48135c29061d1935feb1d802c23c361249c471d1', 'c52693081a93b694acedc917df1f44354055a0db', '3224e1afc8789100ffcca33588c6824b1328dde4', '5c3d5f61b392d55171598ff9798b5d9a039a4fde', 'a2d1e75a91e3ba455eb61bc33651b9d607c4108a', '06dd703eee87196103231bb618b41032b3d88035', 'a1d1e2fc9cb946ced8f758057c6c48866d7802a1', 'babbef20749eb30ef659aff919abaabdbd08fcd6', '2116158e0d267ef5c92e1c7766de21723d6f42fb', '96da8453a49a073d5783a15b746bf4821d9d358b', 'fb1f5fabffb214668af1cf667aacff89b8ff965d', '9b63404b656f3218c6daab8f039b8c68d1695e06', '5a15e3b1c4899c3c6f573c315103d0b37039aa16', '1b0b0f814def32b7c5f714753c6af86117bd215c', 'abe72ddb052c1d81fdfaa6367274e01de2e4c5de', '384255292a8223e84f05ca1e1deaa450c993e148', '234c534c16a272ec69a3cdea69948c6b7e38d5fd', '31a25af252ff4eeddfe126aae87996748109f634', '4af9aca4d96722deecd1880eb1c8076f3c213696', 'af0f3c7f6b5d0ac7bca078bdd3da510e0a778de6', '8ab439e4c7e8a0423498ea644ba509bd590c216d', '2abb487751c1aaff2a95437e94e9afc7878bc7f8', '4e7f3cf5d86f1a1b376c3803443223865d09fe8f', 'db8ac9b2f552db35750239ada8bfcb59b3ae48c0', '49cf89ee96e9343e46ae90077feb19c5dee504c2', 'ecd64636879e94b87e4aa5b213e079bbf8ae0d0d', '4c6755271c6d50048dbae7e0cec22a05f8227bd9', '84a6fa8b043b9bb8b7fa532fb12582f096c3823a', 'c4e2cfa9178ae1a13a198595833b46506a7f465e', '3cdbb321cad01f39848fcde8288109a73ee7febb', 'f2779f010b325d27cc346a41949b7b8e6f6045df', 'ba004f642e9afc03a3c21323be8d5d4b0466a46a', '636433d609ce847706690bdd031f625bb4702c82', 'dd3ca0b43d493db3a097467ed479becf5f3f2c25', 'cd49f40793c294ecd125e63cdacc0a2266c7951c', '5e7be8f733ab4be0ce9829847f68040920320a93', '6cc4570c229f2a444007ddc53d6a1a30a5e02a21', '524d0bb0f3ca1f1daba2038ed98b0b9c4cac43a9', 'a8239975d5bfac6c22fa30c53c2847c3b5fb9dcc', '171fb2a9d81e529e9520fc8a8d27fd8cf57cc951', '30495c2e6410aed9e10326c20f41404309dd1c94', '5fdf81392b1f70e77b2f6c66108be98835223c69', 'ecb72c2921ab1f6536959e41861b515cb49080f7', '9776f1e52501950690d4e1f425b5bc9055996a1a', '3c49ec20e087e3a5eafe73a313660eb52bad5182', 'a9f08a4582581557e9096a9375efb2d7c727b83a', '944d7fa791415178e8f884022849e5d305af3cf7', '3fc1a98361e3065bb85ef2fdf7f8c2ae02b1570b', '180e8bdfcb41ee8b939d3085dbbf650e8f69c942', '7f24818d7180479ac0c0fd6a27435216e18fec7e', '9ee4a74c722a90094b17d726f8b757d8dda0e3a1', '53e988e790ffc401aee6a2be585b7a1317311651', 'bd4361a57549d7700fed01bc8b79036d9b3ec985', '256cf54ea74c032a306659eba15f945fd1e39159', 'cfbd59c559cc2ce9b84e66e0130fe243a59255b8', '66ec93f05ddfde4792b8f759d2173e36769a1c54', 'ccd5083440a8e9f6d8a05c7eebb0ea187aff21bc', '017e40787d1aae6fa01eec478ce35be9bbe1d74e', '5287b3ccf6624511d4b63cc977be9d5951214c93', 'e7cdb6dd9a96a120a157abea2fb6123e96ce6bf7', '06d01e092ff816bcddc6c980d7d241e6f1bf6624', 'c467e20daa3bcd53ac86099795f3fb6dd91d292a', 'fafab160316bfbabd06632419ea7ef03b29e34f1', 'b800a172931457ee83032778f74faaa271924fa1', '6e381cebcb5f7ffccaad599a2fe68eafd6021e96', '6aa38e95437956f30bd24e89c797e646d0c0f9b6', 'f1d23eb4ada539da0d071de3d44ee594102fe821', '0efc045bc3abed56bb49c1d67f873308310988c8', '4d33fd7125327701be66fe1cc1bb4776b259af31', '737586be104afa5d9c18e8c59931a61b768d90e3', 'aafef6bae10cb69a92f5ebc254d1882c489ae986', '4044aa9df5ed4147f1e43b9023352d414e53b223', 'ca7d48adf2c7394ed5a8776de959fa8047e43d4b', '98416c424e73ef2258bd940cdd743f63acbfc99b', 'ce176867de0dc236ad55f40fa0b2c26204379531', '27cac8efa13e6ac953e0ef9526ba1b093165c3ca', '149b56eaccd3e8c93f902a9b030962daad0a40cb', '491fc8690a924a38264355c4d100cf802f066ee8', '766dfd738af334505477d26b81c7556e94606f61', 'f0e81054c9e4b85d14174be760929b0bad3cb0a5', '60fcedc152d4449db8f96985aabe516e9966eaa0', 'b4bb809e9e68c478289cd1ec7c63cf936458eff1', 'f3daf5b492b1d016a6c9420fdd7722bc8896fcf7', 'a4c700557b132cd82e8d781ad9ebbc73742e40b6', '6a41e02ee2d93c9de0ef0a215f4bb27c9afc8b1a', 'eed458c5606130803393437b2c8b49a1b917d2b4', '49e4418b82478bb354228a6c9cb9d1599fb85ef7', '23b3c80c41b9d21abd2fbbafbcca6d0fe47249b4', 'b2b6aff27c4bf4643032b45078bf6abc59ea0c74', '1ff0cb76a7787f1ea774590a6e40c41372a79d09', '6d093bebfae1f6d5d0596a48f011ded3f019e0d8', '90c11f6a08512e8ab6a57b4d4a7e632ba8da2cc7', 'b54eca1d31c7867fdededba0320eac583c7a5a1c', '3467996120346fc56b23f568ecc26093aa0a3c92', '9f46d06cdffdb2cc1e1125353b8c28e380ea2cb4', '87b802557038faa0d94e00615a5e2700aa8fd5d5', 'dc2a3f87f5f120749cd3ce51fe8b21172ccbfdf0', 'b71babbd64bbec8e6514d9c76cee766861dbe0f6', 'a75cfdfcc067b83a92e767d780359604742f3b53', 'e13b57705a02df4c678ba3458d9a22d9dfdd494b', 'c085430070a9ba377bfb487f20c9dfbe2111c7b8', 'afa0eef13e1348400429b30b00493d3a04669566', '40e5ea3deacdadd592284c9969d0af1ea1393f07', 'f11b75ec215ecc0f83ceec4b240814cb6c0547e7', 'bbb870db6356b758f5ddb647bb4d0d0a1aa371be', '00e524e4f13137a6fac54f9c71d7769c6507ecde', '058b8abd9fa71f3f1ea52251f9702dcce4faf67e', 'c826cf820213c7fdf339a4cf746be07a4aeb7589', 'e38e3cbdd2040a86ae44d8e8e6b99e6bdcb7862d', 'a8a8fc2aa3a417c4702dd1ea598c1dd126324cb2', 'c406f156253323c3080e51510b0ff6ddf08a7487', '157d0aba8d75f1c72e5428e4a64a51906008a43a', 'b4754bc7e6fe94224d55b0b0fc64ad8f6043e888', '825950dbdcb846dcaed52e245c22cf9c3f51153f', '6aae21ec8f736eab3d8da60e9e57310ec99af775', 'ff452614b91f4c9bd965150b1a82e7bf18f59334', '3f5092b6e4d60968aa23611de909ab9085b5cc6e', '71c6daa5781f437f27ab7bbc849331dce70adf3a', '7eab96b5030a787c872eac2a3dd47c1d52b7260b', 'b83b7d9ce71fd0b2d40041f4db766616d1c46524', '958d0d2bc4760bdfa10abbf80a682b0593414c76', 'd86204c4c3b2d729d41c2fb8facabc530131aab4', '1fc4a66dc8e70499f46eedaf598e58c24d7031db', 'aeadf9e65dee80c847023f852a5ed1fa1aad5dbe', '73f9e858746ec153a2a6915aed6613e56871d679', 'b2827c32f5f90a9f45d5ea30a301b409ee4fadc5', '75d6ef7a1f59eb549758536ea8fa1f72badc327c', 'b714e33d221357bcc5ddfa91198d04a1fd914b44', '08a0f91fdc4c61d7738e9c8d514640e9108042b1', '79799ca603ba933987573e968a347e270e4ac6c8', '8c4f767d448b28ce15342144dfa1fd76d7955c5c', 'bdcdbecd71fa8db6d65454f502c1a66da4c01c38', 'f66ce3f76d2484413db0236c2035978241f23fee', 'd170ec8c19735717225761ff9ed576f750e78b3c', '0c281d44e573b0b5001dbb908a41f7feb9d15321', 'c75e37f8dd9f1974c18a379a9da36ef3b2a4e6d1', '8557de36c371a5f3cbc066efe06d852bf0787b9f', 'd8d89017a0cfc01c421224adce55d9692e87a8ac', '8a4bf6d7c322ad5c6bd492bdae06e8f204f5872f', '66a82c0d9e01c515d058d9bec352a4d8e6db0867', 'fc823c4eeee2dd9fcbbeb835779cee23cba7f1e7', '59719e3c5e3ae5108028c869e61cde789d3779ea', '19b8e036658e6cb8f5045165a9e91d3e526437c0', '9429bfe02773f1031593c46bf03af1dd2038a45c', '276dbfdc66ca69353128bce91726a6ce678f6dd4', '738fa17f761e87642f95af90de2d647b4f66ac97', '3beff804c31de1e01111242e542cee87b78e6421', '7b0ec0e168505e45ec06a9ab4b28b6f8ef477cdc', '431ab6f7537a9f84c861ffc7c3b703b6c366e5f3', 'e92c2f5e0bb658f608a685558bb7db36b36f826c', '493e712d236835c6013bed0aec5f930200590e2d', '2953e5530e2181099c9b83833447448614c78f80', 'f22e29431335fea9f4ce38b00d937dfcaf58f396', 'd3fb3ee92bddfa332a4b1c23c78c60e346959cef', '83b6adb6cd16e2757a8fd0f675d70706fb9262c7', '01a8f0002d69d485a7ef7cd1867f0d94752aaa5c', '6974228e7146767dba1bf433db2e61e0bdd92512', 'ae5d5246923d62bb998121bf40b300b11d8eb405', 'a0002214622d878dbee635ce5731d5302ffd5c28', 'fc897c21d8c242c981417f840fc5aa5a81b99c36', '80c3b207cc19a6c4e144842e822d477d739f72fa', '89ab8d9b3d7b0b1ad51da8073763c46c77e1877a', '1674f9096b345d3253bcb69cac719c476df0a3a2', '14146ce818d2a2ce1a4cd0453886e282464cdf81', 'ec389652125b6896f7452f1ba1f8f03e66a9ca4a', 'bdae016544ff3ef87fb26e9b3fa1de32368154c8', '5e517f91aca6d877055706d5fd78413752e874ea', 'e08d3be3adfac150cc982e39811c6f4edbd19621', '9735c831598d5ed931125ea81c9e982fd26c7619', '8fdaff08288800d13f6dca2fe2979a1025d128a8', '987fe298cb32c3882b47f3c2bc8b063f2745f77d', 'db1c400ffb74f14390deba2140bd31d2e1dc5c4e', '217246e634b0134160d5fdd780df0461a33d8f64', '6b6b6f7b4c436fdade89d5f9c0b2320cdf05e16b', 'b2a38cf677bbf54a5af0fc95eb00a4ffe68e606e', '697d9560a2de29be9ac75322da0a5157e7debcad', 'af6d7c1a32e98de126ba0596bd82d1ec080b1bfc', 'ffc96f8fbb35aac4cb0029332b0fc78e7766bb5d', '889bdf3049bdf2442208a5dbe61246fd0d368cc0', '8b563a7d8dde8ecfe215fc6e0bb50aec7be7c574', '0f54f9daa1aab2cae143181b3f1062aafe5f13b4', 'da32eab0618d50234512b45adb62aecadb29a422', '3b69ab72dd09847850e978a5190291a954401bb0', 'a89f67b7b43c36c644ff6f80e19dc55271debc44', '3c42050fd8debf0b05aff25ae18e41c16a71d7b0', 'be4dd9da5399f864c176adf91134ba17a5ff1746', 'cca66b49a82fb13fc1b179d326e07c6b59a561c2', '6c8caac804860e9124f94f18ab201a67c43365d1', 'aedcfe1a2d62760adc7db57a1489deb2e78f1858', '683a1cf44d2a711ec83a5b57890474f32ada3bee', 'e85e5d7ba95bd93deaecd1007cde1006e4009875', 'e2eff62efe87f901d949a3fb3dced1cfc6da66d1', '8641ec968904de7e50e18d17ecd3991b40cca56c', '4d0521a61fe8e6b82b6c4d9524a0300fa23f0019', '1f7bdc661eae7095fec66f18fa2ddf79697274e3', '6c5ec0ffcac6f0013077cf089226cb6cc1f1658a', 'fe56a49b62752708ed2f6e30677c57881f7b78d1', 'e036f466645fd6410ab0cbacb7ae771dde0131d3', '10de324a62197797724a9cb559e4c498a7aefbdb', '715fdcc88e32868bffcd2b580e2d09b606cc2007', '56a392c447f28c7fd145b566e6c130a87c456a3c', '3d71c6ece67fc5635396228f03b00e39c363e978', '08c74f328cfaf48cd4a401bf29a6ca40e206ca06', '1662457b15407ecfb2feb2e06a9dd62a728c7612', '3eecefeb5641136e902e0acc007e7b05b42ca75c', '8fd7c7dbfbe5d1facb73c50d5675e32a6412340f', '971fc79b77393d9abb84a7d7b069490d012d6296', 'e4478410e8c735b55166e95f65bb639a99422efc', 'eee2ad47152ee088450fb1606a2004467bcd4d94', '8f3f92acf588b66fb1ec9481e42724918cdaa8b3', '888fc2845260f27a3dbe72198a0f9402e22e8702', 'a1e298d0dc9ff00510f6e7df5db2cf14af999d74', '4a01ff8f93e44a0136b97edecad60a7e5bbc3c50', '85a2de92b44a5b2cb6659bc4adb718fe3d04f8ec', '898fe840e4ff99ee8052a2587a6732d30c15bd1c', '583a4c3f700223c43b479a51260ea890f4150d88', 'a7de4b804d75097dadbad34a9cb4aab060eea248', '228f267e63cb3347dc2e666421d203354f9a5738', '3621f1e883d3ceb0823a63ff23ab9d0350599c5d', '53390d25c7193b2e8337ce1419c33fdad5f4b856', 'f946db70babe252d0a5dc2056465aa295fe97baa', 'f21e9e67f8254564ffdfe11af078a64f7964b8d9', '93de35055a624666168ea3b7ab253e6e2565fb04', 'aee3da889e6e79cbd017010d1ea24f30a81410d0', '456807cd208a5ae756c13c5dba179139052d146d', 'fca531bbcda47d6da4d638d74a87dca324deccf6', 'f39fa351cdf609d421325034083a347064486e3f', 'd9f44b543f5651e96187421b3a19eba4276b1304', '11852f6327839440b11c155fdb27defbbfa79786', 'a29dcb025693cc25f309f6facb22aa2d159a3f6e', '81ce0cc0fc2ec093597b01829585187031a0ab77', 'acdbe5158b1d496a33f7649535396abe97f7d5da', 'c7bf4f0fb81be3660a56e7a925188fb312765980', '25729466526a8be100f34a1602b786f3133cdf10', '9908795550380f852247fc193696de9c509f07d8', '23e1e53a3976de4e91d8a3a30a5032cf8b5b7119', '02010b35a041f1e2cb84d995b9d877bef01b1b49', '87802f5d703cad32c931e2950cd0a32ee96f3ee2', '95d4edfc54fedf4d66135115eb51d46f18cad0a2', 'cb6f36e9ea77de53391499fc901963481b44592c', '0d6aaac1adffa03003a9fa31aeddf099add9aeb6', '780a6c9723bc5d8f1c9b3a0c01fe956dc00e6554', '9f100566c7ccf1f8915490e2bbc7276df693f2f9', '0f9151af0a9ef4f6026f2425367c17157d82c964', '52d7ba2c4d29f41cb190284832cdc1583b433e7d', '443a0bf513a41f51b29ad688abb3f8dbfaefd59c', '2f7f6b811d7e18d143594917993e2b0c72a535e2', 'ce3d0279e91842bc9eed390a78118c5a53a24973', '9f09af48bd89aa8681897b3660e3677ec619a6b7', '190bd61744930aacb8fda0b8c85c748ea51623d6', '72621b086b1b143768ec2ccecf71cfc7e936a555', '44afdedda914677e010430dd05bb0496fefb7c77', '7c8043f352652a25d230b62c032e6c9fa4ba4e17', 'e21e751e2bdec20173a1edb5b86c38b12f05d5bc', 'de66ee2341ad14aaf167284c3697d4f32ce2c165', 'f571cf92e5de4bb47bcc9ea67ba16c36690593bd', '057634d5089d4f694e2cf0d08741145b50b98f10', '794f07c918dc05e85fe386fc6ac6a88c448a0e6c', '9fd1a4b9c859637b2bb05e36358fe802ba97f917', '86d3670f2b103973fbb316dc38b550c81bbd8d94', '7d900132a6200148f2a287d644d3a38bea335db4', '622fa185d2fb1bb2597d14f7e612e131c1c0a99a', 'dc4fac18411138461c129e7d5c161aa60ab4c731', 'e4f329ad7ecbe7f2b9f04d2dced5b86d76e0f453', 'e38208d346d121940823b90c9394ade5fce7d3d4', '6a68d77cdff82cf6ebdfcd78b499ee2438626a94', 'bc05c520e69644407da20026962645ebe6d08db2', '60a2f3369ac6419f2ef778167d8d8c76b69ccd18', 'd092c97369b585c8dd49b3aabf8a33c482fb8299', '8f3e67334ea345540140679a9de8876c318cd54e', '108e0fbb23af760d1fc120a2171ea21b203794c7', '78598df99509c9068e0edd623e6fd86bf318a01d', '3e5308efe8dc482fd813a29bcf066fcc8a541ca2', '2e0792bd652340e1d9b8606a7e3fec15da48cb88', '2ff319cba3204a2cc83349ec78aa478099ec32d6', '471e18c5254aeafc626fa0c5aba9ced53906fd1c', 'aabcdfdd604244901d05963e0d2467d8c1d876f7', '64b69544cea5c55ee108b96d9f7fa93025bdd733', '308a7941f694b7f66c48d7f6aa9de0d3abb62110', 'b6a7a5afe64c96bed28382667d7ae346cdeb8d8f', '682a9f7beef3e3ec76127768379753ea6b93cbea', '6c4734e7190483f10ade59f11f819df082ff84cc', '122569d5a97d84b15c0ac2c2097ebcc39086a1fb', '76afb470ac47659165a601c6417ac5e303eaa982', '9c24e79937433225f0ab927d7b1c4c34a297b285', 'be57ea88bf277c74945357e89cd795a471b6df69', 'b660cd6eb3680d88e17f1d9a70e032993e7b0743', '4231ce67a7513c81cf792539341e0a1118b595b8', '5b330503547a2c63617cd475b95eea3914394a6f', 'b45e21953ecfeadf9ddc9167841b64e01b757a47', 'da035ac948bbecf68b01abee1d1d00c702a24077', '952b31f5893212659780f8a4060d6f65f512baed', 'f240069522005596a6a9b748ab5d331a87719ff3', 'cba6e7f6e42cb7747747fdecb83c62433f9dc667', '1b8165f141aa5d2b85c4e1b11c40b19e2a416b94', '447604c4f89c93f4d4d862881096e865ba9c2487', '0ba343ffc0dcecca5d9dc94dd6ab88f2889247ed', '927dbee8ab1ba5d0c55253653fe11794dbbfe269', '42e133510d2716eaef74d5378fd7279e4cfbfbd0', 'd441fedc845cefa559224930203d3982fd355925', '52391ce49b0c59d8d195d890a2dcaf4eb646e3a2', '4ea314a81ce450b1d0a33333fb3b0fa97f7070c6', 'f4b32c239f805d7380ebf82359256a8502fb603a', 'bf95b1bedd82cff54bd6b7ad90f25d4eb760cb28', 'f7bf97f4f0f2b06ba811f4d217a79256bacb125a', 'e667c9a1cd56368dfa2f4b974ab2d848585552d7', 'af1f2e56db178dfb9c7f82fe0e36bf927d15836c', '2290837b4b7a20a2686977c980b94a2f571bc20a', '4d5fb3d3b7cf14d098f7ab335bd18e16bf85e4ec', 'c4ba4355631ccc3b5fc915e6df4be6968e279575', '174411174d2e4376082664761e546f008e07f282', '8feb799552e6652ee3343c2053c5f84da4ab5a96', 'f8dc67e8d45a91bd5f08855fc49c01eb393ab57e', 'c2cfd520c6857882c762b2642000026623ca51e0', '26b8f921fac7a4d81f2749d64c10020491281545', 'b08bb91e6c9f1b490a91a0fd6c296545f1bef6ab', '760ef5411908ee4ed325ceb8b71084913366ce91', '8ba5a2d4e54f53c573530a93c02c1b2086abc867', 'b4189cc5ead03fbde4e537ffd5fe09f7c63d6c68', '21b47dbbf55a487837066f10c1b57dd7b4b6d60b', 'e6f67df263723f9d71d756b518f108af9cf63950', '9caa3f2bf43a64c846d412a09501a421d4f849f5', 'd6df12d62e1b7cf0556ac9260aca8dbadd8587e6', 'bfeb03507f1944a8867b0db4e3977f2c4c8f3938', 'ecba7097d6844aee8263dbc6720fa93acb3367d2', '9da26b969874b2afefac97252297ac2d4161c219', 'ec284475194622d2cdd82660e96c646333c8f319', 'e8896f71f5be82237f12c4f0d518b34f752ea410', '75ab133853c67ccc0bb1213800952d45c40c55ba', '6466de204f6f2e1bf829aaee7fb3a755f857d75a', '0ab6350023fe570f913b9a7d304715a3676bd75e', 'd02af4b6a1b876ebbebcd86d3c96669f8a58a298', '486c28340d958e40dd6b43977bca1d5bf90496b0', '2a0523c1511e42c8fb3d1a23b6823f343a5cb5ac', 'a46b0ac58f5495d74332d8895d76295293aa0c20', '917f78127a1fefa98de34add16fc393c3e553338', '236db99f884c5c4a520d643dbdf37f257907dc0c', 'a56f8ed9d88d2abd070fc3f37499a5328e0605d9', '70a4f458e6417a641bacc0e7604c7fcb78e2291c', 'c0da44793e3ff798cedbda171aaaf6fe7f13ba5b', '7fd5d48199b4759e8a296957f9c0fae43ac98af9', '7b1e0f5c43c700e42ec67b84e6b57397c5a09ac6', 'e915dffcc1212178eb2107faa261d02d06dc8992', 'd5a2a42f879286a5706e429dc1f8c5a270d2ec82', '214bf3a06734c4232c685650c86a6c0e31b37023', 'baf4b7807994ed5dfe3ff56ad144bafafa1ce8d9', '86ab7388b6fc7e474f4e32f689eb62880594d75e', '03362e3b92ff242baa49d57964db79c5dfb9235b', '9d7f568fe45abce1e5e1d2f51ec93db2e7c4fe50', 'ecee962fad63a7828319b3aa0a6557f94fc5691e', '601a823f85cc31af7efa2c0b1d1392e781487b4c', 'd474b9508659361f78790a0723421f8bbf5cd889', 'aed5478984780855aa1e4c732c22c5025571ad52', '15d55997175248a36e4ab7c8cc80d6f95b9e04f0', '3941335c10c2b11e4926f43f2431ac044a4abbbd', '5d6c0bd547b58dc9a418edccedb74e0f0901f9ad', '83543f8c8b42a9835e382dce15d3403b366f8929', '06244d67f11797ac911fddf99ea2e015c7470da8', '3f7be78857cda042074028beed41d088e5dd6a99', '959612110903c76502d2151185cb1e1288f28f2d', 'dab4183932caef5e8e61278add6c5c9e31aed76f', '0c60499f424b3ef6b4164048f1b40192dfc55fa5', '780276875074326f61a199b4941f705f797a75ba', 'e298a4c597d1dfb0f8c14bee0c5c6752b50b8065', 'eb3f5cb516d8777c7084ae23480aa922702d8f9e', '388a67ec283df780739ba8d8c0ff656acbac2352', '7b5c9ffbdd8e4f95978747ae7180163571fe00c0', 'f7cf88516c9320450a4a9d671c28a9d0ff32ac90', 'e7fecaef1b0aefd31585333689918d16773f672c', '402610106c682ccc9ca29b84b7a8fea189656265', '6c2d12c5acb66e46b0cf5d2fb545bbf8e2c28840', '15b14e34c776b0d8bc5d804024a30b57ad3d90c0', 'fe66aa534c7824eca663b84b99a437a98a9b026e', '1ab433bafebd7f8b6322c05def9b41e0f029ea83', '35553ef7a32ba9209272f815d7c7a45ac2977f66', 'fe1e6a74dce5ad630ef233839b433e1d70a17f33', 'bb4ac8c5d1a605c8dff93b9f92890fb4b9256d2e', 'fe5885b80e91be887510a0b6dd04e011178d6364', '8876fa50f00ed462c2462e9a8218506800bb9296', 'ca346d5c1969465d26d43c77d93ebf79dd6df98d', '6ec123525da571dbc7ecfb440116b3fe62877c93', '717277692232d06cbb2ca25dabf096869c24ddb1', '3c45299b9250a0ffd565d5ff0d871448f77086b6', '0e6996b4ad30006aa4f29fb8dbad360a49149a1a', 'fc613ad37e4f4fb62e7e454f5509225cd7210dc3', 'c45f31dc5e30894250d4ddb17937ed871d679324', '02d1b427e745f1681458b0af149d7dffab546abe', '8f8531033c637fccddbbb26d63b6bb6313566197', 'cf13022c979a6192d71be6860651a134bb2ec63c', '35ec354358fa2dbbd514aaa4f0309be7267bbf34', '07a899bba896745d6b67f6c5edf058b7813a5b56', '78a50cfc8af79119035af3401db849fad81b7931', '58245167a6036adde2a644ceb1949a30de3005b6', '6f8db8c0d435b4591fada42b1e55c7da729998a5', '5fcf6eb24ed521b343dfe502d69b9ef85af2a049', '3be4a2b6177687d595d7c9051a790557bcec9682', '9ddb1e30033cf0dd010b9103b5ade50fc19754c8', '895d29ba72f6589b8376e9722974eedbd3bac169', 'acfffedc4523e3df60b267633266d40054178705', 'bfce4685aa278c268e77dce4ba7ef9cdf326eb16', '12a35e8be246be54f0ad14710667cf42131a1e83', 'bcd770108c1ffee1de3e37891804ae48f8a547d9', '6c5c3163e96cc48cb3253b2f08e46a1f76266a74', '1f28493b0661a94bbf58786089308e4902bd00fc', '6a2af31d28d795d15d2c4d28281d4962c96f654f', '5bb68efdefb2f044f60d263df05266aae81356d2', 'b8f227cd9383ba082c79b0e3002cfc5f4436a39e', 'fb07219ef2cac0b0d856160c7143482b55645903', 'c743bff2ca6586aa09728e3cc6729233cca97909', 'dd4d4ea38120d2aaeb5296f72b4bcfecccee0dbc', 'e400bc3c3b24777cd4b64e8bf7d900a01788ae07', '14b1d8610de314b786640660ad1046226f6e7d50', '9082781272adef13421b13517a227b805cd36e07', 'f8fd1a7c5fd157a0d92e63d101fa6d212255f370', '20db7e25f3373221f391f5c502778f14a8ab21c1', '84ac914ecd230ec158e9fc761d49ce2cf4e1a79e', '61a2951ef65c55edd4dbfd25ba67101e1b0563b9', 'b3b6788b50bb0a605820900a888f2e2fe7a09571', '40603b3fa70b3888d6440e449cd2a46846002208', '8d202ebcc1109483ffd72893b3e7ae98ee4b175c', '47d7490857110f85721601843a9673df89f0df29', 'ac744f7a1ded5e9191efcec0a409771a1393705d', 'cbd65e73725a7be473e4a135929dacc8d7a63c90', 'd90131dbe6cacb4719c21d8700a572897d6d18fe', 'd4aa4da77978d287eee0fac83a1a71e14648446d', '437b46a484ea7750b82fc66a708d0cd19353634a', 'c2bf0106f76615f142ca183fe678b8b5916a2d16', '6164be584b102950877e64b4122270288fc74ec0', '6f6b57ef9b83bdf25c350bcf95edc24c5244d59e', '3dddf85952534f706d2ddb52f864f003ac100b95', 'd0146da836b7ce16e51fc82bb4388d1c248d6ce3', '4b3d199f86c52fcd9568d6ffc2d1d34eac64b911', '0d644205ecefdef33e3346bb3551f5e68dc57c58', 'ada42f8426faa8c80e351d35c19e7147339ecd8d', '44c35d228297da2560c2059c513c9bb0396daee7', '38e3d0929a0b8af74ffbe3dc221366d08ab69421', 'f28992857b97eafcde649063dc805bb87f2e29ae', '6b7b1468d243c19d8f25866faaccab9e671b9975', '537fbd1158cc9c0b602b5d1438a7e8782f8875aa', '11519189c6c587832e673fad5707aff1f8377151', '6145f5ce5ff59ddf6ed3595dfab7a63a5606e724', 'edfc8524e32ee5d80f5f8a6c97674701e3b6a873', '6e7a71bbb33236264df5cd4cd127b31211c773dc', '3f352f5f8cba595ae7398dea84ad042d119a9d98', '780795906c446f551db437e5e54b949e6e1080fe', 'eaba26e1901b9a08a65afc6cfa530c0368cc9c6f', '09718c298dea26d00ced00354f5412c0421d79f6', '0573b22e74c24955e00f279bd1731ce9070be775', '72786284868840cd1cfabc661398719ab46cb07d', 'ea98cea1eecabb50d48e419a40e1c5dee78e37bb', '49187e5ce88737c0d387b2ca687fd5a51547620a', '22f853e6b73052b32fd69fc685f6c144ad1d0fb9', 'd1419837ef1631676821fdda741535470b8fe94f', 'cb54b07a18bd0ceaf64022b15ef4d8089c84a0d6', 'bc68aa8d04332f1983eb7f6bc1bfaa5ade092f4a', '805caef8606237fbdb8ed1eba5275585d95b44db', 'beb95edea400087793b48ddce0e1e90a07e52da0', '82ae41cb1600f58075b47f4835912b7323d2338c', 'fb24741c0aa62e06a233a95af1577d9b68074b2b', '16c9e322c848dc2393742e17683a6192a39f7ddf', '61eb22f2843dbdddff40eb76f8ea11bacf51cdd1', '83924b320eb8546e0cf001c15b10fb6c3deaae16', 'f25e5996307fd643ee36d80b35bb853f4b3afd9c', '3c492d3a923e3672ed4a6073b844b161f39029b6', '3995c824530c837fce1f3d33a9a42f08918d26fc', '22aaf2b15222c091c29c97a123ed36fc733550e9', '65afd40f991c89af36ff1e20f3b06edf4cd29f35', '4d006e2d2377218e2a448c9b4821d8835b45a96a', 'c3ba79bd2c2464efeceb874218bae10d69d3a86e', '34545adcb790252af17e5938ac53a4020b8587f7', 'f9d48c7aeb58ab107be7e24b1503e2b5db0761ca', 'e5295ebc757eeba6aac828ae2c6a301407ffdd60', '2e65c1d36fbb64e104548f5e7e9560f9512df2df', '2a7f95ee394bbe229b94df915e824674724cc4f7', '8880605d08caa234e78a45f3bbc5e0b85dee6fec', '5edd487717f6b2875cf38f353bae2f2d7af5611c', '0475f6372db195180ccb897d40e7e6b7f43f460d', 'bde1f7ca3e57a749b6a379e38abd69e1fa188cfb', '21026417853cd181c161ae20651318978bf177b0', 'e79f23db1b3846226e94dd2b32159c01ff69e35b', '29e5e8de37693768dc01bc0d35b4c87c4733ad23', '981b9ad8d47db19f54743fdba4407d04091d1a95', 'd81c855770802c699d680fe742f024cd432df630', '15869b531156ad1b08fa37592752ba339ae14389', '7e3bdabe887ce978c83ca5e5759c9e008bd2da7c', 'c3efc77a41cac5bdb99a7ee3023e7eb1489c76aa', 'c54d7d2ec27c79ac75de5427e5c8866e1364478d', '65c49fc201577cd0ae68eb1c383892738ebe6b65', '6779bc7a5c45496067e97af3e01efbbde14b3100', '0cc820a9052326328c7496cebf41df4720f95dc6', 'db08c39faa874b70440015c09be0fcce5ec98906', 'e3ad47777152c66af17f7f103ce1def21d41da63', 'd9a590a0668e7e8e2c6ab1022b6eba193a03c7c2', '77011ed04a7acc3873bc19a31ccc6b0e803feb6f', '10632720b04f0b9d301729b854f6a39062392913', 'c84e25c1ed5272e5bec534bd2f741e58f8c08125', '8c37a3959fb30f349adff02cc545907dafd41b2a', 'fe11392ff36b2388ae1f25794435694707d10842', '5a00ff196e1892a4ea80d793dc7074603eb45b6d', '2efa5bdd222dfca01e5fe93bf4b5468c0f640098', '170447b535d406fbf262d7198cdb9ffc8c57538a', '4fc6006e4837490ee13f4bfa8e71a0fc6af50b39', 'a80f76573e8dda2fccc33b6a01b9a343f0ad3b51', '23e8e3200933f3c35c22249799309c978f6207b0', '6911eea6188b43ab5aa611f9ac98027ebba26ed6', '04bd57ba7fb7eaa7eecb628657e9f6c3bc6bb5d4', '4748f8a4ab219ce52d25e15bf890d43df58516b7', '3cc4594f6643f290f86df504aed751b5d9cc990a', 'dbf53077db376e8a99df9c41aca8283c03c1853b', '77390d80008ec5b5a3c108f377e37219e9c95d8b', '195be9f2cde8899f5561667b0e885c4ac1e55123', '0042719415c4fca7d30bd2d4e9d17c5fc570de13', 'd1c929f2555caf289e75f8880e412ece6f9e3de8', '610281f574eac6a640cb19c8086037fd15329393', '45d92f4718e1f07c82c295166a11ec58ec4154f3', '3d18918a74802ea2f0beec0606fa89455e2f3321', '3c178086843616638ef76b8679ddc309ecbf4f6d', '758495a194926d434679db1684f1153da6d2c89f', 'b8f2c2e5bf83ae50328950b6741d1b0d5a7e0842', 'f68889ea12eacd307e92215cbef3c8bfcf21aa24', '10a66174601391dae328c81dac7595858a244436', '93048f4ccd712f1199f8fadf99fd324929be82ed', 'b0a1d7049e02675311e539a80fb8ea3ba1720747', 'b098c4e4e239314c20b3ea4e3025868a6e449c3b', '92415b191bc50bd709672063b4b2561a86603164', '8feebc1480a33d01096e9f00adf8e543581c9cff', 'a26608329f47714d6d8750d6d436011ebd8234ba', 'f9bad4c79764267d9ab8dcdd3ffce830a4893cef', 'f1456437981a2e671ec1dffa152347470b8c979b', '4356945bcef38f7c4dbe22de4ab7283e4a7a7b19', 'ca52ac5a769596ceebdd478b510972a8be548dce', '5f97a06bfcb6237010dca5043d73428035f21513', '404474e0ebfc72bd7f8b2387a9801778a2fa6c8b', '95951585c1f948629b3c58bb74fafb5f0f797dfe', 'e380a289fe23d797e5711a5e58729ecaaff39a4a', 'cea172c507fe318c86dd9e213727112b2d430fb4', '2cb0ad34738bff91c3e3e22e631df3a0c05505b4', 'c7373ffc9550145c4dd88afe3425a12af162d9fb', 'fd7dd4bd2d602063b049390e88f3af416ce44c81', '5f14137f86e35da51c7e00f16443200a198120e9', 'fe8c1cb974e39d8ea8c005044e927b3f0de8acd0', '3fafde4407f326af07ec1d5b62aaf09bc306936e', 'c34603fff38a9919747ba58e3de46a3a3cfae766', '673041af99d64848e9b09d867fe94f9a425c35c8', '8d5b600af64cbb022068bfcf041df3f517535178', '43a5e0a948378c4ebcb5a24b885f37cf96df27ca', '53dc1ea4256fd02c224bc50d801d91abb71b97ba', '4138c40e4eca6f33ed7ebeca538adcba05e4c5de', '4faaf90d02b85511c6e3d89c50e0309cf5e87cde', '0366ad11fb23ceaf4670a8b429a0d127e0d1f7d7', '663ac3f7e4776c0c4dec5612cae7537bf6fc3f86', '64b18b4bff7f13608333356871faf6a64f0917f1', 'e237116a76598e4077d3900885a51e0555dc9c0e', '8e0dd32be123bfe5e5eb3e380e56df0ec57916ea', '3190631f097bf4bc71ac066b7d1a99410d3cf86a', '32c368e390424c9326f736d32725e1e167abcbe4', '7dd686a3c153f4aed363f97454485cdb03859864', 'a9d7abf61c59543a646fbd0dd7ba12543305de63', '235e536e40625d7198f5ecc2f45b3afd2e42e605', '6c2fefa0463341efe7ae7eada57b7660617ec265', '806eb2d3c6af5631bfbfda066ef71bd42cc3f017', '1cef37e2632f64b1413f77b2febad8de69dcdc00', 'c7d6068a1e74ef8283fac871d212db97f972e523', 'ce2d05a46a724c7cc4cb9623ba45b87eb7900c9b', '73f5abcb34df0c2e7117ee6e066a4ae788abc6e9', '47ad13411dfca9b008cdefd251a33e78c28cffbe', '948c439710ad292b27c8b152e49296aa5442d6a3', 'c4af62e750e7c1aa7022271eb4954d59bc61c9e0', 'ba9089342eef128aef4c887f67a947bfbe74371f', '0797a13d0d52244a601f8956e020e9ae184d68ed', 'c633e7b140a1e21d3cb475dd72361befbeed630e', 'a60b7e945a8f2114d5dfbdd53182ad1d526534e2', '3b941e5e2fabfbe0c220c3409bea80f1528dbf09', 'c0a828c33e9ff704d9d7a42265ebd85581b7f3e4', 'e359212ed896abee354af61ba311a2fe8ff57206', '0f475574d62795e8bed57610e11d0c5fd96d6ab0', '2746d17e3f0fca6501351fe625c3b239484a8a2e', 'e3ceb20da22bfb1facd7e58a8b1252063fec5e36', '55d0e3715d0f8213d080243dfd9b1cb0b7341eca', '21e10cfb7b3208992a1fdf02c82bb4cdb849806c', '0b4d266316b0300099cc3e2eb23d4880db5c9bc0', 'd7ac2233aed07c7e867e6763f1d03ce650428fcc', '4b1d560e829e48ca9dd0d82782684833659d4b41', 'da92bb1ceffde7f03e3753e5bed8906400df330e', 'ef9cde558884ee0e9f5ae872f227fba0af817ca2', 'f853916fe26d610e0fce5b909daaafb42c3bc152', '373f42c812ee05c304e57181cdf52f2b1dfb6231', '584e9a6e8d4ce46e969fefb0583f2f780f834332', '99dfda51c9d8752b75bf246e9fb09cee8df17685', '2fd845da7f6b180575485be06096faba1b5499d5', '71ed758d748a54e695dbfba1a4d2bf80102817be', '8dd56500ad971a2616f2a35578be460ef718492b', '92cc2883793fc766ecc347cfd872c60a39240d2b', '35802b9e2ad0c015e2c336d65f5ebf58fffe4fae', '277d5948cb844c7f0eb57cbb45d113a7ad65d40c', '1db912fa01328a12aa1638996398f70e755c685d', '318b21f8e26b4853ffccd68607c95c237684783c', '9b14928fb6c95c5449561ba651950968474617d5', '580d2f10989adf56d3453857a54dd4237b636d5c', '16fc16dea88cdb7affccdc32b9d840331fdd3aa9', 'bc0dd1e09710eda585ad7cc5877cb1df27a94f3d', '314001e50d3e96e71423f6a14821003943dc1876', '487dc4c6f23b00bc49ea5dd1592b75bd3ef43197', '924e696e230edecc4ae2b27a0406f5ba47953d4d', '06396a5035ddabad965032ce4db05ddcf3959ab3', 'c4efd9572418bed9e3129a803489a45173d95a82', 'f9f1b94768a8ef8c359953b27928a3b473767e54', '1b932794ef9cbeec872d773c9af19a836b3e56d3', '21f5528caa04acf2e58d27e4b203896cfccca614', '1b137ac7e487038bce1d8c4be89815222853537f', '35018684b60d712bfdabd636ce84b6cf9850bfbf', 'bce93e473d892fff420cf2809242ebae1bd27437', '1becf679f76cb38e25faf2d945130f1e431f33ba', 'b9724ad9ec079b0ad85628bfc53087b97b50985d', '866774dafca0bfd088146b784aafe3838436ebe8', 'ecec8385b0cf5523bf9e8f6898b6b04ba445fba1', '9cc3aaed3efc96b787612e71db434ada26512a04', 'a7823d0884d3419c15667b1b68e11ca7b6a8f0c2', '477063229ca222ad861cbc8f7acd39243ba8d16e', '9fff3bfe9856adf439d04da76272fdd7b269976a', 'ad0bd50e433859241dd2a97c7b985f24e2e18e8b', '37af612d36d930d03e9ed4ddd94af41eae9dbd98', 'ac297d2145399a7fc84f8efd4df4bdb6122d556c', 'fae7d52f698438b9ad32ffadc492fe82c19f1b66', 'c6f75b80c6f5e26bafe880f52748be8b2fd98597', 'b0f47a0e83f19d5bfee28ddaa957dbc44e64f01a', '7b2527c1aa62a05f4700bc4d705674d41cb4cc18', '875641c92b2ff57001d41808c0430d3fd80b4de4', 'd8e66159bff8c618f15c2a681530b6434b919e46', '168eecde823d4cd69920ec66801fa829ab7a3553', '39e1aa07f598a6529b5497ad91658e1ee79eb78a', 'fd316b02b629bb61488c6fee14ed69116cd436fe', '305af8d7d33883db66c59fe5c0c743c036e7c870', '5fb28eb5fc8431e1a67adc711b295ab2c062b444', 'ec4e02ea45783dfd1fe3d0a8b0a9174c87e3a095', '3f34f5511bf7546bf942b8a9975f2faa6aa8a0be', '89d907639610eefc02d42d0227a4c00cfae11f6e', '9d6d0d191a79e8b6347ba8ab6b12623816f14362', 'df7d9c280231d3d4836749d02f783ad1e51906e1', 'ad7fa909739c58e0a574e65f039b9b7b6dd6d288', '391a7f381a4b00ce7108faf7d2067a43262c33a6', 'c7014d9a93447a55531fdf0bcb0b5ab567a6669c', 'f9891b8e8f4a22c1e7f3b3b5d1e7c05976140a01', 'dc04acb042f7911d1b1a05dc783070cda2fea2df', '173e8bda4d6cca316ae3ea23f8d920eda60e84a9', '6b1d42acf10ae2597b09bc863fb9e9b01bec5ad8', '1e97ff36a65b19b052b5d3a6189161601091cccc', '47c6d30644866c0e8591658574bd9569a84b6be6', '78df08ca8693870393547109fcfb8cf691695f83', 'a12fabcb92408a2fcd8e156c08ebc634245c14e7', 'd206ab685f2ebcd52a54ec20b93334f009a4eb84', 'd11916c7939e22f00b23139a21cbaa34dd3c55de', '0212fd316d683316d502f9e6e0ac95cbde98ca32', '5278fc92a7c1fa9e7df95aaf0718621a76d7da44', '0398635906ffe49556961a85434ed5fe5cb7dfa6', '5554735b94b063acfba6491f220093cdc28b0014', 'a8d33f2281e2c5786ed617faa516ddaaff792dab', '6d29ec7dd5b03c2863ddc6754275161bbc63ffff', '9cc6d232298678b4e24cf97ca0c74675fc2f132e', '04a63e87fa9244b328fac0e8595603ee706aad15', '227c9620921f5f15a4831c7ac8d985b82cb00965', '18634c04b6942f34b75a43dc2c98003cbb14ce43', '9ee780415955d5b6ad204e34a34b764c017d6a8d', '09b130dec7e9f514a68c5092e8867b2e1ed38358', 'e3df8a1c2c62d3d30ad5c2eb20159a6a332ba006', '249d60fc4edda28cd8fd76f549ecc43259e07038', 'db29617f1f4c7beee5b89aff255f75514db1ab07', 'b2d209b94bd572d9a185c498aee6cb95d4651269', 'afea502fb23e84631f8fe0f9d3699be98be2d41e', 'a9b5beabd5a839371eddc4347690a022d93cf846', '7ab4fd9e49abc92278344c439323381e27c2744c', '305ddfe48fc434005436932d64ef166264a70e66', 'f3e1048c91cc364b9793b5515c8d61d6d823cc87', '6f2d926b9ebd6a6f0b4aab45ea5f26575a3a26b9', 'b7ecbb999f83e814404dc93395f82ea986c6a568', 'a239da1fe9abe3cb21ea28a7e7f671373fd4dca9', '0feeb0bb4249bae74703d40cf05af873c5184875', '86e0db8e1280634a7e8433e25bbff398612dbfc1', '87c87457f6373d3694279ca1972ad83b76e0f152', 'b328ea91cd782bd87162f177d169f06714d46177', '4c5a479cf3fae4397d3f4f5da9ab6f0764de9a69', '81fe9d70bae6c9751754a74f77b25ddcf80a45e5', 'bc38fab4e70834ceeaa43a156825281811a58ea2', 'a094ec9f3e9fb33aa2fa04aa41561cd3311cc97f', '8b025c185f18039ecb12008c8e02a9d0e00ef2af', 'fda8041f185cac774eb1ada376137e9e68039d16', 'd5415a06d23f447328734af4e58ded302e69f3f0', '35984ad958ec3bc0da104d62a756b07e4a72346d', 'be95a41c2e58abeaf9608028ae2eb2cf59c0e1ba', 'f46c7e831f57cf44d9ec3bc6b45a6ef07dd090c5', '155d5465e281e5096490a151e43e3dfe9342d323', '694a502cc6266951d35eba3af33fa4e778cfeffd', '1f69216ddb537ffbb6c17631585fdb4cf1385902', 'ec249bd739b3e2feb3a49f0d0ef9c07a16665122', '077abd9c22b3baa0157febbf903b9d7316e5dc23', 'c92beab7948ec99a10887e80876abe598b289990', '42ebeada41a422c7ce77c69cb52f750614eeff4d', '387e41599cc55bf6bf0bd475535fcec75827ba3d', 'c7d8e9df4b4976a6847a7f0796f4c68c7863e696', 'f4664ad6a4ed445d83b84a46335930ed07fdda9d', '09c4857205e70bb396d1197f09b62b3dc47f6903', '82a1957a2a15d2a4565013293ee69c092fe50dcd', '4991fa9e773d565e5038fc32fb8ed2ffd8645732', '363964b381e833d658e6c5f4d1dd759af141f674', '008dfc7a327b5186244caec48e0ab61610a0c660', 'f576bb7ef84115598494f5d47e3aa0b462932474', '712450835716224af0f6a6b3f06721833773df6e', 'c3c36c22f37aacd291173e5aea387236c2d469ea', '814155c282aa15749d2e3c5e3b0203efc26e75e5', '5574d1cb6011af140df6fe9652d6b4ab4d126fe0', 'be7dd2785e16d43b03724ef7acd3f783b03dad41', 'dc7c4a57a18d400628bde8d6947bbdd4fb99f6d6', '564f52d3c2c22ee3abc37f9a678f9a700a8fd148', '9b25fba4303b002c210192eb40f571b84e039bbe', 'e6ccee7c8f59af831c7380dfe9e8cb0c3fc00d90', '8cf03266b53a4c14786fb9932c3ecacb1a7cea62', '7f0f3889672d7fa2d38133cca11497437ce92c23', '5e36fa4cbb96a00cd0ee05242cf97e6f226590cc', '3c3a29f92ce2af44eaea33bd87affa3365306295', 'f926e39755888ece7eb2abd23c8098a71b38e631', '3048dc13360dd68913d5eebb181613370ab8da9c', '9ab642865f1ebe706d72c1483d1877364ccd8dae', '4aa994cbdd6a9db1dad5a7bb202db728809143c6', 'fb622f2dbde52b71e3d511c1a412dab97362e998', '077f2b2ea0f391fbf5e7f0a344db48c91e5d2ecf', '8e0a41e58cfae8c597878e11d6493da438b1430b', 'dbe90e91e63ef7636d88b4d2469a3e6d2138146b', '0ac51c7e42b15a95462f8deaaf67ca9a9bbeee8b', 'ba0ae19138c9811a46b2f55938921fae8629ab18', 'a07af362e92e2702d39bef1383b0e1fe37d6ce74', '77dfaf46a4fa8eaf9d6ff87e52e6df6f9464a298', '107c1b4b5a04151d91a43c3c05b8626c21752377', 'fb1ef9c488869d842d114511d6ea389f8e6c40d5', '962f98371c2c9433ab3a6e966fcc2ad513304fd9', 'eb0da329ca67e2d57ef8a588dbb0c83bf564dbe0', '46a5c00602a5f1bf56a6b280468389a02bf5163d', '2d86af8f3a370f0a556b06ff3e091f0729aab728', 'd9656efa931ccd61ef0c3ff6ba74baac81a4034a', 'ee5424ea142ec8dd676ee801e44d7c34b53086de', 'ebe421a5f2fc0f9de7bc0cb46b9e9176e76c2277', '26d6a0bbbb695eaaa5dc70d9fd64688a22e64167', '350bc000492db9bedf4252d107026f54cc0ee4b0', 'b2a9f488359921888b630f47e582e6f8e317093c', 'b475f6b9e62df6f06828d0e564f07202187acf13', 'c4bcf606557691dd9ac8a099373b2389f23b3390', 'db2b50972f4590fbb217259d44576f891813fa60', 'a6262b24d17f9642a547a2e95394d1ee9a557976', '6c53b88c932f1c51451f05581a0fc3bdd6926966', 'b9de0152e34ecbcb52079bffabc1f3602a7a65b9', '48c4c3db35abd2167e987b6f17204168af1658b6', '9bb147104f8af3882144052c319cdcb6a09ae658', '1f77d89a0dfd41feafcfde241eb3b5c1470666c9', '1b86c720a546f357f31e94c2da07174687262395', '9836eede4f4dc3400eb22def032344760fb20b29', 'c3e4f2534b4014a6a2e3bb76551c0e57441522de', '03fb2f109639980e8f6a5ea2383f42e69c1b726e', 'b6fe720e5a23d3ba08273585e45bc86e26def46b', '7c13e8e09cec1ab0e91c6388549fb241c4a98ca6', 'b05e52fcc9e61cad19909fd89095735936ebd306', '9b3c3444e7677a7dc21996c35ee04b58e9aeda28', '7d2924c94d5d3090d6c5fc7f0ecaef5a6689d088', '5451a472f17004b7f0b291e15c4acab2d89148b7', '641776d760aaec4b29541474b485aa6c919de549', 'c91dbb09da18795ec6654dc3e789f18b223d9c7e', 'fe4aa5f2206c338b375e2fc89fc2872f68556632', 'c86c2e3d4f2a52a32f4fe815589de45b76d44200', '8bb4e3e6acc4aabe46317c47993e5255c7d46d75', '7bbc6fcc48954196722fcc27f59c5c2836108e06', '519b87c321e7a72c9c3909a13a1ab4147689a7d6', 'ce5b8c2b5f3bc0cbd547725712c91ea1597ddb8c', '8f3cdb5df28ef6976a594a68c3566121ee1519b1', 'ebfc2b44b51a5df385aea235762194b6ee7c274e', 'a7d14a438fca4c5a9e9a9ab4d29f9a5096938dc4', 'eb278ebf1f000c3b395dbd284ce51823e29eecde', '9236159b1066080379535a163d92504d3c5288d6', '23106ffb2d8e0199ff3a28e7076768434a9fd51f', '99bdf364a4deb1e25b09519dedd6f8bc0b0f303d', '0acedc35a5f7b379845f425944566e63869811e9', 'eb76105b24f2512b2d2fda376b6f56592a7611fb', 'bbbeb01e8e898e2f4f50ff51eb72115927b481fe', '76e61f58d66f3d0360af8ff07e454172a9e26703', '7cfb29a89b73f2d1017b7ad62ebf7ffaf3d308b7', '2c192338a8a0c543e05dfb7a70fc4a3bc324b35e', '2f93753c753346bbfcc26633b0f0792c94e060ff', '41701b02f8d3f00abe8e8107384f57cd486bfcdd', 'eeff2bbf95ab824293491a88a694848fff62ccb2', '678254e885e0e2a588de897e1c45930ba4e063b6', '428ebfd561b32c88e8a77a1ea1ebe421aff789ce', '98fd0e6ae9c9c3eefcc522060ca7c10a32b6402e', 'a85baeb573d7b92b42d742383bbf9f49b7c9b71d', '0dfb1526eefd3dda576e23d9884b53327aace822', '9ed4ba86c94c11a2f69bbb8d51ebf63fa92f62b2', 'f25c2c97799ecae48bdcc9fd81768c302e25e806', 'f5f75ae5cf58f22ca1aa51e5a472886931035cba', '59cc2031d2798115669e868c9108f91a48f8c3f2', '00f8341cbecd6af00ba8c78b3bb6ec49adf83248', 'c5043620e39033e492ca3db285ba647b4b3022ce', '678a89006062f7cf9fa199a8deb5c374330c28cf', '37dbc29915ee00aaefac139d51398c492d5de0d3', 'b3c6a427f7bf7c3b91140e84bad77a036d6513b9', '428859d64bad9bfc289f77ff9a3564e355ee6391', '3e27d4cc23bbf905d57a77de58bf3c00e6c2e2c2', '60563aca2bc4eb64a0f5df52ce529b88d1c960eb', '5b4269217606ab84c9e881c5df5b0d1f33a073a1', 'a16268d1e4e63ef978939d2cd806b432c04e0d13', 'f78526c53adecd41230081b1f8412488a70c4ffa', '5b04adc6219129205286190ec2d147e396c874e2', '8f7456c2c59a05576ab0aa4ea7fefd138552e749', '0e8a650d3375b809a5f02d7f050f15d1108caf76', 'e2bbcaec6b6519affe037c60cdd78aba5e13acc3', 'a7375b24d374a42e32d67c4b9dd74fb92517baeb', '3b0dc956159bac05889e12e6dcba19475442fd14', '6b0f060dfc7f82f667c1602b405aabe4c965b047', 'f5d4b3bf0722824e283530da431f9298ee4fafae', '24cfd8b8b60062d11958ffeeebd50b24c967c23c', 'f3fc0aaf0bc46050102b56f03df46c24911b6e92', '178d413716659d7546f28ebcf7df3664ad99ab92', '4686a4cf7ed8b10cff6242996e8b8ca491c47edf', 'f08a3b5d2fbac830fb107be3d1739190aa1bc326', '47ffe27bb06e545da795008bbba9055d2d355f80', '631c316f08bcc7af278261c00e23dc1a63ff3960', '8d1c4590989b288171fd508a17b16fb67268d822', '246a9cf35e362fd285d7167172ca81bbea32d07d', 'e1ce0c6ed19b6e55011bee2bc6515e019d1f47bf', '4e587f6a59b0ccd3f78e92116f3100ca470f67c3', '1bc23251068a25d27134d3308d3aaa61ca4b2254', 'fc2d7ff29cfb4a09898c1b5afc03d23cfb94afb5', '51e1d514c91b0d45b12d27f29dfe2d4f5ca746a6', '334346349c96113b02177d31e3e367b577a21944', 'f62d85d2415e79d313291de2e29602caa9e89154', '17918450d0bd00da97defcf42734bbffb8c97596', 'e9e1fbe32f226dde762a5c5a0450d97352dd15e1', 'ca8a90152222879a55e5dbeb8b7c40a441784ca7', 'd9cde9d693eeba13a8ba5b7696813efc060b0714', '144a855a0ac5621a8b7eb5dc13b733929f38ea29', '9a72e4a7697cf18f7f472661e2a22a9744a39cb2', '27304a6e55d7b039d52f30337a5c58e2c5b7229c', '641d3fa8e4441b2e6387a47ca6eca32e50239ca9', 'e23c883541cafd40fc05d4ea494e6ea0f76d61a3', 'fc286fb87b0c9271b87269eb404bb03d24b93435', '424430bb0d6ae207c745d6d4bc6fa1ed5dea0c6e', '0eac16ab5f1c67341c93e4397ac4fd2eb1fdfba2', '7b84110459491d1c738fb4ebd5fdfbdd01696f83', '203aebe3be3e81379a386a714ce97dd60e1f57cb', '1aa9983abe404c31b3fcaca955e50adda3f0caa1', 'eae8f5ebf793e15dff97234d4f46f1fbc49bfd2b', 'a436c38e12b36e0c7b418d7edb5b31a788e67def', 'c37a08660dd2769ce42bfa0f4ac93958021f05fa', 'e679aab84b05c5ea03bb2bd95a968fa2c01baa9a', 'a0f05b084adc9ea17ed474c2c141f07f6e12a99c', 'ce5456040ba8eb836dc10c80b4510dabeeca158e', 'cbb288c783d24b9569fa2043c9386366347cd2b6', 'd0f8a19b6e2be418536392cd86a6204beed952d2', 'd68c0a3b46b34d18966ba5e19df5aa9164e599e7', 'abca93382bd3efa6ee809afcdabe0fa92c8a2999', 'bf56c1db5afe26dc40c3e7f9b510536ec5598a2c', '17a5176134ba2adb9d14c8e38e308757252451b8', '68998caad94220a44e79b254a19c2f786a748cce', '3218b8c9de5373f925529c915820d5e319d5b52d', '9b1a8ee846d8ccadf5000c9cb0cbfe05c87dfb78', '3ec5e194a44684a84b82d26a956b42e60bdcb34c', '2b5c96d30089a3a1f879c85359059e6731401256', '001fc95b90da5c3cb12c501d201a915e4f093290', '0803459ab043ff2ed94a98ec87b1f8dc24dd5b97', '881b43018be070a7977b544618d3cc30b48ecf14', 'e67098bd6de048001a4f82f05f641df1c2e2cb55', 'd76e9eb995130b50ad776a1789e1e70de066348f', 'df722d3aac72766b93d4a65d8b4ac084a968d684', '7b7b3d29e6bc22ab4d3e9385f94b77cef89f4164', 'a30631d1f4ab3b4002f42ffd0300960ea0bfcf0c', 'f82d1147f10ede2dd8fa435f4aa10a344a6250a2', 'e5c4c057f24fab1eb73a1e0941b1f8b8f26fc7e3', '7c0e550ca16b86fcf3166a9564abb73177da8d1f', '728e830c092e2debd10830fc6fda15cb86c555f4', 'd80e3dd2e97d36c7917ce82541bd61accafeb2a2', '40069dfd7716798f975b28c2e80cf15dd9d54422', 'c97ce56450a26ec5ee593ea140c2cfd6666970c6', '6f6fe0e3d91bc0b4a9531557b57b1b52b2a39441', '942e950e7f9fa3936690aaf2cc3c9df5afbd6565', '6a9ed3d524b59b89074341a8b5d1b91edff99e95', '2363e26a51a1886426ed07530096e090720f4d88', 'e0db528ffaa72f346879812326d65050774a6241', '63f02804bbd1c8c517868f0f65be314252ec7c1d', 'f29c54d871ad08e2f8fd22034c012bbb8b7486da', 'bb02f97687784b97f5a1d59766a0aba89a32f286', '928b441b54df70dd43d32218dce79c1df571813f', 'ef765f55ab40a9af7aeddd4ef04360dc0d0ff536', '3a6953c351b8dc90da7aeeb8ddf7c54fa7718304', 'e4e0d25f8c3ef6d26514aef13e182a5614c66856', 'adf5fe766bca2c3be80a911630a309bee9107420', 'aa2c6d04b27174c41d477bad03a3f27e76283139', 'd905f564a4991e5e8040f51f8bdf4ed0d5a155f9', '77824bf1d1594e232acaad3423730b8e8aa7ec59', '08e815c8c674c920d2c2162dcf8fc2e21217d082', 'bfe4dcac5aac8c9b888de21223d8abb611aa1453', '724a350f835828c20a9a739ebe39481492fede1b', '4e9d4d9119257ce454f552c4de344dc98ebfc627', '0d0792d76145cee042b3a4ed8b4ac67b5d304b38', '858dd09434edf83ef62c8066479e7ccceadc4083', '5d18ab62cfb3aef58f2e58950f3aa8698b1657d0', '096a37cf3764c13af48b293b013af90f3e04920c', 'e698a6a4235c1befb62ded7dbc35ba216a9f6250', 'e867a436409f7d2e235005be5228c745403f6619', 'f78c89fdfc093acc3d50498fed711fc13a2a78b7', '0dae729d488fe7666197ffc83c5e8dfecadf96c3', '303a99883b7eee7284400ddc85c5f1f0d97f1921', '98bb40afb1a835fe95f3e46643373ba549318abf', '8ae17ae967151cbcaecb231f10fa1da1515a1fd1', '2148082a476a5b408d7705da8417f31699ea19ca', 'c825d6f885a93f20afee8318fa1d9aa6372a0553', '4f72f66182fe930af7c69bfc416c6caa1e96110a', '311bd29bd82f799eb1746621be06b2f4980128a7', 'd5988c94bf4687b0f54e2a72a61fb1df17212856', 'abd1bafe11f8f477a20e24115ba329d24163a866', 'c0c3dfbf37ba6adf2518b463bed4f78f4674931b', '1dd07d1c10a9a1bb5ad2f8f94f3d1f4d79e667e9', '6a0804bd103231ac2301624966e5dfd074095149', 'efded4d12cb4d1f53515e503d4ad3c4ca850a4da', '9a3467065eb70bef88d8ee2b1de3c419c3bb51f3', '5b33abc23d2cb5ccdc7e4348d9280856280b44c0', '0be170fde347d7a2333c12eb03f24c05c4233ba0', '449235d86e9d80f808112130da55d08bfb41703d', 'ece933233a5a26c2728645c40bcbaf62be6acd7c', '9f60f8dc0b5ef7cc0343b1d763fc756e60a0a9ea', '6e23d7b48aec60e89a07a8456be26c6bfb8ebc7a', 'c91a6c8144a0511ef6418e1e8f10584573675319', '820bf3c630b7c5757160a2dcdfd1a294eddbd9ab', '7d56a2a38a2548e9e26adf65987cfc3d729aee46', '7f58afc15f6f621527de076b76232cf82169a16d', '1e38a642b663588a98ac5d97a5073fcaf3f224f6', '3fbe5b2be1094e976ed758d2783278ab9fec6c7d', '050ea3d5d920c6781ac04aa3ce05bc0a6049723b', '62c3dc98a1a0c8a2ff5044eb3d205c914fe3fced', 'e58b734390785d4a2642ae24ff743a06aecb34ec', 'a1de4c47abc325ae4369ae42f7a565938d4f8621', '64f71871d269dd20b0d4793594e2a1f18632cf6b', '511c4905f5e2b9f8f2848d4248225e0eef061476', 'b82d9a1560186575cdb09076db39727d9e15a1d9', 'a748f8e2be395708abf0b1beeebed3bfa5b90689', '5e3b0a88c41886b43d12b36db1d6e5a0cc186210', '905b4ee1fea5b27aadfb3e39a501425d6d5c968e', 'b479900ef414b3110db08dedb146c5f68a1196b8', '7b93d321d10b517cafa6eb664e2364823a00a09e', '40bd0f35ba52b3ab23a2152977706464a353e36b', '1d3c42154b2d55882c7781aa0613b61ef8f826fb', '403169172cc675b1d0568c403be98b95114eb8ae', 'f425aa15da721b54744e2d8695846ce03159de7c', '40c26f91f178e1f8e81996c47bab7e90fe4d1992', '13cbfeb7bd530072aafbb1d7c1f7b0af714857b9', '14a95b4bb1b2350b2a0da4f6440b8e3cedae9b94', '4282bbaa7617efd56286c54d31a187bcf7869f15', 'c0857459c016f8ef64ec2c02d006b49a31f6aaea', 'cc88f3ff073fa3d572709b4c5b2ae8da4c59034e', '785ca1219486ef5a4c04dc4f4199e20997b2487a', '8a541ccadcce585966d741ad773f489eedf60640', 'ff55d0c0b2a4f56aae87c2a21afb7070ab34383d', '9b9a4357a7980aa881ffe31e42352c700b2d3c50', '5f025a2b8dd4d0a7593ffb4e1d3a87136f8edab2', 'efdb4c363358224cd99d45053e2dbddf659e25ce', '93c8fc05aecfa7dab288e4e3fbc27a4875b3f73e', '58c844007a4d91a606b73509848cbb10702793b7', '33a6b5c3f6f33420d6e1f78548ea7f8084dfaac5', '2bf18f46d279123270706c8b7f06a40c06042578', '2ef2615ce7ed10de7b4e80fc25e404c18c3a0484', 'c549291f8c6feb62d874cbfbedf4ce75287d2726', '9cdb6449c080df01e366ce9c66f07a549be838d9', 'fd4343d0f79dbf48dbea44ee3a7f19d384473264', 'b83af15571c5bb72acb4e6b802e0481f826d8fa8', 'aa6e69cf7d23c3e67ee0877df4caa4d7f1a6359e', 'f6b3f66192bb2d808d87fafe9a902ae2b493bbaa', 'c2de723d344323a207a32b2027c3ead8879cb3cc', '842fd8db6bb43a70141c3d89e0fa88ff6f4a477f', '817e2f7b9adc5807f7392bec6e5437f89bfbe17f', 'e6cdf83d6f30ae76ec479960e8a18a6eff4e9ce1', 'f914080256f729ee91e2d35549f9c94e6dadc698', '6491b4d64deb4db209ed15cf21ae789a1138fd97', '32e0d0a71401000439320fb98122749877629609', '38100509d042a93fc76fbf92c533b5dc80087fc0', '0bd6c41e20186b9040b279b7acdfc428248002a6', '643da6960272febcfe1a9f6c0f6576c3c0b53b86', '357d6b05e27123a5c72ba576cc0643f673fcd802', 'afa8df254f80de815b03cc9e0b49bf20c7153d8b', '175d16ddce00bbcca2e9205f6eca04e7f1eec683', '762f9955db98ae17f6128cd38e6fc1ae0bb6a995', '388e1cc7a1cae5235443c8e7b2256ba225869ea3', 'd77226f2bf89f2d57dd95a3e3f9cf9dc77060f94', '435aa96d57ec09f8ccb438c0e0b119c071271555', 'e77e9985d86c4cd84d15db08ac2c527964ae75af', 'cbbda230849589af5d2627d3fcdb474f2ac5aaf0', '96eafee08364887dad37b7787c69fafd6c2bbb81', '2f59c868923621d10a9067b60b2a68ad7b7e8dd5', 'c3f4c2cfc74c003bfc8707ef41264531a4c55d1c', '9676b33c28cfc8f8dea534ebfd26ec140f8e442f', 'f6d1bbb3c2f5e4dcc817ef944cd0b777d1e244f7', 'e4fe09b18fc48f4c51477835f79f97dd10ffb540', '57e43a5d06762e80b30c2d73955e066db050bfc5', 'e371a54ffb2de126a208216ed9a8fed468fc2796', 'c0c7abe5524cedb73fe8de4a893b55ab7a45eda3', 'bb551164b6a80192a0eca6dab40d46f65e3460c8', '76e7baf85f346a375eea401bf295939fc63525a1', '625d6ac7f5c657839e0f7d6fb62aa7671a844a5a', 'ef4adc1315728b0e7e81a625fbca080610b0c0b7', '7b46ae8ccba3a3c3cba0c0e91d2c610c31ad42bd', '6e59b45bb0490865eeaebe27f3bd2aa19045b9af', 'dca8a89f147ec6f0bfa332ed6bc08d6dbada650b', 'f74073e0681e8267f9c4167cd666cad6aefb1fea', '9bacff67742ab5f519d9329958229d2d283e1516', '644270c73155d46ecde4ad120b27440ad4442536', 'fb54503217e3cdb69991d118f95f7e532b30aafc', '61a82d571beb8cfc34c1c4776b1476973332f789', 'a803d73009c403d027cb2e32aae28b719e9561ba', '3f88788a3c61095f95be9ac84425a22da78bd863', '3bd05c5b5fcfda176a6e15db4902cf6d45f94dbc', '91386e0ae614a825f26a7cae3543a278e755446e', '0fee8fabddcc3971cd88b04d64555b7eb8ad117b', '75732d08088a9fafa0bdebe1da9d56f281de80c2', 'c14cfadb44dbe5befe25df67974b13f4d1bab7fb', 'b95e8187b3d4bd4253f8b5265747aac92366b4d2', '7925406fde1af11a0596764e6858623b2946bc6f', 'fe3ef24628d9a1633e92bea9959a64b5975995fa', '568782d8b2310bd14b673f1916fac6062b703e91', '8483011fca19b0fa5e3797cb37897f1990c6e57f', '4fc7bd68dda9cc3bcf7b029f57c3aefb02e54db7', '3545d13e7918de228ea04078e6495f80edb557e3', 'b27e1bfec0b40c7c0121dfebeb26da09a0e2fe6e', '77cfa15f94a624b4abb4ca72f72d79b4b749bb4e', '511ff30644d7cb8ea499571ec57c75069dc741f5', '98f70ef6f8c8a72be6dc7a021b965c27000b7f8b', 'a36df4b73928702903fee5e42011d97af01f7282', '4b72907d260504a1f4192c8ba087264bc1bfc5ca', '8baf312dda12c8e955f2ea77f0fecb3ba5e3855f', '3c07c04662de732d0f61dbfe4052f17ab6af4127', 'a478624efea8ef081df20aa4eaa15a3fc9151c9b', '58c2b69547c23d2b59ab0c71e6466bc2c5df4c4e', '03ebcef4368faf983006fc76f555630963548ee9', '781370dec0054ce597b7d888e6103606ee2b952b', '673d548dbff8e7f9d6167181063102a041c1d5bc', 'bd844dc6777894c43f5cdf8f9607fe657c4942e9', '7ebd8df3c23badb4b223bfd2f6dfc8d0efe7e7e9', '194c12f8b9ddf4a75c7af770702a05fa65b32521', 'd76404501ba27f8f465fbc970462ce039773bd24', 'de9f18d44575d80e79e8512ebd7c5852e2095661', '1105547588c0f38c0106de0c6bb71ec8197474e9', 'f9668a92e330367ebb1d150aba666cd4bbca3b9a', '0dfa8979a67635622b22ca89023c36d6dd55fda6', '3df8e4dcc9664680800b088c8596caf8ca9c595a', '049b7e5e6e85e0d5b6e0be5db2c8a5df50a7c671', '8b2162a547d93fecf067c4ee795badb364c1a8fc', 'c4696f5254333c68ac3efba64f37fb09f3bfc50e', 'fc4cf88470db6c6074484bfd4e30dac83766bc8c', '4f5271af6ac13fec5d0416cbca4790cc28d1042e', 'a64dd33f267147de4584ae41352beb433914dc6f', '657b999e64ea5382b16feec673701d8b9ee3b2d9', 'ed7a451d58ce75db7dabe0b755211b2558527179', '50bc79c883f10032dc0843acbe0b2dd710111e5a', 'bb7e11d06fafae81d2ea0dde9e8912c358367f49', '1657c7f4affae2cf7ddd8c8c1134384e57ce8ddd', '53c9b9b1bbf53ef6d56685801a943b7646d61f3a', '06e3ce23b277a257715d05e317d02390dd39b86d', 'e510a72e78c1087f20a70f5441b4ab2debf828ba', '208e2289b175b7b37667ab1fc2b15bed6e2ad876', 'c805f03184aebe76b755eef81cb39a6e4c4a0a4e', '8169a9f1bb3402da9eda313dc8f66498930f04d8', 'd44d4625540d374f48a558ba7590cbe85de7c628', 'd2b301ba5160a72bb3a2e2ce39f6b7dc5676f313', '98064b15aeb75ab0d5b714597736eab79c09869e', '59fe962e0e6cadf7a95d3978d7a8a575454dbcea', '0bc364067d9e017f02c6efc7796f026df51e8b3d', 'f49d85513af8b2b7bcc31c8c02a3855e5c3226ac', '6794c0792dc46fe96374135ecbaa4eaa3fd909bc', 'c1df77058da74fda89c8e171e0eebd17aadcde4b', '478fa9ee80b3c23a0946ec445aab9d2316662b7c', 'ed432e024dd96c618ef6154b92b71f446b1fbd4a', 'c1910dbdec121d9dd5a9e3fed39a2179adc0991d', '100cdbab4919490de322d39e75e3a676eed321a3', '76c24adce61776a89a043e3fdbd4aef6cab8e268', 'c00ef06ad74594d3e154286af5e0dfa4ecd336cb', '5049cf84cc412f3ce80e6aebf226460c92f86dfb', 'd569a6bb5ff8c7399f3be27635c7cb636545466c', '1eb0537bce55508f346c337a510216105acaaee1', '0605d5e2e36a1d6b55c87217419549da9d86d5a6', '591b0b8770972b230c1d817edc29b9e5a4bd78fa', '0539ed0bdb676eea35766be82e3f96d6f862db2a', 'f05d22fd92f5b6a182760521b3295f3cd4753912', '4b64d802e04bd5bbf08def2e390234acf675f87d', 'db81ee533d910a67df94f8e2adaf1fd9ca1f1376', '1fa2c193e1d937b2af0d3d2a9ce025d9ad0231a6', '2d3042703abc0d625d2154f38f9f65b620a10df3', 'c8043d1514c70a9cf2f6fe6e34b8ca540c09f186', '766a824a2f749416aa69a5e0133023bbb618377b', '63c85d344a0284bc3bd15db78ddeeec64a004c45', '383afd64b8d399ea6033414b10ddbc35520a5466', '2888fb4eff5411f4c43ea43d3f1a91f98a55c26d', '0549e732ecfd8e6036a4109bf370d70e55cd4663', 'bef791568558763aeeb9195d1fdd8d5b70b7d830', 'b75fff056b6a86fe727d51da7587c856d5f4d3fe', 'b33e23b97393d73f8620c1ef28fb273abe5b8ce4', '40222b846f3cef9a645dfb34fc15f7c1c244e393', 'a9d6e1d48fccb5917d73d03ad409d584efb1fbf2', 'e0e45cdd25397be802333100d836df52f4b65840', 'cfd40cc6ca3129aa80d2073af584001e5a50c404', '75352cb1065e8eb8c78a67d2881a0369e46b5ae9', '93495d6f705b022b839b612b7d96861012ab4e42', 'e8567d03dfff34b0075091577a45d0913755bc88', 'e45ad1c372847e7ab5b846a9b300a3224af6c0b1', '39ca51639c7ed357bf45bbfdd975527314abe0a0', 'dff7e762d78681c8dca89b61e2d5db21690d9e6b', 'cee21fea1a20792abf54d6fd99e77e7368d47134', 'a51a87ab6e95018d177e650452bc07d9db805f7e', '94c29669adebbde1802c519b7148602beac72dd2', '84e9d7907d74d31dce840170dd01ce442e4ef332', '79d540312d3a5c5ccb1c7fa326c48e53c7e579bf', 'd60093055028e672d97941011fcc7c92a0ace99c', 'e553e5b1c7d59ebb1583a795df4b6c58586cc373', 'b4c06fc7fd1779d87a1cfb5d687b02add4abc4c3', 'a43740865bc117e5794051e1765c5fb9d9b3f09c', 'b9aca64bbee8ebdc59fb8578d5548e41e800e37c', 'd4979e7c1fb8cf603821e861b6269a248d41f00d', 'c0249e8b2aaee6e461065d9a226c38eebb2c887d', '2ffa5e3cba4763fb3f5ced2f03cc5408ed6042dc', '5fa87ad3a210da8231e6c81226675419a18fc1ff', '73c359de5e48233413841c622c6798b9a1f52022', 'a54f6abc05e1246bb26a8dca7678f42b9d730f6f', 'e8fa543e5482d3769cf41b1987b3789099c7a160', 'aa5b878a4cbf2763adfc793f356f012b7aa92c23', 'a1e4b2e83b08c3275f45f86c92590d76df733ee1', 'e7e6c8866c72af9c22b667362dff35b46d6f9efa', '1d61ca633a41fe454e72147d49637241c993dbf1', '8a7a746bcf55b3d5417d1648af325f1d13e9465a', '717632846362b9596aa95f8e9958fa8b42820880', '1bb3370415255299853d2e3e12b3ee66e17935d0', 'f42aafb01f2f52f9c5e6e3dbefbccaff3b7190c3', '67b0d63f29e54e162168ff02bc123d1dec487c5f', 'cb0174fc4fcf2c23f17695e07a1d889bab71cad7', '63853508623c62b63ef5bade25b94308d3b4cbf4', '4bcc6ad8f16966b2eaad0889c317f18e018415fe', '9a171b84ba91b9e0f30b3a5b2c6d56bb98c3f20b', '0b7141dae03005704ffa09f00c3eeb0b5d7176f5', 'b4cb4bd35ecceb04d0fd36dfc89affa5058d9026', '401f987fa7838b5bdb8ea69323092d92c2567f06', '9dac562d510104d2fccfa7f5f299eaa7e41f53e0', '979889431821b3681b21041789a74d52423e2e72', '12feb71c79cfbb77b7558de12e4c7ce093ab5972', '4f2a32ec6e6ba368d612dd4294b0919186d9cd41', 'b666b57d7659dac6261f9df4eeed310eaa2b82f7', '8def69bacef841b1850b9e7fd13706d6cf9261c3', '9ffa0306b74ef5e440385df79c08a7b4af95f2d0', '74e94992bfab99706f3fed85948617737e75fb18', '0eed87435481993bb6143bfd6566cd423888df60', 'd298bc3954e9ea473646f043a4a335068977fc73', '29a6c914202304c9d2460d67403d67933ba00c4c', '730dc51cf6f15e5bad076e533e090b4b26e8870a', 'fe5480ff15f0ac51eeb2314a192351f168d7aad7', 'a49e451dbe2497667edf617d9af9ded2696f6a18', '8a83f8edafe5a368d608bdc57c46f7f77e25f994', '54805c7629ae8c5399a97252c6436afd18892a3e', '55e9eca71a7d5acb0862240a96bc06baddbbb75f', '00f946b14100f0605fa25089437ee9486378872c', '8b0c6ee5882c49c3e16e76df4d66a8df50c1a03d', '3793d369c4e18dbefd46408db32ffe7e18f45bbd', '571c9f8f57e469aea0ea70f2ff0b80ed75ebd3fa', '24b9e884d9d4d2c6d649c91d6c61c80eba3079e1', '61115a58a3556efac600e1976a87fe1899ee3592', 'b2a74876c62c40f78ce6e74331a88ffdf53f7b15', 'd0b109af6230fd4e4f5d22dfa63e1ea552d5f3d6', 'd4a2fcfa3d69ddb157fa3c7816cb444cdcedd913', '2fb586e461c8a7167fd0a7d8443ed4cf5b7ca591', '3063e72e3f6a48a3941b2e544e98a5ea3bf8d907', 'bb5461d2b4437145e08d88e7571926e6306204c3', 'a2d13ba2b8be885b85d82e12170bca08f8edc47c', '9beb8742d40fb0619598cc3ae384165bca8d0794', '9b59a3e4a2f263f5eab778eb36284ac60778a298', '6007cfb54a8b7991be9a6acc6f97a5f864d69953', '93eec224de0df919857dd7145c164288e347b21e', 'b45c972fbe03a9bf933dc17b5623298834aa075c', 'abc9ed2d3c61f5f168ea873f0fe4933fbefcffa3', '30a3aba6499b20894945e79465fd0b962275ad1a', '4f0fe295ad3c1a9678ecc48d28d9d89be07bdacb', '7302a54b986f53de06a0698b992b41138273139f', 'dd5340c2253cedf3128e92ce581a387d10bc8b03', '50226a74d57016ee55549245bb67b340be827ae9', '5f86f7920b79253992f7a15f5040484f54677d0e', '843d5a5c9448826116dd2700891d0109e5340a93', '7e6a1e135da4bbadb3502ed5bce87e254cd1351d', 'd338d9863f0c72c9d7f9efe567e61be5fdab4ee7', '3ef6e854e09536ae2d4754fd0948e8c829e784ec', '43297e24c78cec19ba394fb0c57cd81729985d2c', '73ffa2276a83bd266b51c99e46f87a8a84f4cf04', '5057ccca5f32993629f899866116bd3f74ae5721', '7311c1b7b15185a64deb90e0c4ad88b3800ea228', '96654c6e066d002e5b44f6e9e38217c10c81f698', '30dfa36cf45e110cde4ea463f65b6e219b3cf018', '3d2863515515b16e487153854ed742d50f5629dd', '47414b7dd362d90dc428a139dd4c71e82f4fc6fd', '40e3f6c6576f1b2f6dfa51f34ebdb8d1d497dd68', '1ab7c183ceb155cab3b9dcc92f36039b025cd86e', 'f388c24c91a72bb4d947421e34117bf13898b71e', '7f4463caba0b16edd58692dfa0158c7b31743861', '8f0cc2756f6e32914ee348ee84df159787d1bc30', '06a3102025ea7a5fb0b25dcf57167a9a52b9b0a6', 'e710033d03391ba64dc753abec4a681c1f1c6661', '121a6c21c31c71c3b8d03a64e7844b4dc2525004', '65c5df931d29b37416884db136757155e309ff11', '3c8b992355408aaf5083d7f597bff728691f498c', '30fe21fadca43967e1f3fcf26a292ba08dab2259', '470b66c3ed62193eaaa6e13fa299dee4fffbb5f2', '47116bc66512101a1abcb623a9cd9a7dc756ec8a', '5a9b7c879d3f0ea58d31b84d90d617853aed903f', 'f5088f798ae3329ccf10d6d352deb4c54d7cda17', 'e52b21faddb7f4127311852a9f9aedcfbdf830b1', '5a3b7bbae84b01a7f1f5f5a9c6ccaa49c2578d5e', 'fd9e910ac0e115c03d08c774edddbc3998c6c1f4', '25a666d36a905cd6948aea55e88a75160c9c54e1', '217d35811d3aba1523f613c993db32d4821dd99a', '0e5842c98b98c7a694d3c918578b9b69256e3788', '2584d4ea07299232f370f7db943cf444bf01ca7e', '92adf9976b703afbc723028ce2339bf2f15a8794', '251fe247dcc01c3ace03f72774c84927af4eac0b', 'd1e731e23fe50554260f814fd8dbd08424f4a626', 'b5bef733610ec39658b8fa277b232131334ad21d', 'f141969005b617739d6ace9328ab164039143079', 'c7f17ebd417d568999892321de3b0430fd0e1f3f', 'b45bc33a9410ffb2a21350c279d3710a8e05a0f1', 'e3f7e004cffa368bd9849714a7cc5bf0adeb033d', '0af6a92c0c1514b6ea2eddb683d4c5ec474e2293', '4f25af9ed71425339e44e185eff0ea897de6877f', '53227a8f714c352844a7eeafea93b9232969fbbe', '21761c936034f380bdb018dfd2d22fab9b8ceab6', '9a0b23f121be87d9ed66bb9ef66cd5ab46b23265', '1e5c9dcacd2446555e37f9a804e1995747994bc0', '450a63e963c59316d1f96e63b5d00f9698fa8064', '8b9cad4ed909e04fa34f315825db0ec29c65f829', '241baf9cbf3b7a39c8813d13243611b2f783c095', '06eaeb09243c102c99feb234e682ef54e1746fed', 'a679f4a20a5d65ad260fe73facd173c5a320d7a5', 'd324e7dba116a9af476490a9360dd77f1e613afb', '4e44a62e5e79c86e85b8bfb71a081332ff1ca603', '99d2edd2389854e0634b81f9efb77947b610efc5', '17e3850226b72fc60d35370a22d540b1cd81e0e5', '2b312040de3b0d401bfcf221dc2f59748ad26f0d', 'a91c4aa27f6fa8ceb79a1b8e752f4ed2fc2be29c', 'd71fc1d6c38ef98b36e7e61f44c5b476c110385a', '5a2912a9d52f3b8855f81639c1421caaf7b45f44', '43bb68f8b009596e3206262f54e9b8f8eb5115fb', '6ff62b72ec653e7411fa0673c6e5aae01fd3c505', 'bb16932013b36d19e0a624cc13f9894eff860b86', '5d8004f4aadf888c0e3ee6bf314070b8da3b6e97', 'defa42ca0d38c19b40ff3fe3e7a23fbc247b49e3', 'eb0a4b65f43e57e9117a20ba18c046e2a99cbaaa', '9c9471adec0135814f73b7730dcd1d659861cac3', '178896fd8640a893a5097d6e81a8d13031d65121', '14f8c6db3769093ebcab6aabdd9dcdf9ec272104', 'c8831a8e2175db7e2fb5ec0b7a8fbc6596aa2d13', '26c1d10a705b50042debf36d9d202bfc9abf04f0', 'cb85b0f4e2f473dc84c5014d6ec2a239dd46bda7', '1c62c348172c702714650b004904a9896f51e4f2', '58fe957644a71a9f8f69924d27a90d08618bbe46', '5776a65394fbe320f70383cd57114a2c6e273912', '04b5ee08699e4eaeaab2a41937bee2de6785f941', '31f2fe32b40d931fd96024a235f5aa8dd748fa3f', '81d9c87304f92ff1aa787c31e306d423570484f0', 'c41516546b063ce289d6f77d320137a1c7c34ac6', 'b4b77300f5744abe772d8348bcf39afb70f460fe', '91f0825a295c1a12e0c714152e3d25333e87b217', '499123b2b211b8bfd87b970c5fbebe8816776473', 'eb632176f61a06661546ae9b487d5fde696990b5', '91c3037858511eb0fe797342e27f6b26650d248d', 'af2d247d8e8cbd865154664548d7c873acfe88bd', '1e54c53611eaa77b2a1f0488a10d1a97506af0af', '2791d731667ad5c652790aff95c024aecd2c570f', '417928396e0c06c9b09a03826f641825da552449', '7d87b9ab86f899815500e408b42c45a8c19ca2e1', '0650b2163d271eb12e61e7d9988f0cf53c64e262', 'd4d40890ef72bc7d75e690ff98e6703422377668', '81c61c50fcb9e5684cdf4515dbe05b79e811875b', 'cafc552ab365ba84be7a749eda060885f3a35d04', '0ac70d51d60cc0c5f3cee062f644ee27e650c31c', 'b0bd7845cd639968140b9c8c64fe2ea08a5309e6', '56a4d4add013045d80965c25efd8427ea3f32230', 'fdefed2040eb53f4ecfa05c434a7168954bcf903', 'b47ed0f2417d9934855b99553b073773076936db', '1b5ecd1af23d3ea1d7dfbfd870730d9a65d9862e', '4b442e139d4271f3faae39d12af80e9d6bf6c2a8', '7930979607801ad254d807874d9f95837021b94d', '4425265f89ad6518b54e3d098474aadebc720e0d', 'a49a7768a349a42e5b316d81300eeb1fbf8494c9', '16596b9cfcd90669af91389c78bcacace121b7f9', 'c96c1ffd68f9f57d6905ac8e99af3302152532c7', 'fef28e45f7217026b2684d1783a2e18b061bdffb', '7c11895250596f876395aa272b68c79911e7b312', '44ff46c669159f0f779c9e7cbd5558756d73d52b', '5a6ca359ca44a2c24a4c6c52ff140986d5fddedf', 'b53d23fd37c37ee8e7a051262a684d494eb5bc45', '3e90084d117f40f912b445698cf51dbe426fcae2', 'a55cd5a7068ac45af6f3d73e022660bfafe6e620', '74fb7d1eef3673bd8e1a711186b2dc348315d424', 'd5b0ac6fdf213402339c29cebdd7e48706f03300', '15ee8cc99a01db69cb2b8e4ebe75e020c3f6772b', '25cd420c2cc0a4fe46deb6d3abc4cb4f24680ed1', '88e69ecdb01350113f5cd0d164ded33e73df2225', '88ad95c59f5b3bcc9bc7dc4affe67e31007dd389', 'e950ed875730a8f38ba897020f85a455bb2ed47d', '607c6e518764b58a058421b13d45a513d06b14c2', 'abde52d098901b1f2a1abfe83509ac82b5d2d41c', '95dc83fd57a1a2a71978a320ba9a24cb80d2aad4', '32c4a653f0d36a3c6eb684bca4cba7341bd6f76b', 'f8e565d474e3087bb4cbfa86eaf531bd69790542', 'e22b215eecf0195640fbf6218a1a0e20fe436838', '14834d2e0e6a4eddf57efcc9f8d5a0836d91a497', '7f7c64ed9dd0973fc1d6774fe94e4fbb3b568599', 'ab5bb0e3ab791a8840178148845ce1bfdbaca900', '5bd9633bb58d56deffabc15af3ab45d77bd02036', 'e1bdee96bc8f6e252c7c9d4bbef21beece892a37', '5dfdb86787b3b88867f8e9497795d45d6b92d996', '163ef7fab0c9d717f1503ace0a39e3858e87cee8', 'd39629b9b3ce8317750dbc954bb1a3a117aa8594', 'aead36b3cb3f494db506ca671b871e553b1c6e7a', 'cb0c0207c1a23a88dc834617ce4ec3c200962927', '9678e0a3f95203d23df78f8d733d22eae4a07b0c', 'a31f86d6f0e627c3d0072a21f4ef5eabf5c48b51', '2905757baf2f48942e47e46da6ef3d37b15f647d', '794307c28390983be0081d4f169ee4b918d4741d', '7f59bb8e6b30911cb06d24f630ddef695fcdd077', '960af54b801cd44fb3f451f0cae546761e657bff', '8cd13158de9beb5d6bf02f023515a1b8b0d5a5ae', '55cbb0fbfda22e04044c42eb856285ec3e0c7140', 'b4e4ab54723ab017c3dbdfba0e7ba0d90b481e13', '8a39f230f638a7aa6ec2a0a3d5bd4f60ce35c095', '7b6de2d45970684b22a23baa9510658a39c8fb84', 'efabdd17a9ad09b00c9697c944a48cd115ff9e37', '7310f5dc9c07ab17d7ab0863e3899f3dfa708ef3', '7683b39db2c8c8df50c4493930ab7564c52d3420', '6a856d1654c20b752c541dbfb1e717aa0c817337', '02e5f97710b02d58eabd921b060592af749902b6', 'a7cafd26db07944a83e237c440856af5361be4f5', '497cdcaec19c8fac3b136aeaf0060340aea102bf', '9ce4c16acef0418f3309dc5dc1ed3b4de998ad8a', '3dae1339dc6126a541df60a4c8550be8f58cc24b', '0e09a4e58cfbbdbb84836673946cd5dcc2d28d59', '3aded32ecf3a308d678bf4250568ef5b802661b6', 'd6c1bc000ad5612e97169248a9cb69073aa025f6', '90ad0c25c3ba70efb5c91cce53960aaab7a28f02', 'ebdef269998e61f42f6ee92fedca6133fbb58ebf', '29824d919c7e48c1ee885060e8fca5edf69de88b', '2bd0bb238576911c57c69038d226a8c40f5352dc', '9999a543a8c89dca840352159d6353dd83a4683f', '99e1a504ad22a07fc697390800150e03ca3b6c24', '65ef16c8f627bf6055d853de14a2a11d9c4d0cfb', '21271db01575cd920808f6eb26042d07dcd7eabd', 'af53781baf3afc349741a1c5d525f7adb31063c6', '6400be7c6153b6649137b18dd319246ecc9319bc', 'fdf391581e6d2eb7861c236adf8e234983cd94b9', '29ed37c50118042c37c0f19cacef5a80c780b5e0', '008ba1d5b4ebf54babf516a2d5aa43e184865da5', '5588842dcb8f823e61e502e616a36a3d6915b1bc', '27f53d7b532f4802d64916b8ebd5cf9140ac4770', '8a91753e9fa4b7b4df02178af96523dd9a680847', '9bbcd23976d1f9857fbb5e11291d37a2a2768341', 'b968e9b51453a6e53284f85236f5c2d260579967', '0eca569ba5c335409e5ff59f5095267dcd472d7b', 'a680f1aff296806161767d4a69c4525991fe439f', '83ce0d8e31448e9cbe32c934db725ba06c8931ea', 'dfed232d2caf6dfbd6582b9f41aa42691649416d', '00d9337ecd5f70fba1c4c7a78e21b3532e0112c4', 'ee66ff267f7c3533c1eb016b190634161656d162', '565ad1ebdf0cde987f83055f98b7597102bb968c', '86f52f24b7093f248d508303e2d7f24f90d235c2', '0638f1016820b84c1868d57ace1bdb00b23d2ade', '29001735675f8120c0269434e69704d4fd8d5ad4', '8a3983428f766ef0b20139ad8f1ed42a77b7def8', '14f2d2753444b364bef7a626388c56ceea94b496', '9c2394077e008013b92ec391eaf908d5ef3dd611', '82035301699ec0d390ce50849ac2b6d533c60f0a', 'bfd048c29f5f1ff6d809045739bc47b291daa751', 'a5c4c3308ff3d00ae06f1f766bfc7286fdcab656', '355cd467a8595d65565923eac796ff76bdfae745', '0d73f4f355f36722401141463f23a6b6696dbfc3', 'e06b65782746d09280ebf249b525407aa980ad6a', '5168558b72a77ab3dbd8581161ecc8d27d5d7d2c', '832b8ab166a7dad14b116642a5b1a07692fdd6bc', '5b138a8874c7cc514210acbd6e48f23e87da30ba', 'fc4435a78e1b6cfb25612f28643edcddc8572609', 'fb3514baf9695867f8a75abb7b9bfc0d74714701', '85ba38bfa472a398cce211ed96a4732467090ebd', 'e3fcbc3f6a06f1e0b4eb932819491b408866a31e', '63f3f57f588a96b73c0eff67763f1a12c8bac47c', '6f66c498d4713a6852fa90956568058e00637a18', 'c1c79b20c069f5c4ac38b9e30b0a7811540efe20', 'a01a568d797b737daf0a2834cde7c2f542c46cc2', '558dcd2752c82954ca13dfb6f6e893b94f8b7a83', '3c950b844f5abee0859a51bfcf9da1be3f36a820', '2da883b1598199efc941b7ae119233a5e7e26a4c', '4aab4ec31e9f27d7437e52f2f87e6b44c6058a0b', '8de494eb578e806a192401975b966b169efb18cd', '2b3e8932bea44b6da09729b863c0f6a46c50027a', 'cf6e833b09acd54779d71a390e90b6581e8a5c57', 'b23d79b5b0e77f540f3033d11440af7cc4299da9', '2a13adb29ea8ea26dbbdeaf401480b87b3589db0', 'd623c826b815da0a917c7f81ffc006c256f7e53f', 'bb97f042e6ac2e1518930030b0075fa11a50ef46', '1fab8363672ea7f97a3ebc837ae0b7ad4671095e', '5415a99319fb0141d9aca018b82807e6b660f5f5', '35cd116ff1329a6846ae1003cd5ba749d6fff91f', '036952075724d364eef59c6ae774d3155d86971e', '9d3363969ba2a7f1d012d5c55af76652fc6ddc36', 'bde69167e47b8633142d2326bc1c9c8a9297461c', 'cad66f430d9350cba16dd92e9c7a5e5b8346adc7', '1838d9edd0e632ef9592ea45f5eed7c45246d040', '0e08f989126cd01d759879456622c7838f3259ee', '3048c4f11cff6bd3c80902740459934e07bd1833', '99205cf81f1063dfedad56e72823fa5504fc3093', 'ce3e883ef2c725c74878c5f31d80c8755b3534e5', 'dab74fbb001fff862a9df1180bcd7b4ba0c8d26c', '7d493fb97125b62e899ac081940de8f723f8873b', '11b790a14d583b8fcea17af698c1e7c7382edec6', 'cabc6ed23115e655b2c149db1f7e855b5c859c56', 'a96833261986520c9f4b2a5f191bf13e9989b909', 'f8183d308e62fdef533901cdcd321f4f594163c6', '2fd357f57663747262bc411eb0b21fa8b26332a3', '634dac71f92548173a7205e8a30e5f90b65dde98', '8f1ce525b82ec067f00b2bda0f51bd5eb6093362', '1ee73a890bd4b42350414caa8e6ea8cc17a7bfe7', '885166c25e0cee9518c21bcf1578d79ccbbbc42c', '04974591a4cdcfba6a6988b0e87bfc1c7810589c', 'bf9f93de2b231f3c8b43543312a2a34a9e4ae5b4', '8689d48d7b87888e41e34bdba8ad4b485da8f7a2', 'd8b30379edaac6e6e70778491bb5650144fa6d8a', '252d4534001d85782ea5692bac95796e85484554', '2d34268af2dcdf4b9463af6d08f7e400be04c67f', '47661de8ae1132079870cb00e1119afae8faac3d', '49ab6f7c19134b4ff37b01a7993f8e64d9fdf381', '10b973da86ff32d48751b4d4399763fe9907b6c8', 'f73c75ba76e010d2de3adcae208db77b1566641c', 'b0149dbcf8073241dd1781a6945d4e6674c53289', 'fd35c4e709739fe3cdd8d7c05bbd6c8cc7e20411', '7f84b12678339d71f22e0d9840580ae21c367c09', '6eea69c640c92e8cfa22e21e3cabf31fad0fe6f0', 'aa545c62cf537fea3002a104b1f5d295f6a26311', '953020228c3a311713f1f7002b99b3cc12701b3c', '07b72f8acbd79bcb2088efc0cce2b540138c278e', '06fdc976554f6ec6bfe465d34ab7c42f8b0a8752', '88b76e4010357d22a174e3909b5bbe84106a2ea7', '9c4b5dda1282c94128a7dc778951a313cce8055b', '89fb7f6a0174f5db38b2d0985b20620d2f510307', '0e8d12783748f91d588f902f889dacdde6069c13', '1d3057d54b5a50134e2e1deafc7dc798e638e9a7', '001055fc0bb67f71e8fa17002342b256a30254cd', '89b0028feefcd313557efdee560fdda5a4c0a477', '6002dc4d5e8d73558d085868787223a4f9252c44', 'ba121aec230b77df7be534dba4f79296fe941c9e', '36c0bcf31a5113c4038a23f5041274bad9668ee1', '122cee17914400498a8c841c7ca8981d89a64054', 'a87e7a005b701620c4b5c12ba3fd458675cda085', 'f5c135ce7eadded02c7b7cd1e0f61b17bb14ab24', '5a761e168ef8d8706104f8b018ef44c5d5181f88', 'cb276b9918b5d17d79e574f1945609eab81b3304', '90417d23f4ce6c761313d33bd53d21931fc728a5', '4301208612a8f15958623d2e09833cb37c046753', 'c117aef99de7d9fca6b85447518c4f480f335c30', '51d6b4fb1b4c2d041123a31c9a59f80972416791', '0463e1e0d7b4cabfce2326155cdd63e52b02334a', '2a37ca58624d6bb1c1daa46f1f9177e0ca168aaf', 'fc978106b7c44953381119f6b903efdecf58a644', '8fb2728703740e2435116ab1f74938611694b740', 'a68d0f4aeb8b7bb9caf56e2686c2eb2750eb3a45', '831e7d2b639d0f97d9aad896b19d113112f248de', '15384c2784679127994dbe4f538ae797bc999a83', '7537bfe3b173e91e88838eb70a660a833cc588cd', '7062d798adff2ea4b3cb65df8faca32a0776cc8b', 'cdcd47ccabe80a81e9a08d8c14af537c535cbc1e', '6a4ca526ab64acba3e10cdf3adf1c096c030a7e6', '475832cbd23abb329dff9b302d0d395ed27259e4', '4b53cb143e9d5ff31d2d07197ee77352d9158db8', 'a205a556502350dfd0c294fc4346b12140f2a5ac', 'b6389c37ed4b11ca66108c2bd912ff1a0855b96f', 'd2ff168e7c893a67239310ab5b15b81ac07b5a81', '9daad269c75e70403de93b0163b070ba0045cec0', '09ec44cc4fed8ac603bb013defd559ddb1a8bc10', 'c4730fb6969f1bfb8bcebacb6eaf00070e915759', 'd5a9e318629bd85f87c301b68af7ba8b1f2c57e1', 'a2beeafa8c0d12438313e6896386a5161708415b', 'be15ee89d0923ca3eefc28119ca9945bb1976458', 'df98bcdf57ef664b7b42eb694208217670a93492', 'eff21ce9a7d5e775b0d55709ea4d8eee640057b9', '50ac24efae85f71d3f94f42be46f6b0bd6762d23', '8f540288e09c450277f1971d5f62b2b94b84e020', 'ce2a1805542ca3d7b0da1a61003c9e566dd7dd54', '0f8e63206118754bffba242c74630552642b9f2c', 'ffc6cfa435937ca0df967b44e9178439d04e3537', 'a67ba7bd84415d071b22efcad4b72cf9f7307ef0', '79323f46ea84f1ec04978967798f55b352f0bbb1', 'f164878da9f857780dde9e4dcdfacb514d9c4e9b', '081adbb994327ec5150e132e0f252bb6414158d6', '32e8526ed4d652088e78819fb07e3aab0db912f5', 'b2cad5c47e1e73e1c1bdfb959702fda9b4c23f31', 'cb75af446cfc601108bfa97fe14708d67f7ae434', 'c969b4e8ab6c3bbe60b83ab4cdceb9b7b28c9610', '05957a677ce726f30e10b7f9c7395ff44e1af99e', '8f09a49eeaba48f645297ed94f59774123222902', 'baa3e016ed6b6f0222fe91a5bf49634e27ecbfae', '29116545cfae4a6a84ad43e98c468c97f10dbbb2', 'c790957261dca7f02f1274b96a62904b62683680', '1c011fcfa7f38af7d4ea3a9e7306aeaa5a6c209c', '444e198eb25cad741794eaa4b8b11c8363d78b10', 'c6060bf3c54f44b54206d60d51f4744abfb133db', '0b4ee221d52b9eaa54d7e26b9c8df827d5bb97e1', '9ce1e204a22ba4cd4a0a53da42238ae830b5879d', 'e7a01b180114d40940d03d7342c35f8528f5c4b1', 'f4e30b681105b69e0ad524b67add90f74bc9083a', '87eb2e0daf064610e4a47e5d4d04d55bd241ffc2', '94c3d40f8cc98ca659b015106ae85cb70ab2ba8a', 'd37dc9b175abe8213a53770873c62e23cdd5ce0c', '1b573a770514037204b5acca87e9bbf5cddfca1e', '6054518b718817b593a58f439902587eaaffbd28', '2f21da86ddd35f80e919e402df849e024fa31d5a', 'ec2addb2a44c862f1e3eb2f388b27c5aa18bf850', '522fe132d985f0df0e2101cd67624406f4aba884', 'f00e89bb3a52299b17b4236b6ae4985646cb38c4', 'b1c5c94773602d7accf8fbaf8484887bc81737c2', 'dd5fc9ab726c16acbc600f5acdb92e81b0c124bc', 'b61e39893b5996313c0f65bae9d62841e4e7ac59', 'c09552a9ca740feb1a607a70955744bf980586e0', 'aa58ecc35806cc416200320fe5e9c3e0eccca7aa', '8e16d8b0a38ee34943c39004e7e49b37738e0b3c', '28d7e58970cb48375afe2098f03efbfee0c49f82', '46f6e987adb3abc0efcaf5cd1150d8df1c91cc3d', '3e65805548584b53d5f77a4c107290790e836f5b', '5c2216a132c98ccd9b52233fe31d108d71a7a2d5', 'e18612b84de530a90a3d2d933c141ecdccbaa40d', '9656a8f1059d7af6be6ddaec889c66bc9d402b77', '8ecc47325ec88c3ba04d5a1cf1b301160c24c14c', '9319d13d4886df285b71b8ac12e3bc935ab0fec2', '273595352a96cf01151a6c9eee1e25d0162fcf4a', 'fe90d98b0287090fe8e653bafba6ed3eff19331e', 'c5930efce53d8c865ca42188533e5d8ee890a763', 'c346188538dabc0276a8a6fd66c0ed53fdd6ba7e', '95f5914a38fbe83742acb2f7c0136d3d8a4c7f0b', 'f4813bed9881233d2cc3b0b9b4e1aed9a8daefe3', 'a2212a91b35d2d571f5d618d99a2de647b924c68', '1c22d1a06238c102531e7697b10d7377c41c3707', 'ff27ffd93e21154b8a9cf2722f2cc0f75dc39eff', '6755c5d49a97e785583f65a92f72bc09459905a9', '44d387c543445d26ce7efe76723e3d2b22cc3ef5', 'bc610cfec526f50de665901a77dc333699265027', '17f9fc34d0ec027d06adce818ea27ef281ca50a6', '6ffff9945e17a224a1a4c6be31cff14c8d949f27', '5621d5c2a3c31d385aadf039f595981be2ffbdc3', '36bf80e8039e43dfb10ef1cb4ef37d2a0b9b312e', '9a015252467db1f07c1338abb1ce2fbea37b4f0d', 'ba1b6fe0026ef03511257c363878acd98e3a8eba', '77b28da4d004ccf5cff38c9e136fae281e5b1ef9', 'aa32582837a60af8cb39de6587b857b369b8745d', '63b88269f85d6a279f17a8f03acbb6e577f914c4', '858a5bbb7d731b3db0d16702f4338b4344fe9943', '7ab3393396c47237694ce43a87c690c9971ad35f', '67b138a4f5bd9d4611cf99beb854a3e9954be332', '2f4cd348ef7df9398da82d77e4f6d59700bba074', '8cb1ac5e3b0ad5d7d688a5d58767ec0f1a94b786', '9215b18576c92265e1231f54640664af3a2549d5', '1e186d35ae8fac113a368931c0ad1cc7afe3066a', 'bfdb0ec7ca56016e1523d6cc734bbf39470a76a9', '65ed815e23d2e34a81a0287895880863ab6daf34', 'd5c571199c9bff3ea9bd686593625dfdf30ebeba', 'cf1c0c27616bb0d0328c2b8abf3f8e381f374dd1', '6ddb4ba5720fc7542f77b74571622535f42caaf4', '93f18398d2c9a2f84cf3a6368c392e96bd341722', '87a8e4b2cf2f3a30f58699cfbbdea089ddb0b552', '1add62c8175f785349f8b51804625b717e098d33', '7630f341f05e654566226be3c185c3345aa05f41', '08c934260a6e6825e26348f05c2505818dde66c3', '58533f2f526885e6a526049add77d1c33887ae0c', '2096ed4151954d47141ad5f4bf03bfddb3f422c3', '69a78b8903f77b57ef8de7f8f230ac1be26e949b', 'e871a44dc9e9d09296237ce29218322370fd08ce', 'd8cdb3f044f2b02ce1f0b9c66b26e6596a6464a5', '5a791456f0b1f27a7ddeaeab34515d12146bd92f', '9031ded382846ff3091af361ecc22fad0c8e8b7a', '4210624fd29a9acd855323f7cf6a769f33f3541c', '941460c68e84abab3f5912e54c0ee4e2669fa42c', 'f27a27cda85477f5c690bd7aaac842985015a5e6', '06a20c77ef7a44536b153af7d5d7c633ee9c0e88', 'ed6db0626bf63336dcb1539602c6514cb7709592', 'fc03d8e4b469f6d900f0bf4b0a40ee505a9cf613', 'fe5f9d7528518e00b0a73c7a3994afc335496961', '48abd98c050a25c2d0a596aa2d9fe71abdd2c6e4', '72777aa6c5ae685a2f60256507cc0b28537d8b18', '95dcff2c4812002932c9fb9b03545eeadf6f1226', 'ac1ab6db2b717dffea672b293d364e55b9f3187d', '423279bfab626919420a6b90ab0f7a97f885b167', '8b0ed9471c7ad2d40b9044a1b419fe510f3e8360', 'c45e6a4e35d835bb6117663b4bbcaa1dbb11290e', 'efbb20e42659c7540313481ba677cbe5856f6a14', '8750d51e05cebb20587d7ddae9627ef5ab29d3fb', '50361db948d63a32f4628d6baa98e1aec7aafa1b', 'f0ae7a2a57c5dcf09b428583bc9596d8794eeab9', '9655144418d25a0e074616840447e6e5dbef0069', '9ae895771bf72df56f6b2dba9a9915642386772a', '505e8176c3d257ec5c64643bc87832f96aead7ca', '4d84367df0e15ec48dee8e224c892172f090c49d', 'd48906d5eb86921deb4bd075a68dbb32690b1fa6', 'e2fb29bd4557440c8dbdca05c94705d380e4a27a', 'd8966696ee07a920fc351b79159e590efe5ea393', '7ef83c46de263e68935dbbc3c3469f96274461f9', '281239d79b3a73f5bb07f1d5b54453de154590e1', '12d9416039de9bf0513550b3fd9e35a194b81134', '0cd34dc23ca36fb0b4e939ccdc5be715133877d0', '7b5616fc3fa4b55ad682f002ad3538fa699efd87', '730f3061671735143d979386c08aa7de8c831b17', 'fae48adf440f07b40b703dc9aef05201da76fad2', '7d940da20432c19852773195698a4301ae1c8da7', '8a717a8fcbcd242f480ad6291d63c38e9eebbb12', '1b3235e4446c66b77e4b3b9c0402c9cb2408a124', '344e8e7c5798d7671c6a972a2fe9be76c2834cb1', 'fcc2f8d93e4cc4053c02361287554f966674f1b1', '6e0eb44dde2185c655f61499ab13bc9c96cb79c5', '6d379ffa4b5c9dd011b197d9973fcf89ab8e8719', 'bb2f189c102a9eab17d95a53f5e20006fa18cefb', '3c8c8f541f01fbb5dc4ca36772fddf45817c8e81', '1a1b7d2d30cccaa694bf8f940103cce703ad3c05', '23250cb518660f55a9532f37535d460db843156c', '02b0f39d3cf244a18730f61c962657194b5e3363', 'a6a827829136342df010f35500bfb6a288080944', '0246d11c827f90850ce7062e9554c9d5eeb30027', 'bc36add39d2161279d219d4d1285efc5ba60f58f', 'dea76a127e043c25bc2c272f81c72c1b2509d165', '52c4b1d346b6c94f09a346806595fe3e8b147dfe', 'e50de12ec6a01190fdd61ae4d41dd38cc3c9258a', '26237ddae2ea6cc0f558f6161f7d4bfade8f7d3e', 'd4e7b9ef23aa46332c0f45a1c0bfa5bbcb61611a', 'a9afb91a61932b81a4e4ac42d6b7faa1f19d3a7d', '524a02d0a6f90598e2e6b84132f98a1a676784e9', '2ddacc2d0123e95d1471bca71dce3e11aaf6ea56', '392e1d0c35e204abe9d41a6f37c54bc27e1bb05f', 'b476b427ef12be6dc3882fe6b49702b225ed3673', 'b065abf79cdbc52c873b3f5082cc7f4874831416', '0fe11e5234047ec9428d01f48c22312989b0eee9', '5ec5ab4f53e6a343ca9c3198d362c82265cb300e', 'ead41ee324b40c92c4fd652f4a0c3bd9576deb30', '4a1a49757cca98b883816ef92dfc438448521ad9', 'b1e9fdf7e75c359dff7c383dd06073c5990c2b24', '704bcbe4aa0d6672313f67d0d6b22c5291fdb2e3', 'b128d76c939741ff79096711f0b9cefa79986417', '29daf85859f4041f64d3a7132e572504ca671931', 'aba981497061d4dbb959e1e02281c89dcd906867', '08505cb536573d9b165ad59c04e2242376825b7e', 'da9bab726ab1815419a7ac59a1006e8fd1115476', '3b1febab3142a12be9120cdd8a0afd97150c4f0d', '87157c4b8ce5b55685c610b0452e47c7761ac2e3', '8ae155cb65afa2f821c65f13626bda3a43184c7a', 'a1e17100013df314faa4f4dfeec8a8942ac59b82', '2670b65a2f11bf437f32d3f1dad270dfcb4ce2f5', '49e4c1b3d1928c95ed96e03d702fa2014a801ae5', '8d00c14fd5464679eb13d5eb711722e77a712f78', '1b520f0f65c0aee52d4235f92fb2de58fa966635', '130e988f6e1d07a9ffabdb641ee2d4e1bfb07ae4', 'c10f63c8e163cda1085e55f8353913ab1119a479', '6fcc6617bc61020c6b0067ab8a3aca3c36647afa', 'edbe5ecd37939bc40e5c23cf140d2893bc5eb545', 'd3a3762f64f486e4160e09601fb1f9cc6fe4f941', 'bf8a8fe59b0b2b8fadc6f5750375b530fe115ce2', '1f153b2530b368f5bc8e4b912b1c5f0b453312ca', 'd30ed83772c44788121a94d9a88c9180bc28a822', 'c188a445ec90d693cf7fb4fc8f580afae075d2be', '16076230a46339cb8f7497e5a56e24a73abf6d9c', 'fc3357eb3d30c18a43117ccccc7cae241b4cdba2', '8e8cbc53e587877b8cc8d328b91d752b1121f0f8', '756180fb13239b00ffe37590754deab739513abf', '1c1f05580d89246b9ed86e4f5731e13e832a84f3', '11b3626614120d99017750ba67edaf828bb157d4', '7499ff9af18716ab24399dd1f9c17c591d536fe9', '9091226da41f6eb49517982aecb6192828cd110a', '0919a2380e8e7b276f33868410549bea9f624752', 'fcd23789d05264c8c711810831a0a1a2d89cd5e3', '8af29102dd646e1f5d31830d94aba7ad556830b0', 'ea0fcd9da90743905cafe11c65f3034432284f09', '22e370b9790e191061709e8bfc909e05cb3865c5', 'b189cc1709060ca11200b3b5857f7674abb16e34', '08d5ce3ac2455cdf9dbed0f45dc7c43c4c16c117', '86bacfe058429f70e3aeaf57f33acc7f78056f5f', '7fc494e1d4a7c9d10740b23b86a663862c5ca97a', '6b78fc7cca714e3be0a6d7519e50b16e4e60b44f', '7fe8817b32203eb69f9825013ad67820097cb838', '728cab53d1d34ea13123a626f2b0671c409657ab', '414f33e0c839b086f8eeb0f9de110831b2e5071e', 'de3f32965353cd9ed0a26c538faaf4d5b83402cb', 'b8551f67ac9a2a880ff7dbc0c631d3e6ade2cd6d', '9e92c599d0d00ad60ec300947b5b545949b6cbbb', '0498f1014dd595483b63738e7f1071c0de4eb7cb', 'dd34f081ffb050124da6d689c5035879e81518a0', '1354f1188a64ac17945e42d4c3918370642e2610', 'afaa66de7ae2eb6347f6216a69c14364001edac9', '633e1ead2e73f521417aac3594a8cae25ff74491', '2dd31bc18d8cbe5eb075787e94ee4db9915ab2a9', '37ea9cd69f3a0bab63a88fc0ffc1969eebf8ad68', 'c8f272fcab1cc5b9f07021bacd49e72afcbc55be', '75e1c6670bf8e3ec765e5e2513e61c999061d7bc', '8273e8b3ca2bdd314997db3c3c28a0f85b682050', '5ac5f4f5477329afb54bbdaa27cb6ed96892e2af', 'c3a8f52dfb77d68c484c2469d0b92b4d5da5e583', 'f94e7aca0fbad582cfe9ea67574e9dbb5852d51e', '38bb8a439d69f8722de11cd6b8c3b941bf524ddf', '86478ec92c9fed06696d2a603c05c8870981561e', '40e210b633796aeb6fa8d67cce04ee469bd2e779', '98ffa34c874b2ac382e0235d0109f6bd17e8ee55', 'a692abfc46f34070e72911ea1d0bfcac8ba1e973', '3b4458fae1dd867ac9506f9e62b49e932984bfb6', 'e5dd10ea896761f9a8086f023ff32c2ccdb97a2b', '0942fd2cb937ce7f0f260c50e10e02dcb2d9d396', '69c15bdc4eb7088981621a04cc68631791c56610', 'f4e81da340e7d8b3231856ccf80cca21c2cae24b', '731dfdc882e246d08e5fdb4185ff1f11818612e3', 'b949a83051955eb067a42ef7688ce60c19648950', '8647da3b4d9302e1573dd05228b258826a6ba3f7', '1362cd8b2ecbea0c5c73218905a0df9ee46ef8f8', '55140a7e31504d55a8f51be721e5bc479c24fd19', '0e477c6b1ae9624c51d3279fdd2302bc9f732dd3', '89f68f87cdb14c516d599749592a83629547041d', '35df5754a1afa68a06735556da8dbf6e3b40b454', '573aa718d18f5f163cc31a418fa9aacfc0ffa496', '6b40e1939102f7af598397fe9add075de72b5138', '5f9d7a17ee99aa97a1533b69d0914a76f375b66a', 'c37259822ef12e256c9a08fb8353f96d45e634f7', 'eb9c6884d273bd8ccc6a545933d160d4f617b5b7', '2142f73133b9f92933be9ff7671d86a2a8bc2eb7', 'f2ba6309f0ac047e58e3e58fd27a5edab7c68594', '4accff186b3c4fb061b11ad6ae1920556bd68382', '83ffd644646b027e7ec02640dd4a7f335fc85b9c', 'dc70f23d8cbaf0c0a6f0f3106e3affb1b64d1534', 'e8c20e360b076af53bead51e2c4b26eb37442e81', 'b7dcfbbbfe312ea8d236b2371fde8214f1ade110', 'ca581a7617f03b39a52f73eb550dee7159023e05', 'be4b58c99038e4043d246a1f14be23429d8ee19f', '1097e93459562a12fe94b9c8f95f6742e8e58edd', '96c9214456b681f843171033844b4be60ff8f1dd', '5860da7a6f44c31d4be7bbb8eb9aba6430d93a20', 'a105ee1b0002a70d1786c33f9cd92a4e39e501a9', '9843980aeae27c3389e10a362ce307f9c1f8995a', '17d188292abfd69733423f94268b47ab971ac1ef', 'f20271910de882cb84f70d0f30b5bc40bc8b66b9', '3811638f3d0451ae08a9caa5ffcb77c9774f3cfd', '9d183dc9c509e025ec0778fd6034ff1ee088c783', 'e1bb39322e103b88afdff1710f4b057f9eaa039f', '283ca5a045bf6b6dd1d97b6c72073d6335afe5c5', 'b3f8566aafdd76e8d233cb5d17cc6b7ec3c641ce', 'a65995f577036bd50ca00f638028400e9671bdc2', '08170379a1f10a272608a8dbfa59716a9dacf5b2', '5f587b427b9091005c832aec0bd9b78d75451445', 'd75735f57a2b323e4436f549a3fcff0b87468810', 'f198e2be4653cbee37780181beb573f85ef3daac', '6fa0bacc1cd444fa98fd85a5ce62c602b6f00698', '65eee8e2a335e566fd3412205d6db65731d8edfb', '620d75f4dfb7ebbf424cab29521e50afba235fdc', '156029959b5db88e8119099a67d50a93115357bf', '88e0dc622c19dd984579ed9727a8bce59f1cb8cb', 'a15648638f39c853ff78255c3adead7c86638a92', '6255d6e64641af8a5c2ada8b7ee4ace8584b34b6', '132bec8dd704acfce28001ef7cf03d063e2f280d', 'd88cea2312fda9d6e7e0655457147dc45485364c', '018db41e131fc74cde60d7e984686e391e99d34f', '3d5dbd9314773f2d80f43edb831696114a962181', '99fc16628c0eea28cc94eafd43b42192918e7055', 'ea645b860e79221734c0637513cd2f0e64469331', 'd02a77d8f391d95541b23740bcf58519dc540cee', 'e6c8373b3df258d4d2abea0253b32f9f1c0aff82', '2821f92c42b40c80dda22a259368ef41760e9fef', '364ac87329537569efea479367e3e5e5a795d1ec', '356401850601ac7682f81754cefec84002da7a39', '6570c7acc1d5b7f9f24341e507e9bf6b2081ed33', '1926787d4a8447cfc2f24a8588d9527add92eeff', 'eefbaf70f16c2e554f0c144aed7b7b5b405e5173', '63b8f04d10cb1d650573e57edb0a7743b2f6a96e', 'a052ea2643fd5373567395b759e37b6099e4e1cd', '8238cd941226432a3848fc03eabea1e216381410', 'fa2ba2109a217fa2247af87c5f47c8688ed32583', '2776dd99f5f5fdaa3e0af12e7c3ad93f5be0dc13', '4eaa62b4f8edb6fd14895ba3b4a68cbc696867ff', '99aa1b4f8694a839a7f781357fa6531cb10d886a', '04f8cec9953e380038cfdeb5a510333640704ee7', 'a677df765e05ea66e66ac35f8956b70a6c35bbde', 'ef9716c8eb58601034bfbdd91951b392550f7dd9', '264e242bb18d35385236df5a6f5ec89dc6ad6f1d', '8b5ac811f514fb031c6ab2eb58d721dca8aa4d68', 'c8e742a096169ee7d89fd8428bd50e5b55e0fda2', 'a9a241ccc2e1ea675df16f2e3a18215f018b535d', '5a148d2281cd7c155f690090d4419f8c9637d585', '811149d1999f6a558216d3ec3093fd300d979703', '5e58c4ff030b7410554007f87f91afd8668245cd', 'd0c7a06ccce43625d2e7993d1d1de081845b5c2e', 'f6c22ad1658248ac8ebed3865c46f12511a222f1', '5c01476d5cf6867b54b83172412487a8fc8ae46f', '02085818da16db2475d4ffac51d76f3830914504', '0705e2bce41d8ac19909850517691dc69febb676', '759aae418cc56908aabb7e2c751ce505af5f81b2', 'c11fca4bb9723279f6a26d0b02bde513e054f817', '9d87bf51fe91ec51f08cdca6d1f4c9d9d9e5b451', '16ff166dbc00699f3cf114879f429b1d823820bb', 'bd66ef804dcb7763209fe08370e2317d677c4ed5', 'b316b3f85e8b1246d2750ad66d91044a1a1b743d', '349505259ca446dd2d3b6da68665daff9fc65dd8', 'd93d60523de6dd37438ef5cee3dc9ff521d04513', '8080f39381ad90b818a4219b67e2570afa9f4f93', 'f2016fcd9a25eda41f5215e1f50545338112c5bb', '6a77a0124473dffde53796dd6eb7c1b37dcdb54e', '177452a78ed2cf2cdd3ca068405c75cdc7e91567', '90057863612e7366b7364fb4ec0752e42a9be164', 'c9e7a884cdb33df689c142cfe9dd84db79163ab5', '68986f4192b6a13b63e07f5fedf628f659cefa82', '0ada69b0263035eed0af80b3cdfdd2114e6accf3', 'd01d6019e3d5dfcd1c49c2d773b68d4873bd8181', '32fe6f09a33bcffd01bccfa17ee1708b78060831', '3d4256d064eaf1f90c77923e8b0a893502121824', 'c354282f76c608cfc9013768c8fe15cc79bb7d5f', '79b6c6b0b435ac13d67594ef3a33e89a29ae7244', '16f85e0647947baa8f1b81f96615648a8c66993c', '4efdfd1d0cb9d11e5fe446017a9a5c58d573b5f6', 'f3dba1aa7aafc5ab9d99876c3037902c03e56792', '78726fa7fbe8da340e98e31336e9a91b2d3f86cb', 'e086f421fd8c64e2651b60909090aa77c65fd14f', '87825d4d640bbd26ed0f305df7ef477d7ee803a7', '92ebada5ea20447aad6796570b6c6eba6f516f11', 'e649a5ef31df4e881d929b042952f90edf1c01d1', '42e3b12c71c41d315c6893ea708c76830746e630', '500d0c59abe965d293f55e729e790b549617b71e', 'b3f3ac246da660604278c87d0e0fb4b9a2a9313d', 'd76544a67cfea20a3928a18b8e5e86b9e846cd24', '360d7b488937f708f4be3bd6ae419dd3def9dcd4', 'e0ed025660ae533369d2fd081e5b0096a04aa8a4', 'b4a5d1df18d2ef9fd0bd13b27357fc9404ab81df', '61afa5b8186106b258c4f82f2a5d0dff8cfc1865', '4bf3ae6884a0e143280fa79b7ea8ec7468fd27b7', '3cc69206625835a89c8325e870f00f6d640bec6d', 'daa8265dc5c3ef4a58fb85eb91ea8c46aed684f1', '435eaba124efc8e7e3408d288c6dda2c09ea3391', '65dd937a64d8a11d507d6627c557ff17be32e2f2', '68627980264b359b63be27dc813797d337fbd37d', '11e297f413a026a41016ec5cf2993f5fe9b5647f', '0a5b49f4d8731f93906b9121753c483897d4a2a4', '2712ecced3de1528befc89dcd2e99f2d3f6ef578', '8af717cf467f202b20836d4c1e44ef310a27fd70', '540628fc94bb16284de7b488ade62360812ef4b8', '01560f88312a91894d254e6406c25df19f0ad5e8', '00148e4911c7e04eeff8def7bbbdaf1c59c2c621', '4bcc6e2cfbc339a33099fe4426847823c6d4a01c', 'd1a42bfdddcc97b074284614242580edb96d3793', '6f597d0ea4790521471c18f08f105ab932580e05', '89268e147093ebf42915db7f9838c4762e89143c', '2624d6710af1a3e52c8c25e81bd040e363be70c2', 'fd2d1d1e93e0b1296a2f24d8707aa78999ee0925', '1e40e93c891e9ea567a82b3f046a1fd1ed2a7878', '291a4df1e7813810f7277e1ed3638d2e2ebe4d1f', '46760af3ceaff2cd840a79bd6238dd7982737a41', 'f207774153bb232c53f7b4891fe87cde8bcf3ee9', '8e177892ba2ec6ff989cada102961dbf20b70ce2', '8d9099927f73fc5e9aff129e30c7b2c77ff49d07', '865949b40a1d23aee351ed42a67fd86cd248c54e', '24b35981ffe27c77c60f6712c2fdad3f1ea37692', '2c48259fa2c96836ed256fd71d213718fa6799f1', 'f18f798f05178645ad7cb1f651a2a0c89197f237', 'a8349efa21e26a2abb794906d1094d438d45e8be', '8cdffdce746d28a6b735f2b4f6aaa1eca6b428c0', '1e39223a653dbe2e81bc2f843c4c6332c4b45e55', 'a2b0f973fe6e58f23a98b4e401843192b2c6062d', '85b136aff9e201e4f3678c5230cd0c6217df8375', '1f218ef558cacbfde97579de6a520eb57da9f040', '24dadd9377cd84236fd617888d839609b78d0164', '2c984b55fa072cac799ee61ad3d554fc4de4afbd', 'bb16c28a521931eb8eabfa0493834a46b6ecdaa0', '550a6212b0a901ff10e268c4bd85ed91a2af7d80', '7e612bebf8d9ec60eb852cf86210b60a59d3a5bb', '79f87ffe6e53a5115cb70f19a575b6ccae85c413', '471f1a8111795df7ea591d67340afa49cb3a6f25', 'fe5396e3762c36767c9c915f7ed1731691d7e4b4', 'adf8052c12138b499ba9d3e7314a6c9ce4d3c3ac', '2f79e2e173d912d151f2246362967d8a0fd41faa', '51324e0e0b89dcf77f02be4678f112620163e1eb', '301bf35680dd7af5d5e1f4b99f0bf818a8009e0f', '2dddffff450b8dcbf778de29d6403aa61d9609db', '09adb3e57fd1921f675e6cadb389b077206de441', 'abf49b61c486b67d6940cd1e778c12bd81cb2246', 'ce26ad0c9e566f7387ee1b2ec673c31fc0edc194', 'c127d4bd31cba8c217606bbaf5847158f6e86a43', '8126141fac9dcc89f656aae841cd13c05e8d8ffc', '1f4c750cd78810f8fb7096c948307de31463f661', '4d8fb52038376a021c86ae7f0198b0b7bc8b2b90', '7875622bd6a8b8e67d201c19f1b66b816dc8f6cb', 'cc95dc3778347c00b186e827f767a38a7760fec9', 'a70c75d8982a065dd3e85ee96ea5a9c1bdaaa772', '16bcdbce4ce4792797d522d152ddc6f2eed7f058', 'b3de855c86b76203af092f2ac00cb67651a43238', '523ed7543d0dd3f7047efbbd6b32eed2cef7f667', '664f9949b04747e70890dd2dd072952e106b2981', '3fce8d265689c691dbd7c0458e888d74b82f0d67', '542e76af692c1e3c81329043c574edad21469031', '2762607b5f326088187f8ff0f3e8f1f93e64b71c', 'd405ffa432caa65ffcefc3c6d83d51302022f8d6', '4c1fff1367c018fa53f36f632295053aae12cc31', 'e7c63244c30b148588e3770410497d597cdb5eec', '3f696f7935eb7df3f1923bf25b06236c6d7c06e4', '3f2951a31980217280091a64e21f68cffb90dee2', '2c574389c01962882fb7df86e691ae542d1877d1', '4ec9405f9ad64d5a3043b4e0b1c8bf2cb6a05089', '9fa0f937a19f0cd0e009a8cb17df1fd6ec3b256d', '5822a503770cff86183d193cd462e29d25aef2d1', '4a529013fa49011ff7ac615f743aede54a224369', '2bf32b2fd6a080232d13e5711b286a48100d5033', 'c0a10e45165cb68aa717770676b4ff620a90017d', '89f86ff08602e89e567bbbd4dddc21bb526fd603', 'e87ce0ec5fc90726746842b10a3fdf61f1d3f199', '34ad4d6149750c1c129cfb93d2724f5f990d7358', '270635fc98d730532468bccd475f73e8f45cc23b', 'dee269859f8bbd26d3ba318494db96c62e39ee3b', '050479362717d0002450323d4e3be8afb686dd02', '7982f3e23220fe0cdad67f35d93f2bd3af80813a', 'f9440939aac6dc0da1a227274e4ef5d8e3b040c6', 'fb3ee06c168690746bfa6739c39bff0215119a1e', '824e024e1a7ec5ca1c2b4b2ad63fa3c786eda363', 'ac3c10b8ba1763016a5792cb70abfbb1d4c575b3', '0ad14b2e34de6255913d17996f7f93f643afc240', 'e86406eba3d498a2d6b5769675555bfd89f01ead', '3a9d974082a8950caa84bca8aa24231744f79918', '24210b690fca63e412dfd21763e6b36fb47c13bd', '1400b9f172238db4d1837ab2cefa300ab2425d5d', 'f1131ef1ae57f6c6bcb8c41617c0db47b92a6a20', '653bc8720a2d5e30a6619cdca9a0337415abdddf', '01a098f56e3b7728aa087ea8a2f6dfe17e5dc153', 'efdab7f0d9819a1dde027215148c31565e76e571', '720f1fbcf3ea0fb8b834a5e38875d1d264cab32e', '76e357b6d71867805f9422f5363e02025a774337', '965349f03e5fe7a6809323a517920c885019dbae', 'aab15e79c3c393faf62f06c70cb7d8b324e4c16c', '537c3702f5349d39d2dc0786efc7a01f9d38458e', 'ace71ee7bd711784877a2383bffa630082cc3571', '64614f634ab4243a333100f4ef4674d8053bdec4', '6c1bf0c24bc64861e7dab8dee6181c6cf4fb6b16', '8b131586ddc8279f6e0c65e036c193b79b36d5fe', '54b69f535141556f9901ef3af253f6556df26410', 'db2489cd09c5a92d5b12d68bf0bd1cbc52cc9de5', '0bade23e4be3e7f9660b03fee9e63d14f88b9299', 'ef0daf76e376e0a61f04887e7cefea79f9e76e44', 'a4f8711544b9034bcf30b64f62b31bf7a2f77361', 'd596781bd0489dd6b452e32c5eb4dffae36ad186', '21ca66b60653a4e1ab4711a7fd1d821f1271db88', 'fa9609046428d9ab3d966643a68715d065d2ec66', '813e96894cfc32fdbaedca6d6a077900a100bedd', '9b1c1b72b331e68b883220c4bb103c3193cce517', 'd28c5ff8132a5f3ef7bbd99e81664ceccd1741af', '3fbe4978a20ee5ddc07648f2762b808ea18cedd1', 'dc92f95e90133b92c1088ade19fb1e6ab99c043a', '2620ac39b58d3bfe3a12a3bd5bba6efcfa5b1c2b', 'cc29df5c5ddc8d56b6ee2f35b1cc7a9e4dee3317', '23b6772cab7d620c22664725b68026251cf20071', 'f718ca24e1257b57ad7c7c736adb12c920a79bdb', '8b1651b638b145a8123c0dab23c763e179a295bc', '2cbc18add2a431145700b0691ad4c687a8d77b28', 'f70fc0c342b4dce76ee15da890ec85bb1583c585', 'de3af62b2b01de43f5cfb3023ae5833ee50b5801', 'c38ce3b31a0e20a2adf4e48170cd6925cd32bd3c', '995779a5da97ea711d90b6be52c775d54f8ba6e7', 'a8ff86544791730356381d7b6c31b15f01462302', '49f9d30d7e8aee000b638bc2b7c53075a84c64d4', '7890293fe9d48e3beacac33650c285acfeaf3f23', '21dbcd227ae1afafae56f13aa6abdfb56e043ca4', 'fc00f4ffe26f20682c27ce413f49ff5c370d8702', '7730b144a89b6ec5861f9a39428e0e2b790fe986', 'f051274d6056adf3172e966d2319d1ba3565f7a6', 'c28cc95b6a3d2ea27aa805493b586a4d6d19ef2d', '513779fc4351b1b079df8d4df8e16871ee79fe3e', '8922165d514e0323bf8200fcb22d889d494ba7c4', '9fdd1c873f88fa76b39fa9a2f6a26ca28ce130d7', '151e01e657802141089259c61027659cbaf636c4', '822adb694a5613fe19f6b1058f3822b2b6ce707b', 'e6acd9ea19ba2055132282c5c70751fe33710160', '2fa839ae3a04f5f30bb6353937557b412435eff4', 'be687471018d51fc7ce035da5fa2bdd277faef70', '0e9873935aadb4352c75b46a55f823d7ecb8baa2', '93ac8f9468044155334d1407f35b0e0b90e85537', 'aa5a64b61e4169e84a9a6aebaf52e051a57f6c1f', '4d0a8d4947dca9be1dbb327b92648f19983b92c6', '280bafdcc7966f562cee6b9e5351e82798f68eb4', 'ce632b6f64964e8ef7926d038ec7fdbf0fe35a14', '2f3f40e2095c727bccfa43d5456cc6de0b3d8c76', 'dcb9dac60861198f054d8966b699dcde107f2d0d', 'b5558f1df3344940a36e6dfad91ea0354a58e3b2', 'f1ad630657cd50db734c10fa793ba26b80e78bce', '9aa36b336c009cc4ac13cf522349863d881de903', '39c1652d899ef18417dea54a37cca4532475607a', 'a81ed458093bfc16160108429fa399fa342e677e', 'd7b6b00646ef10ae663533a85e12673e5551b964', 'f63174ae8078034633394a2f20bd7d10fd490fef', '19043a27604c4bc0185a85fbdc4c7c0c86b7718d', '99a8fdeab6072b892f3477f2d91628df09cce12b', 'bcc4ac460cbf8cca3392764cc31f6a94ebc11bcb', 'a20749dacba300423128ea10d0e665d43e69400e', 'b13099e0b97d09a19487ca9d6dfe24b6f2f69a60', 'bb4c60aec8eb16bd506d7968696f4b8789bce9b6', '13066aed170cff218e10313e2bbbc40e6897522c', 'caa9650301dfbd6e07104555b12a62f037ce4361', '1c4a4779d1dbbe1032c615a83355d205682042f1', '93f63b29a48eb68b95dae89abd2fb431b73b7033', '2a32c7ce83fdc88ed80b53022eefd04e08c5d8e5', 'e3f575828613376528a8500daa0af20f08669575', 'a5f14872cd04ddc02db4b1cf1f92f0e6e3a88a3d', '787baf208ce09ebb6232b1f12e4611bc81300628', '9588b9d8537f028bab430280f092a6936af04708', 'd707339cf9f8e4d4185e258cda3287eb4ee836ad', '70e748be0296e3f05772fa4e4a162a97d455408c', '05bda2f5fd1a96c64ee4c33ffc5fbd018b957411', 'ded599720f2fdc19c59afcb3f4c416c5a5545c2c', 'bbe6b6f053318085bb64eec159698236873586e2', 'b90a2d437e69f233f4b62c16cf01a8035c6724b1', '418f8cc6b9a96daad37271954bcd7b9a7efd4ffd', '0f1eaaf3313147a83e0e4c0ddf266ec239836c2e', '1133c792722beaeee7e621e9b020efaaf71ffabd', '13429e8746bbeccb08e8c740be032b017121abb0', '61d5e4a92b8547ec89bb9f48d592f612733fe024', '3fac88958dc7903b380743597f44a79cf76ea128', '87f1404521acf32d85a64fa24af73cb9dd63fe7f', '51155839f085e18af334ceb43e7c053664d18a91', 'd3ded1d75eca9667993b9045e0cb8c3aa09c8cc5', 'c328fff4c326604e96de67bf579514d868185219', '40002a2b20cee2d68bb9489ebd403ef9993100c2', 'a25df628f41c79351729ce4622b7c24c1400f76e', '8c495307403fa9a320187dc79e25030ba108d137', 'e4dbcfc5413d5328ac60ee42e73a3fcbd72db55e', '65f33dc9f1a0fc1d7ac737d203d4c717d6443911', '4807028829d407f880287bcfd29f830520c36358', '90e26b318ec71a7d5eabce81a8dc90988d37d5e3', '50d1ddf0ea3ec48011b6450985ba223e24f7e26c', '58b8b60bb98156a03dd78b67a5bccdf7d236b05b', '71b9f0a7b48a36d9923449b756068b607456bf16', '91a14e2199acc8600e184710f1fadd2019aaef33', '99cf31d041ca7d43ce37e3e789ff85c90f01145a', 'e214b0df751d2044a1871182d6bafc2ae069dc6a', '6f5c7e13f601294a4eabcf5d1417fea2c34c0ee7', '92c081f59248ee30164a083f97f2df4bed935cea', '37aeac5fc5e001a067bc4f1f2b02f9c4fb0127f8', '6474b6e810e9fdffcc2c98cd000e237d252fac28', 'dd19b24ef18312e667fbfccb7e781069a3dd5301', '3c1b5a29b3570b9989efc169679b147d5da3fbc5', '94f0e86b04422b99ce55eabe94a6250a16914956', '5b3eee11892b53b28465ff156c2d188fc8b51ee8', 'b95e6a8c6ad6fefecfbffe5956dc97a5ee086a22', 'b78f8d5211652cb484debf77f7a61ac77f940e3e', '98d5843b321670ce80f7d8157cd3efbbde7dba0b', 'b4760fe20ad732657ee1c1a0e4a693c91e6ea6f3', '2a75f3e7022974870d9a47f7fdde332083a2a746', 'f7e46e91ad267ae514d9fb2a0aaa67c367d037ca', '982d6ca1e652af3f24dd5f2bc891bce1836f3781', '1b33596a83d84d0a706e5f8f8414da0de17184c5', '01198c58d684d79c9026abe355cfb532cb524dc5', '375d3e8c476f4334d8ab4b26e44b1b9eb83cd155', 'aa0c41154a3488609066fb8f3537e9587ec0428b', 'd5f1465888326b6106ddadc6a299e9adb623733c', '3db342f3b674caf16edd720ef96b13ac325f7301', '893da27968cd270ee8541deee66bc4838e839c97', '4f02fbf72beb72ca5598b20c499b0025fe30c25b', '04d81a9dca6ac399c281ae16fb5008a97c35a086', '571ba9eb1a1c5ec1a5fc63c0209dd44c3dc08bb4', '7e1d7268e6bfb831bfb565cc44bb136e5ab15476', 'c76f2e8ab4aff2b4ec52d5ccfaec5a2af0a50459', '3237637166b7d2051c168e7cbac2af59768133b4', 'c0fd442a41fd5132062ddd8e81d336ea88f61acf', 'bb2ccd53b29d7d04588d7f6306ec91a9ef8ec879', 'c43868932e3451e5de46990dbf62a1fdcb7bf884', '14495154bb5de03a60ef72aabb118254bfb7defd', '09dbc4c8024f5d70ad38798664b253d6c680e48b', 'd50dc7fb139f9ed09e5f108b389f8db7c6d1a319', 'ce04be6de36c8f13ce08fd474feb66188f56e352', '80cd2e164f4048b6a7b8aa714a977fe726df2399', '1f906928825d3fc2f2ec7a1ba2355faa9d2e5655', '61e7178b530c243df31ca53c302c294a237762e9', '0ccb993486dfa100eace7f35793b31cc309048dd', 'abe86544fb7241c86ceb75ed94c0d678cc1a4032', '7082678d4bd90a517ec1ca9a1a9862cb85956909', 'a00f2df585df6db633b81fe7a2508ca6e451a417', '3034d36f37fdae4656e5fb1669b345eff2be246a', 'af272453bb2e57a4ce63faf3da38f3562314dbd3', '509534146e253163e6bca91feb1d12132ce93ce3', 'b229b2a6e786b767936108bb965c40712548dd0c', 'a98cd2395656714ef9135b639890e24a378eff96', '81de5e776f1e229e03624cd166edb4d3c057f871', '7555860b9108255e8cbb6cd619a1a0fa74bded46', '0a429a295eb0d239cb9606182c626aeb30d6499d', 'd19733712e990921eb3f51674edfaf9abb275052', '5bc90c57e2688cf2775885af54b84228f9ed1fcb', 'd947d607411e4de4b7bd97f229d2393f273c6a41', '038632ed89446864eb1a6a218ed719831a2a3af8', 'd432adb942b981536d50d36114bd37e5a9f5b82e', '46265f27882f77686ab617d166cee6fe8d971b31', '7240bec01db48f0f1b2a6c59307970ef490ecb4a', '6abe2fb4476ac3b3aa60c28a0e56143dcfc3f6d1', '75c9839dfd0157c477139a4f2dae3f7a32b47e41', '8dbf26c2f05708d42dfdb1704a7a198d0faa18e4', '8a6116b29d4c9420ced90b34e8599fd33d70cdb4', '050df03be5780b05c450c78626fed7d180c491c0', 'fbc7bbad65de237bb5434c62007c56e575946a4a', '356c44e127693e1c1d5101df9f5641f5339829c3', 'ac8a2e7dfade4144df7dc4d1edbdb15610c7aefa', '2df756046405bf5db9a1cab7d1f63ea167baf679', 'eb5ece3ec0bc4635ba66bf9f5740641fc9d9b6d1', '4388a2220b4bc9a234849fa175f927f4f2f8d427', '5feef931b1c5560f82d92d7c4912e1e8237ba599', 'cf055092ad989901102a5539bf57cc0862119c4c', '8247d98917baf7d979cd1837a9dfa6c5d59858ec', '5e7287a7b087d5a967ce706d724d47f2ae61d73a', '5faf20ead8bfac3adcf57522c0eccd1b595e7c78', '94e283448cf4990a7f09367a16e9913d46912dd0', 'a53ab0252697f3c0933f1a3ff1689805be222259', '00c2d5190e8c6b821b0e3848bf56f6e47e428994', '60a0d328fde59fb96dd44f37d0d4d3a989e9c85a', 'c61f52526a62f6517edeb75d698e33be49a78484', '8c0d8c3a28623b20abada25a2679ac6ba939e76d', '1578c442ce071f0962ee5d3f388584849524670e', '0df16e8e391986c24c4dc2f484276599caa1fd8e', '4a3eda016518b720cc962b2f1bdf2257d418ea0f', '6f1028d0eb7363bf3d6bca3a69225e44d83ddd3b', 'bf3489a0184b979d3003bfe5fc45c291dab54f32', '1001aa3a458d7ac0140b7467989da4ba63e53f2d', 'df09b9f9362cc11bea124756b77147ace1d149ee', '9084bc33b448dc24b807663e0730b250d433e570', '8169581ab62ee6c94791f7e966eb73d3fb5595ce', '96b9a12a3233b718a7f2bb9c2c0275b1fe787f6b', '178c9dc189a83134f0b2272b84f82d5901afd2f1', '2d70276418701ff13ed53ccd30f0a0b7590b5861', 'f65b6150644c22ea69259fb2fede59a36a709a9f', 'b9519e25cf8ce1962a417c5bba60b0c6b7bfb778', '31ce3968c5ccdc3f03655f3e0698b2505c200510', '11de42d89c80a4eb82991f36ece9bff70b86374f', 'c3e9fd5cb4a0e0cafdfda093684790f0b51d5d00', '818d126d772eab77d6ea6c6d2da2e40c2b1c10c3', '9156790715ca7fdc4fb1f4905d2edc3c3db1f7d1', 'b90092dc2bbddfa64aacc0e8509eabedfa896591', '91f198f6cc493d96a9cf485561932ac988c35309', '7031e997a937060dd4a213418c1e438b1f8f0d42', 'aad08a841eeeaccd11be77975d645610b9c5f1e2', 'd11304355036a0f38e13667d1815a41a65e71d7e', '3a98ae581010304a4f71109a8c5e32e333d3c875', '6aa1564f8006e9b42958cf0212ffd36053a23c83', 'a4686b530b5b9c233ef4af8f6c4ef0f2e8f4e1ee', '07258340817d0cfc5a9bba97c69b4d4ee3dbf098', 'b8295fae9131a80d5704dc980db962262c8886f4', '68e9ea789d8e8418abb988e2a1128fa9eb9938dd', 'ea8205bed2e1f7594055c590c5ac5d65276cf524', 'ff4d3e1c359cfbb73bcae07fa1eb62c45da2b161', '0e6fd94d5ecf434eca38cb552a563a3a11e0f433', 'c967f4d8e7e17778a8ca25589bafae649ba46eca', 'ecb14c57ab29a58c37fa1fe8d8899fceac1d043d', 'adc2562664d9a20a7dd8149b30b067f4ba90b691', '904d71797ef6f2fc98be7a33e120b0dedb44e60a', '187416bfede2795f28be70f9e3fd0f55d1b0f756', '54c506319c40eff6985fc51ffe788ac697c42ac0', '9b98cff027213a90ef58d4e30753ce0c1d464e93', '4e5f438fefd8818efaea149ddc3bab0bbfc1bee3', '5fb5e3b77387ce6a62f6a4a03bc89df7fea20d4f', 'ea663ba93c639c133aa2635f2ff05cd954d37d8c', 'bfb212f9d5548c34fd33832b0499aafa1dc65b1b', '255c59b0d0a50d01e46349959d35c5aa828d1216', '860999b33365ab52c4391a896016621a2a8c2b7d', '1b8d85aa25cc2de6c79fde3d21620afd2c8555df', 'a24c79cc7aed6bc4bce0097cc9ebcd423a1297f4', 'a2924adee8a13689c0f61f4e7338bf912b2f55cd', 'd2458410c7dc6df58bf8dcd2865dc026d96128f0', '46d280b1c831528e0900bf8c168c8f95d3d082b9', '170bbb2d663eadc484db19e3b203fc47c15f11fe', 'd313c83ab3ed388ba16042a6cd33fce57d6a9e9a', '5d34d6111179a47fd492c022ecf9cbdf3a8d7c29', '44ac0ef4b4bcba7a1f6c04e9656ca80b94b68bc5', '4e7d33be7cc3c91f74b774931eccbcf21a99c2d9', '2f2b6dbf369f10f55bc069a9484f27547bccef2a', '6c319cd2538de4e657add5baecbd0646137c6bfa', '968142ac6181095351ee340cd2fca0ca51246363', '8ac41ab1a36ad0371970ddedebe44a146024afb9', '17cd78473f38dab57d4f0df7bf36bdfbb0ab1d8c', 'c6ea56fc0a1f9463d807dc5746dc9ce947113cc2', '113d3d0f7e1615d17e77622f175ae40b5dc7b543', 'e02e23ec875e98aa16a07ece62f7e395a5902fb1', '7b8789d7162bdf60e2995dc341cab205c64ecf0d', '203fcca44bae7930903319aadc9ece0f1fff1c56', '9ce6218339bd9186a3d0fe7da3494bc5af43dcba', '8729a38c8578c70c4865c487c1e8eff7da5bd39a', '2a451a4a1957f5f43d78a5b1bfc5e697a3fdc5a3', '6505084bd635d5617bdadca6112c421faad2ad10', 'd3593646fe4596832becd97f8a41e155481f3732', '5d56f94b149d0894f9806b95e3b2d579b05c4fc2', 'c37a51c4205faffd813d68986c75b028c5a42632', '52563d745f6e42873b3cdabdc0131cde5c3708b9', 'b9d898917fc688034b0ab3fe8307094923b68604', '8d47878d491e6a42ba54317e9e618324f08e8774', '0108ce3220657a9a89a85bdec959b0f2976dd51c', '94e2dbba64303f9d885961811cd37d1cc606f42a', 'e8099739bbb9321efb8eb16c98ad78c58874635c', '53d268dcfbc1f30244f7d9451dc198f37aa293d1', 'dea96463d4ab20baf9b1a0e171b06270e6d4a1b3', '90adc2cdb3be77cdf7c89245a9525bd76e450bc1', '899262cb65246267bc9dc8c378ffd7f7ae4873ec', '37fde7f0403bcc0592d65764ce602fcfc3f4a996', '4ff10c9a4c8a147b09d3435e639565a01cd15112', '1cce32c57acd60bb43c761ecd1e5a0e6733bcfa3', '8108b88e72f2afb66fb95858f18df202213b3cbe', '6386186f5906dffc1cbd953a3f88d6925dd8cefa', 'ebb5e3e81d4ee0d03500ffb964531554f9ac6c1d', 'd24f57738b3ce423b47a45f3aca97236e49490b6', '32b04c275b1e4d96df63bde331df213c357d063d', '3b5b80ef2df287263089dfc312dceb4e56068a98', '8f79ac562d70a8c6f3e4d6564dc3c7c2054aa3e3', '74b10f6da4f021d00b5ae6540e56eee2aa3b07fc', '009af4e0537378bf8e8caf0ad0e2994f954d822e', 'dbd930ca8d9d0e4ec14c816f7bef044899df5d4a', '3abf960be7fc44fe0c9db0e8f61d8b9fa193403f', '77c98b13fe050536193bd466cd274c9f20ce7c21', '389d1cb3abf17cd9c8bd106fd947fe61af9cfd82', 'd9fa55fb1f06e5ff426afbd3d364f6c3aae10432', 'e72df7b9ab677b5448cf094ba4b2d41d72c7e221', '1aec0067212ce7b550c4e0a1526dc5f5d29002c2', 'cfa10933ed53df3c1fd9839a8d88305ace3e61df', 'a8c5701649cdc55ecf48e0dd030b83b171861790', 'e8c1970a9cf0d7eb7834bdc0d21323f22d16f5f2', '600b161c9aa57f66d2b7a08bf39c724bbb001f73', 'edbf956b9a6953b28e9f2961e7eebcfa650d2609', '9e663dc9b4189366aad9c7ab00517b0dca81ef13', 'e3e0b4d0e695d6823bc45178991975d8763c5955', '7f8dfbee9d9165a039c1f4b05f53f6fc020fb891', 'c00a2a373ce6a98a2bb7bb6053778b1437e633bd', '24294af8e516d6b4333e7967f8ee3f805ac37cf5', '8f4261b957d617aca7834074df35ee27f5efca3f', '4c00b834c1eed080019792bac89d1da61c492810', '1a0d6da3218bbfd1474d47e7c75720f6a0377b18', '029152a51d54b702db38bd0bacfd2fd386d149db', 'a96fd739f20c03a03f9df4181cb1748147a45346', 'fe88d1f683f308b32fb3d7554f007cc55cc48df5', '24c6b60f2e6ebdbd4a4132b128c05d29da4c2752', '7a12ceff6a528469766c71f15a9976b2bf899fff', '098c08cdf11e79a1c750831711f360bc13b718a8', 'ecf3ca43d3f8c843dc7d7ab86b99a3cb44ac181d', 'a80522aaa7c8e2301f62fa8a74bfe59ec69c73df', '22459ce0d4be8f8f06ab733cb1c4a72cffa7441a', '24f6b9c6083cbd573cde8b9c02c7e8c956b91ebb', '0ee8004e5cae8326b6aa80addf58839cc7e6f35f', 'd4154d37fa1b6eef9714bb0968e45d800f1e8550', '2e92705b1563c265459352e21ba3be26f9969389', '02e23729fb65b1ce777732ee40c284af1bedf8ea', 'da5cfc638206db620e4fb8e058ce313dfc10ca72', '26baa50f04df0fc6b33a406185aae4ca114e4ca4', '4761e375829b1457cdd1076daac8daa8b0ea22fc', '8b6ed6a239fb3169b3a2f9f931562dcfc9ae9490', '39c49f6aed63e67d4d01cc214996705822f9e53f', 'ac9cc26151b520f8acff23f32d42440126a8f189', '6e070e2f8d2147668966ae3da881eb4cbe3ffa11', '3de84c497a08e985f3efc786dda690ca23915477', '760218415cda29f36fec93dc43964b4a8c702774', '2e4d4447bdeb055acf7835099e332e25b4b2a7c5', '3cf1a39f9bac6f38800d552a9f06543bad0cc8bb', '969f0744294dd86589e5e0bbbec7666ef04700c3', 'f6f2481b7189b6483085c832cc81da23ffa19b77', '4af06e29a5ca690e797076edbbfa6aad25b309ae', 'efebe789cddce15baf08adab2c3da793896eb3cb', 'a58205af4c2a766274470d327b0613c212c4bc09', '268689bd15edbdf8cdfa82c0bbf7e9a0031fa577', 'dd19d2418ca2e39fb31748f2760a2d5e2b65c853', '3ce3d47320abdfcd3116bc2b4251d8f6d230ed2d', '72934c19f2ca791a6846053c82781deb7d39d86e', '5ca4796b975e682367095b07130c32eb9d32a8d5', 'be660cdd33d51dbf56d5727263d5c54fcec612ef', '9b6dbcaaf340fdffcc99dc5b5fc53ef9ec70682e', 'b20682a0e6f91484f9c534bcd09b0fece30ecff4', '96e7e64c84031bc1460260b6af90eed2254d3876', 'e2fbd8a28b409c0fd05e9a68cab2b12d3effb0c5', '6643087ded29a334f4f077f007847cdf7dde88eb', 'c21cb5a7f27fde39f24e1bb7ac5d02f68e50505c', '0d1d08864305b14728ad906fd0ca4892487a1522', 'd38e3556cf5bc26b554b6e6838174cf18b76566a', 'b0eac1202f5808bca419374b353f9230863fa08b', '0dcd45a80d8f11fafd47ac3b1e1fd3c0eec169d4', '47af4a049f82dfe2b8bbdbc4c763b55a6025b814', '7d1ee8bd989ad6c578cd32dddbd6cdc52f29dc17', 'a6bd3563f2d9e372435a2a57624487ddf1bfb5fd', 'c35c9540c22c983bb405ce781dca07a9ff12696a', '910f9115220822a9a35bf31a95650dc10ddddcc8', '312151b2622a1da9a8e7708817a20d4e4ee2969e', 'b9b52708b4a5aa0ffb69242a49dafc4b4748ee4b', '63a94d5b78f039425e2c832617600977161397e2', '402848677e819169d0da3d9ae436cb678c51c32c', '6e58d4d7509bdb6273bd33365b5cbbb59daf16c0', 'e593678e2d7b24033a928010e3bc8c3cd9b2a1db', '1638f92e2a05caa3ec32c01d907e296ee34e5763', '239ad101e60d9d23998efcffac058eaafa5cc150', '1317cc93fdeb27558c1b3a3482a9c952b0825923', '53d5a99fa43b5f1255f5fdc7f920057d4a386426', 'dc9297ca988d024e2b8afbfcd1ecab4ea107b67c', '27234619f418c97a455d4f8f8a1be7086872ed38', '1371bfd479102fffee5a644fe54b9025fe7e6217', '9f74d9589e890b7161b3ba6d708774c933f7d7f7', '4ecdb51661b9e9683d740aaa1c88d78e2ad80ebd', '903335bbe39ec3b4c3e170403ca7d8fc42823293', 'd75a52f230d4c0690f2b08ea3a60206253510b1a', '7471018c61b36ae5677e71c64e2a3c786ce9491d', '95789109737b6360bc6bef3f7cf7cd4fa2308724', '65a47886d03429e4887dda98a227a60e007a86ef', '6cd91e4e6de3c0e66ccb60d2cb86b6efc8f90a53', '7e7ecdad3ee08553567742f435fdac4aaa78d4c0', 'b865b3c56c8d889eab4df553852b91f56943ca79', 'ded0d61d17363354c238357dc29b2952dfacc513', 'f7201f8b08950ffaf3a1e8a1e6d1d4cd2cec53e7', '7235b5f7544906d2575a8ce7df2ee345a6ad7dde', '568ac64b502f221e5e6c36a72457b770e9321f25', 'e6fded782b9c6bf416135ad3c0e2d60a0eca2a7d', '4ff51009b45481a45ab91f1ebfead8995e4efb50', '4f1986a477e28563599b07904a39c5676c592a67', 'f1b9ea791b65240a811851b3dabf42a50d589856', 'e4beea64b427ae5726e8ab8f77bc3319bcea67c3', '8a5406dabfe9f961586e6f37c2cd463f1a3242e3', 'a24d47da865d47dfb0f8060cf8e165aec95ab321', '45654e6eed4fc8305e0751a1ad68c686b47fdf17', '5f0c9377ab2a25099c8fba235a7c4cdb90b31f51', '01041260c97ab9221d923b0a2c525437f148d589', 'afdbf495827784af39152a86396d76442cf3c2db', '8058c36e39071606ad2a4d4824326c951a17e017', '0ff77db420edafeaa5a619adb510c3e8a7063e5c', '92a014c2cd2299c9605e948758db5daf1254e2ea', 'b4016ab5d821524fa4defef9b060adf6514b3783', '3a3fb3f4717a7251a224bb072b6bbfe8f40ad8e0', '865e939bbade198c5640da1374d1b64c0da802cc', '75b52af1bb9351dfa9ebe049fe8aa0155aa202df', 'b31a9ea4be8e537bf5cc321a183841be5a608dff', 'b2ece69399ab86aa5109d639123bd16bbd93bc8a', '38dcd4da9f0d1ca8fcbf70d259d78796063bf6c6', '1011fbb77b762b3cd2416d126b8eda3a713fccc3', 'cae5a8abf66b5de9f2869e162e44ab6c6b6cbeb4', 'b67c65ad9632a8651e4a1fd46b2aa3b1f004d9a8', '0fccf33b21fc47a3010943d26961a5605112a2e6', '4aef73562dd68d6a01a1a64826d7b153b6da0890', '3047b0ce99b63dcb52c668e6d0ba02c57250ee57', 'b040d078bc48eb33e248663532bf09860a186091', '59d4915b081028ab8b3ccffc7c86e8adb8f0e29f', 'd057a9262e3d797235afa204c1e02acaf94a6b34', 'b64fb975c96c47d7b5992d8d48a3bfcbd8c7f50c', 'c982915c14164612c792ac73e12bc51d589c8ecf', '6fc3c162ab236938fa28ad3400de8a46768cb493', 'fe69c72c964a8346dbc7763309c4e07d818d360f', '7866057c57a7025418e24f03535fd2a86b7867e5', '0f94a416d617e177e14a32444643b231bc03c9fb', '073d60e1ca362759a230a4d01ed877b396015a26', 'e9477e51aea996850a23381a35a06d8019aba1b6', '4fd4cf04b40d0dfe529ad085ac08d1d19f4ee835', '3883abff1ccb59ce472f134648ab566090837f4c', '5553dadd91836306813d02679da9b6bae063400f', '2d6bbca2ed1be210d97ca264bb6dc434db18cf1d', '64731026e79f62f2970455030b0e28f0c3372609', 'b16c51bddb631eee479d815851e77d2b8c31bf29', 'bcf3cd2dc95eda7442207bebfdcd9888ba08e52d', '97629a34a7c128e4f27d92de87be261967e537e1', 'd06115e36e5a9167c882186827eb77ce01a6306a', 'c4694a814e1d80d0f734e325e96750f3aa16deea', '1c7106a94d2e7d72cac7e6a8ee6593458b4e013c', 'ca140f396a27035cfa6d05ac9ffcbc1421ac21aa', '821059df22c7449b206952304670be7f212f2666', '721e5378fcb68aba414f06dc7634d0da6b61c5a5', 'd18e4982024b025675a20d8851b33a99475aefba', '83cd0050794f592dfd4daf71327194fb5a44ee77', 'b22627902fb9ee2309c7fd6059a650e217b88e85', 'eb7f65ab9767be577ff0ad59c05e5d965efa2010', '61982b92b6bfa7194c7c4567099dd178a0dec89c', '17f70d3d47ec3f0f0860ab6b962120e04f400be8', '014dedab269f1453c647598c92a3fa37b39eed97', 'e05f646eb67c953efb28e2a1875e353c833767f6', 'c9d04f9b16bda87f27f5c1899bad875a0ae1163b', '7678ed7b7f7e6e5801d2e8d9e891ae141dd90328', '397f2cdfe5337828b24b1b235c8bdddbd1816e75', 'affda69d3612cbc71421abc7717dbff48ca88a4d', '338080d4165887a573d1b54bd7fd6e69cd197742', 'b3603acd84566d505f8594b0cf22617cf73870dd', '09097ea6dd252272ca122487a4f2e6528ff299b4', 'f4dc02c6f6632b79d4f8661229f1a76998c2b12d', 'c87e297a1a99ae042be2015ff9056cf13195eefd', '98d4864a24bc8f9915c8c8b5ebd3aa1eaa71cbaf', '81335c2e5917100a5cbdcc2bc0285fed6d685f6d', 'f5035acf16af3e79700393838fa1023ad38da668', 'e32fcc234bc1c4e831b060b3027284bc976a50d3', '87795f5cf33ca3eed796aa4e8724f34a73c480e7', '48ac105caafb4a3ecdf60861bc92d56ededeb93c', 'cf3826bb308d4654a459b776e37a877848cea3fb', 'bcc38dce57b3abad9a5b5624e50e8381c3ac42fd', 'b409bb3e60622cb98d0093641db89dd0660f6ab2', 'bc6443bb456344dbdfc572eb968e0a5837804695', '48795bace4a8aa76c788d71993b63fa80a871ec7', '20551f3cd441488b6e1675002352d4e095e033fe', 'b6ba53dd506758741ea00d138a37b98ab8f46809', '596554ad41d08c9bd8e5da109bb9e88c58539466', '8e1430e9e07712c00f4c5cf366040a183548e77e', '05fd3447515ebec6fa2fd17281b866f4eb519e50', '68e0af7e3429bd361437824281b37a8c1a29186e', '534897c46318833d81eca0ce4263b10635a60e67', '7701d84b4533cf0975e50036c3a2272f3577a31e', 'a2e16d8b5622a88b6346d1a820cc9e3c2933dbac', 'fa6e492c484e6c36cd2606a9366a4c8cb4b12905', '35c26c4a6925096724756928bcaffece0e720a09', '46af73d6659c3cb2b11621806fd438ecf3316ba2', '1c3b54f3e0313972a8d0684e3ce0316d251777e8', 'ce419f1397ac840cd3d804d51433f1cc84b597b9', '2adec22301b893b511f0f221952f5ed4ae8ae677', '45f081306f416b4b333b2a144408d411ed9dd075', '3c48fd4cad25296d6edbdf48ba26040dbb6f1efc', '91751b2cf201b3ac1e87134a47707eb4d9e97d1f', '0d2e53b1ba79814a3125c6084a24ec2c8faefba2', 'e9e79868f43be3879a8f92aa1c8cea6b7657a890', 'b8c3ffed922598f66a53f9e1e2787d6c2d0d1d9b', '2b91b0ac9fc3c734380c9acb910e53e0fe972edd', '861233afbbd65d08dd2587cc9c925988c284d2e9', 'df5e0857560076c74313e75b2368883972be70dd', 'a4dfff7f453d3220d4c7008be50e5a2e6d5b4846', '136a861ca7a3a87ecd1452fea4098bde5fef797a', '44729b2b2cbb8e3a8edf27dffe9f602f04b26f43', 'f4172216cf7ba6b1b969afc864ea33a97bbffb2f', '66d595c7462ce1c9393f8c30fb8412ed2e8bcd0f', '2aa76fc8a8c5f2849563287db0f92ee72f1c1b48', '2245ca419b209e02831feaff8b0abf88b164668d', '784eee568c3097ad9db74e5c3f9785e065bff36e', 'fffb93a166547448a0ff0232558118d59395fecd', 'bdb28cd3f0f760cf7281aeb9ead75cc7acccf29a', '170c74c80d1e1415e11ad6ce61c1889eb9cea3d9', '1ed123e1bbd45aa1cb727a3369383cb810fde674', '405e68e6f91b6c1de26cc767a0aa60bbc4575198', 'e78669d543b92abef67900e0f866d8b2cb579081', '1d3917788896d3b37d470d5f072d68df08cf9eaf', '113e3627351c650fc85dc057d4af45a62e7ae8c4', '800b773acc84c65a9db7c1cb6bd1646e0ef5b24b', 'b9f80b1fcd25b744164b51a85020eb6ab84bf5c4', '3040c3259e419b20c513ccfbc67e96ef4c89172d', 'd48f00f68bee69807a6bc5906d18ac72c7bcf73a', '390ff54f3b21a1de597958adf149983f8cad9a36', '20879ab1c3120452eb77143d0f382062c16dd683', 'cc450a78f2095a1e22a4705930f6042f2aa02ac3', '6e82b72d35f024ccf84658039acdf42e9d0220ee', '2488882561f6f6c1f9ba68832babe3f0c7959bd9', '7a5008c0dea2a45c09015f03b461b721c8adc555', 'a4d487199b1a340aeb0a87c208147060129a3a94', '27f7fe61c368e3f5222d06180af942af14b0d790', nan, '88bd9df460959ce992001e0752d84be169dd0053', '7295b5bc15ce2bca586e8b2b56bdaa8014843876', '7edbb56436e6e2993f701d31f68b10c921b676ab', 'a0f598bc06feedd5db2b369fa78b2dbed367ec3b', 'ea63837545eb8421f929a6d48b41c28c656decf0', 'ee9ffb1b4a60c836ea9d4e1e4cf858e969ee75b0', '4f3349f21f4d8ef93e5f363a67fb4858a853732f', '231164f80fada358f2c94f0bb961b917c123a7ec', '02e21c6cf9a4ac6772ef58fc6bbd86c3a428d6a4', 'ef05dc72b2035c1f6d600f0d58b423b0d61f1d4a', 'cdfe3937259418ec68c60e5edc4d1170af778378', '3e15c6b4972e54052ef3084190bdf1167b5db1a8', '55d58ce6761a2f234268456c79ef6252722fb91b', '8a4e1ff5c03bde77b3c0c62a54c252e4ad831b93', '60c424d25bea46b7144c9ebca16f4dd0a62bd9b9', 'de54256e0a7a9ea5fa48c6e20ca62d8332dd7055', '2c77ad7a0af97849565058423b75d00b65d3aefa', 'ff6e82c763fe2443643e48a03e239eb635f406dc', '2e7a76937ed2125b1acb2710f477bfb708b1c519', 'a9ace8798ef6999ee91807dddc7ca4596da8250b', '88d64c9cad700e5644c10371b469fc96018fcfe1', 'e94ba251377dbabc28c797a15c682fea74454df0', '7d372b4b2b7d365ed35762a3641c8ccc23f964ef', '4cce26789fa9126607ae31c7b6450f52db309872', '66e0a0892d9feafbc0db59dd2212dc30601102a6', '05ebc8826d6b041f8d2f5daef60bb0254bc8e831', '16d0dab5fc44c8f10ab604e04076c54abc5bc5da', '472644ea3874422fc613cc6b0a37715e0b6bb14a', 'ed94636546c73e131508528fb2a4fab5f87ead9a', 'f0ac9190c3ef058bd04f264c79da741d3ea971ae', 'be587c1172b5664b5c78ab1cfd870722788b6349', 'ecb82335e1e8711651f5bb62de56b85fc0e4e849', 'e0c699dede85d9e2cfdd2b14b1a42d99653ddb5d', '6fe594f94ec430c696650e018a6bcd160233dddc', '70164e7e29ce5935650bda4c2a571ee0f144538f', '63869fa65b2aae7bffbb801487092c9febd36220', '80e39b7d64cf1f43c23b7506fa8b27c4e7699347', '544caddcbe3bdb360f44dd29b0460b648fb90f34', 'a4a5baa5bedf595137022b612eaa294156f072d9', '6f38f36e8235b9c7bed807328801a55a410d359a', '621247aec571ca4df3cad3ea569d85a3f0825034', 'aa26d6936f6f5e25002e450d7dfae0f2a10fee73', 'c6af019d7ce95df81fa9358b91587af6e3bb14eb', '6fcc0847d8f0ca94f793a99bfbad9de82d4cf10b', '8d7d82e9a3edece2563ceeae48ff42008cddaa8f', '2de5389f12364394290fc65dff44267ed66732fa', 'a1459cdf2840917c203f9003519914630bd57e71', 'e5e93e04200aebbfa9512fae4477925a8a89a165', '4700c383e5b951c88e290d73fff349fb963429d2', '406db4f0a712c8f2dfce6a75cc24f9df85907702', '7b7cfb8b12494dc55a2271584dbd71ce2bc760d4', '9aacb1e533d46a0c22077f56cb5b45a43e555870', 'db235b900a75cbf813724709aea3504186204f34', 'a9c650b7d22513343b32cd2acc534a8871645983', 'c18b47eccd5e252cb703d62f4b39bdbe871e6edf', '690a7f10cc3a551f3f41271ae69853f18d44fd7d', 'c5067785b834d22834dce7219b9c464b9864baa6', '7f08a630ce7028ca92a7ad97c71e7091de2baaa1', 'b49c4b86d21d59100130b80dd1947ffad68e15b6', '7eefcfe5ed2482aac844463a4be602337adb2821', 'cbe65e9b265c1b514415947b4f1a507fc0da6462', '5a7d7428758a4b712beb0c672ee761f80461fcab', 'd104c97c9e0923c74f568fe2c0be23c820df6072', 'df35805092d0322ed12feef3558b515d0311c690', '877584ade75e135b9943d5214370def9b4063bd8', 'bd032c1b9a5d0ed1a25b2a37f03ca25a945d15e1', 'ab99c034da7abe3db268cfcd486a57c925f45bda', '36817693fbdb142096729041a9a3a99859cfc0d4', 'ad85d2c1809cae2aaf85c5b1a9efb73d211a6687', '4556c9aa098119f70cd0245446bfb5b1258877cf', 'a1169e7fb38afe99eed04a4158ed8f776d960f27', '65dddfe54a120806083eb1640f4145d3846183cc', 'c0e1a449b94212578083f959b33591c86a31b934', 'c39cac2cbf7b81cd183d7ca08e9c58b4cc29e1ae', '2841916b462a2b89d36f4f95ca2d1f42559a5788', '1139bf6b92c66008802a730bce44cf73a1fa6e1c', 'c7ddf4f31cdeac515f1534cb785e105c721dc953', '6ea29e17fa87d9399de11256067b5346d7ed8da5', '53ca47ef36be03e82b40e98b48b0754bc704f208', 'cb1f976ebaf444275b695686506176069dd9dfe0', '645d41f30015ae0415dfedacf09f8228adbd4524', '80bb4acc4b32380f44dfa6cf9a2c1789df3745c1', '7f137f6b46b9e8f268243deb20848de2c3c2d68f', '5d196014e2fe227281bcd912c559a5412dbe328d', 'f59c317c431ca66876c54b2e11c587c94fd71106', '113d8d1ddcbf11e47b3428bbc0fb6f93ad99fbda', '3bd525c44e33796207c418e8830c7fbdefceac72', 'ec194b0789264c44d76180f9e0f09c1550bc8d67', '665470e2d4eb76437965ec71e52b41d55f15a08d', 'bb3d467f78cf0a227b13690b7688977fd31c7163', '48dedf52c8969dd1fd8b4e4af0a1c49b710758fe', 'ba0bd1321bac654d365cd6c003016ae9d8420969', '41a3d041aeee0e3d061d0b0ff03de7f6ce1bb679', '1b71ab21f3d9d18e7c49f9aebd0b71839c0bfee2', '24a6c830109ba01513f59a91228def322a8dba22', 'fa2a284ca1dab6a7526860f69929e14c49e2e3cb', '3a653d98cc16f08ee2e06e23bcc072963ff835de', 'b7bc978e4b7d65e71104aa45ab2f597d57e7c30b', '329b4b3c7ee569487b274660a609bd15dd1f29c6', '31dcc3d2fa8aec069b369ee92d8a526bd1f26b80', 'df51d414ccac167a62ba7c846e37892785aa6797', '0657e2af6bab328c28ea9c4117f19ca504f56ee7', 'e07cd0d0eaaf1190f11d4c46aaac4b809ce208ba', 'e5416d73b1ff0e17c0d7e280badfe966a5ba8cb6', '5814627a3435fd140f37c5f305d66cc959c296fb', 'aea24714cf7e77f58a89ad29284da1ab7d5be3f6', '9346377af7d258cb819c1c6c2940ef6c88474472', 'a85b74b37a8715fac26f8016d121fed5c5c400ca', 'a319a01e0e5f09c7fbb8141598a152ce8c67fa2b', '7d7da99b9502075a2e1adc8c37048ee6ac1e5c74', '8cffcd93d73f24dfd0c30591d067a12d4996a98c', '62b84b52a7d355c09ebfbbdda191b91d96b4fa2c', '7ff03d7e32478bc0f4c7ec4f3580faae74f7a3a3', '6cca4294295dd7112d91026282deb1ce2c92ec9c', '522b158af68d36968b95d20029e4826b2c482675', '7a79d0ad6d3a5a5f6e950a8ba6d65d4bd5c52afd', 'd0c8d865e2582df4b9a6edcc9671870da75482f6', 'd7fe5acd4011e490775c67de0a02eb593430d282', 'f5284110463a8bcda258c737cba48c5029d115c2', 'e5d61499d77711b1947ef7f3346302c8dc5f0743', '581472fc7e7679592d9657029d289d67b0ac9ac3', 'ecde729dbd12fda7daf8e97c935c92aef7e38a03', '55a61895742689081613e63fc3b29332ad395529', 'b7e1cde7ec53fedd84f000b21e5c8f32d5d4546d', 'b7862e9c2907455f2d81f443dca87a3ed821a4fe', '5bef6d6d6d81f54257e053bd8ba8f27784abcf80', '8ec8c896694a5706d681922cc6e087edd16c23d4', '3afe5eb03d1ea0ebc83751a2815ab15f7d0220b4', '591d92cea251707a09e773fd393c8e8faeecb517', '1593b81e6dcb492a54b157dc911deffa5c571e08', '71b749fabe43be74bfb71545ab21432c6543385e', 'e630581e84b951be8b4371c5d117ad05367e3a19', '56906008e8a0a036dd4b1c254828eb96a430a2ef', '7b04172d23fc87c41b21b6453344d9c5ef13c069', 'b77be98e10cb1871edb22efc06174e55aad5e551', '48956a8e51f367923bfebcd70ebabe5ed2e6607b', '09831bf7ac2e72e54938d418e271843f04a2844a', 'd19cb268eecdb0362e746494e92fde364e0c2d19', '9555780ba439e287acdf723719d44fc015174d88', '3dd37f6336433b48c0100a5d84954b5ed165f58b', 'a57fbf81887a00f7fa973f41a6182e78bd9fee32', 'b9d7b4fa9ca7a0e6db4110823b07b4aef53ce097', 'adf413c3e1502a7c3d8e097d183b928909b3d409', '304ceef039337d8621b20db7d1dc5b54e29a626a', '776594c872509b0544b66cb77973960fca5e18a9', '4ebda3c7098966311aa9cff1f1415c3d5a4601d4', 'b5825a602b672646bbeff602f47e7012ef6f815d', '74db6adc58b3b7f8287a22305158b166a3fcdf39', '5415fa34d9d9fba40696bd0fc343f7aa3d78cb41', '9c41d1877875fae65d82cb0a220312c5c9b901b3', '063af98883392965e580f8c010b376c97f098e90', '9b8d04037019bcc60953da86f9e6d04e17ff145e', '33e9ddcc2d577781c3e13ad2bc24bf887209d782', '36b238ae0e5830233bf83411a907a3e9b8d17c4e', '2e205a44014ca7bdbf07fc32f3c9d17699671d03', 'be0378e18316218ad166eac3ecd760ec3ea46b1d', '75687ac7c19a2ef17460bef8db767e09a1b472ba', '18db792692e330f1306900fc0ef444fa45e66867', '4a14f184aee2ff87d1891ebe6af50e6063181511', '6764905b3c65cbfd5faf245f30419c80a3d3d847', '24b61a9f9faeb7a3ecf48fb5e22d2f7d616d3824', 'a51734e508fc344c34e79984fa72c9bc51ec2004', '9bc66d10547b9ea97e0360ed3d35c92ff95f3c57', '95f36f2d8083629b715c92ac3217777b19959d84', 'b5d4cceb064f6c0d8d9eebee68bd1be5f553bb5e', 'fd4e6cad2c6282332ad954982cc2c9b4f08a8311', 'd012a7fca49fc1ded919d5f03421c581f092a92f', '889fd5d231db275ca69b79b533a947b7b426c826', '7d3f3152f1d8097701b4e4042715ff7b6652da7a', 'ebcfc62759e2570fff78ec826c08560f9479c82d', '37a807eba8b397ddf7c7966a764776c46462eb19', '742f037a86119719118a98dd34232114ed4d3048', 'b12d2162acd1ea7ed830f788057241b6c1b8900f', 'eb1c247dea785c827da56fc52328baf1b16809ea', 'a664ebf381a8f90807648c45e13cf73a3164285f', 'bfc94e43c537a055274f706bd9b0b5ace8911bfb', '54b211a3a26c76d1e2bc87471ac84e7254c2e4a7', 'cdead8976ee9c7390059159e6842262bece7e779', 'c56e3a560f1431c6cd0977d3a560b63b64d3717a', '84e177d8786b5ee46db2a601644af207dc580002', '3f76a968c7fc788b51bfe6a42792fce2dc60bf95', '22e49d101cc97015d9b2b8116a5abe98b5fe8f17', 'e1a4e18d62be4fc4e225a6893ca74fb9abe6ad98', 'bab5fe94ac669df0706c17a6918e829fdbe7dbac', '2db0a553c51adfc509effb6b885fef0a53a8889e', '0720d8c1aada7fb126c392ee097d39007f0a0261', '8995c291d967bb01ac4a55e32011a1067e8443c5', '4f58a6bff2d722bff791a523e97d455d62b8cee8', 'f9197b43757920679d4740a32f3be83c4c15a554', 'e1036a9c67ffb7173125535a7563b43e8fe7e0e7', '1de031a362d0d418a6de1605ddd2fa695bc1e7ed', 'f9d77618814685c9e45b97dcc0b6abae8853dca5', 'f4d4a9547b211e5fdbb48c0ff02b31aa1b17eca3', 'ec373e0af18b8bdf353f1ed73b9b669f17caff66', '2ad5831cab71fa1c4a1b2f49443f40d83a74b7cd', '3da21813ea7e3106c83097f7b8f4935c5619aa69', 'b003d38dd2ff412122640bc5af8cb4163916e032', 'c2a5647a626f74de649d8fdd2d7bee396b063c26', '85a78f5dd01867c1b272c39d7bf4565cd808fabf', 'ce2b599bacfc8a1d43596e1a7cd9d74026ba0d9d', '546f68a3576a1ea4ef6fa2118bfa2f29055373e1', '17783515cbe0abeb8e474124f66fed0969b3213a', 'b9874f5dd3107ace8344404f535c78cfb871a706', '80d81b6a40a5f9dcf91d3ed44484dd239d10d44c', '86b8a976fc2a4c1c57d6f5b883f52a52bbc214e1', '0c4b4e63908ef148465f6baf6125c4f0bb403da1', 'c85793ef7405b85aa3d930b75e2048fc21d6da85', '09ff42a66ebc4f888433bafe2906701ba85e49c0', '7ab5add42453ce3ef1e2aaae1862dcdae3397b0a', '4420a60651ee0124763f24eac17405191b62f151', '216b9c1af11b1afdf7cc805c6b266c358dd5c2ff', '9862d11e422c932fb0b5001b8be6ffe337574ecd', 'e336af0ecf644dd4fa472984e2cbad290eb13bde', '4d1dc4f1463a1c614bf46c73f4af8c53c6fbb662', 'f24afb8dbd8e211e407a665409ace8b65750a817', 'b5a6a1e2529ce0b721c4dd42c2e32ff7bc493240', '7614afce6779328f983902eae8d353202fb2ef0e', '3cd4b4cd3f371915bbf44405cb5e83b48a339a32', 'aac517633e7591864fb96bba437592c938d7f122', '78be7f5c49ab9f4ccec5c387183c6e8b2f902cc3', '1b7043a269f7d88bb3a1f8699ee8374cdcd33d53', '05b245832621c7f5e5681725b8c06bdb5e86336b', '76de32204315d102e26f0d49419e6e5e6272c82e', '6fc7727ccb3cf81a9460c5625d73a87b9da5e7bf', 'e7d62aa2c3dc0d8ce3607712cff67c3481037399', '4b1311eb39e88c58df194b752523058c4f5ec513', '59288bb09bcacaf49dcaecbcb4f6351a90a89e2c', '1f322606b672dbd2e3be7a8deaa328e99607edc5', '24b6f36479e7be6d8d674caa2a33d82a0a0e7c4a', '0baf2de921baf0bc28a28c43086a43046a317d54', '46c6a7d4720a592acaaa6cee70d9257a84f054a9', '7e52303f9d7298157a365c8641f6a162e24ddfd6', '7dee259cb4276259d9d7c836d1edb5703548eb9b', '7f3fbab3d3fe20720e22b707bcdce00f0dd6ebc3', '1ffa65424b5b1144bd682840effff526cce93f61', '4a6135c716e5ede5d78664d6ea38b67965b44cc1', '31edee1b98959c28b47532f9bde089f9456ba6c5', '7c48898b18c0486e2fdef749ecb60c5fee209ef2', 'c86a164660b0a280921a4ff2b13a862b40d9bbf5', '1c833fdf8ea9ff264046f2a1b8f534785b70a28b', '9fa431c69850ae5eb49b870ca247275ec0646fd9', 'f1243253df20b94aef00ad44672ba74035b0a66a', '827eb253536e7db3a722a4e64335d936d01e8174', '1e6234b7fe90b23329d1c2200cf48021ced4a625', '38c1d0189c0a28d0c27dfb1b7dddd08dd419400a', 'd9f9dde7152ca2d50025fe273a08723dcd0f63f1', '6f1c375126c2fa6cf1c351be2c5fe5025d9d8909', 'b8a19138aed04054c4f062dd7cf8597f5a85e7c8', '0611fb64124175a3ea6051584c07e17c294fbfbd', '966ca71b9b2ea0dc5c0cb0cd9f523cdc7ad2f0cc', '56a9ae3cecd242a2710ff44ef91071b690c4bf9f', 'c45f9495a76bf95d2633444817f1be8205ad542d', 'e7c417542c25aca807d829416f44357d94654438', '4a5d826498d04119f60a8e272b25a366ee8bd5a4', 'd06b7bf58c40cbcb86006e2dbaad50fa00926d6e', 'b151d084e6998168b233637117984f728a67550f', '9919ae66151037c0f93ff7ab89810e7468f2f783', 'b971e1b9eb7bbabcb08f1264f583f9f0caddff97', 'd902f037690435ef6231fdc2c769fae157ae2641', 'd779b4e5d9a8f7c352e509b9fd147f5f4ccc20ee', '762db3700ea9e0f6a7cd1212b0bf7a3b8cce7f4e', '96e11ba0fb5d0b12adbb53b33d8ec1badfd1d53b', '3c2f8a621b0997ec205f487f158899d09fc48e94', 'a913af7544e5d70e68d9cba88557a50ec8960748', 'c491f4a08e9b2e0a05a11a7cc9c29f66a556c0e2', '3be07865a3a157844f175a805a6e103a300aaf4a', '8cbac3a5ddd4bcdf181cfb6bae03433bfa80c9f6', '9d3d97ce51ee05186d37a1143ece819ce8cd2c2b', '406ec22c7ff223745b36ca2e8d5cb020e29454a8', '949f1af7435d05f4811a1ca79b0db8ddb8ce4246', '586e1ef532ccfac4874fb5d30f8fa68cf086064a', '5a4627a6b5abe0071d82e2f73becbe8b23a9568d', '31b811132d393fc3804420e48ebb038b5c05edf8', '0dc58a0ec4f277139356830d611fa51a4e266ace', '70cd4b043c784409c8c15c6d57aa82ba07079194', 'b58176deeeffcc16d428974dffc8bba5d54ec79c', 'ea50f6a101f0f88499bf2adbef86015c516dff8a', 'f20edd9a4ce65567927ebf2b04b02c839903ead5', '55857424a66b0e95a0d0c77b1e991679194371ec', 'e4bfcfa12894e6b1b51e48b9aa117b9402847f0c', '45189ba29344ef92cd1bfd7de3f237c425a9f04a', '343c80af0c264ed9a1df44320a7106aca3bac432', '868e40385d06d6756b9b641ce864a036dc68a3fe', '0bd8ddb0c5cec4623a6bb663592747ad55477680', 'd05135706fd1812b0a6938470786e735431eaabc', '2b74dcc16a47b4ad6b769e64be992c847e9bbe5a', 'fb0050e6f7c28bd273b4eaae266686253fa239b3', '0808d8b9e5570dd0a0ac94e1ba856881113a8d6b', 'b13c9e7a85fd080d47c675528344569bfdf1e08d', '765bc01e49103523a684d4f3ec1a959971e8da28', '0c8ecfc9fa920e5495e1b603a8de5b1238262146', 'c2aba23530ee161c5be389d248117e73204cd75b', '1c6c78749df8f3eb5129fcbdb3f923456e2715e5', '55208699af6370132ce276702d4ad19b099e36ad', 'f60a4bd572ce89b56e98c12b63d7dcf358cc9c5b', '4d43d1449099f8a91a4d515348bb03a84c405814', 'a99ba8300259f6a8f6d461b34bcdbb3eb9bcfb4d', '909176a1e0fcc169d858a2e2ef30ea504d5f8d03', 'ad06c765d31179e56f309438367ecb30e1059620', '365f3753713f2d81c2e4a97aab58c1119556b7ea', '7e964d1f37b29e050a4f083993a133f9b4b00970', 'b2345573bf01880e89b00ca1c28e10399fea66f4', 'c25b9e069d2db7b7c5920500bf23f0301b5d95db', '5266e60b539f39280743008aebcaffe2d03d5045', '4c51a16a91874fcfe31058f66ce07a677583569a', 'd76d3e34c0c7f8e60aed8125d7e5fdef2d89a4e0', '1cb27ebc9de8a8f5f8dce0b0a2084b88fd09478b', '5e5c33f675104dae09e742b1f50157363fd42308', '7659e968fc7699f89d4cbcf62dc05994889e859d', 'd3f4e2434d798388b036380bb2b3d0eb1565f483', 'c037a59e8baad7d044f4273c38ef83fe293c2d41', '79b1a951e7e83b0c254517979fdb412aae5b6f9c', 'd99ded8e79cc8409aa06dfec7e127816b4c1f9d8', '03e142a398befa67011d1f0226cc326d6490b69e', 'd3d001cac75f85ed4753b0f458d8b54adfaa670e', '06af72dfcbd08d755237a91ffc227740e2f2d0a6', '8671b73e0aead5620415ae88291115ed853ff2db', '7338eeba26c973d2b853171c6459f8bd6e38acbb', '225c43b9d64b24906ac235846c22f554ecea93cd', '1eff8a25c5b05394acaab253ca4104e2a4184524', 'bc415249c69a54c35a3eb1cecc83eac79d2a69d6', '920a8fb7656bd28ba00329c4f05310f909532e89', '5fa91f99e513498ef5e474c8850ff5bf9dfdbf23', '14e8083cf37bff3d78314dd38546514144229fa4', '98e41b172acf1a73d73b785711661c4773da0d36', '03a1b67897443d2fb6a671e528e4bf4764d4e622', 'bd4535eef3bda14418d5af7e6595d8e5c3e6f479', 'ffe3d0543c9046d35c2ee3724ea9d774dff98a32', 'b982d1ee4ff8e0e5503461df7bdc23a1bbec8228', '47ca379ebc4c09e4816f25e1a6c78178b0d48243', '08281ba6c45aa6ccf06ff0fb41c3889b41cd0c35', 'e6a57554a2ff9858ea5103a4c9f087406e2e979d', 'bf7bbaf342ce5a4c29a06dbc42b79bb8a17fdac1', 'd4f94056123753a540efed3d46c7cbc6e403b8e8', 'cb670fb077dcd7549445359fdef87be201d806d2', 'c5c1b7a7df2cd167e4e71f3a40186099803379b5', '8eae6cabb9e41db0a55b07ebe77d4be530b560bb', '940ad3261e601c793c9e7c51b6b5c9ad4bee3530', '5bce267ae029b91f620f7eab73f2d7e8fec98c14', 'e2a4e6278a44d2b0a947db9f7131656ae15d4166', '672c55ef7516ae215dd135b5e5fb528361e83706', 'e5d68597e4e28a3a4633f7b840872352a1066d2d', 'eaae6c3eac446243a068dace46107e66b86f0c76', '71e2560d820504904a45d9f183bdd8354d160d1f', '7e90bb787d60f2f2898767e38808dc840833dd0e', 'cd7202cf0a54c9fb87bd145fa64b0dd9a4aa815d', 'e281a812e79a37c560e56fad3f7c91893be41f49', 'fa3176bf1bab84fa3c1b2072c630c83d70eb9767', '81c56b5d7a6c4e9f6aae56bb7c4dd6421ff5997a', '1e14ca471a4aa3c61d90086fc20efb73e77e1876', '7dd00042f5a1d89d18a06ea7a696ecd933227e9f', '62746dabebdf2b2ce94b7c634b388a20f3926794', '86a895068d622dcf5fa70c3f479ea83d61b9e071', 'dae59e6e59f87ecb14a137d39b9c414113106381', '4df9b54e6e72495baed01697e060033e2f39ae05', '1c934b02521eebafdad6599ebf862b9742feb6a5', '5e2349f39d9e04db5c05c48ddd081c4f554c4853', '85426a634b895d2b03a6daf61a28a743ddbdce9e', '58be65f003cea1a257bd8701f8024849a77d2244', '0c9e3b88b1bde62ad5d49f37efed1068f0e60faa', '4ba314a2b73793906b0c2dc5979b2584ceaa694f', 'e80e940e405b13f0ebcab9f8d96e04ebc591c26f', '06f3c23006b1b569a29f71318bbd72be34f6d7ce', '5f1f34b088c01ac8401cb2964af7738ce216cc20', '45aaa151cd6e82e8942d71b0bcf78b4564270e2e', '5fb3b207261ab7a5aa4a1659e9eed9b97ebfc8ee', 'c98fae655866d12ae049bc38ed1158cdbb163778', '6688927b1086971be0f208ff2671eeaef82fad89', 'dafe556d7e58e96e0d56afacbfc5c709e0793548', 'a887f32fcccdb3e6178fcb2bb04ac43ce8e9a99b', '93beb73cae208b8a4aa66b31caffbe44c5a94827', '448b9554e8a91520d038551f234412522377b8e2', 'd6d73a84b61510e9743c340e1a4ddda40220950c', 'ae15ed1a20bd237438a78406c283bc7a94a5b585', '1fad7b209fb93116f6d94a277084ef385430586e', '6e50d64bd32142097d1c5468818a29e5d565dac2', '82b19c63181bd347f45cade4d48d4631ad2130f5', '5cf2c1bfe0c7388d736288851b7f3a8cbe082b69', '40d329a5f64b6f895e54f506f2f9a22738c21cdb', 'b31fa5958fccbd06eac162833be8d08bfee02682', 'debf7551a793bcfe9a4fd1da345d7a1d4605b462', '4f024535616e299fcef7a7878a4fdf7bbfd61259', '71ea12ba85ab7f9173287cb7338563a129eb5ddb', '7e1b1f4f8e5f3a6dd62ceaac393fa910bc7f97a6', '86977b3392491a5101c5ea9c1b6278a81690f66e', 'e8b3b88d2b93b9b0dcd14db672e2c20704b73433', '6492dae065bd26eeecbbbf7e702f984ed991b013', 'c76cb9169a2785c9a5f2767a034ab6006a9488bf', '190672fb27f14b573114bc5a94427d3c888380cb', '57ae0999fe267a55cbb0c1ecf3c8e5e24432d40b', '0a8b03e23a1d93db6060d25896351008547b7c24', '0d7d7d95f973a9c183a57b6e014006a6a9b18fb3', 'a360a3b988d7af7f3f90a33e3fe3406f75268a8a', 'cf2350325b3fb9e774536ec75bff7bac996c9f4c', 'd21f1bdf9f1ab0ad97f41c95c628651b2efda214', '08686f1c0dbfcff239ea8c4644a0ebdc9aa925c1', 'bc34de8f325c10bbaf8308ab92f7c007fe526ca8', 'c345754e542db30273c8d0f2f3477b10f7e20224', '4cae48a479c53bc63927a27a475513219fbb271d', '2b4265a52009de0c77c0c606a3605d13fd8d51df', '5b75f2341b4a9069af10cbeeacf41fbf686d46b8', 'b444eca7f6799f40049fbfc1e2d2e86be6a19616', '417f93c4201eacafdfb42f7cf195b207e5abc638', 'e77b1c7792ccaae3bbe5c93c148e54bce5f36d67', '7e6c91489b24596e44ee84489a045b30aca2f3b5', 'bb600551cbd2634be848912005b885aae8a647f5', '9ef0b10d1f7d55f5b5f032719aa96477922245df', '88e5bc4c30fbc6ead8f61b966969d19668e8f678', '3325153ea098c7c452177e30cb29e65977929f41', '4fd98ffecfe53586a3670519f6f73714fef01609', '37bad8c3233291362663720f0323e7b850874d9a', 'f8d85b361ec6f19b8bfe85660178e65fd4d96ede', 'db0003f60afae335e0b7bb5a9e7f6d23b950a0d0', '6b88aff1902c4ca24a7222e760aee6c044e23340', 'e474b126080621ade67571020fe418fb066d4450', '277756c8ef487ac1c441b0950a8154ac7178b083', '874dd7a60c0e2678661bbcde9cc52c193348f776', 'eb55b27d016a864d0c56d62d85c31f64afb734aa', '5141a28a93b25f5c24976d0240eae3508d1db6c4', 'efd0d4ac604fe9e3475b05595e519208e928fc59', '14a9a6763eaab9103bb29bdcad4c6c8777981cc7', 'b8baa28d0f890451fd05e810283963132f99787b', 'dd578fceb806b6a9200dbf53b381f01200d10031', '6778ea3e03e49f4465b33d79253cd2073cd06766', '8050aadc19495756f73ca64ac4834a238dcc8858', 'd2f1417ef8fb66ced19a45dae07f8476c6ffc2b8', 'd1a11e37dd03395838569d6ea6320591a614d6ee', '0ed79f853c8f02fda884d1669fb522ffd298f7fb', 'f7cc5aee38cc83fb7cb8d5ac80671236e84f7ffa', 'b30d277ed2fe831e4207cc9169c51aa58bc0bf39', '22cfa136700572b8bb7b077cadb95abd7553a6a8', '646a1f039b8b8828d22d191eae9f31ca402254e8', '3bc026cce342063c7f01144f6dd7f4945ed402f2', 'ee273f4f47500d95f103aac94cb0342a4d751b17', '0656bff9e1e8907ced11b160a25a5280c2cd7eeb', 'c8afd6f4620184042cc48ca0eba9a657ac89e90e', '6193dba434f0cbfa3559ce625de3b9d5937c2c65', '980192295cc4ff22346ef85e8391396adfeea701', '18ec5c4cd35a83cb4a8f6ccf7d783dda44c53f4f', 'b4c97d7f51f6561643904a96ce7c2f216a6aee55', '363cb98a087e4a3eb6890fd1af2d418116f85ff8', '917211c8e32f9ddf1d90697d01847031c8909152', '0ff452321adc0a4d65bf015ddbb6ba371ca7b349', '99ffcfda146f5869c5186419f1278ce5ea4d04c2', '72bf63c538d99400a342b6ec47d8db8275662a5c', 'ce20de47ae29f45803654ef689fc60b73d620675', '74a9d1e1e6f38549301ac3da23ced47c4f3d6bc4', '9e19a2e89793aa6e59b6e90a4e18e169ddafe1e0', 'c674f1e4528d73f478bcd22cfd318fc6d9b53e64', 'ed53d5e821218f680c4d5eeafd64a220c9908fb3', '13f871bc9da8c629cb1a0f79ab3b44bc74746e62', 'efb0cf992627038df029ed59e939e60947312e77', 'ee9549ef8e36ac50c6c7d65d078e5f6569558502', '958d68dcfe2583d9d0055ce15a51768ccf67ae4d', 'a32fc02630cc1817aae750b2a1426f84f82395c5', '20752b51c525852f964a1230b09fabaa24cbf777', '3c8098e717b3bec5b6f11b18342e6e07991042d2', 'ee81d96c0f33d9230bf5c659b05375c81a7e4065', 'eceb8998d521c2d604de170ee48936e3228df396', 'cd434245bd5d86c8a4749c6bf834cc6b34746d9c', 'e1b62508bda03f62f621f41547d34e995ded5caa', '703991972982969908cd644feb291980c513b756', 'be38e83f925f41d8da14d36c7e16e0b0b69a9e62', '1c04391fe056d4c93ac648c1a60c4d089ec46896', '52a61bb72e4c41089a4cf0704e6a27c609632cc1', '001a852ecbd6cc12ab77a785efa137b2646505fe', 'cd64e577854278cf871946eea2e5ecebb48a12cc', '91f99d7b7834a87d1c5e367519f5e2b2a036b08e', '4ae0ddb57fa362e77d3982f04d6b3c365713e855', 'ef4ebb4f524ad0b55e2b17183478982616536aca', 'fa2c360c2219e51809f873bd5c29062f3a24c935', 'ee71a261c6ec696b6d3d9941abdea9f1de9f212d', 'c5d4a048f92e24020b4f1afcf08c104a9efe256f', 'eaa2d311e2f03cce0536052bbbd0790a4404cac9', '8732770564b410b8bc1ff64c2998e87ccdf4a1a2', '140343b14ca58a13e15cb68f13fb7ad53ddd313d', '318676f7c800038989ce7b23671f7ead2a5dc9cc', 'eeb5436d688a37545049c2a06a98df561c8e7892', '06cd4264073c9a2a83128090ef728e006d0e7391', '73ac782f1f4717fec79be100ee6a8b9f7052dbd2', '035001b2d3591aa74806b21fa3ed62b31881706a', '597f4a2eab524b78625e1d5a04fd93bfdefd8492', '6f466a35a236c02a837dd7cc579c1b0584c0b10e', 'a75c9979e8b44173e611e5b8590c8f856cbf7d1e', '9c29c07d564e1f74f3401bf173c0f917a15f7943', '75e89b27d3c1be90031138ef8453d00aea2e223d', 'a0d55a68ca738fe3405e8880034a514c6348a434', '9ffab15b86b113c90fa3c29140ba617c86947dbd', '96ad758ad718591cba1a1edab45a41704c059235', 'a9c96d27b0fbe7d94cab004f47c246d6bec67bd5', '9b6d1f9410fecfdcb6d2c539957283d2a383856c', '5475b7a19f4bf635a41bcef7fe9b25c942e07244', '78411bf462db83678371c631950df9764bd98796', '0d468b9e64a2ac04064be68b336333aa320501f5', '978e2571425cee174466d7ad1c6029d0a3bc966d', '280824e4fa81a9defd8246b8f1f3eeb19ab96948', '04395974bd4896f3fdf505f0853ce5049b81261f', '72d0b3be31e55da610b7561faeb6d69d0f59fc6b', '95e35131df5fefa1f0719186a2b11114fa54dedd', '1237fee7816176b3b6cc088e83fdf990c96bc902', '1acea489aff4e9657c235f3cd28ff16196032a7a', 'b7b6069aab3ccfc364e31dbf342b6c0ae147ce11', '5a791e32eb48e05d1c20cb3b42fbaf4c74594567', '572813a2704bbd98ef382a1235919d3d22bcf112', 'da3a225a7c3d6859eab99eaf4596bd34c0723740', '7a67e4a2902a20062e1f2a6835b6e099b34b4f6c', '4be9aecd9f95fb09e91a6f2b68fee17934149639', '9d5afbc1992b465f865345a4b3e7247fd8ca1bd1', '124f2718e8379cb766839832e371709542e67b22', 'a93eba173a0591b68c5548a38eaa51cd7fc55280', '0b6e6815c8280f1bd8e221347dad9b572a9255d2', '071487e033109a857acf5431aecb8535e2987d6d', '0447177dcc9df02c6654fabed04f4299a0313b6b', 'a7bd22ed96a59d9886ce268e8138a81e3ba755ee', '58567ccdfa469279d23509eb4805d54435e72021', '41ce6fa7b01d5d82eb8407748f3f4b143f5d2ea2', 'f31445d72f47510245fba730415555abdba209b7', 'f4e6a53c8025a95da8ae16ead810bfb2e95125d3', 'c2333751230b7869dcfee8d82a0d316dc2538fd5', 'a8ca669d16e5b2883b7152aa65e49a5e11b3fd4d', 'bdaa416ab66026aa944ad958843de1f7cd22b2c7', 'afeca2fde6728d5bb3f38ba8a43893c21870d644', 'd8e328bd7759ccf7c9b6187a13503b578cda146e', '34f9836e99cc41b7b73445074a4647e13d77dabe', '4ce558fdf80e8f1696acf73e5cef12dc271f2740', 'd33e8ced22ce6956373049bd7c244c5f5f363613', 'd17d6be1e6db531c1a9301a319ad50f3a8e34e9c', 'c10c55ea873ca4f39e779a2c4673ac8b801b85d8', '51f2606e53a17d78566e345edf1d0f8eaad6aba1', '543719c15cf48534831a01ca122a303913218dad', '1388c6f6953103bb1cfe50d0e3f9eb3f7eb80399', 'db0579dae6dabc8f790099be68a27a18fbfa58fb', '0bc1a54a6d519d8dc0daf60dcceac8ac6c013b08', '75838b42e226800582ba391efdd987c19a9a8ef4', 'd01176f40cbc95dbf27b347ef9764511880637ac', '4b84682a844f37446f01d49ee9ec952f4608773a', '39a67319c2d225db7f06ae03884a9ce8c766b682', '10646a3df65e714880d5c32972751a0039a9c040', 'a9468ca398ba71cc27775c79a9e3fe6d50fe2d09', 'd5d31932cd4b75a33d49c358ca760a0938c6c649', 'ce595cfaa4b5032f37fe4d7236968b364cdb2a15', 'e4a3d1213404c06da30d438600c84a84ccdc01a4', '7bea2ce66653da5d3fd31e5f3bc2ec70ca3c3953', '749b540d92f9fd03057bfe99db4943f5fbfab9b4', 'c5c9b8b25ef177ab3377ecc9fcdb5443a426b415', '440a50305795afa60904276684ac7abc3a6a9ea1', '9988d4989b30dd7ec3791214805bba85f0c09d50', '8c8a9a283f7479295ea98cdea7cfed3976147eeb', 'ed847b6a8e520c4c8969c66b3cb9e4ad6e9e7af5', '1a7928727e493523ec7539328b82c5e2346cff16', '3eeb89e866c4aa7ba0e99a1a9585e583a8437976', '7b8d96d4611c1ab92618b3340e2655ebee1aa0ab', 'e1905fb4d285b1c3e360b9ed5761e1bd8b03514b', '46c23cf12fd4969a89a373f3c0333a8cfaefdcac', '4899324b8f236df710e3c6b8c4f4adc0cf68b44a', '672aecf82334cf4a99fc0d50bd6ee89c12d65ac9', '1d2fdb8cd1aea7d65d0d2542ba3d859b30867476', 'c510b428e87336622175f78a9fed7b8ab709445e', 'af9fd23ef09884afcbeb50dc5c95d54dc7ac839b', 'aa4f531b08754d3beb4b2664da1c7cc64edf0216', '56bae969a10115336d24f167111c7324dcdf8372', '050f27b8315d9ff937d712799950f1d6207a4723', 'd4dda0b759608d761e15b198b5b33b4c6d8fb068', 'ad0119d7b45dd772a500d40d1de2c3fdcc0540cc', '628043a47c6cca5bab72e620a4c161a1588af9c4', '6f2a2814638cb70081ef84e149619eb3f4490f4f', '01327bbc4fd7bfe8ad62e599453d2876b928e725', '2bae390a03f4b973aa9c97f38db2899a26f0332c', '8243ca8a9b49565972452236eb7ff73c064806bc', '050e4e827aff4e361742f075d1799ecdf6f43b2c', '12c06a32570498e781f1f9aec3ff5d61558a3c30', '03cf14c7ab266fc3a997a24e99bcb6afd0d06642', '815eadb3dbcfc1d018231d56e087310bc809971b', 'ed94b7a3def079ff401286f5272ecf9108923f5d', '607e134a06470dff1e002e9e1b2354de65fce9e2', '60b9d990bde5aed4b4d24877944bc6f491774d89', '4d3c620d8ce3faf582fc704d5f50204c6d74c50c', '5617e3e12772e700213d2139f447e1e5a0582267', '167c6f1cea96bf01012f5bf8812499ea2bd817db', 'bb8650038acde3f0989d4256b15f82b27cb30516', '10a386e935579c6823060aaa76689af8f9f51011', '893df3d757ab4c9f43f4715d849a2635e77baae5', '6cce7568da5452718e1a3702edffac34a8da74ec', 'eda40969b61f3ea06f67058493ba60fb5d7e92af', '9befe35118c633e66b131aa8102daca6ada3dfe0', 'd2dfa5ea748f23a63c06fccf05d2e2acbb9b1585', '24bac9e48151728918441afbb3a39830c73f353d', '99e740f3090515f7633956414972aaf38f7bc363', '9f44851069de9d1135d9a0bbf59636e0430584e8', '1d01df7e67d8b9f5e59ce2291bf03e9fa8201d57', 'bf2072ac6b1e54f8ddf56c5dd2d824e224382419', '6ecb81b80a34d77de44364fe31b92718be154c82', 'e04510c72f3e96ac354b29eb5b7479fc555509ce', '72e7ad99036e9f27c2fc1cf2b23648ff529f8afd', 'd252d12b5017d867ed0b33cbb5ac2cbe8764eab6', '0997fe602ed92fd15e24c739c29f68866ab440d5', '960efda5648c894901ab22d0df8bb74d3a6a1e74', 'a33ac714c640ff367c088e279fdb188369e4413e', 'f5e3d2bafbffb7e67e54624477620a3ff19d7d22', '3e80f80cd5746f040d5122aa9b5d520dd74fd961', '7dc32799bc5012bebc1de9a7c91018e9496c5f26', 'b9a14f3b037062cb9dce052c8451bc2c2a9eba00', '6a31a546cb1ee17f981c2a0b7920b15dab6c2a05', '4565b419e52bf87b1681c364544da41627036a26', '36ea621625d6b7f33ac7ba77951869b67e017b0a', '2f538a882f890a59c79dd8b5a60ba39d40a399fa', 'b41384a6e5eccdd3aa610cbc38debd62d272e1fa', '6592c8b5f74ed790c415a43d2f2b95b866be6623', 'ec7b9c00fddf4ef9efea5c04417937af56f7a079', 'dbaa91719662df6f3d55f2c8eb1f46e8431b04c3', '15114143f0d6d0da24a8d583787127781dc6da08', '4a53757fc2312a61b8acadef2934f276202e9979', 'fa19d1470e496ac4a7bd0eeb07d17b2b3a2f9e30', 'b466bdea07dcf1c0672d82803d9d1c5e0b385500', '5762369769eacb15c10da38989a62a3f229ae029', 'bcf44066b355bdb06ae259e97a2c5a8139358b16', '62153e5c53fc762b6b47e768ddfce05cc46b035c', '1370abda59d2886dc8e1a9946078e60fc87216f5', '3c6a9ef78f50977928e154e38e92e750bf2a1916', '3cd520f844bcd6725a6b070312e826737a29225d', '8880cc040b4ace6111ec82a799d3cb636c4c4149', 'f7ace0182bfbab4ed7bad1fdbee461dfc2dc0458', '015aaf617598e413a35d6d2249e26b7f3c40adb7', '24e3b42f7e91233ce8d7695723d8390e5162586e', '4ad31e7e0346a74295927ea6ab3c78d076b647e7', 'b8b57bb1d1a66258dae7496f8018171c3c0b85f7', '691ffcffea3504411ef642da7b2a34e3567e3323', '12132ecd04adce12d512a86da55d72ab85bec569', '308db8b36ed6a332c2eba4db83f73d2ef9161d64', 'c9be9f9150bd696bbc1ba668ac02d1ce9828a29f', '9d0de536616c50d294d42acc9017152ade768312', 'dfdd3e59aa985109cc219f1027a5da210d4c9ade', '2b639a9517226a987f5284ead14ae50d625f3b60', '8467b11750659dca91f990cd9c6115679d85a760', '4aadb9e620e99d5f0720fa5e2d38ad2f4b889315', '3bf1ed351aeb90e2322a10136f73f222f362e1c0', 'c75352205c64f7eb8f8259729e75675241d8a2af', 'dc910c0ab9a73c9318e1b0ca63f50ddda35c11fe', '2ec09a41c9a5c0b3a7a4389f452c2d6fa1a285a4', '1f3996128e152a9e8489e16e5874749097c2f057', '231491541ee384fce036cbdbe091796e616e2ecb', '9e9c0b1e3d061cc4bed6589b9500c460380ca017', '4b08066aaadcaad13e6967f547a393dae3d0a206', '2ddac9fff129a7337c7583fbbff90c7a46a197ac', '0338505dcdca71bb3535af910dc72cdb98008f66', '1621ad3bc943068ebd3d31b8d1a11730849d9cdb', '1c95e052389bfa9ce9d073a2b9961a0f940049e7', 'e72df67d0ddc24e65ebd5efa83657920b065a47a', '84b5001249c065333dd162007f052de06a120aaa', 'add71a732dcd8d173324d3a97177e8091582133a', '4f03635f16487c0f912953e70857f843c4c33a4b', 'c11a2d09dfea12a211d58db6edb9870fabadefbd', 'e6ed9e15addba353fe3c1f36d865a63fa254b9cc', 'e962b4ad6cb3d0653c3bd6f14acbae7073ea5085', '1314c968baf8e2c0390f593542f2b2c85636c542', '89d49c9000273f4503517dcfdfac03d1b7fc4b2d', 'cae53a371195bb808183902508b2b20e9fe3041b', 'b7ec3c8c3ce8d8eeee3e772af18f7258517e5ed1', '49cca7443bbb67cd5c349760d23be725d1acda73', '351bb4accda25bf76cb762214092bc682998d041', 'c1ce968fdc09933181e21105e9fa0bdf7d6bbcb6', '1156023fc6dc38e0c294e3b431c7d019171b3882', '2b31033c4aa63af2b489845b6bd6e68bab274334', '4ab610ec1a8278193e7b8f8a31b762eee439209b', 'dd5f01e0a8a097a8925e0d741640cfe13af8a51d', '36f02a0721c579eed5eb7019b5d143fe651a8e67', 'c5ad6efe84b5bc41bcc0e25a0228d7f152731001', 'fdea52f2f9965eb359622151df1638f7b1cfc6a3', 'a394511d930788b61e6cb4e96584c58a8cbfabb0', '2f1e367d76c14bc85098a6546f9e696485929f5d', 'adfc574aa572ff899a7301cc61717a0273c9ada0', 'bb6eb6d61c0786af1821ef2418c9eebdb443bacc', 'fe4f3878c8b6650dd6c48092edd53b41ef5c5c78', '9ddedbcf871d810ddfaa74bef866caf2969b7325', 'edaa3c05234e79f86469f6d21d7cf86c004d99e6', '8011ca1cb638a23454c14178d73f9f27b123a924', '37e4183f3b75d2f260732e6b0b8dbc891959caa9', '9d2728e966dda42cef2964dd92e412d0303edfa1', '6c14453c049b1ef4737b08d56c480419794f91c2', '561ec7940235baeaca3948ecd166464cd8c4a107', 'ec2bb5a01af2c2f2aee40bba390da3f68b09fb1e', '29e6fdeb11b069930c0ab7f3c08a8b48ba9a17b4', 'dcd49e027464e69fcc218333313df05f48e45bcc', 'bb19b7c44f70397c293dfe683b567d6bfba4cd12', '2158e864893d453b0a083bfeb7a6318a10520033', '7e5e06fa0a43b10883310d20788d31fd7270910b', '20aec30a0c3745f1c737a2d26f66bfad116800b3', '9fd48ea698d265cab4c54af3fdf20e5307ee1694', '05e1962692bf473a8a57ff39fc3dc9080e7e2c46', '424aa8eef3f363ad6731155a137b9d0fa4ecfb48', '3c713ee25965276f322ef820a3bdfd6937ff0478', '62f5565abd762cfc64d3d4e2677ddbf605409e05', '30f5996489720edcf842654cd072ccb6cd38e927', '4e766db524db2d6453692ee051cbd8851f06ac58', '633e491b78e967ffee40af96619cf2125a14143a', 'bcc9219d44f514e0613efbbbbcb8f520f0037abb', '426f62bc2199d666429da5f118ea2b7da798bbe1', 'd4b4ff574ea981dbc93abe829964686706608d50', '63191803ef872b8377bfc24156120992c415d18e', 'ebe8c533533fc85c66b0a1ffc25bbec71e0e43ae', '5298d555ccdb133b67faef9ac1ede99d996153cb', '399e9a6a862f39b6f2d0cd5c4fd74ffb58a214e4', '0c422e998ccad7e74cf62e2f4bdf3180504cadcc', '8a19c743688b2c36c8acd9931fe3974a598cb3d5', '6d67ed7e58b2992d875f393506e0ee28c6993366', 'fc7057b926170089a62476baa59542823e856f62', '08fb432c559e98b682bb5b7fe5786900e58c5400', 'd256298ec2f083189863b747ec56dd266b1e4248', '729704b2fa92a8d945a08f9e86a2f3b3642d7b19', '02a05d0b4c0badd06c582e06e8054b7aee3edac6', '1ddf452734f1a16ab87d1852fc11c30e10ceed88', 'ea7e262266254a78451c0138caa21dc2885afae6', 'd72062f7b708ceef1e634b929b9a87110fc78511', 'e1bb3146b6b6a16f03509c68263bff06cedd4ca7', '405b76c8d45f3da54e7780a36f8b73f7f675d40a', 'ab2dd84f7ef431fa640d633553ed8e9122f69e1e', '9dec78754754177de533664f9640c5bc9df6196a', '58bcb920ca2a5024748bf36aaaa96fb24ea231cb', '4d4f23b563d280e30b6d97458c849be697f3a66f', '5fde1823628b555eecd3885ca01b84c2f91e4e58', 'cbc9208d12e52d08556ea0b219f6a725987bc449', '1d74fc07ef225ff993b9f80dfba85a6bd2bd55b8', '10c9d51bf6113cbab0c0008bdc2bc9b92dd83433', '10ff53d6303c85f85a90f71e09c061ac42718c63', '92cb4aa91f47bda9538700de74089594d9c2eef2', '0fd4a234c155b4a6c70172cf5a41310e2c0b9a64', 'a2c088846c5bfcf9cffa5c7f2a6f8969e5fdced8', '681e3be3b593f8f6cfdec744964c8957a99f3769', 'fca6c42ccd571705f037321f7dc61ab5ac1d2f2e', 'b0feffcd869c52525146cdd3df7f459c4ccdffb0', '609a7f0b77583587c71d13f9e6ba17f999fe1fcc', 'd5d6d207e9f48d2914b6cca338028eac89008fbe', '289f2e96de03a11a80530eb71bb4dc0d18544d58', 'f6272b166b17ab581331ef873f361c9212f80545', '7749c361dfff9a4dab017f3aebdbbf3fb7223aff', '52556da89b849ac2223bdcf91b8b1bce2cbc6feb', 'b54efc52c683cc10d0831fc6eb0a37b6a32d48c8', 'db0af1d4eff6df9d41a849923b487ca2d6fed2d3', '4fc6b6fd3c6800aaf316ddf6beb00f7f93a903de', '98a7e1a9dea2b04258b64b5d08f4e88d68733052', '528dc7e2cfca668c539e6a9b07a6563e2251eda2', '490c82efab176de3447cef9bf1a0969cd18b7c55', 'ec9c4d49e866f58d06fc03c0d832cb06031c3921', '98247b6240b3831804b0e04f341fc77517a2caf7', '668e792f9241fc5d0e3f92b867c565652dc90c45', 'c59d1bfa1c2d4976c226dd465203c8df629db673', 'c9970684299302ffef022c03e951886206608fc6', '285b23fed89feb021ae5e487b13a7d398e5eaf25', '9d0375f208a9f91db408b5cf8da78e976fed3a55', 'adfa9939e3df54ce9214d0b485bf57fbc649ceb9', '223f763dc17776e3c9a3291e4bd770adaa244a0d', 'ff833869969184d86f870f98405e7988eccc2309', '7e1d2be90b278dbe75951826c2f233917161e176', 'fbd4b228735015ec2f9bf13666ad685201b13815', '68885774247739b063cdcc1c5ec38471fd5da486', '36fed506b6b84dcfc7a0dacb3ae100a362455cb2', '757f883c413c221f0eb7d431afac37832f86ddda', 'aa04ba09a50cc4849d80ae17e338e42ec58756dd', '9efad24f9b00ada0132b89bb150d188e26bbc90c', 'db5783b11f664f9ea998753be5868239892683f0', '464774264f0d223ccc0de412b9a9d4cade583b52', '37febc1d1b57c9372b5d944489735036fc38d5c8', '1e0fdde0b2d01d38c1c493e5f7e1122df19527b9', 'd638a8002ea608e2ee6bf9caca5c1370976cacfa', 'ad08382f11cd57abc8f2983f931d9e2ab4391485', '06205401851624237e14cbfdcc5018a7eadf6a90', '564dd834427fb4a9410f670a368bc73978e9653d', '9579bfd2d957c76c2436aa22db518c65172f24f3', 'e29213ee37689cbe61b1e232c7e4106b5c7c57df', '32ff3f7d69b0d0184c227711376f2c6792171ce0', 'b4cc6d013a7a0122f6863051ae82319810114064', 'f069819d1dec44852f55e2d0cf12aa31b72eb4f8', '7a7fb282789944665ffc1cddee5ddbdbd7ca9f64', 'eac9388950c6736afba5f264c329115f867eeeb7', '08c47a875a7bae9622f6c7363487feb3ef05b101', '5abc34736b5fc9190d2d6b6c449db86de5d385b6', 'ac6119f8d550187a9a5998184ccacfccdaa255bf', '62beb9eb76d8437afc6cf8f948fafa049258209b', '9cfcf871ffb197ba5ad6bc6408ab5dc66d5b796d', 'c60bb0a50c324dad0bffd8809d121246baef372b', 'a94a4e8c71c20448c41070bbccd110d6b8a1fb88', '97d10693ecafb41f1e63208f026cf929c427fa10', '3497974058d7fa186011dc995174d8482e171548', 'afd74cb6a0cccc98066dd20835e5a819f8f3be59', '92940daa2dc6da6dbfe807c6297f9a62d84a4b82', 'df31aa6b773a6240c4f983197f2bc34cbe6d6745', '5eb806619e8e522866f59bca9dc3f5c31207e5f2', '949b55d25df87e614350cb4332b274b5d099bed1', '3b934bf4c7f7130ecf2a102bd6915bb7595e0e68', '33f4ef7cc561cae6910869e7106f9b8a43336866', 'c98f0055235a1e4bae3a7867df2533e85312a18e', 'a28bd45dd9771726231e43cd4b8692cbbd9bf7b9', 'dc89e997a5a5a88a0ff3bb8e05f3cd88b6b462ca', '72f5453213a4cbeda5f5c45b06a010e1a0c94ca8', 'fa85a1eb5babd35632b1fae4a81361c977739069', '31a91f6921cc45f901469b05edf299e5ffffa33b', 'b2487ac0635f3c1679567caf17da370011b920b3', '9cf4ebed40c2537e954bea6912ce7d05bbee1bdc', 'c8c4ec21ccdfbb3e471080460d044498da202a2d', 'f8cbc211deaa9650a29c02dbf91bb9714fd5a7f7', '8b985e1e5b597b882c9a59a6589e216a757e9a0a', '02f0642078eea93a71e4f886b4d21954c87c00ee', '2c944d9323cc4b46671e0c8ab09c2a69649226da', '4ad1515ba6411521c3d2c59a4d904f8dcbaaf94a', 'd87ac220a663f3351f6da98aeeaf467fac94e620', '15600d05ac15a5712b1d6e8c9ac615a4cbba1252', 'de9f5eb88d3e90cc3334f2f0e005bad93c72afee', 'b41fc82243a67b6ca2502a7a3c4bd1e89058460a', 'e6dc91af9e93092a866e4dcd7aacee66b12efe85', '37343f4f25f6fd4796c60c7779881d1229d1f0f8', '3b83aa8c20fc2a86390be55eb18c06e423b11c8a', '254a84a6bf11a370b7f6808caa9888f1fa8d3d2d', 'd7d4c704c399171087c743867066d3ee2b12219a', '7182b8fa7c348f09c40f2524fb665aeb1c24f3ed', '68e8b9ad64fd737cb11f69e726d11a9ad3295497', '1f633c921f36fb7d8f1f40a96560006228cb0cf5', '3ea127604534e078a893dd7469428e00a3b764e3', '55d5746be3b458dc4628a808842c7c3b0161c8a2', '5ed79744f1f255277a967bd6f1e2fba728bdd59d', '21bf02745d00f72bbc518a4c1ab79e4cfbb8ce03', 'dede76eb9bf1474059ed6cb62ad243a5c48008f7', 'bcdec12def6a14db19ce06a3225d7d115cd1ffaf', 'ceef2a24a2a82031246814b73e029edba51e8ea9', 'd0ca8aa049aae802cf80f4a386f192463ba9c4a8', 'e8bccaa4b748ef815e2e6b5302a3500aa2d3940e', '3f25647cdde98261fb0796cd3f9965c3b551f7f8', 'eece79ad8de8f423e6061d02800263e9ba020cdd', '9fc616783b432e537dbb29ca3150221951bd3c40', 'f6389cf3e592f555976ed6c3b11ffdd19de1536a', 'e35f4206ff2e99fb052f824fbb84556aa8381709', '678235e4c20e5bfbfe58e8fc06190a009a45757d', '05e9c25cd52ce0cbb9f75c07c12aa469ced4c7ab', '69348ef83a27da40dd5f58711549b951e3c4052e', 'c703fa336790fe8b562f4a8ba2e7d900c6067ad4', '34160095e25a3a66cc654b51e50ea724deb9174c', 'bfd51bae24c88e6cb274a8f5696f06d45f19fdcd', '07c5c96c4246fc5beae208b1c9092fc63ddccb52', '4aa297e70bb5c1151a2c4598d0ba648f969de72b', 'b2b77d3cd1912990d813582adb8038fad11afc7d', '5b288af01560e142686b28aebeaa9fbba4292d37', '7eed6ec6366437ecb7faa92a362a420d2467eaa3', '3728b0322a1116b4ebc816d9f09a8e2b1a3292b5', '8b84ec4bdeadb5ab8451ca636e6a81ad8f349532', '781624d2626107198d876154e008dfca3674f339', '696b04923efb6669202317272f2a34ebdef4b087', 'cc375d7075f86e41851226c54db6da5252a3868e', 'a37adec71b667b297ed2440a9ff7dad427c7ac85', '8f5c20b96044fb4cfdbdd40dca39b54d580d7171', '7de7f5a2b5708ef9c072fa2fe7003df57de50782', 'f165d5aa731cabd0bae30144a2167e0f8217fe3e', '0b7afd286696e2059f9819184d1868a1f002cf30', '1af18d2c6c056ad1d707ba632aa0500089a899b1', '51b19a78560a0e03062cb3046e926e46ad9db084', 'fa19e2f0e9ce36d31476aeff4ff8ecc0d87c902d', '2156668949edf2df6d3d63b27d017c546e181521', '71968d1beb71394383d17dbdf63498c1df3b3c65', 'a55438f5f93a6266a3dc1b9788158fa32a4b91c5', '963e0351374bda01f0690bc20845e16d60c0b131', '04aefb37b53bfc5a32b557ab72084757daab6bbb', 'f24d9c005ae2597291e5bae41af4ae07881fe9bb', 'ef0f9426dfe632dfcd4967b0d20935805611a20e', 'e305ba1c661de8b8a4b3e207fbd04a95fe2640a6', '76935d62d60d7787bf06bb153160e529394dcc52', 'a3125a3a0a42457726e702d40eac541950c0c2dc', '77959baaa9895a7e2bdc9297f8b27c1b6f2cb52a', '74c5eac37fd802c0c44ad877bbad9dfd885005b6', '463878695aac3acc71e9d7c18e7a3b5d8e1a5456', '85c10843112775c28486d7fc15ac68fcc9c21260', '68266c49a397c242e2b8bb1e6cf19ed4c6521cc6', '05787d122737781f03821db619749b9de0d9c648', '2cccafbe5ebe85c66cb5c0db3d9724e4e13b07bc', '30b4a0a1473db57feaf5caaa7abce66fd7f84201', '8e9cb319bac2694af0e8dc642bd7486f873b48a3', '0629da52bd03fe1dbabd11115841c0231fa746a2', '05be791bd3751e72bcf5f3a9d51558b671d772d8', '1636c3001cd054e61e88b41d1f4b88c4f8f6ecd3', 'ec739de473a42f09584f3311228a0a31cb9d3b8e', '5f816ae5cdcd611192e5153636b4f6f540e55e74', 'c36c5fd876b59c9c9b72c03ad8e34745e0e9bb5f', 'df3b48d31c5285ead9e68932279bd0183bb5182e', 'b1f493c95ba234d783e017bc0981cd99f7098d00', 'c7ed950d8a098c9a49cba42392a219063362cfa7', '077cae6cc507aa2af61dab46887b264ecb56a351', '9f576497193bea24479d95e85bea76da681871c7', 'b377dd94f30e4610138600292abeec052c0d98f6', 'dd3d590f3987d99964e942768273ad765901e180', '7bfe18871ccf7cfcbc4f8afdb828a862713c055e', 'd7bd3a116025a4d08eb04f0a247e738cb465eecf', 'dca93d8738cee214b9c17a54a31ea45ff2d694ac', '57c808d5222c5e6453e55189c8359b04b97452df', 'e5c059e2574eb3feb2e2678a6c979476ebb6d386', '020c5d8ac29cb133c5bac74b27662a3a2c2065fd', '33f9e29a673c954dab638fcd1cbe659bd230876d', '806bc24fe9ac575ac3b98cb2304cfbc522217bb9', '06d33cb1b3b148e62128e6590026e5799051044f', '3d8df057a9a6648351d044d38ebd1458965c789e', '8787361a68966b1982fa33e0301720cbcae559f9', '20cdb80c6e782bbd7936a292f50e90c18961240e', '2e9510c316b3a75fcc83b71a90ca01099ced1903', 'ce8217435fa07e214da7a445a354f2e3c991b2bd', 'e29e7c231a152bef11d0121d2ad4b0696f535423', '9da5d1352f801eeb9c8068bc9f0ab841e3c7d750', '5c4813fa065dcca348671d3d56b5b6f132e6545b', 'ca4230273aae4dfbcc88e5f0eb2138d0654abfd0', '87b65a71eddfcaa5405b37b46fed36c48a7132c0', '2cc6287770564c8e502ea427acdbbb76c9022d18', '3b9881dc7cdac6ed6577d369388e0f8572cb29b3', '49ce1122f8f70138f165e88489dd9279420e146c', '8674bd4891c64d63c5e17d17a79c11d7bdf15e6a', '28c39dea5d4158d21e35ce8e9a18ffb1074cd2a5', '1f7419b579886d7cb9705238044378b94cd93754', '1f13eb7df99dc5df8f1b9f711f67bb394d14eca9', '952100b745000f5d02cbd94b83a436938c8b6338', 'ce5f7a0ab7eef0c6c18d1be89ce02eaff594565d', '720fb18679414cfd8077f898cc51c4d52e72bc6f', 'cdca507d99c03f9f1f13057b7fb037acde204a58', '775f928af35bdf045c24492d93a5626ff05fdffb', '2b58f32dfacdbf5d708f03994d9c0d324b7eeea2', 'b3f695133c4706220e5675245496a337cf88880a', 'f441e4dbbc4556ebbb37f247429cc51e9e51a9c4', '528c95da2fd961811399035a59d23401bede7983', 'f7c197a1dea028d4f7601f816b9a044ec188c405', '26a42b4ef2d48dafbc893e08dde5e608b079f0f3', '93ef01efa6fe5381b5fdbb7cf166b691e8b06dd6', 'e57be1f02ae3599e6c1ec00ab7e85b99f9519936', 'efe31a945040de5c0b5857b0072dc9254e96b37d', '1b41395889bbe21dca9c15e77fc25888a5168251', 'efab679376255ba50afd2d9103cfb09ba6788794', 'd3718be321d0faf01ac041177fda9791b9fca6aa', '0def1237c65ee315f54da7c04756773606c090ef', '17ec35c961372352a86afa53799cbcd30dcd6d1c', '5829b6372c4724d83816e7f0734841de2fed6c68', '9c5821453ed4db6d93b0e1a9077f620c40f0fa2e', '78e94436a086f7a10dc9f10e6515dc25d136edb6', '09704b5ecca2c1fc5f978cd051f5b5b51fba50d2', '5d66f596bddbdab3484114dd1d7d377eaafea17f', 'b3fce5aac7d5bde2ca20c65b86f99b843f027059', '21168a8cb366d72dc2c48aa68261babcc9a4fa6b', '5602122cb99f5e63baed95f16e90b831cf373a83', '5aead0e22ce18200aa40cf505227163703a7b9ca', '4d92bf766787daaeacf752958203627a4b5ff962', '79629a523690056458d4a0faa3930219f6628449', '14fd70181c2e1dafc0783e26b5eb8ff132473267', '10c3fb0d2b643eb8145e77d3a43b0ee6f7e9de81', '8e6caf81cb58fc479043f87ea592e27c54d87c89', '5557d461cd612468559a8c4095fbfb4434e2d737', '92d8ca1cad786d102e5a3a2321197d618bc1281c', 'fef3bc88def1aa787c99957ded7d5b2c0edc040e', '6db77fc9f2689a1f69fdb0237b586957c22dd0d8', 'b5f8cc0ede5dccc9936dd80bcf4148d97f69246b', '67504d231a46519f7656186a993b36584e356ca9', '86053d6f103361d1d47e63012c7740cfb836ec57', '56832a697cb6dbce14700fca18cffcced367057f', 'a8ac5dbf1693f0a0dc1fda985b12f10d86d6bda1', '0eba1176469b0527972555780edfd7bdf4ce96a6', '028c511be74385952f4812f6613581118e44e0a9', 'd41895be91962cc14ebb350d1c84ff6a8da36d44', '199df6a5a81b2fb6ef4873520ab14f391a356b18', '3363b37cdc459555c7f737bd1099df8e85134ce5', '10ff33526ca0684b927877418d006fabfb04d0bf', '2f8cb52d4914e67f10b95997d4eff3f2ed076042', 'a40f38f104a7a3c619cc2bff560f32da431bffd8', 'f6da85894e9a00be070eac0fb5b88fad9b627450', '042dd3f6128f1b83a921288e525bce62ebeade5d', '56707e87f52b26ad6e785e02f32f6efc2f9a065d', '45d99de1a7a4ad1cfa46ee2f07ba27816a2252de', '4e5ae461ff896683b5b5e6675d429736291549c4', 'e55ba25b7dbf5420af381372548e96e08e51e115', 'c201ed40094aaa4d5624ff081fe69601a0e04c11', '31a6f64650cd6e7f28bff2351f24563acb16c94c', '3fa22391bc0bc7c996de49f6c816d70e34b7e18c', '07a5abdcaf13bf4567dc3d9eb5ef4c862addb746', '5f82131dd21daf10ff69c2cb5e92c6fc12de2075', '56caf34538c2a7821670a1bac658900647c19d4f', '3a648e9c7434edd17da63b8312e8d920ae4d0706', '973a627830e4325d581b27c8f440284adf521f63', 'c296c4bbf907ead1b41951c5cace900951f55e85', 'f96839646c8e588e412ca8e537f5e4a16656553f', 'e8712d50a2f64183172259db547374d0a4fb04d4', 'de0c08f02876a6b7b6b3a678a46ac7f09813111f', 'a4067f65ba1c7fc4dd3bc78ee4fc5370bb27d511', '20edf32bc2bbe549b80e2f587bb9c93b6f2ed349', 'bda15cc590520bf76a4fcf2d69be0c623f60b8a6', '1def35e628ab3840fc472f6852ec38e710fe0ea9', 'e4d7977d61cda3149d810a9739d3addeab299aaf', '4504d555ed2945f100bfcca72200d60d02d0a476', '080025211bfd70b795acb9ad8950b5748682ecb5', 'de9ec905588060272575f6aa5e768a6ed0366cc8', 'ab3c7f2d72a729f44236e1188d1d4394fe0d712e', '1b84bac67094bd50602efc6eec55d2f70cf29149', '3c3b60c3fb094373d6aa9420b2f8c08cd6a23354', 'cb02b383a8c2a37f713d11c7c98ae49ff4392272', '18e7255ee311d4bd78f5993a9f09538e459e3fcc', '9037619484b4bbb0e0e20c9fc9ff617304835fdd', '9670d8c83d13da477f8defdcfb5efc347e8aa93c', 'faea84d51984f197ea8fa550997f3dc5d5b542a4', 'a11d07fd6f1877fbe1398a700d78cb87c05c973b', 'e5807cb5a96e21e74de9669724e5d69941a4f97b', '161c98f6b1240f111dc67acdead4a1cc60cee1da', 'de997bc117a248441697376d7b45ee6f1b28d94c', 'aa409722dac2c03ea2262ea93b2bfc82fd6dcb15', '4589ee3595eaf1657144b5d23c64151964b544c7', 'd727fbee6eb67e53680138f0c690fab631a16e53', '50c76ead4fab0bdcb67dca77b93d408b5906fc9b', '998ca3bffaaeb42f77cac8daf5f632a0c00b1c30', 'c38ceaf683750924aaebb7dd52c04efe34155c9c', '71e9d1437cfe3459033355a7f19dbaca3f4de61e', '0fddc553db068d682ec204252ac4ed86799bfb81', 'a517ac0a01d0c15a806128cf6f8949a64a3ace7f', '054d5a3ebe3865e0ca392b089b7d5d4f12c52398', '1bafbc7ce1824002b45e98fdf1d3b135fd4c62a2', '2b915cd1d73fbae683b3494c5c43329bb9a5faad', '5ad53e0336bcd4aef788745048a451f9c383bf81', 'acd0b170088cd7027dabea5d716f182d25efe071', 'd28e59f5e214ffc4c1e93906eb07b17dde1faf7e', 'df872df0d72240626cb998b1e8699ab93e08228f', '0b5dc8034565de52a4bc00ce5254486ebfaf595a', '0290cf393c77da399c77f6d6c8c202d1b4736717', '80946e0808369983219bd26cd29269b051d6be34', '0592b3db8d859d429f577d22589d808bca157efa', 'e430ea49c29fa267aec6b394668d109e4f50a7ed', 'c6ae02d6a4ddf251456d926b60b21af1f06215dd', '1b95acd2e608f35adc5bb5099c1009068a78d78f', '2bdcb95fbc3747a01c4a10fbac21d264b111e286', 'c1ad3e68598e288e5df72275ba03444ee218aab8', 'e4a3baee5dc356156ca48ff2fc1b97f8b3899bc4', '584b6d584822fe7218d4653d6d0722d012df68e7', '406e994bb54be7d866bb5e7ac529754449d5c92f', '9d13c6c2727d322788661d246d2739c734e5b121', '37f12b7d2841739dcc25459881bbbb8f5f434041', '1359f3ad896f02ab6174c75d5d9cb3fedcd36d26', 'e3980bf109feb6620b91e0b1f798183a04136ba2', 'ed95318e3d1679794ef593e1b9dbd5bb49862ef1', '736c2871ccacebe6fb959b271a3943ab0430bb7d', '889424cc2fa18c1523a01b6ea52b59f4e9079099', '019f2a15f2bc400f5d09fc5cf86fc5690fb632bb', '6ea11325ad440473635e1446de75476727d6be87', '9b5e1120e5e1445d484273f238655f98f6c73d35', '6f59b6378f54ada2f3e2090a6e5ad9295aef2f89', '21bcc042f9ef4f9fa9b2a4a9e620b3f2e5285009', '6ca1610a691e743b74b5ac42f3a98650ef5beba7', '8ff6bfc629e1eb4f9160a6b1d5aa25c171dbbbb1', 'f09e23c180ebbbd06e7236ad6b3a7c04b1ba5f20', '72f20d147c09b4fdaf873e083b5c3685c3cd279c', '865a8ccb54e58fd7440bc9b1ebb8e4458d7892af', '9614838c9cb539669b9535565f52d25fe8755002', 'a63f12c307fad9551965db58e04657b8d8717deb', '5b2743c0c319347e27b07b0e8632c116a648f9be', '8b0fd3f179846c0dc7cae748a95817cfae544f9c', '55f23ecebba7404df1f77d86bd7235f067f7e6c5', '6edb515f6b2b4fcb369b119afcc1b26d9c2f87a4', '4f5a0da69cd30707ffe583ce6982eeef82e673f8', '7ea03115d9d274c232e365e0ad6e32158d80490e', '3228f2b6ddaa2dfc92ca6f06aefa15b6f19bb08c', '2f967a03ba8b2d8185a1ae44c44e5f7bfa127f4b', 'a9987ac308c18fdeb982d0c62b359eead1c5f730', '176115a5d17709458f38d332ed11740920e6695d', '26b06a99ac597f68c558bbc0ae40edf1dc331b39', '9db953fb65f5d57d8b8d82a0d04471dd5b7bac7b', '83ec64e76e0a0a5e13fb76f41f2f6a44d9c17593', 'b6fbeb26a7e18c778bb30f4d8794b2f9d214ba19', '62545c97033b89f43d97182c8304a3d9873e345f', '74aa708ee0cc0c44708207465c56788bf9cba7ae', '8db8e89fa34e8a096e570134bd012c3eeae040c2', 'bc65b36b718444e37efc08619376bf5df1d766a5', '34299079ce0f7964e088206d0e104de06de59a17', 'ea963849e71e2131d2b7962b85771ba99745fa11', '75bf51fe75c6ef2154b82a0569b681a0e146cd1b', 'a616275b765e5e650e9994be12461295c03155b8', '0774319be0fdb6aaef22f5c77596ade0d07cfff7', '24964ed0675d761a6030b0f0d6786692388f5581', '920de296ef451a917613e7e0aa3f4680f4014eb6', '3538a8c138a6668871e03974d0272d0725eab31e', '97b99a318e4e3fba450ae0fa74e52c6c7da1acc4', '42d3b7a2fdc28ea29909d35f786780d205fe43f6', '3632a9e99fe76f72245659e19b2f1c244ce2f5d1', '2a73cb8cb5bb7afb6451e7dfdaacd3de117d2658', '803193d2487fbf6f78d961869f219843d706b1e4', '03ce3a90c516eba9556e04002ebd733275a36f71', 'a6845fd2fb32e511d57a42968da42d72e050ed48', '4644a6da41151269e2d8e7e95b4b64c9ae3cd680', '3d6649d21a58d2af028d4c6b41370e3149f30a3c', '6caf90071d461399df77a6a199496fcfcb6394a3', 'e3debba23f398fa1c3e379f68c213326597d60a2', 'a562ad9484ac0c07047f3ab61f9d596d3532e92e', 'efd41d3adbea5978c05c46a7a4ef3ff57d4ccd99', '728ef4a50bded6bd21334ef51d8d9f90a203425d', '680485c70d4892599b31f0c97a06f35898af91ef', '4a02011548def70bd47f4d5f82697b0423e0e7b9', '98ed0c4dbebdf93d866f14e02f463d161d6b267d', 'c64b03c93a97b991514c5e0382924d07a682822e', 'd03ec36f7dd3ccd350eced21ac91e173ba8af2b0', '64b07cece37f712dd852e9c872fa6cf2c38cca26', 'b99c37106ea148ed85b6cb30acb252ed11981597', '358c952a138c5be4882bd92c173026d1946109c9', '83a5bb04de9e208348023985f76f034c8f15e855', '365544f6f67a1993c351b26aeff55460df003984', '7b065da4cb4ec67b76af49ad5ea790b862867a70', '7773fc4db9d6dada1d0d15a03da1f55540df72e9', 'e1c294a65bfb5d3a77e9d8a588a0aa3db914692d', '6d8ce12aec5f5e9a32cb97fafa9ee1c99c16e549', 'ba6fe18c6f91767a16d475e1d54dfab35f8d7f53', '6f8522bf93351b5d31f1de3ec23f24b36cd27e32', 'df1c3304a5ebdb6d487f61605adc18cae1ba459a', '455536e13cf9d2fac4443480a7ef9eb843ba20b0', 'b6166686dd72a61d4a4af440aeeef340ead22be0', '378083fa49ac2d49ed2c520b8ceac145693891d6', '24da211d6ba0efaa3498bd35943644ee06655c72', '08b7c333db9371f6e48e7a4bdbd1b27cc59540e7', '3d8763e3f96733c3e1098bf74b47038b0b51e84b', '3694547eb1cd3f5d40c989a461e0f213a8eff89d', '0c442f7f54aa6a50216771db18c5520cb53ad42f', 'ca075d67cfda8d204c6ff96dc770201c5b67d8be', '4a423ee78f58f0ab06151fdfd2b2a270ad507d3c', '5085fc23818673310e51dbd7f752d5d4e7e1c6d4', 'dd4a346c10fd739ec161afa7011fc82c8aae83cd', '126668b04dd2c2a4b5403eed9651f37ca7438198', '405e1e528615ea55bbfc5630bc44805719004a78', '8cf8c273e544603bba7ac766ee1ae62330893bd7', 'edf404ee1dfabddb36e53f3a82f13fa6a32f232d', '699ff577f1ce08cca25c36cc65ddd4a84d1733fc', '9f667c5223b8631bab1b5824fd62f9a1a3ad89eb', '8107bf7ba5482513c329507e5b3544227605fda4', 'e07712d5f090b8c4fefa38661f86278309668abc', '24bae2d374dc06189ae59002ff4d61b81225f99e', '1e9fd56b9524c89741586ff4f92400210fae3f3e', '9e3b7cbb2fc7d9739b45b348a731daa00b04aed8', '4d193bf9459e8e100f6de8e55e9605ba1a2e38cf', 'c157b841fd0c84f777ff8f2902575c747dac2955', '5e1d2bf1b7a67a727670334e8174bc8636fd3cd7', 'c4ecb1e02c69f4703ae035f29fc80167e0dce20c', '96190629c44cb6bfcdbe7f64fe19aa02d94793b6', '942d8474c6271fafec793561dac863c307f8ca75', 'cc5f901f742ca0c895d87d9d0e11723c27a83941', 'fa936d45ea7fd0a1b6bdbb196864c44cf5d9676e', 'd312b903df40b515d5e31b96289fbf8f42695ea4', 'e2e956f45abfdbc3f2753eab7c622f0cf2d36e46', 'c51f1f844c9f7ef7623cc9713a312b9d7939bf54', '5fe7483fe98c3c02c828e17f4f44004594165f99', '9768e9f94ff6e33f98a50b27876bc5901457cb35', '9dcd17e122f4e410045470f640df94bf84284c8a', 'd93aa2381b4b31a40f4e154f136d6da4624e36bd', 'b19e1fa09b30dd486ad551ed0409899460b72c10', '58571e830df58bf3a65f1a42c3b9fab2b3b36480', 'f0f04e249aa81b04ef7d898eddf8fb3c1bee4770', '752915ce7224d62b171522478defec4d6b274f54', '0dda8331f194ad2738636b70f8be5d620ef9b5d9', '4cabaf3fbe73adec4fd48fa0ce18dce5e101cf9c', '036026f86f952059b4745989d2dd465957060ee9', '32c43f72921b28088cffec73537488592e52818e', '62a8701834a0518eaa3fe1c8e929d450a4e5a50c', '5a44e63a48f9eccc7bc3d2bdbc783caa02fa6955', 'af860d4639e93a7e2712e5ec39428e26fd04c79d', '63b0a4d748c668fea64f3f28579fb35bef9ad3a7', '08384c574b9d344eb809bf0780a392b86e7ca9f1', '5964d6096dcf8c660ab839523ca6662b30997ac1', '754bff1555f9c499d75da0d7fe652b4d0d5fb590', '6fb0b7fc9884b4de4b6852612f2e0241d225e867', '4ac1eb6a4d2dfbd4e18042c0908de9d3dd7c39b0', 'bf457f2603e1d4a715ee3d418a6d2f3d2b82a6dd', '837fc88f1cbfcb25b64aeaef0e5d418002885440', '8733e043fcd6fdee8d3dc79f52f1048de70ef35b', '63daa1101793440b075760790ae2b07dba3c42a9', '3e6b89d7edd10b671cfd72b97ae15a489ed23637', 'ea25894ed82be7b1337da7dcf850f08008b6d004', '124c2a0ade17a7453263bd70c02399b09cce8348', '1eb93b870e7e48f96bc31f3769ce916138022149', '011455e91a24c1fb815a4deac6b6eaf5ad16819e', 'ab0266679748ac415b91f4281397b69f7b9cb502', 'f28a9608233cce8b8161306ee57d53630dd58dec', 'e04ea9a8f4639a3d9c4e9df3c449faf78784f4b1', 'd0eb509ebf4cdd96f439f9896fb8f3168bfd4519', '94b4bb813637f5386faf494466a3e9f752c84743', 'd21b92e289b4b8741374e9028a6ebbb6fc730efe', '37089278b3793a6ceb5467225af3eb58e22d1c4e', '85861a6bcec1c5a74974a7060a4f4de8cf4d4b88', '200eafa39fcf7a18cb9f2310e9fe8f1c0c5ab324', 'c4837ba9aabe383a54ff3b2ffbaaa6184010b7bb', 'fd49fa66ce1fdbb36755e83c21eb5cfb7d3ef27f', '015dcc1422a2b3c5a95e536fd7e71b429f1bc6a2', 'e7af79a7fafa7d4aae7536e1d20c364c59bb151c', '3e9be703aad3a99412af09cdefcdf28fe5ff2a32', 'd4101777c8e27c3095c185820dff6eef1c9cacaa', '0c7e52e94684d6a51c1ab2f65cdc7289fcf52fe9', '07aa58305988b98098cba5bbe64a4f16c4a3208b', '8c91a84901c90e2dab7adc504eb4053c1d31db0b', '56a71711527512e90c828c2018fee2c3c1d32637', 'df24a4f5bdf806e3e39883206a196914bdc32154', 'c8b2bf1396541dfbf560a7a3807b1fbd8e30daca', '647a7a603582906ebb24d3bf50fdc388c7e4f6e1', '2855354870e4ef5a33d8e8166d9745cebe38d342', '7b54bcb775bc11df5c42286d9a904bff886e495f', 'c8c107a4c2bd16105f610775c802fd6be8ebd457', '58a6e3321b909d929a315c93cd4b9cc68a41a46b', '8baba1d689c6070d36b48ec90888779e48085f35', 'c48f4f3074df42bb9b0434fb7dd1f1eb000877e4', '5718ed8ecf7ce45004a0bf93647817450d8cf589', '80c422c6665c4c2e42b8b3e9185dc713ec68a66b', '8c03e537de1a1899ebf57717773f27d2da25c715', 'e4b1e6b9fcd1d33c462083fec0df1307a10cae7e', '8c454a87583c24839f0bf92c3573f14263c1aa9b', 'a1dfa2cfa1710c258ca77a8419908e1a469ca66d', '71421097402e99339adc343f8045123a463c5443', '0a699d84ec59fec8c03fb0f3fa2ff71166c5e2e1', '95b17a699285f353338f06ab26298991bcdbd3a1', '30fb373b89716fa34d83ff03b976acb2749513a7', '73002adf485981dfef08d97a4e9b8bee57ee01eb', '787618976ec76853b5a24dc2dded65a6a0e739cb', '488409dc5b947b04ecc14204adf0e52c0dbfee15', '6383efb094c94efcfeaa68bdb8ee508840fe0778', 'bae7b910e1072954556a258de7dd6aa70f03fee7', '5b7ae42f5ab01f9011843e91631e68a51888a6c1', '5a9132d757501e6bddb90d024d819483c4f49660', '99101e8c57be550cc96301489cf525a2b1e2f7d3', '2ff3ab95f7ab6689ac05c1af2693775bcfe83dd6', 'b2bcdd45f4ecf1bf2b60dc6274476e6c7325f20f', 'fb882a39e938a9c7b7d6f13c8dba0e03898fbe31', '8645c13d25ad9b1028af002b720e2ce8a3738cf5', 'd14e39238316e55a21f24711f2ba4926c97c3492', '059a10e836d3666cf6af45f158f595e808128701', '71ace9d7011b087fbfecff04416079fef1a0c1c5', '1c393169d487cac06fa57bdf75565a873e64c69e', '15a1660b6450e064200f1272d9b3d049cf8cf5f1', 'c5150617b4b12692281334577de7a5b223b25217', 'd35705a18925553e95295b8f8bcd0ed0d7aff146', '4be4cd14f6c2c23382c94aa3be8ff1ff80890312', 'e3a6d03b1fb5e50b1819279de0e3ab10145b2974', 'b341c7ab79c73c2190d59acc4b9997b2aaad60fd', 'e95280dba0480be7a6bc2970f34d74a8dfc002f2', '29ab425366e4731031625ac7365380bf5c2e71ed', '1da87f957a6f90d3c1e57a4d966bba62f9b71043', 'd4d2bac762892fda04a0602decddfea0d5d868d4', '8902ffd6651ec0f2ac25714667779e3ca618a766', '3fc3abf3657506d4491c5018a8e47069467c382f', '305e2c01342d3c9890dc2590438c6da2426d8652', 'b1290548b9f8864ccc1e072b2fd7e577bec262da', '3aeaf611acae206f08f317910389a10d28dab54c', '9f0335d4557534af66fd5af950235cabd9f86b17', 'c07a689cb7da4f944b3eb88e3bb1fb40d3555c8e', '0675497a65eccd5ff720d2112c3710b3080a83d3', 'c44d39815b6d9d55ff461a6dfb9b5a76d087642b', 'f75e4ddd99ce7ab2f02d2c31c0aff53423451735', 'ecdf691ceb996b383f7d117f8b6246c2af8ab397', '4ffe9945f829dd0178de85ccd218125f5858f24f', '29d27792d96edf30929aabf05d62437a5d94dd82', '9e09cfdc7d74c34321dc179ba0551d03d2cab8bb', 'a8a5d180f2d14e75bc1651bcff120a7a81b9be6c', 'ad846fa6362d893a1025410fe52e78201fef6423', 'f1df4717e2743b67be0884ae7f6be41748411e75', '23895e319b5ceeaad75870c179edee29a25a04e4', 'b732ca9fc4545d4ff24c36f4358cb73977698322', 'dc323e9b8ca2a9bf6397e43063fc093ae90788ea', '70872a0fd2021933bfa70f73c7d924c30ba577fb', 'fe4f1fa8454fa89f17fe459148c7c606559158cc', '76b581f53a443d42154ac6b563b3773d949e042b', 'da788c70f01052a9c0daf13fb774f23455159041', 'a5d1c9ef9b5cee841695ead62befc1ac038f6da2', 'c814caca14aaf43c05e9f7d1f0e4dc265f63e857', 'b377866b30c0b535472f06b6176fab145e5a2c2e', '8283f83275dbd8cc8a2dd4d35a25f4a86310afbd', 'c20f62a663698f63bd1b75bcff8e4d7c45703643', 'c933adee7348b8db5e2bd9312a72525cf7febf2c', 'f7099f631bf6ffe121d67904464d6ef3ed07c35f', '3308a6a1eb36a114fae04e79c1e8376cb6e466a5', '2bd3026c2c5f41c2b0b0aba463001f2d26531166', '537f094ade28a60c3beca7792afea14b15021d5b', '57225582b26a102cd2a71ec3ba427d95dc7ab941', 'b591b4380c17f91aeee20ed82231d32ee19aa36a', 'd545101c6279fcaa88b89c8db8c8abd04f37238e', '9ac65cebc856215f4e03e0a97f8293949f11fd7b', 'c16722916ff8e0367e0a8af02a1720a6442474de', 'be0b7df06f5cd1d5e5b2497a74d6774e68abed60', 'd6365532fcf386a57c75d70cc4f30ca5aec12861', '84294a1cd76dd1118f427cf228270bb75a18fb20', '1fae15e833dc9d8bf89d52fdee8b2834d559d8ea', '8a4647411ace0e4e83ea96ca9af91c11ff504699', '97cfb44928105cc3aca8cedafbb37f435596e299', '00bda305223d05f6df5d77de41abd2a0c7d895fe', '612037259ec29c4d590288a5486480201cff7406', '207cf40ad39477831f99d9833010fcfde8470dbd', '8f515f0b1c26b92c1c6c53770058d8bcbdd92d7a', '6133ef1d9d6c50ef30bbf8bc2053ab8f05d7b910', '99c54325c0ac97cf009f93b60c039857650189fe', 'b000e61505873337d072aabf4be71ff789de4b68', '338ce1285d0135174d637cceb5943b806ac1e44f', 'c96b3f13b1b44194ede5afa2789d68ef6114f840', 'b9e7e0445a6f0f2b964ea21f72309486db102739', '3f652effb56e48d664dd88cab2e3adb11a428d79', '52533f469f8b497c481534415b5bffdee1a801d3', '846f50132c7db65d11c5d283590a38dc9790e6c8', 'c49aa719065ec8a3ae844f8a2df7f7f1255ad90d', '10fcecaeb15d3aa2095fb7f8a5e6573d57bb02bf', '2a718636efd851bed5de6ac14b2898ebc7c93810', '5c2d1e57c427b822042e50e02b7c806fe18be3f0', '2ff459705a2ae6720ef0622beedb056e5000ae31', '74fa64b6aa642f444bc9c7ba519e820ff8d8ff85', '56bcca6cedb43a78b6dab226b71f82b406d34b5a', 'cb8274df6cf2c3ddb4417121882773354016a5e8', '19e25dd50f7ca893e8a76d564a55a73e3765b5ab', '32d1e1136615ce5d898f50ad7ef082fe50d057d3', '60c4868e5227fda34f8c87450f776926b260caa5', '60fa93f4d54095fd2142c055f929975e264db938', 'a62e349dd2f3b273b3b6e5c0703c0e5346e8da83', 'dcaa893dbbccef9dbae5fad542078d82c2c4d49e', 'a31dd3eb1823cd411bf8da1ef6c3626d858d7e88', '1bd9f565523750bd517ed68139389c0195bc5fb4', '2fa55f4aa6351c73f087d45a09b667ae5393c492', 'b32efc057ccafdf1e4dc43ae7e0363ac64ff9c3e', 'd78869b94f5d9a15f9bc00dfc0e1baa8a14b88d7', '20a88de081d440e3a8a3e4b6ef0282ff960da00a', 'a40cf6701824b2ec487ca770f71bbb5e51782e4f', '6d2a181d182cffcd997103b636e3cd7bc81dbc6a', '61f51f78584300f0ba7066163c4a2b9ebc6d07cf', '37d6cbd81f37506d01624a4f5a60790741f7e6cb', '8205fcb685e8f3bd79d0ec8b2acec0b10bcb2bd9', '6262fb580d468d583a6b4f4551a75ae207937aa9', 'cdf7ae7d45e5e7d45b0c5f78c920c0632659d5b6', 'da627e8ee8ad13757bd83249b5e7ad98966fe78d', '1f0fbcc72bfd4cb1c3ec7d7b063a2e9b33cd4fc4', 'b7d16a489f7bce50375d6d3b304127ff6f10816a', '78bfe925782afeb0b84a8139b093c2a515e511ff', '70b0f463d2761f73e730c12b8f474e54a37244ce', 'bfe7c2d8f008aeace7e266c4e7d0da4784a36cfe', '14301f153e8ae8de5d7138cbf8e10a5ade12a27d', '62b5ea23223a6dacbdfb8720aa4d5d3a9308c288', 'c9a5936f2ff922b2afa30c78e9d29886b49ab336', 'd746469da6cd7a694feb1c49a188bb4f5a4ac22f', '15ec856d42c79c6d133669713bbde24385bb82f3', '7730a392486d1cf33177d1025a6202034892ad67', '45b8a57269a8e0a184da5189c0f447ad094d4aee', 'c00d5a2d1f1db604cf379b0d5f0934691120890b', 'edf6e416df0c2d1c2419964322af64d75535fa64', '6d8bd8af960444167a68eb416998164f984a8ea6', '7f0f5358a5b37ad300491962fc8d61e1ee0ef5f2', '753a88a7a6cad209f3d2901f994bc721198f975f', '737a5fb7ae868e8ea0bfbce22847665d55ad6cfd', 'a2dac0a2dc6b184ac61eb7cb2b2819288977e602', '0470a8f5fe9d456ed4d8500aa59cdf2573809554', '89858173df3c620cd9360af4d0677d53e577dcbb', '9b3e30a3d50846ee9a83193f33f7db17903309a1', '7c9fe34015e6c351a3e14482dcf949c851578fad', '4570bef63bb29948930caee0a283b58a1ddedea8', '7029c627f08a1a70a6573ab98991404137d93af4', '0d13bb54cf68fc07d250b6726b1f6b84f9a0cb74', 'a109cb967c0e4b782bbc238f27f9678c36122399', '9f7b465fbd5a68c1857836a4515b4906d8519deb', 'f910f9a57d39d5cc3042a1b994af01d3ddc558d7', '6142195492cf31dc7fb60e785e54c6c96320df4a', 'deba472779748a8b5eee238966a700abf70626a2', '422f6e192f1f332a513d1016973ea2e60006a642', '7028744d74ccf45ef407ba2e0f9eae450841df28', 'cd2cbf6cdc79b6af0796cc97df8991a3fc0a42f7', '4f53186ee6ab29d358ab9ec6a393fefebeb9d08d', 'fdcc9a10d385a872222eff525a106fd34066b213', '38528678f7cb7b39fc7c14485a52c8d3bb1aae05', '44c15c50e8e2b2308d1620b5d91285e933f1570d', 'e8fafc81f40c0943b973f0174b2e0f7fb846a636', 'a4259aa41f6ad7c223090d26f7666fd1a2a849b0', 'db679e8c8d64ae0e326d087fed268c4500c02883', '2daffd59992d5e8f286c3c2344a206eb477ce6fe', 'e3d1194aee5b7d77faf11713eb0c3bc06689b09c', 'de4edd418af5e9f1bced11ca9f1cd816cfc2c557', '090801da518eab1d371654de6a43939bbbd11772', '3765775267723cacffda66d5b423db4978bb761c', '8b222867d5e732460e674dee9e94b684eb2feb12', '82a94652cfd9720cf4870e15c47254b79d03f030', '02f3c524e48c52b861ad60a7194684786a44dfe7', 'c7c1af2b2b96562b340c45bb1db6e555e4bc27aa', '73f3dc39fd9b5315ce765b9e71572353ccade496', 'd50d730588be5e4921b30d52c2814a5083862a10', '98e680764966125239f3821581a3b303e6840cca', '1ad91fc245dbc6b9781b3c4236afd004fd844ed8', 'fdfb538ade58ca96ff2890969889e6a2212f57f0', '5560d3373fa2e9a402fb289ce01f4a61a7ca6b22', '283292001714fa68f3dd1c7b97b7667e364cdc65', '4e471e4263ac5d11b9ad2c06bc673d76b594a02a', 'cde78d573bacaaf1bfa82313de2294cd186ff6ed', 'd839caad0f3a58cece07b98175e5e2e90a5a9bd3', '51f9de9174c71b26cd8533885e5befc7983ce71f', 'a04ae40ed34e85108713f353c028edcc04e5bfef', 'a3eebc3b390fdc5058f0fabdbe4af094742ea2c0', '2e365eb68e17e147fbe1be0b1f7769057a6c1837', '46ff70d1c9dd75cd812f2ca4b2256a6773e13bba', '1f126da99fb0c54a77d19ef46ba5a49a5ca8ec03', '3205d3d2430c055fd0ec1419a905490edde4dc68', 'd128a8dba2258ba3f3f1379bf61dc790850f5109', 'a8007cce7e9119a5494a8954dba5096c769732e9', '6d078dd48a79158d38e51e5f441a14235fd1d2ce', '6d8ecbd283f45b28cdd01851ea374e09c4a4966d', 'a8ccc6541921a641ebd826b23bc95fac0a7273e7', '27513ebed6c0256ce8722f131dfa389c81625d10', 'cca1e192901c6d22e0fba20c6ca85a49477769d3', '213d81e7dbf2b7a6b337902d8fa61f83032b92a4', '192e48cf6d021910c01549282343b004806db93b', '1e70042fb6fd16441c63ad652da5357cdb9814ef', 'abc261304b3edb09f6f857c5ff43e5a91c14f0fc', '74a8e5e779c79c2ff3224e71f2ec208fdcb371ef', '7d9229c6f5298188cf6630d59389f88e18d00c19', 'be56ed9ab096aa77efe827913a99b3f5fcb35207', 'd3d29a2e35f1278d97b782dacd23387a1c5427b2', 'e01bee60967326ea4e80ee792388088427a86dfb', '669de3a4118602ab5d7a885b098ac7c4d97b0b1c', '25486dc61fbd5b29134daa90ae342d083e289272', '7e529fd08e030e3c7a74b0a7418ced8c64268b2e', '90817d66f6bd9463056361da830a1f51dff38a2e', '3d2b9cfd56954b9780fc5548a7721e2593a7c6d7', '431bcc84b429d4da44395a048a48f9c40ef25967', 'c98e29c6e12dc24aabff17b049fa29d35e0b1f7a', 'ee50ec47580f9edee7a78c59848e04934b75471a', '30b7c45fe88385ba55e18e32d0dc6091b6d14de8', '8e58f01ec280e73c45d014cd9600062d6a8185b4', '93157766cecce55a205ac983f95c4daf60833876', '39c46ec3064c6bc42462049de989e1698d26fba7', '0c2a70371ea916eb14d2d8037372b53094aeb2cc', '044eee536087567176ccb6b808314272a13a12cf', 'ba5c84d289813772f1920d4ea01adcd47c7c9473', '65ae54bbcf2358c267c78376c1e2c4c2e25ec8bc', 'df9db2665c30b3cceccc1b9d21e0a2c6931df1cf', 'c32ddb052dbb10dc2f2d608b3932a99da23a9ca9', '55dc4165a584f5922f236d49ba892837e76327cb', '42e4df6a133afcdfcc92deedc3f9bd4347aa8c3d', 'c552def2c260a2292058c8a26b7224dd08d27b28', '93232606cbe402601e97ba75dbfd5bb8442c0ac2', '21812b399dea6265182e9f83ec33f44685e28294', 'e2941814978a84f3500bcb70bfa4896868360c6b', '1726d72b997a894e35981cad804d266e0eb108a6', '5437a7f7c11250aafeecbb34dc3743d079e4d731', 'f940ccc655b3160077aa840fb2db46da986b9f25', 'bca6e9b17cf9355a7065865b0d02bd065df9287d', '0ad7b707bf76437a2a5cdd1e1bd004baa4804e7c', '348c78d6b1428fe6fb5238afe7b3d78afab8ecae', '447b0eef82643bc54c7b1dfb42f861b3118c4ef5', 'de35ebe875e47992fad1d4fae42abb7f06646f0a', 'ddffd299f04c983eeaad83992caf0f1bd6a667ec', '39c4c6b0dbaef70c8a7c707dc375a0a53b8ec606', 'e6d693a1c9251cea3b3b5543eebcb624925193d6', '4594c0796c9f32915d3f5c05c2cc5378ffcd40b4', '71322c44f4b7ad99ecfbdd924925829b0d0162ab', '81a67f38c7265577644921120619fe9718f11876', '5af594263aaca7406fb70eb65642370ac9492747', '8d2f7e70f913d995552dbc11ba5971a84699da55', '34ddeb83477c85d91e007e523038bc5193c9929d', '70314ba21920934fab662a082d0a988c2c7c8e81', '69fa4ed9c9dc5aab1506775b4f797904d397f947', '23aa9360cddd94752e4df85082e917cfffd2ec6e', '816efd23fd50ce5a3c074d3b5441e363791cc1a6', 'c77181aa0cd0c6c11eb80dd1ff90c6a7b519ebbf', '3b431a51d3474a48586c814ec22a8df99ce3d646', 'ac86f0b56c1d03e6542c4ed4b4be6ffb45a3501b', 'ab2e40ea18e97a3ac0c98ed962f643ad7cc34ead', '3fccc16fe280df1dced9c97e21e1550665c8d41d', 'aac24cb8fadee705ac402661564f12296089ee9f', '09b42bca847e89282d3b3b669867242a6ab0ef9d', '020a2e7881daf634745c300e815891aaf2c19699', '4d64017559c51b8fc2513391e99ee7bb93f60225', '2914ec1f463ab7205237c05dff5ab655e17abbac', '52b9ecb295d41e2bb36a93876814e4ad3294975b', 'e59f6eecf978eb6146ed8e8ec2df5244205f459e', 'd3e5d5fa3b843447c2370e206de9ffa37d42b734', '008ca24b82c41d513b3799d09ae276d37f92ce72', 'ee8aa7b6a84be9603de63b5826f571592c10c965', 'bc765cd8cd0620e7b701e5664f2b2d957f11c483', 'ddc0038f5f8f147015a1aafa9db54ba355dbfd1f', '99cf3f22471f477de75d8c6672ee4429486b68e9', '24d1d93f07a23593014bceae403a2cb1d967e555', 'e9691672833de9fa6f05642d92db991a39e7115d', 'f0cb03d6f2da192ec86612f4ccd866f06c217e46', '8f55c90b3840fbcac93c985e2e8e8fb894e49d5e', '073d584eb2ab942cb17b9e53b4a4ff3879128864', '067ee32a9ac6966a64c71c4ba21e392b7f451a4b', 'b2eeec1aece11c8f8e06661b489eeeda64d743c0', '17db47519d23b8bb848c92f601fff7c2492ef924', '55575206596af587de95bdfb7a6ab600709abb63', '0186d09d3ee1332ecf6585ff5b8e3c154de4a591', 'ed9f27afd03fbea65ddec3f025a6b43ba4517758', 'ff979e07f9d906a32ba35a9b75fd9585f6306dbc', 'df2d2bdac1fe23fac610c446f6cebe6fed238d48', 'f0d2361fdb4907f214dd2a71036fb47b5140e289', '22f914b335eca3f19f6d0331b0113bbacccdd1fa', '785107a76fa0ad0522179b4be3f2c1efd12a2a11', '741202fbcdc3113265b65e38734745c883981752', '014e4fe6e6c5eb3fe5ca0b16c16fb4599df6375c', '3eeca8f8fd590037cae28aee7c22f9f0ae0da833', '5a80e5d27e55a41918e07a50c7add56205442998', 'd9b7ce901ccfd589489a5f75af5bb6c7c49de23b', 'd8f44bf850df2f54e0e3c1de54054b052949932f', '96325913792504bc0b2d95c34711bba5e3136953', '745e68ec6174a3c2b23f49e99eda9dfa6cb09ee7', '7976f8ccdfd640c52f377f9a5c10a0fd5f242b1d', '1017b70bfcc4487b116c1fccb0ef5519e8b1d670', '47471e8ddab1778a978ab49d3de169cbe8fd7b3c', '06fdfa738ff335fe40ec0b01432efca0c54cc803', '8a61d0d4c0d18a3adc05c6cc8e1ef30998dee107', '61cf43f07f51d8e7aa8605290c7582fb1a22a504', 'a8b62f4d4b489ec937b830711e918a8d834d7a83', '4354cbc609b4e6161df18f6071f5f51e87d73034', '433350561fdcca5f6daeb7b85f229c3d00070960', '760882891086f2d1e431b69226e39941a7a3dff0', '1ec4b38916b65fdea30dd28292705cac6eb5db94', 'f8f17b8c77e82fc24dc1d12f3671ff333971f311', 'addc9340c53b66c9671eda8a9b18069fe29cdfec', 'e0a45ee61fde1d663e5c37d1d8240032b11d652c', 'a2043582820a8bd09634249218277a3976a4cfad', 'c6398a6b6a79d1f5be6737a143cad544d1c5fad0', '36288695f284c49a092547cc7c245e9e84974f52', '26954444903efa918a4e61764ff30f7c70ea413e', '6f624e014bbc7a1472bd7f869bc77300ae5fc13e', '9389e2d38567d56c864ea864860e2e450b4f961d', '1691dc7b430868da5084ad9281b77f854f423c53', 'b7cc07fab0a2e8c59c8b062bbbdfb0b24bdfb9c5', 'dc07dbe513a9ace2eb330cb65c0786ec059ea9bc', '7a94f2ef6cdfad1f798dd724f69e2f6362a1071b', '6037831b3bafef0b09a2783466427e9cb1d490d2', 'eeb4d0e7130a1463f98c61604ade4df8f44b3202', '43ff9ec94d4ff7bd48b2726d459a6a3b0b0921b6', '9cb9845ca344b23b49ad94f4fddbcf95fedc0617', 'e84e7f4274a932d17f529373e80ae54358a8dd00', '64b442111fd13a7f46aa6d2baf4b6b7fe753becc', 'e7ceaf0bc66b37651af30def17b348e9c5191047', '75a45a28e9a69903995155934d7256980a5c98e5', '8b48fa46cf26e2e2003f49edfd3f3754d868395f', '07a4b769f130fbd56c9e287a7e966ee09d9700b3', '3172e95bc72490518cc7104847f2bebe40f31167', '587a2f3a203f518371074d632e83dcdce3f250ec', '3165550ec0eb7dd368af53d8872977b93bf20003', 'ee7e07bfa3f7165c4a8e9c9d5eeaf2af062a9cb3', 'd4ae3b8e28abf4e0edf598d189cd50c0e7bc2e63', '88d7f9a8918bc47e1a749fa7acf1163bdbf7cc5f', '6552b77f7838534d427fc6290c53d38f8836d03a', 'eaad51809329f39e6bac69a4341d28b23cb03a39', 'b2339dae91400e03b7b457555a6c439d7f9a3fee', '1b4d2f668efefcd82b2b96cb7373d7e996370be3', '34bf6ddad933ac98be100c71c35d652af3ab957f', 'c3719bbc6a41142abc834c283012adb43aad89be', '08e59305ea510da0e2983da798461a71c9056a8e', '2056d1937c893d85cf54fb6ab896fb3a4e21ab6b', '24d609777457da258d26300d72e72b3336026943', 'a159d696db99ca3017067e3d4304334ec5c09b5e', 'b8ff5595f8c7a8d21ba73b70b828140f9cb7bb45', '467b68de954a252362babe8516abcd4a3549eb8d', 'ff288722b76eba5209cdbf9158c6dfbf229b9129', 'f8c978bcf2ae2fb8885814a9b85ffef2f54c3c76', 'aa7437ec7d33e44fae259f2e071b3a66d3a1271e', 'a0905f2a5f0ae7dfdb118892ac357e4bfb23dd23', '96daa74400a9f16c3e142e4e8cc356abee58cd2b', '68815ca583251dd696c684d292ba377996c9e195', '17fa896cac7c16ea7615b8d7ef401a0b4add4b03', '1ec608d741ed3834ff475faf7c5e377459708c7d', '8ea54ea9ad7e73b7a08603143f3fae7a87bce6be', 'd69abe53aab35782ef4232ddf984ea1a700245e4', '20fe91be96e8f9210ef659357c01fb87a04629a0', '777154daff13c28f498f8282ef1645e7ece7986e', 'c61c73f09618d1e118db499fcfc55436c9d4b3c4', '98c4c3ddd0b7e0cee6e1f39e09a73fccf188d65c', 'f48e7c3e5f8c5327ebc36d191caef6e4d9b201ee', '56231e03e057c171a114b2f3d19af9e2b98e196d', '0bf1b486bece595b4deb871644bf52cfa5f41ee3', '8a9b32c8731ca4fba239e237d43229c2aacf9c21', 'cc796caf2a476316d2b718ab2cd58a4b45e1b5f9', '6169f77c21c4ce0dd6a75ba1dc4f0438ca929191', '462baee3a3df836fe317487fb0a0ecbcfd9ce67b', 'b81ecce8647979697e1d0efd3d847a13a1d34c91', '24c567fd04d044b9e1470a0098fddb32c6da3c11', '9cadbc14289d0db3937f00f4f2aab8d49b49680a', 'db969e8277721dff668075e5b9d205a1ef3e71fb', 'ab6a88fdf1505d8f9fd73de6eca4d4d25157bd57', '12815feeacc6f27dff5b3441a54418d2d51001ef', 'f7352e7af2d43ca4b9193114b8326bba613c096c', '4904f3badc217cf6bb35e0baf2588bfe4ece8d98', '2dbe7ff11dd953a41eba82f8e0d8e5c4cb2abdf2', 'f876a670640cecc7b8f57ac00bd0c6265864266e', '3106850786e730cb74db8ed8ab67ee5a80d40542', '664a597e9ebc92dc5d83cc017efee30420da5968', 'b14cbdabf2c958b9c1154c1287b9b52d57c5d3aa', 'd49980ea11695f5592224b9d68e886f5f03a33e5', '152f1b96f501ee321b17bbaff471ed07c972b03c', '34dfbeb8f7bc0d8793bd023383c816a4ba0cf2ed', '83889c82201c4e083cbdfdbab397a0395f4663c7', 'e2b0bdc0f635055b7e9ca4e4dfcabb17bf6a6f79', 'f7dd42f94dabad5ed5a8f53db66ea269dcb91b58', '4ffbca752504201707d6d8fc70268a6506ef42cd', '8d60396b030d65ab41c278a6b132ebcc988202e3', '319744ede1d370942bb316f7ea3d5f0bd13d9499', 'd754a8f3ba8e51353c1c75008e3815d4b2346d77', 'e2d2aaf00e73d4fe268152ee7469b98b46c2eac8', '618c74600d681aee248223edaa591d17ccff8ff8', 'e0c7e75cf8c695deddf010887683883063e2a86d', 'b24aaab8dfd0a52c00f297bb5f44fe7151fa21de', '3a82a2dff7f0db61acacc71480e12c435a7d4e43', '5b99ce8511860c0d367abed69f907678b231f619', '7ddf8de9f1290017140e7b636515dd7483e6d942', 'd12b8f4d20478fd580564f887eb4258d51d0845f', '84ffdf4c1d5e3574b968afb72f3e5a8c3793a39e', 'acc75e87f626a8702f150960c810c7307b367516', 'de28dbec92ca4c4ec24caf59576beb1beea1c49d', 'c1542ba734740d57bdc0ecebb950faaeae7572a8', 'ca158e09900de774a4216e806ba4b3db4bc14006', 'd22378cab690d551f5523dd7540eddef39834609', 'c8cc8459c6ab2e4f65230f39b4a067cc19dee074', '6990bd1f1f88660ec1bd2d7a39d3de1eb72283f8', 'b6a204cfcc2a9ef6d04cf52e021313f48ab44f03', 'e57d8f73ef152ca7fbdd65715fd5b22288b78fa8', 'a9d39ebaa95947013b759d45969bc263b056e0a6', '4dc43c781e076dbc42e70c82b97b73e0ff4b0564', 'b5c598b06c87d478060517bcd3345f9bfe30c715', 'ceb4d555f01806c17378457f0d2699ce602ae695', '39ac07f21b34f234f225b1b3398a795c7685c248', '97a09bc1e19e04b6c409ec19fda427c493c5b060', 'b5b8abc126472b673456e0e69121dd735aa34c50', '7dae33671cc34cd583442b848dc14ddad5389569', 'f63c5f958bd265f53ef83e939ca81a66de03b927', '3ed6700c76175827c04a5d89008db1b388200771', '2a8df65d2e380c07fa15fedc60fe32732179bf17', 'a2e808a71008660e0764db444e0d2b9b1ce8eb1c', '74326af8dc35127cfc2ef39db5ea998937b497d8', 'a51ab2a19807d40e91643e294d61af421e2c563c', '5c06ebb051ec8b4d7b93475d5fb442594ddd12c1', 'c4b7e639e91b1d18e5b9c000f0ad3354888fcdde', 'b41910b674839b3943cdafa6c753b46f74b4b910', '02a2d9399e195f2cbaa5cdb49fcaae02f7f3d25a', 'b8362e2a7699ae6ccb2012489e928261829063c1', 'a6a57e23834c7cb88b438afc10668f591e88d6bb', 'a9036f89a19a7c751379d6e2278ccfb2414a16a3', '2f6110d276f993bcab3abe4fd61b5e44107a5af6', '1bf021cd918a94649884350ebda5a9fb5e3d0b80', 'c5be6286a136d94f451b6850c3f44bd9522e5d54', 'e2ff3192e44c779dc4a80dd2b1a00dcc1dd8dba1', 'a300c2536b95a95c34dd259d429234fcca37872c', 'e4b84b5031998b9a1cddca25a92ab6b741bdb3ed', '8a3ae4e3123fc6f636efd1f578895d4bab829149', '0eb7517c1cea773da9abc5f1abd2245ec6866ef3', 'c3cc595660d36c1617c7252ec273e9006f9fc7f4', '6c1360fef0910a6c6610f5ff7baa91c51a387152', '41003f4cba8ae114e8620bd086e779b8d431daae', '0665202a672d909cfe02832ae71a0ff603d32a96', '0dea96c33a7ffcfb48d75fd67d4cb92acd81a64e', 'c2a50b0bacbcb1e19d434de2a13f4c07946a108e', 'b3b68e045d7dfad6e9b686ab5ba04db2240cc628', '7ec0bc98689c15c98ee179a8a0502d86acc1a989', 'cc2875485a125a81f750715e9f365ac5a90a2e6f', 'bddc14b44b1b0e653a5c69fc23a3dd0ba5a41705', 'f30521f371cbc2af46809631b97376617b78bc40', '436337957e43e0b1db33a58e87971319214d03a9', '2e614c4b9e41efb8adee6f2c5f60d0e3cf01348c', '94763be5d4f94697fc14d6b6421b5ea1236b2951', '55bcfb590c859ad0bcb761c765a5e5d90180d00a', '28607dde113fbffa60c14f327f481c2b1f770f74', 'b730d73c592e9278766df1d4d4f06328a7ff6fea', 'b10b9b7d43fb9161e2afb8da4c582ff1f07fe22c', 'ecdb650608fb369aa0412cd212a718eacc0d1b19', 'aa36b0041806b88e48e34e42784250c8ad0363de', '104556789d63ef129183925c386f7c6e9d6892c1', '0bd35194dc97108f8b1cd09e958e0339ac2b72ef', '8bd0afc488016810c287ac4ec844895d570b0af4', 'f75159c1294da40f77c3fdeb369d5d23e2c79a6e', '94abea51a61f1c95bec8607dc01d359b57ddb776', '8e0ce82173da4f0fb691f43b831aa3f6c5ea2bb4', '032e9720141dff2ee19e969bbba949bd5658fdee', '0d67a3eede18225351dee179b6a2dae8df4d2505', 'f4433e3af6ed7c804c26accd95aafa7be98c45b7', 'a4997e1e2d05244fabbf64e437a56cdf78d18713', 'a5226ea9e47cecc2a315d383b317ebe3f9a71313', 'f7a6d1e132399583709ad3fe25a010f4d95bfddc', '7893644990804021e7a7e34002c23e6588fbcd2e', '3bc01ecd0650905fcb9d41bc4c670320365c0ba6', 'd008f66f486644ef1c004f2d041bb4f369367787', '7bf364577887a38721075cee58ac1d51a50bebfd', '5777302587f6a2fd0ad2705512c3961eabe4ed69', '541df924fcfbf579547dcb5070f01de7bb423165', '2a944d8adbef396920c628bcfb4a1fb224236c88', '76329367cd06b65ddef03b7f443ce0b941f99c89', '560e6e9f4c398585d99316b6b249b64c0bc3c6fd', 'f1c4fe6019069a6c87ff461196cbb3821f5771c5', 'e48a10bd713c6bf64b0c5fee37fd6c0b57365f37', '787dd6d7b7a436a0c5ae69c79e6f566da3ec611a', 'd703fb951b604f1e9c59581da1d34571810124c2', '8e35fd64de0e28916c6fef6169de0020a4e63535', '4849dbfac062f5dc0115cb6155fc42d20bbd8d51', 'c0b1bf53e86601c7deb8d4c3d43f81907858ff70', 'c81db401be9fdf8f9c0a0912293688177fc5441b', 'e6bd9c99c7a6215cfb6718569c7f7e9d679260ed', '8e147e7ec0c7a6f6290a1e6724679eb34d95919f', '2e11a9bc402be3d5406108a076290ad57b8671c1', '5c35c1ae04c5e5b50cbd88497ccb731d0247b5f4', '074b8f89cdfaa98a2067949f9d5f7840b8700095', 'f7d8436db9bc906a2aac125b5018a845c420c4b9', '5a8a24ff90c9e6d529e861a8f25b8ff24f7e63fb', '1b50e143d4f86413093eed71f9098612e4bc12d9', 'c9689a5b43f15ef75da35bacf076dc439253697b', '3a7f055d212a46b5a56e6e6a13fc28bf1172030f', '293463748af42011349848d0738e9fc393af3b86', '74f4099ccf7b18a27d0532e84abdd0a37454e916', 'fc256649b3b2dc591186a88734e168314c752d82', '0caf1295fd5366dbc71404a54430537865a13b3d', 'c5b2f21aef33250b6b1cbf88964d516497e5061d', 'f80a2eb6455226cec7076c0dbb7d007174a34851', '2f33876d54f3e79d25f455ed5e0a46fba6f56c1a', '5e88707dd425752272397adc58aab49798a76e04', 'eb015e5f3e5466a09ef49ed5e3e36bb888ac65a3', 'f0fbd03d0aa6685afbed06aa30801d78fcb6881b', 'a7dd9183064841490576e3a8aaa73ebbe131ff7a', '9e09052aee67a42e040d3443cd7905b2a098822c', '51813005c33ee9f5ffe8da3b3e5c87d44731ed53', '1053ec97ecb478201b267c313de0c2c5050e249b', '47354bfdaba506273b0a83fc7a8260c5ac579f45', '2f28955268b05b3356c3dbc0af89284bd5e238d9', '60559531988462ba5bd63ff58f70157a83a3c9cf', '38278b560bac890f4e3c08c40dbe8f2e9e7f2602', '3bfcd680207919b75c214362f4ff5bbaf4ad6fc8', 'bbc1f755acd98ea95fe5639a99b6369202f948a8', 'a54eafa1a5dc043cd4100ef06613a87d386f86d9', '8b0aa410567d42ee1e5b2d96981fc6aefd3c4e7d', '92fdb0ea64454bfe03b114642cba2cc9b264cacc', 'cb9d97797e5c5f2709d907ad3773a70d30a34667', 'e524b60b572d3efe6d2c9ebbfef269560c030727', 'b61b968ca665d5f0f494143e961012eabd29f827', '44fcaa42fc67de015cf9e9704df928b387eecd72', 'e5b294281ddb5dd4472d824313f443f48c40b253', '5eb0f12eae9a0ff783c4ac436bda56718bad31a4', '5baa2f9d750c5b3fa378a68d176d39755a566183', '8a850dd03e0e64fd5da103ecd993ebfc6d0e8d89', 'f3613800d498969f0b349c2a383a5becc4cb17b0', '2e0196408ab74cca58dfb017dedcf3d402f370e9', 'b1137b6bffa0904e45d20b69165e51a2239bd552', '421a025f86f56203242c35c913717ac295fde4d6', '92e6bebc0c897db0ae66f100be46c897b6ea1f63', '4cb4ba77a4ede1b07d790207173855f748fbb7a7', '0e42ebc8e6a6d26a3adc4fa7684db69aaabe01e5', '6d2a19a68db43eacfd70153dd81c209c3bd827d6', '4a30601b1fd5c031416117946e7ed4076e58c8dd', 'e0c1ff8a47e6a7b66af0ec65c14b3c5d0cfa2820', '295d6cbe3051f8d9d4d0569c112b04aa694b3eef', '16e8e3a4a9be9640dbbac353e2729ba76e5e7d8b', '202411fd27abc0308ce3a5ac98e1e12994544faf', 'c36be8179f011ee7678692a9e2b6d70877e99341', '636c06f2c9a1caddadb67c11bba1f1618362033c', '95a99343eb374393399c42d6e7540fb2707c72e5', 'e01c3025103ecef50eb9fb24637380ea36e3970c', '1be910feb4c727601bd1c3cacaa6a3d4a2c55cc3', '03c6ac3cbe534a59e4fbf3af61f8e2ad5f8aa5c1', '186754e459376b6ebe2f1c5c0b18414f948e74ef', '16439f162da478fabdb39ba27f9d9d023336d577', '39c9742f82acfecbe0a17575b89c1dd825e651a1', '527395fb7aea888c3cd617fd21d654fba7700a11', '7b5d0a1459a454832c18608ea23c92006570787d', '0950ce8d232b8ff37de9721ed0e0ac96dd56abc7', 'afbbb3a25ca760234f2ffb9984ad7f2279454a8f', 'd720a6f62f85913aad87678d7e73b39d603250b9', 'd34fad60b93acc06801fee77a76d618535c03c16', '9eb64734a655e0fac18e02a7b7f53f1127492b39', '372613fb85655af75df4695da34de761008f26d4', '3cb1c84909f3763c2272cb7667d1eabd28067aa0', '26f323cd8e8caf7c26ac71f4da658c63c76c8a7c', '2134ae5dec77578ba82d5cb3fb8c60be3cba08c5', '8cf029b55e048cdfad95a8b201bf63ed8b75a798', 'caa197e08d6d261237b29d419e698147e5b5e7ad', '0808fed2d23e2e4150d31fa03eaaddb197b0d932', 'a93c20ba298b1e330dfff6d901e42456c2e7a31a', '48f1fe78ea6eca8d413201380d8831eb3b8ae0c5', 'dae7c727f65e264197b1ae33af451d2e585e6db9', '32d351c9695df7ae2c25e39935669ec6b8d514fb', '1bc17f5a98a97dd352c3ded741ecdc9564c3fe7d', 'ed227670ac17999786ebd821b76a1d7004c180ec', '4595c082bd8ea23299224e1a22f0cc5e341cfade', '2c18acab827ef9d5827d083e77b1962ad22c8bcc', '018c4e7bd469c7bf3ed82ee9f0627887655f442b', 'fb878b2b9f1fcb18bac2918316ede5486c0f195a', '0765a1137dd8f2d8b043cfffa331aa8f177c3908', 'b98704f1ed3d3ab7247fd20d563b6950ba00dce6', '86b96d74d9cd58f16cf58ac2931aec54ac916186', 'e4fcd7ed1eb5a8dcccf1d84d16b7e0953963fdc0', 'd0c7a0edf50846b6dac57e865675faa1b593cbd1', '4c1c0ce94381d8cd86d1ce1db6a3713e65dde199', '911d46f0623ade7159d62ed5db7390a5c210ee90', '2701e48e1a1d59e366f2ab29450dcb83658655b1', '30a8fec7056678483e0e71c828e434e2433645bd', '520c8d6073ceed8ad9be5fd16d9bc335805e7842', '5194795f1cb6985f3afc0da7eac7b65088ae0b3c', '011fcfb582be9534e9a275336f7e7c3717100381', 'a4ce0a47da79499778f8cf4c94fd5cd0fde39002', '92edf4c54800c50c329ccffb67ece3e5560dc8bd', 'ce017184568988b0b33c73f28bf5664bf3582556', '61fca6eabe271ca4cf64ee5ce91d891e4c5fe74c', '4879dce365ba8725a613594492b87667be422b72', '09c18dcb1939ed4d8e57e987ec9ecf64a9bdea61', '32173b03f5aa698104c845d08154118e0eb42895', '400f76ac28fdded7b4a859da59aa9e0956795d20', 'd39f887ebb7eb6407e703b40bd945f8e622ce192', '19c7d87e50dd9da96c7d2a980139df1497b94247', 'b55086cf03af47cb71479c274ab8bb904257d79c', '7d510ec64e6b10f2a73d4dd8d4b7fa198c858d24', '55ff95ae8c771735bcacbaa323c490fea1fbe0be', '1916d3f9cf2f2f7b112e5ab7dc99480dc2e2bbd5', 'f666199f45ad3ed0a515e8ec58f2676e28550852', 'cdbd2c7d4d43cf4d64afd9a00ee4de7a92c9d8d1', 'd7f59c1e44394186d0c459d4b1dd0d903f515431', '064665940ff347a563b07cb34d398f139bd90c28', 'd30dd32b5b81e5f64b51a94545cd3e9833dc6643', '232caac8181dd6dd92446a5f85f0a6ff810bf1ff', 'd7879b4f8154c003a67182c7391f54de1a86b1ad', 'c6c23fb2ac256def420fa4f016e94b3eb0589992', '7e5c588c921c4358057bda55c99c82b93dfdbca2', '47d75d8504f5afc49f7a6424c66a4376988fdcee', '93c2d6d68c40cf512395a15efb462f6507fcaeb2', '28d2ef4a3ed6023256499c71d1b990c3bd211c98', '75103235737d5b27f13ca4bdd0093adcab835622', 'ae73000aef208e417ea1f1bd5050e61c14eeade1', 'abfa50f529a9ce35edc4ac112ce74e46f39458a1', '7c49de759e051d4e0c120ed82073fc522150225f', '0cfb5e596dd04907857f536abb2de005d816dd20', 'b9cc18f8b3a5d5909c596cf1febd1d72f6b67c61', '5295f4eb9f03fdca9997a5bd12f42f701d672256', '3e81204d7cd83bbf3a6a83d2b9feee6a8c4418b8', '0ed75f2d86cf5a588e3f80f00e80241f9feb3f98', 'b2486d828b4503cd1ecd0e8d6092ec4156da35f9', '4e4491466a77f65d62bab3e9968441fca24b9a0b', '2432940f83ddb8add5a473820e573f386854ae17', '80b4ebd1a2f7b4399a11f67fcc9ee2caaa166c82', 'b84878dd6f5667a197836eb5bdcd76de1f4135d7', 'db70ccb23463425d18ce4d8be3a7cd7d49ca7544', '634e14f229305f9ad39ced83b3d3f1faa309517c', '46fda6c118e7298297eb48b37587403149fe4d7c', '65ee33130b53f7c8c23fbca9e7831b9509998d60', '1d236ac3f937f1b8e459610483eda74da2ae3daf', 'f93a6d57d6c87b989b63f08a77de91c6ff18f04e', '6af89f3d85d18b8f58c4e5f696b1ec06c575d8cd', 'fcbb2629a126e0afd4ed861c84c151085d890451', '87d3db63a1cf9f2884785084c1eed9d62210cb8c', '8a4289752dd08b21c97d83bfa468ed20d92034f2', 'b85f9d3c2fd942ff6fdfb6cf0bc55d472b005e13', '9460811ab342aa659f7e8b584e2f734c4c142358', 'a304547c5820c093e87fe8e9a89ed20aaf06891a', 'aab3e0e8909ee428700b891901f52516ab321b3d', 'a8ddf928507669cfab4bd1f7535b0a8fcd713543', '19a0f2f40084f3a00ff3c4dfab078415009806bb', 'e65191531d9908e06508e79ce79d8b335a565c98', 'b810e66129e0490dc90fc04b1b68a1146f36be37', '146d98d063d39711c988c9065e0e30374a5b5798', '93a0dd093e7718d8534eb42f5f67e45bb2fa4283', '5abec26c623b9dd5718061a39738a169da8b8ba8', '82f4449d97302e2f9526d492155bd3219e44027b', '06fb0a15f9c4376591ff8f3c21ca1e8ae5d39744', '1a4ef4e6bbc722438fb457e249495b84fd2e0764', '1876e0c813cc8c6787687adcc429cfeaf228beb7', 'cd5cf9c90a9f889568a3667d29cc8029e5b2b9bf', 'f26c561b574d91d454a6e1174e2278b996e88cd3', '179006a1c39480f930a5a2d8e067b705c67c4b54', '2a3a50bf2b5b2340652d219d9c9404c2a8028413', '99f55a3f246e66d49fd829a422512ec65b210ba9', '95a1d700ed9797a1d145b7e3a9576be7d589dadd', 'e09637a676dbafc9c555370a19dc64016fbe90bc', 'b52d7abdff71804aa3d6d217e399e35f0b6d95d9', '1fb572554664ff57af2dd9051da5d1a1cfbeb515', '6e4605c8ad17b71e17b9e0a8939394ee9568e247', '6af33c69987c97571f1696a2a859b7716d27a6fc', 'f7b2e01d32be117b43e14d5e7bf75d3b0c4ca7bf', 'dfbf3fdba1f4b8f812f119100aec03522fd6461a', '0751aee20887066065a007a06323090597f9f11f', '3b6460eb078cd9ae42a7c2a62e617925cbb1a323', 'fa4ecb48d3940a645f0bac0c774279c5e9958832', 'ec92336ea49e5c0c348b9ab5c8e1d2b01b58b0f9', '6e7dc31b35c137d014dbfc67e73e5912c3e00b0e', '01973f75f5c2d7d3bc674259f2258629886fed6d', '112e044adc5018c27ac71d1bfe0ae5e14a87ebbd', 'f218f5bdea7d6b9392536128cdcff6eaea82e65d', '494a51b0a2a7dbd1c289e1107b6d8fbd53096ec4', '958df8795470ff175f229bbf5fad3364f68de441', 'e38f123afecb40272ba4c47cb25c96a9533006fa', '3d840ffab77365a1b2e5ccd464bd439a347d6105', 'ad246b3e1974ab1dfd0450e8a1c9bb5a837c264d', '6d952113b9cee15f62946158df603ccf56b65581', '35d126eb8b1231621e60867892dda39142c2fa2f', '3c7d27d37df3facf4fb026c0851b3cef3d7964c5', '26ebcd3ed468ea6eb0ed347e7659583c37520f75', '97cc4514d93f7b299a85554aa78bcec23516b96d', '4bf4b7b17ea0718f71acc478e467256374bfd1ca', '7db7c54b63a77db8094a69a8a7256a75b03751a3', 'c5b9dbdba62cc46e0b6a767ffe9c620e3abd61e6', '68f8f95ba4d709e487cde135a5f46e2957796fae', '4824f9ef80eb670767326780d6971cc233417c84', '611fc1cf016ce82a5068bb25e8b14d7894f6dbe4', '218a38896f7c19a9e66446554a1baab56052c2bf', '1c4149cc281df59bfd9683cd7e5bfe777db8d1fc', '623404304e9042355dacbaad1ed39bfa5c0abf80', '387f29d1e6f4360fa1a2c9607edfa184520bd716', '7fb7500ef7fe081de16516ce5ce589fd075c19c1', '063af049d3caab7a4021ced1502ed507eb31742b', '3289c3ffb9de09f2d856ec518dceabae8dfc394f', '7f40de51402fdd635d1d8101d46d0504f467426e', 'e62ed43f8e77e43480818eea6878b26262bc8859', 'd55fa663a29ab268f12bd5dcd910057a29f32612', '86d0ee89ce07feb9e53a295ce3edcec5e32d8bb0', '5a0aed78e86860eabcae1d8e6795054bb4451841', '2d10e44b20a9a4d55ebd9e647b379731c3d6bcdf', '1aedc45e8723a7e5c1e89f0114d400781b02d5c2', '9ddacb57003138f84330b1fc84a92960d1981916', 'b2f6203607365a23d01b3448d47d39cc27f28c22', 'f21db2e343de8452378b812cc59e06b6bd93de4b', '87e770aa6672ccef2008ab7bf68f0e74dda2c909', '77061b033eb359df8dad3b7e2f1898a0a42abefa', '49401be342d16483f6c907d441ad8cbf4bed5500', 'd1e697d551645288cd033b02bf116d2dae5c8c26', '9cc6b46eb3772e6552c547edfbbe2c53918c093d', 'c8ba543e4a4613098605190f3901cd74a05cdbf9', '582679831db653060138982efbda5ec855d54b79', 'fa59bbd037cd6e399df6181b1434603f460afeb4', '0d7fdd6e1ecd9bdf5acc2f8d1158a6475ae4d000', 'a1193d92644ab4df300248ecdee4e7eacb880245', 'a58b101ed3ea8069bc07b7c36ecf4df2972b9b81', '38581a85ccee6f40b1e19c65a326b1b97af0e352', 'fc5cf6682b07c427bb1924b1f1168aa6ed4c9c98', '81c61cb6b34d61c57d743a990e0a379ac3d7dfdc', '912ba70ae554bb174683332ee78f9f9a5de0e8f7', 'ca386d239e8876b67527690b1bb436dc7fd29c1c', 'ea3cc275cf0b7403bb86b017deb4aca62c492a30', '0657c6aafb0f6404c735bb21127e2666c7e80391', 'ca09c0e633df603472eb6a798c740125e24be588', 'be41b45715bdf59a1a86bd3c438c1c7f9d259f6c', '451a9a4a4cb1cc4e5f38d04e8859cc3fb275cc66', '0e4244ef986a898e9c841c6958debdf048a3b460', 'db00fb124b182d221feca1579d808b72faedb87d', 'b4e2d9f5d550808da275981a8cd99723ea8d86ee', 'b46d191a5d62f1c5f7797be8f0ebe827d90d33dc', '28b5e81c5ca707bb25a4b0f22d7ff114ad538828', '6d0f69646c641517bdb8e87ae31ad805f751fc92', '6be9f680fb62ed5316223c99e0f15bb7132f1698', 'd80b61d733f44f5f12fd0963e9d2569003bcb2b9', 'ffaefa3a1bc2d074d9a14c9924d4e67a46c35410', '17c20e6b2403ee13c812ebf58e8ebe0c95454424', '89d41d1a8123a2a5fce53490f5c49328d2cbae5f', 'e69b284100106047a1dec6fadcbd80d665ea9384', '4a6973bfc1421413087bf7a8df33ae4377e68f8c', 'a203706ed4d5d7e169c94d6509c3b7a6f01ae289', 'ef0021bd16b5fe629928cdf4bfd1e2f339c1ae5b', '5ae9903fd36ee150ba93f4d336ce7bc609e831e0', 'f1eb99dfac5778c5e1ba6827343ddb60a4d06a40', '7537aae942c7437d133a55b377e5107e36819207', '3e01fccb303b41653139f283657058b8aa0339bc', 'da3e1eeda73e969dc35f42b81232fc25a6e5300f', 'b6bf12ab687c2519a6ed828eae3dd12d6495a5bf', '3dad913216e3e0ad339739d1c8c4391532a65b71', '42d4a9f766f2770e88a566cb65438a9b92446e6a', '37ccf518503c462961178f77f2e008458f66481c', '911744590cacb5b411bdb4eb62a99ca72ae5cece', 'faca0053dc7829eb57f1fd1b2b35faa155b8c779', '4754d2e5125e4af8c9dac994200182b67677f9e9', '67a99db71c18691c6024af88a785e225e2136111', '9a6c1c01ab77c9f1b49a882a4dc07f9e51b62ef4', 'dbbc554b1619e1d0ab5440e76ae0bea6dbe15078', '19112807bdd8e1a217777592f05e47e0311cdc00', '98a12c829367534abec4bafb38bed6814354d437', '9a2d3d5c587b9c60b8f7d399a3a8622fef6f0891', '52737024425f64cbcd2435dd1ce360115371dfc3', '105fa458d451ef9c03853023e960ea9d7d90093e', 'b59cc63901046b1c567a660ffeedaa66152e51a3', '9f13e9e567b786dae7f1c95b2ea390702ae0465e', '900f5b53e3f07b9923731decb644eaf4372410a8', 'c178d91599b60bd8c3a964370b87402ffc8e28ef', '75ea37bd26c1d5d9421b852942e22b26c8235fc1', '2b5e64ec329882eb5e2c23dc8c5fde8f09e8e039', 'bfb1e5f9ec8fedf67c64fdd0523345907af7508c', '16fc2d5c5d77e9355cd20de9dd2f9a3a14483fd1', '3da26b9b824f285cfe68c84c2ecbe7131f2b7c35', '4e2305b494dfef7f42fd2ed67d2a1c0430630b14', 'a81c07e7de0a81e3202d43eb126397b72e23e5f5', '20cd78fb99bf664deac4548c7f6c321d47d029a0', 'd879a5d84070a64ee8b18adf94cc292f9ad1b2d5', '46a047ea13f8e42b5589c7220d76f076c67e3ccd', '619b26a2bf7d8fa3145ad5481a18e4e621140d06', '64615e78b19945074a1c728025dccb4d9074344d', '74da72afc374a7cf0798083edeebdcdca4dfd95e', 'fe9327be39fd457df70e83d3fc8cba9b8b3f95b1', 'dceb5e92860fadcbd707b39acb780882c77f26be', '7a60d59ca4bf65be8cb5da82b0791881f351af77', '497935037e41a94d2ae02488d098c7abda9a30bc', '8fb80b9d9e413992be034c63885ea0a94fa8048d', '8bf579d2d0c025490bfcbcefcb73caf048dec461', 'f9202875c81b7b3b1ced6635a9381d1d5a405225', '8e6e008489d1cd2a67fbc14ea7b53b774fea8f45', '7816b3e9efe1cbfa1b85938e037b674ada6c1e8a', 'a9bfc79fbdd0ca356cbd4de9c31a55e4773f4d38', 'a4d8af4bde7bf24734f2c6596e7ab46991fd61eb', 'a5aaa00991b3bbfd20422f79b15fb607e4bfcd8c', '8a7982ea3a9d4fe4fd7389e0a94a539ccc81a7bc', 'd284970e7b32a6139f9db95ed81100c3bd5cd2f1', 'e6d625567782b8e25db093646174c8a6cde45c08', '22dbd582351d3ed6a728a92a73ec3f8ee6e12464', 'abe1b2efd975dd5bbacc44832424e1e8a965b527', '466516ab5feaf84565e71a4bb20f2aeba1ea0263', 'c7a1b16d56dfb4773a10f53defb386db01335da6', 'cb3d150ee8461bbb20cde81cb965c56dfa7a48a5', 'd459a80bb9588088950043643cb41dc92efb6f8a', '226e897448d77e6a9f40a8f32aa1e181050a71aa', 'f92e6c9c2f5bea6aa9d7d5a8fa4bab3807eceab2', 'e05d25b4e7568802bc0004fa940cd2c1b391c835', '10d21c3bef7bcdbc4242a2f0aeac178ea5714587', '2faf187af62155452d40be0265b6922ca8133a25', 'b80dd78e6ed0505fee8bf6c7d687e310a0994cd7', 'e7456cbe97518542a71c6be6f7201decb153a351', '2e708c92a005bcfdc4ace7e782a3a2b6ba25453e', '57dc5fd239433715a0318a6056547191d4ac863e', '5632e631e6d5af6ff0abeb0ea7494241b6647478', '4a864b4769ad7a8e3fb82ef9907c25b2a51c22f2', 'cd6f4b2ed2f39805dffd8cf5fa273ef9f364fd71', '0c40a9039f66768b26b8b276ebeef3041b5a4b56', '3faaf951e4fa83cd67032688320d03d832ae708c', '56f7d744da0415c9a8cd8c41aea7f923a0ee2cb6', '816318ffe36e72786b5f394c17571abd1603890e', 'ce38fa81a6f4f064cdea00603f631af25d7076c9', '42e57da33fc3a018c2cd9bd9b4fd65b578dc8c9c', '7517d035228f1c02556f2e1a0b71fb290b268c00', '3feec23fb5993e87bb0d2156f163321fd3243944', '41cd623cf7736569eb7f33bf9717d327817b0305', '2bf322a59fe20190506501f67e6af9d9238a0270', '3b57bde8f07468e3d912559126b4e8bf5984e992', 'b57e6b1d3d6fd5756eaeb8c100597f3a1509cd9a', 'a0e44bd2c07b772255812e1a3ad29ccc09886597', '226cb3c6a7a64d13e5262711755303ef76f59e29', '09a5d3fd412e8c5d9a603e4743257f4c2e266ab5', '9be0db723fedcb782cd2e0fd8e2377cca1c9497b', '752e5f98b685a38f70e8a6394e20080e778964ed', 'fdc108993b666dfc6cd1a6e317381acb39290120', '14ee4d6211ffef1fc681a0fe1bcc264909ce9982', '5922de2f4825a9a66d08658cf4e6691bbad047b2', '5b5d25e71f2869a68ec06fa31a4e62449beee396', '25b210b2b91049daafa020f22925bb25fec630d1', '0a16a71c1c47ee4620b8a176581a7a8c1e43daa4', '180987ff9e718d9fd65455ab13f10ae9a8cd70c8', '115546a663b618ba1006409f4cc3ff726871848f', '6b16b9958564c0ab363ac606f669c162029649bb', '1813fde590566fdb5e7e582111e99adfbc111476', 'ddbc0cb0b6a703d0475d8bec50b2bceec8b4fa90', '033cb5a4314cb9e5b5c9ee15101ecad32108ce64', 'b70251089be3211ad3854af0e0c5892f50b2b061', 'f96cb4127c9d362da7c78e5552c68ebbc17959bd', '10d5f4368eb6385e85951df03dd273aded142f59', 'f240340dc25b5ba57e4644636912f2b848078765', '2b19afe18f98d73924516e67a0c7b46c373ac2dc', 'f816e6f6f0d770cdea8a1b8df1eca73612292a31', 'b70cae7b63bfb0b0e717f8da1f4a34d1e3a401c0', 'a65e6f4df3b1fc10337da04b39b6387f26fb3072', '50e09e3eabb7ae33f35a4a0b6695e2595679a5e9', '8474f7a46dd364f7139ba0554f32402ba7c0ac78', '18871eb5a7d90bbc4349b211ecbda91cd13e9168', '1e2f783c9cf69e7dc4b922327ae91f592f97ddb0', '0666dfd0eebfe9385c3062ccd592bffbb2812759', '5e1bb9c6295b777e5b0bced4b1894274ddb62c64', 'a8b2702e972aaeb84f06d28be75e5add9079a4ee', '6dc57b0b93ed150aa3bbfccb2de036b56171b416', '37bfd6ef8bc4a3506efea0a1832af5f1df01d9f1', '0858586c74b67f287452e810d87b127cc45d26a0', '0b25abd23f280de3242cc9c49e75ce94a03184e6', '60a3b38a4772bea0db6ab5b06cbfa9719e038f8b', 'aa78fb30d1d48ddcf39eb014f34664217c1af374', '26eb273264b2e56cb3b5eae07c2aacfdbcf4d21f', '667dd9227e02f69420ba4ac5f8176ae3aa063253', 'd60bb16c2cc1ffcdc4cb75b85fba8284ad20613d', '311d2057bf112ff2c34b7f6597173ffc2764a944', '6fee8b5956f31b0523f4751f56963f82652e94e5', 'eb704535fabd144ec8c56366d1080e540e46b527', 'bd733c696b10b07eb83dfabf3f6f363788cfea2a', 'a14ce63ffc197e1f5f0e5631ac694a67479d7ff0', '2d212dbb5b83530a675f0be4d24c843506113cc4', '1165fd2a8fe25b1c2350b1ea5cffc5c1219bdbdf', '1984ddadfb60692feb98a1e58703883065901cf3', '0a46929c6a08d4dab1c6a0f88ab422a96a73c227', '9dffbf812dbf6e8761e52d9b053a8f5e029db800', '8801ec2d18d51f426abbd37fb9bde1f8ad8a3f11', '7a94e5d0c4aba4a0c6b98793142146821c38f21f', 'ec2fd4868ca5eb260b848c1506c026eeee55e3a2', '0987d9e182b0cbada64cccebd415ca268441a3e0', 'e81042362e246edc4460e6013cd8b24c9df6fff9', 'af2a2e486083acde9c09e1f1715de860f40bc3fe', 'c20e17b171ff2a34b4d684b4fe3af3be7e0700f3', 'b42ec778ccc0017706c35f73c30eb250c612fbee', '6c83da86ac7b4253314ca18ff2916ce163bde711', 'dd62113c30447e567ca6cfe70c2c688d66965a1b', '8514a6b72105b1fa79e63f94dc6250f66e962ae5', 'ae62d0a16f62d011313a07fb190bde8049f2fee6', 'afd6f1fa2758a8d01be227ddb67264028c0da8c2', 'c35927bc1205cce4cf0c20cacd411255b6d1c4b1', '72fd0ec208b5c478cbeae4f34af5999e0bd3ba95', 'd2ec12403071b900755edcafd2046f0654a1674f', '0fd3b08bc475d413a3685b6a8ad0d625ad3d5073', '262b5095f21d3addbff0ab212a968a467cc7592b', '00ced21f957bbcee5edf7b107b2bd05628b04774', '70059b11d8529a9da28460e6ca538f07f5960060', '4fd474e53535e332742f95cb53b40ce753161382', '040455baefca122f0de19168d023badf7b6f7b66', 'd2f40578abf6f723bf61f95aedcb7855134037c4', 'eef58fc08310322f20a446a216344880bdbb8c92', 'fb1e49eb1e63daf27ecbcf54b1d9f146d561b542', '780c1530a2e26699c8cb8ef2bdccda8f97eac087', '7ab9eba637a6270540f3f14566732a94a744fa41', 'aea64da3d6dae9827f6c636c5d11c4404d72b0dc', 'a5d5f4d6fa955018d1b6b1bc2bd908195617b43e', '4c42dc3c997fd566c55482186ec1ec36a5f1adbb', 'e8a8731d0d4364699708b94b8fad76328e876b19', '9e573d854e5d4489bbfe9b7968d582d0fc8dd9f4', '2e6907a0201f4be460f27d0c3eef118accf98833', 'cb2d324ad51679a7dd43bd57ba61c6590d50cd0d', 'b24a051df80138dc74b0067c7ce04c0b0576e7b7', '4f9bc7f5eddc3f0ab548bada8591e48ed769069c', '8093453beaf776891e469fa38e18e0e9040556b8', 'a57c5e7fbb825ac3bb191fe04ec4e19307c199b2', 'ae8faee0032814e71e1295df958dec2ebecd247c', '56b81e4570da1a3b9d32cd49dc6598bec41e1e88', 'f6235cac5e0815871dc91afaa5d4ed7ce875c1bb', 'bc1807c6be62ce05ea3ed206424d70b7e4bc3b9d', 'b58371c6977b14f28aae14afb09eb0d90f66337b', '0ef2ac81fce8d5fa97418cec3036d3c8b72f33a2', '7d146ba1d40d70eba0da348fb5a3e1279d355ef7', '484a85f471104808e0ae9b868c6b9741111c7d09', '2736b9eb3155c96262eed257b9da37d15c942e09', '8af72f8f6dc28ab861714a69791bd89c97c089c7', '590462fa1eb6b6ec17ca530e960e427bbbf66bfb', 'fe13f905e0ce5959864ac83af47ee47f6d8eb831', '1e4c69cba2f4c2e4e2d164ca005a38b22ea85984', '1b68ea5e5e2c1834ee065233c542377b6818305e', '13c83c234c60e2c4ac0cd71c469438835e900b46', '9c292f73405bc722c5d0b8b9f548b15d4b00f021', '49da44c2fbed6bfddb9d1b92a4fddedc8d83f47f', 'b9084a19455333bc818e23702ab94a48a113439e', 'b2ad1860281633817f584ac7d6cee322ad96bfbd', '2530ce37df06ba2f6543f37624c44c2f59503b89', '9fbaafe6060230453f4ce4c22eb86312599adba9', '4743cd0ce4e7124eaca2fb1b4483996808306ce9', '435e3b844a07cc48af1ebac0b1cb19d58cacdc02', '0431266dbdea577d806dfb0033c2d92b47cd67cc', '16652a0e5d14789905a332f37313cf643b553b04', 'aaaf1a153d6b2f025b275c68324b6dd6d15f22ff', '595d142d271e2715bcf931cabb1a1f3c58d5bce9', '267b3472ec31b925e4b220793c96fe04be25886d', 'd7b7811b2ea0eadfb2c60d0d41de3e4991af7f82', '2e683a9fb267f8967063135a5dde3ea5459a3f39', 'c74064f7dadf5983108ee33898cd3422b84b27d5', 'bbaf8a354178e40489e2eb14a74f9e84e748f99c', 'd5104d68f29c791c784c8af9e3c8790485b43096', 'd692d0c5face833855819d2a5fa174fffa31babb', '11a3c57739fda7439f5a6419055c7990a510786e', '1e95773f9f343be6658075f4f4659c45aedc729a', '2a90e1b0cba8893bf9a2c5de614717330a59d240', 'cf05160911cf3033409d1e6df1149f3650d290b0', 'ef4cc5f74d49082dc6c0ee042f33abbb8a4e86aa', 'bb83959ad435d25c700c60ad69ef808b02d4678b', '0c2e03645b09ecce27a3c1c025f5381496c2ae1f', '3fd8dfa17220505a39e034c6f017ed985114a4b2', '0836e0664aa2f0ad98fabb89d3a6ee0c9c94bfe2', '5d4696d14afb04251a2262499354cd449e775399', '665ac07ee54dbbfcdcabeb1e061bc174d3a0837e', '9cfa28d68d71ba3fb1bf4745319be2258b87eb92', 'd126d50133bf3c9384a73f00c02e29e27186bba6', '46fba43174c33f0fd84cea00568acaefaa7272ae', 'c32b717ff811ab17886ad16823582c656cb4ac29', '573cb487d539ac8ebc1cf9a11519f8ed59221af7', '704d0b58568fa113519f73ac3320a328b7ed7327', '0e25c94c11d4b47a7f4685bbb9fdecc0a2897a9a', '8c5b3e4be6739c1becc7dfd0aa87ca6541c845d0', 'fa97f190ff55bfb242588d6cc1472ce7e43f4fec', '7aef8f14001f95da4a76c810970d4aa469cdf11f', '75b11547437d86c21fa34ecf3e15bb8ec4f79c69', '28526efc0946396097e9b4b381091ad01dce5737', '653ebcada6f3859168049c2e9d195fec05cf00b3', '95af85556b34d7fd095bf95df7afc30715aef406', 'a84b640053db9f85009b308f037e49abfb60d71a', '09bfbea5158bc75b3cab965fce21c375a58b20f6', 'c520db347383d75e8c11cdf69ab3bfc57b8e0d27', '390dcd0d61c503c78f4d9108b1f44518c6be1edd', 'e39bf279d976e989a531822c7fbd53ccd6786804', 'bf1cb888ad7d969983334958f9fcc1dcce2db221', '23f7d41f490ea05f2000fdbbae4df8b0d0d02254', 'ff7a0f59ba022102ad22981141a7182c4d8273c3', '994a55585f5a868b33352854a3a98563b5603d2b', '2a3ff89c0c024e883ab3cb4523789ae0ac6c26c4', '88c538deb43973a25eaffc337e04142f4d1b602b', 'a58df7e6bc4e275eeaeacaf2852101e6eb3b8f8b', '8c5e70684ff25192b6a1aae541c2377b13d423c3', '8c57cc5490d090bfb99c64fc5713fd61124c962c', '3599deb658c2fe668c33021db91c7dd34992d58d', '747270bd43c5969c44177664fb1b3281c5f0adf7', '14a659d4c9b37f752be3175fb90524d577bbe3c0', '31b8560067a72b8e23b82c6f47f83f97c55fcffc', '8192ed097949269d0d17db03e03936bfadc1f929', '488f60c5d90235787048281672d3a023bb809396', '255fbfc3da81c31365aec4a44b280d5743a707d0', '72fda55aa824c70b76fe8859c3386ca02ba680c5', 'bd7f37b6d6bd5eca7c2823b97dce1acc968672e8', 'd5480b60a9bf69ece1065cbf35af4ad7864234a9', 'ca447936030275f4e070c76b09724805cc96d366', '30b880bc19a812122e4905ff8bc896580187bc1c', '96b2212c4434e130adb35b282f23c1bf14e38829', '8c42f13e549b6223e5e5b6387eab12366f10994b', '5bb932fb6949bb4afcf754e3d7aeae1e7f388847', '75120cef1c0a126a1c84c7ad6e13ad72c48af52b', '2cc5d8687503301ff6c01687dd695df0c0817b05', 'bcbb71cb28dad73aa401aa41a00a6ee2745fd12d', 'aa93a8498b5cb946005150faf9653d260bfbdc58', '84ec931b447a5d9d999553fa525a4ec5e2b64b68', 'd4f1a9035672bdb98deb24595cf9726e7b3077db', '8b6005131c983a3d0310ca7297a6c849eeb2b3a4', '459ad2bd7ed5d4d90eba9ac95893323cc3913ac9', 'e91b3fae72a7abbf4973c658746745614d690bf5', '8bef82d73125d3fdc304adf062af6411c2bc9c0c', '38285342c3d7dc8275eda2182a94c77a69ee42c5', 'ac9bfcaae65d3092c3993dab5cf79079854a9ec3', '39b0ad42843eb715155ec14379d5a0409b477f1d', '87fc3a178500e56a288ff40091c8d513706c86e2', '55fc79ecf176134f78587afbf1d22971d999ae1d', '5cddcd1989b7b5ca30fdd7f6c324b4b07b3b4686', 'ba337a635a4fe63fa26279413d834e4292c206f1', '128e0d0f1597b173a6d71bafa4f9d6258e161ef2', 'b2aba86e922e9281aa8585e00eca77fdfe3449bc', '33ba53ddf4fb2c8d1abd1bef10c2bdd7128871d9', '4f1c74a03a6c7289d441743ebb4de9976962075c', '3976c321d108ef6ddc499cbb4715d1b14d41d1ac', '2893d1d817693e1cf83d4718a621efde8c692300', '8808e1c834f0cde0b94d2bf94f12cc3e99aed922', 'be76d63e61458471bf99aaa20e1bdf99c77bd2e0', '6c2ce0b7398fe0c00d64538dc3e83ce1a184c8d6', '546071221910e451b75edb15b39b227eb7121485', '4070b8d82484ed99cdb9bbc2ebf4e9aca06fd934', 'fb06291e6550296e0f1b36e4f8c13218f615700e', 'e90de4b883d9de64a47774ad7ad49ca6fd69d4fe', 'a3f94d0fa042638f6ae5cdcd028e6d87884f1ee4', '7cef554fdc3a6835f31456054ff69742b068bcb7', '0f3f3b558c7a821ef18092c48ea924aff362ec53', 'aee3c105b56256124382cd74624a993f2e840b6f', '1b7a3f70a30b90837681376d48c1ae8832f9834b', 'd21b998d7a4722310ceeaa3c6aaa181a36db2d73', '4faeed980a7cd11e0f3cf2058cc04daa2ef11452', 'abbf639ba05daa5249c520e290283a6d726ba78d', '1f18e8aaccd6c8720180c3fe264c8aef5b00697f']\n"
     ]
    }
   ],
   "source": [
    "# List of users by their emails\n",
    "print(users)"
   ]
  },
  {
   "cell_type": "code",
   "execution_count": 227,
   "metadata": {},
   "outputs": [
    {
     "name": "stdout",
     "output_type": "stream",
     "text": [
      "5149\n"
     ]
    }
   ],
   "source": [
    "# Total number of users witout repetition\n",
    "print(no_of_users)"
   ]
  },
  {
   "cell_type": "code",
   "execution_count": 228,
   "metadata": {},
   "outputs": [
    {
     "data": {
      "image/png": "[encoded data removed]",
      "text/plain": [
       "<Figure size 432x288 with 1 Axes>"
      ]
     },
     "metadata": {
      "needs_background": "light"
     },
     "output_type": "display_data"
    },
    {
     "name": "stdout",
     "output_type": "stream",
     "text": [
      "Use 'max' value as: 5\n",
      "\n",
      "\n",
      "Articles used are:\n",
      "\n",
      " article_id  title                                                  \n",
      "962.0       data visualization with r: scrum metrics                   2\n",
      "1305.0      gosales transactions for naive bayes model                 1\n",
      "1165.0      analyze precipitation data                                 1\n",
      "138.0       best packages for data manipulation in r                   1\n",
      "20.0        working interactively with rstudio and notebooks in dsx    1\n",
      "dtype: int64\n",
      "\n",
      "\n",
      "Total number of times user accessed all articles: 6\n"
     ]
    }
   ],
   "source": [
    "def user_article_use(user_email, min, max):\n",
    "    '''\n",
    "    This function extracts the number of times each user of choice, accessed each article in 'user-item-interactions.csv' \n",
    "    dataset, and the total number of articles accessed on the whole.\n",
    "    \n",
    "    Param:\n",
    "    1. user_email (str): Any user email of choice from the email list. Must be wrapped in a quotation sign.\n",
    "    2. min (int): Minimum value from where one wishes to start plotting the graph. Must not be less than zero.\n",
    "    3. max (int): Maximum value where one wishes to stop the graph. To know the maximum allowable 'max' value, one can just \n",
    "    choose min=0 and max=1 at first. The actual max value shows immediately under the graph.\n",
    "    \n",
    "    Returns:\n",
    "    1. art_used (DataFrame): A dataframe of the articles accessed with the frequency of access of each.\n",
    "    2. num_of_art (int): The total number of times the user accessed items on the whole.\n",
    "    3. only_art (list): A lst of all the articles accessed, without repetition. The length of this list, is the maximum \n",
    "    allowable 'max' value.\n",
    "    4. plt.show() (graph): A graph of points, showing that accessed article_id with the frequency of access of each article\n",
    "    for the number of occasions of visit, selected.\n",
    "    '''\n",
    "    art_used = df.loc[(df['email'] == user_email), ['article_id', 'title']].value_counts()\n",
    "    num_of_art = df.loc[(df['email'] == user_email), ['article_id']].shape[0]\n",
    "    art_val = list(df.loc[(df['email'] == user_email), ['article_id']].value_counts())\n",
    "    only_arts = df.loc[(df['email'] == user_email), ['article_id']]\n",
    "    only_art = list(only_arts['article_id'].unique())\n",
    "    \n",
    "    if min < 0:\n",
    "        print(\"'min' must not be negative.\")\n",
    "    elif min > len(art_val) or max > len(art_val):\n",
    "        print(\"'min' or 'max' must not be greater than {}.\".format(len(art_val)))\n",
    "    elif max < 0:\n",
    "        print(\"'max' must not be negative.\")\n",
    "    elif min > max:\n",
    "        print(\"'min' must be less than 'max'\")\n",
    "    else:\n",
    "        art_val = art_val[min:max]\n",
    "        my_only_art = only_art[min:max]\n",
    "        \n",
    "        plt.plot(my_only_art, art_val, '*')\n",
    "        plt.xlabel('User ID')\n",
    "        plt.ylabel('Freq. of Access to Materials')\n",
    "        plt.title('User Activity')\n",
    "        plt.grid()\n",
    "        plt.show()\n",
    "\n",
    "        return art_used, num_of_art, only_art, plt.show()\n",
    "\n",
    "art_used, num_of_art, only_art, plotting = user_article_use('1b7a3f70a30b90837681376d48c1ae8832f9834b', 0, 5)\n",
    "\n",
    "print(\"Use 'max' value as: {}\\n\\n\".format(len(only_art)))\n",
    "print('Articles used are:\\n\\n {}'.format(art_used))\n",
    "print('\\n\\nTotal number of times user accessed all articles: {}'.format(num_of_art))"
   ]
  },
  {
   "cell_type": "code",
   "execution_count": 229,
   "metadata": {},
   "outputs": [
    {
     "name": "stdout",
     "output_type": "stream",
     "text": [
      "Total number of times a user accessed all articles: 6\n"
     ]
    }
   ],
   "source": [
    "# Total number of times a user accessed all articles.\n",
    "print('Total number of times a user accessed all articles: {}'.format(num_of_art))"
   ]
  },
  {
   "cell_type": "code",
   "execution_count": 230,
   "metadata": {},
   "outputs": [
    {
     "data": {
      "image/png": "[encoded data removed]",
      "text/plain": [
       "<Figure size 432x288 with 1 Axes>"
      ]
     },
     "metadata": {
      "needs_background": "light"
     },
     "output_type": "display_data"
    }
   ],
   "source": [
    "def user_visual(min, max):\n",
    "    '''\n",
    "    This fucntion produces a new dataframe of the users with their individual frequency of access to articles. One can input a\n",
    "    range of users to view their frequencies of access on a bar chart, using the min and max parameters.\n",
    "    \n",
    "    Params:\n",
    "    1. min (int): Minimum value of user_id. Must not be less than zero.\n",
    "    2. max (int): Maximum value of user_id. Must not be greagter than 5149.\n",
    "    \n",
    "    Returns:\n",
    "    1. new_df (DataFrame): A new dataframe containing user_email, user_ids and user_freq.\n",
    "    2. stats (DataFrame): A dataframe of statistics of all the users.\n",
    "    3. plt.show() (Barchart): A barchart of the selected users, showing their frequencies of access.\n",
    "    '''\n",
    "    email_dict = {}\n",
    "    for emails in df['email']:\n",
    "        if emails in email_dict:\n",
    "            email_dict[emails] += 1\n",
    "        else:\n",
    "            email_dict[emails] = 1\n",
    "\n",
    "    x_val = list(email_dict.keys())\n",
    "    y_val = list(email_dict.values())\n",
    "    uid = list(np.arange(0, len(x_val)))\n",
    "    \n",
    "    if min > len(x_val) or max > len(x_val):\n",
    "        print(\"'min' or 'max' must not be greater than {}.\".format(len(x_val)))\n",
    "    elif min < 0 or max < 0:\n",
    "        print(\"'min' or 'max' must not be negative.\")\n",
    "    elif min > max:\n",
    "        print(\"'min' must be less than 'max'\")\n",
    "    else:\n",
    "        new_df = pd.DataFrame({'user_email': x_val, 'user_ids': uid, 'user_freq': y_val})\n",
    "        stats = new_df.describe()\n",
    "\n",
    "        uid = uid[min:max]\n",
    "        y_val = y_val[min:max]\n",
    "\n",
    "        plt.bar(uid, y_val)\n",
    "        plt.xlabel('User ID')\n",
    "        plt.ylabel('Freq. of Access to Materials')\n",
    "        plt.title('User Activity')\n",
    "        return new_df, stats, plt.show()\n",
    "\n",
    "\n",
    "new_df, stats, plots = user_visual(0, 20)"
   ]
  },
  {
   "cell_type": "code",
   "execution_count": 231,
   "metadata": {},
   "outputs": [
    {
     "name": "stdout",
     "output_type": "stream",
     "text": [
      "                                    user_email  user_ids  user_freq\n",
      "0     ef5f11f77ba020cd36e1105a00ab868bbdbf7fe7         0         47\n",
      "1     083cbdfa93c8444beaa4c5f5e0f5f9198e4f9e0b         1          6\n",
      "2     b96a4f2e92d8572034b1e9b28f9ac673765cd074         2         82\n",
      "3     06485706b34a5c9bf2a0ecdac41daf7e7654ceb7         3         45\n",
      "4     f01220c46fc92c6e6b161b1849de11faacd7ccb2         4          5\n",
      "...                                        ...       ...        ...\n",
      "5144  1b7a3f70a30b90837681376d48c1ae8832f9834b      5144          6\n",
      "5145  d21b998d7a4722310ceeaa3c6aaa181a36db2d73      5145          9\n",
      "5146  4faeed980a7cd11e0f3cf2058cc04daa2ef11452      5146          1\n",
      "5147  abbf639ba05daa5249c520e290283a6d726ba78d      5147          1\n",
      "5148  1f18e8aaccd6c8720180c3fe264c8aef5b00697f      5148          1\n",
      "\n",
      "[5149 rows x 3 columns]\n"
     ]
    }
   ],
   "source": [
    "print(new_df)"
   ]
  },
  {
   "cell_type": "code",
   "execution_count": 232,
   "metadata": {},
   "outputs": [
    {
     "name": "stdout",
     "output_type": "stream",
     "text": [
      "          user_ids    user_freq\n",
      "count  5149.000000  5149.000000\n",
      "mean   2574.000000     8.932414\n",
      "std    1486.532599    16.801011\n",
      "min       0.000000     1.000000\n",
      "25%    1287.000000     1.000000\n",
      "50%    2574.000000     3.000000\n",
      "75%    3861.000000     9.000000\n",
      "max    5148.000000   364.000000\n"
     ]
    }
   ],
   "source": [
    "print(stats)"
   ]
  },
  {
   "cell_type": "code",
   "execution_count": 233,
   "metadata": {},
   "outputs": [
    {
     "data": {
      "text/html": [
       "<div>\n",
       "<style scoped>\n",
       "    .dataframe tbody tr th:only-of-type {\n",
       "        vertical-align: middle;\n",
       "    }\n",
       "\n",
       "    .dataframe tbody tr th {\n",
       "        vertical-align: top;\n",
       "    }\n",
       "\n",
       "    .dataframe thead th {\n",
       "        text-align: right;\n",
       "    }\n",
       "</style>\n",
       "<table border=\"1\" class=\"dataframe\">\n",
       "  <thead>\n",
       "    <tr style=\"text-align: right;\">\n",
       "      <th></th>\n",
       "      <th>user_email</th>\n",
       "      <th>user_ids</th>\n",
       "      <th>user_freq</th>\n",
       "    </tr>\n",
       "  </thead>\n",
       "  <tbody>\n",
       "    <tr>\n",
       "      <th>1</th>\n",
       "      <td>083cbdfa93c8444beaa4c5f5e0f5f9198e4f9e0b</td>\n",
       "      <td>1</td>\n",
       "      <td>6</td>\n",
       "    </tr>\n",
       "    <tr>\n",
       "      <th>2</th>\n",
       "      <td>b96a4f2e92d8572034b1e9b28f9ac673765cd074</td>\n",
       "      <td>2</td>\n",
       "      <td>82</td>\n",
       "    </tr>\n",
       "    <tr>\n",
       "      <th>3</th>\n",
       "      <td>06485706b34a5c9bf2a0ecdac41daf7e7654ceb7</td>\n",
       "      <td>3</td>\n",
       "      <td>45</td>\n",
       "    </tr>\n",
       "  </tbody>\n",
       "</table>\n",
       "</div>"
      ],
      "text/plain": [
       "                                 user_email  user_ids  user_freq\n",
       "1  083cbdfa93c8444beaa4c5f5e0f5f9198e4f9e0b         1          6\n",
       "2  b96a4f2e92d8572034b1e9b28f9ac673765cd074         2         82\n",
       "3  06485706b34a5c9bf2a0ecdac41daf7e7654ceb7         3         45"
      ]
     },
     "execution_count": 233,
     "metadata": {},
     "output_type": "execute_result"
    }
   ],
   "source": [
    "def new_df_range(min, max):\n",
    "    '''\n",
    "    With this function, one can choose a range of users to view their frequency of access to the articles.\n",
    "    \n",
    "    Params:\n",
    "    1. min (int): Starting index number. Must not be less than zero.\n",
    "    2. max (int): Ending index number. Must not be greater than 5149.\n",
    "    \n",
    "    Returns:\n",
    "    new_df (DataFrame): A dataframe of the user_email, user_ids and user_freq\n",
    "    '''\n",
    "    if min > new_df.shape[0] or max > new_df.shape[0]:\n",
    "        print(\"'min' or 'max' must not be greater than {}.\".format(new_df.shape[0]))\n",
    "    elif min < 0 or max < 0:\n",
    "        print(\"'min' or 'max' must not be negative.\")\n",
    "    elif min > max:\n",
    "        print(\"'min' must be less than 'max'\")\n",
    "    else:\n",
    "        return new_df.iloc[min:max]\n",
    "\n",
    "new_df_range(1, 4)"
   ]
  },
  {
   "cell_type": "code",
   "execution_count": 234,
   "metadata": {},
   "outputs": [
    {
     "name": "stdout",
     "output_type": "stream",
     "text": [
      "                                  user_email  user_ids  user_freq\n",
      "22  2b6c0f514c2f2b04ad3c4583407dccd0810469ee        22        364\n"
     ]
    }
   ],
   "source": [
    "# Dataframe of user(s) with highest number of access to articles\n",
    "highest = new_df['user_freq'].max()\n",
    "\n",
    "highest_df = new_df.loc[(new_df['user_freq'] == highest), ['user_email', 'user_ids', 'user_freq']]\n",
    "print(highest_df)"
   ]
  },
  {
   "cell_type": "code",
   "execution_count": 235,
   "metadata": {},
   "outputs": [
    {
     "name": "stdout",
     "output_type": "stream",
     "text": [
      "                                    user_email  user_ids  user_freq\n",
      "28    044e0e49589bc60c0e3a4e8a2723b774d4fa1f8d        28          1\n",
      "46    b3b884da0f386758459539036cb23ddacb6c1173        46          1\n",
      "92    f331c486a4e648cfe41ffbb93eeaecaabc17c914        92          1\n",
      "98    37943b1d038fc564a54b86ec7babcbdab0cd85ba        98          1\n",
      "100   61f2a8f3c0a6335542feed8cc95038c96ed97668       100          1\n",
      "...                                        ...       ...        ...\n",
      "5140  a3f94d0fa042638f6ae5cdcd028e6d87884f1ee4      5140          1\n",
      "5143  aee3c105b56256124382cd74624a993f2e840b6f      5143          1\n",
      "5146  4faeed980a7cd11e0f3cf2058cc04daa2ef11452      5146          1\n",
      "5147  abbf639ba05daa5249c520e290283a6d726ba78d      5147          1\n",
      "5148  1f18e8aaccd6c8720180c3fe264c8aef5b00697f      5148          1\n",
      "\n",
      "[1416 rows x 3 columns]\n"
     ]
    }
   ],
   "source": [
    "# Dataframe of user(s) with least number of access to articles\n",
    "least = new_df['user_freq'].min()\n",
    "\n",
    "least_df = new_df.loc[(new_df['user_freq'] == least), ['user_email', 'user_ids', 'user_freq']]\n",
    "print(least_df)"
   ]
  },
  {
   "cell_type": "code",
   "execution_count": 236,
   "metadata": {},
   "outputs": [
    {
     "name": "stdout",
     "output_type": "stream",
     "text": [
      "                                   user_email  user_ids  user_freq\n",
      "28   044e0e49589bc60c0e3a4e8a2723b774d4fa1f8d        28          1\n",
      "46   b3b884da0f386758459539036cb23ddacb6c1173        46          1\n",
      "92   f331c486a4e648cfe41ffbb93eeaecaabc17c914        92          1\n",
      "98   37943b1d038fc564a54b86ec7babcbdab0cd85ba        98          1\n",
      "100  61f2a8f3c0a6335542feed8cc95038c96ed97668       100          1\n"
     ]
    }
   ],
   "source": [
    "def least_df_range(min, max):\n",
    "    '''\n",
    "    This function provides the users with the least frequency of access to the articles. Each of them accessed the articles\n",
    "    only once and they are 1416 in total. With this function, one can choose a range of users to view their \n",
    "    email and user_id.\n",
    "    \n",
    "    Params:\n",
    "    1. min (int): Starting index number. Must not be less than zero.\n",
    "    2. max (int): Ending index number. Must not be greater than 1416.\n",
    "    \n",
    "    Returns:\n",
    "    new_df (DataFrame): A dataframe of the user_email, user_ids and user_freq\n",
    "    '''\n",
    "    if min > least_df.shape[0] or max > least_df.shape[0]:\n",
    "        print(\"'min' or 'max' must not be greater than {}.\".format(least_df.shape[0]))\n",
    "    elif min < 0 or max < 0:\n",
    "        print(\"'min' or 'max' must not be negative.\")\n",
    "    elif min > max:\n",
    "        print(\"'min' must be less than 'max'\")\n",
    "    else:\n",
    "        return least_df.iloc[0:5]\n",
    "\n",
    "print(least_df_range(1, 5))"
   ]
  },
  {
   "cell_type": "code",
   "execution_count": 237,
   "metadata": {},
   "outputs": [
    {
     "name": "stdout",
     "output_type": "stream",
     "text": [
      "3.0\n"
     ]
    }
   ],
   "source": [
    "# Fill in the median and maximum number of user_article interactios below\n",
    "\n",
    "median_val = np.median(list(new_df['user_freq'])) # 50% of individuals interact with 3 articles or fewer.\n",
    "print(median_val)"
   ]
  },
  {
   "cell_type": "code",
   "execution_count": 238,
   "metadata": {},
   "outputs": [
    {
     "name": "stdout",
     "output_type": "stream",
     "text": [
      "364\n"
     ]
    }
   ],
   "source": [
    "max_views_by_user = new_df['user_freq'].max() # The maximum number of user-article interactions by any 1 user is 364.\n",
    "print(max_views_by_user)"
   ]
  },
  {
   "cell_type": "markdown",
   "metadata": {},
   "source": [
    "`2.` Explore and remove duplicate articles from the **df_content** dataframe.  "
   ]
  },
  {
   "cell_type": "code",
   "execution_count": 239,
   "metadata": {},
   "outputs": [
    {
     "name": "stdout",
     "output_type": "stream",
     "text": [
      "5\n"
     ]
    }
   ],
   "source": [
    "# Find and explore duplicate articles\n",
    "\n",
    "df_content_dup = df_content.duplicated(['article_id']).sum()\n",
    "print(df_content_dup)"
   ]
  },
  {
   "cell_type": "code",
   "execution_count": 240,
   "metadata": {},
   "outputs": [
    {
     "name": "stdout",
     "output_type": "stream",
     "text": [
      "                                              doc_body  \\\n",
      "365  Follow Sign in / Sign up Home About Insight Da...   \n",
      "692  Homepage Follow Sign in / Sign up Homepage * H...   \n",
      "761  Homepage Follow Sign in Get started Homepage *...   \n",
      "970  This video shows you how to construct queries ...   \n",
      "971  Homepage Follow Sign in Get started * Home\\r\\n...   \n",
      "\n",
      "                                       doc_description  \\\n",
      "365  During the seven-week Insight Data Engineering...   \n",
      "692  One of the earliest documented catalogs was co...   \n",
      "761  Today’s world of data science leverages data f...   \n",
      "970  This video shows you how to construct queries ...   \n",
      "971  If you are like most data scientists, you are ...   \n",
      "\n",
      "                                         doc_full_name doc_status  article_id  \n",
      "365                       Graph-based machine learning       Live          50  \n",
      "692  How smart catalogs can turn the big data flood...       Live         221  \n",
      "761  Using Apache Spark as a parallel processing fr...       Live         398  \n",
      "970                              Use the Primary Index       Live         577  \n",
      "971  Self-service data preparation with IBM Data Re...       Live         232  \n"
     ]
    }
   ],
   "source": [
    "# Find and explore duplicate articles\n",
    "\n",
    "df_content_dup_set = df_content.loc[(df_content.duplicated(['article_id']))]\n",
    "print(df_content_dup_set)"
   ]
  },
  {
   "cell_type": "code",
   "execution_count": 241,
   "metadata": {},
   "outputs": [
    {
     "name": "stdout",
     "output_type": "stream",
     "text": [
      "                                               doc_body  \\\n",
      "0     Skip navigation Sign in SearchLoading...\\r\\n\\r...   \n",
      "1     No Free Hunch Navigation * kaggle.com\\r\\n\\r\\n ...   \n",
      "2     ☰ * Login\\r\\n * Sign Up\\r\\n\\r\\n * Learning Pat...   \n",
      "3     DATALAYER: HIGH THROUGHPUT, LOW LATENCY AT SCA...   \n",
      "4     Skip navigation Sign in SearchLoading...\\r\\n\\r...   \n",
      "...                                                 ...   \n",
      "1051  PouchDB-find is a new API and syntax that allo...   \n",
      "1052  We compare discriminative and generative learn...   \n",
      "1053  Essays about data, building products and boots...   \n",
      "1054                                                NaN   \n",
      "1055  Homepage Follow Sign in / Sign up Homepage * H...   \n",
      "\n",
      "                                        doc_description  \\\n",
      "0     Detect bad readings in real time using Python ...   \n",
      "1     See the forest, see the trees. Here lies the c...   \n",
      "2     Here’s this week’s news in Data Science and Bi...   \n",
      "3     Learn how distributed DBs solve the problem of...   \n",
      "4     This video demonstrates the power of IBM DataS...   \n",
      "...                                                 ...   \n",
      "1051  PouchDB uses MapReduce as its default search m...   \n",
      "1052  We compare discriminative and generative learn...   \n",
      "1053  In order to demystify some of the magic behind...   \n",
      "1054  Learn how to use IBM dashDB as data store for ...   \n",
      "1055  Once you get used to developing in a Notebook ...   \n",
      "\n",
      "                                          doc_full_name doc_status  article_id  \n",
      "0     Detect Malfunctioning IoT Sensors with Streami...       Live           0  \n",
      "1     Communicating data science: A guide to present...       Live           1  \n",
      "2            This Week in Data Science (April 18, 2017)       Live           2  \n",
      "3     DataLayer Conference: Boost the performance of...       Live           3  \n",
      "4         Analyze NY Restaurant data using Spark in DSX       Live           4  \n",
      "...                                                 ...        ...         ...  \n",
      "1051            A look under the covers of PouchDB-find       Live        1046  \n",
      "1052  A comparison of logistic regression and naive ...       Live        1047  \n",
      "1053  What I Learned Implementing a Classifier from ...       Live        1048  \n",
      "1054                              Use dashDB with Spark       Live        1049  \n",
      "1055  Jupyter Notebooks with Scala, Python, or R Ker...       Live        1050  \n",
      "\n",
      "[1051 rows x 5 columns]\n"
     ]
    }
   ],
   "source": [
    "# Remove any rows that have the same article_id - only keep the first\n",
    "\n",
    "df_content = df_content.drop_duplicates(subset=['article_id'], keep='first')\n",
    "print(df_content)"
   ]
  },
  {
   "cell_type": "markdown",
   "metadata": {},
   "source": [
    "`3.` Use the cells below to find:\n",
    "\n",
    "**a.** The number of unique articles that have an interaction with a user.  \n",
    "**b.** The number of unique articles in the dataset (whether they have any interactions or not).<br>\n",
    "**c.** The number of unique users in the dataset. (excluding null values) <br>\n",
    "**d.** The number of user-article interactions in the dataset."
   ]
  },
  {
   "cell_type": "code",
   "execution_count": 242,
   "metadata": {},
   "outputs": [
    {
     "name": "stdout",
     "output_type": "stream",
     "text": [
      "   article_id                                              title  \\\n",
      "0      1430.0  using pixiedust for fast, flexible, and easier...   \n",
      "1      1314.0       healthcare python streaming application demo   \n",
      "2      1429.0         use deep learning for image classification   \n",
      "3      1338.0          ml optimization using cognitive assistant   \n",
      "4      1276.0          deploy your python model as a restful api   \n",
      "\n",
      "                                      email  \n",
      "0  ef5f11f77ba020cd36e1105a00ab868bbdbf7fe7  \n",
      "1  083cbdfa93c8444beaa4c5f5e0f5f9198e4f9e0b  \n",
      "2  b96a4f2e92d8572034b1e9b28f9ac673765cd074  \n",
      "3  06485706b34a5c9bf2a0ecdac41daf7e7654ceb7  \n",
      "4  f01220c46fc92c6e6b161b1849de11faacd7ccb2  \n"
     ]
    }
   ],
   "source": [
    "print(df.head())"
   ]
  },
  {
   "cell_type": "code",
   "execution_count": 243,
   "metadata": {},
   "outputs": [
    {
     "name": "stdout",
     "output_type": "stream",
     "text": [
      "714\n"
     ]
    }
   ],
   "source": [
    "# The number of unique articles that have at least one interaction\n",
    "\n",
    "unique_articles = df.article_id.nunique()\n",
    "print(unique_articles)"
   ]
  },
  {
   "cell_type": "code",
   "execution_count": 244,
   "metadata": {},
   "outputs": [
    {
     "name": "stdout",
     "output_type": "stream",
     "text": [
      "45993\n"
     ]
    }
   ],
   "source": [
    "# The number of user-article interactions\n",
    "\n",
    "user_article_interactions = df['email'].shape[0]\n",
    "print(user_article_interactions)"
   ]
  },
  {
   "cell_type": "code",
   "execution_count": 245,
   "metadata": {},
   "outputs": [],
   "source": [
    "df1 = df.dropna() # Delete missing values and their records\n",
    "\n",
    "df1 = df1.drop_duplicates(subset=['email'], keep='first') # Drop duplicates, leaving only the first records"
   ]
  },
  {
   "cell_type": "code",
   "execution_count": 246,
   "metadata": {},
   "outputs": [
    {
     "name": "stdout",
     "output_type": "stream",
     "text": [
      "5148\n"
     ]
    }
   ],
   "source": [
    "# The number of unique users\n",
    "\n",
    "unique_users = df1.email.nunique()\n",
    "print(unique_users )"
   ]
  },
  {
   "cell_type": "code",
   "execution_count": 247,
   "metadata": {},
   "outputs": [
    {
     "name": "stdout",
     "output_type": "stream",
     "text": [
      "1051\n"
     ]
    }
   ],
   "source": [
    "# The number of unique articles on the IBM platform\n",
    "\n",
    "total_articles = df_content.article_id.nunique()\n",
    "print(total_articles)"
   ]
  },
  {
   "cell_type": "markdown",
   "metadata": {},
   "source": [
    "`4.` Use the cells below to find the most viewed **article_id**, as well as how often it was viewed.  After talking to the company leaders, the `email_mapper` function was deemed a reasonable way to map users to ids.  There were a small number of null values, and it was found that all of these null values likely belonged to a single user (which is how they are stored using the function below)."
   ]
  },
  {
   "cell_type": "code",
   "execution_count": 248,
   "metadata": {},
   "outputs": [
    {
     "name": "stdout",
     "output_type": "stream",
     "text": [
      "1429.0    937\n",
      "1330.0    927\n",
      "1431.0    671\n",
      "1427.0    643\n",
      "1364.0    627\n",
      "Name: article_id, dtype: int64\n"
     ]
    }
   ],
   "source": [
    "# The most viewed article in the dataset as a string with one value following the decimal\n",
    "\n",
    "most_viewed_article_id =  df['article_id'].value_counts()\n",
    "print(most_viewed_article_id.head())"
   ]
  },
  {
   "cell_type": "code",
   "execution_count": 249,
   "metadata": {},
   "outputs": [
    {
     "name": "stdout",
     "output_type": "stream",
     "text": [
      "1429.0\n"
     ]
    }
   ],
   "source": [
    "most_viewed_article_id = '1429.0'\n",
    "print(most_viewed_article_id)"
   ]
  },
  {
   "cell_type": "code",
   "execution_count": 250,
   "metadata": {},
   "outputs": [
    {
     "name": "stdout",
     "output_type": "stream",
     "text": [
      "937\n"
     ]
    }
   ],
   "source": [
    "# The most viewed article in the dataset was viewed how many times?\n",
    "\n",
    "max_views = list(df['article_id'].value_counts())[0]\n",
    "print(max_views)"
   ]
  },
  {
   "cell_type": "code",
   "execution_count": 251,
   "metadata": {},
   "outputs": [
    {
     "data": {
      "text/html": [
       "<div>\n",
       "<style scoped>\n",
       "    .dataframe tbody tr th:only-of-type {\n",
       "        vertical-align: middle;\n",
       "    }\n",
       "\n",
       "    .dataframe tbody tr th {\n",
       "        vertical-align: top;\n",
       "    }\n",
       "\n",
       "    .dataframe thead th {\n",
       "        text-align: right;\n",
       "    }\n",
       "</style>\n",
       "<table border=\"1\" class=\"dataframe\">\n",
       "  <thead>\n",
       "    <tr style=\"text-align: right;\">\n",
       "      <th></th>\n",
       "      <th>article_id</th>\n",
       "      <th>title</th>\n",
       "      <th>user_id</th>\n",
       "    </tr>\n",
       "  </thead>\n",
       "  <tbody>\n",
       "    <tr>\n",
       "      <th>0</th>\n",
       "      <td>1430.0</td>\n",
       "      <td>using pixiedust for fast, flexible, and easier...</td>\n",
       "      <td>1</td>\n",
       "    </tr>\n",
       "    <tr>\n",
       "      <th>1</th>\n",
       "      <td>1314.0</td>\n",
       "      <td>healthcare python streaming application demo</td>\n",
       "      <td>2</td>\n",
       "    </tr>\n",
       "    <tr>\n",
       "      <th>2</th>\n",
       "      <td>1429.0</td>\n",
       "      <td>use deep learning for image classification</td>\n",
       "      <td>3</td>\n",
       "    </tr>\n",
       "    <tr>\n",
       "      <th>3</th>\n",
       "      <td>1338.0</td>\n",
       "      <td>ml optimization using cognitive assistant</td>\n",
       "      <td>4</td>\n",
       "    </tr>\n",
       "    <tr>\n",
       "      <th>4</th>\n",
       "      <td>1276.0</td>\n",
       "      <td>deploy your python model as a restful api</td>\n",
       "      <td>5</td>\n",
       "    </tr>\n",
       "  </tbody>\n",
       "</table>\n",
       "</div>"
      ],
      "text/plain": [
       "   article_id                                              title  user_id\n",
       "0      1430.0  using pixiedust for fast, flexible, and easier...        1\n",
       "1      1314.0       healthcare python streaming application demo        2\n",
       "2      1429.0         use deep learning for image classification        3\n",
       "3      1338.0          ml optimization using cognitive assistant        4\n",
       "4      1276.0          deploy your python model as a restful api        5"
      ]
     },
     "execution_count": 251,
     "metadata": {},
     "output_type": "execute_result"
    }
   ],
   "source": [
    "## No need to change the code here - this will be helpful for later parts of the notebook\n",
    "# Run this cell to map the user email to a user_id column and remove the email column\n",
    "\n",
    "def email_mapper():\n",
    "    coded_dict = dict()\n",
    "    cter = 1\n",
    "    email_encoded = []\n",
    "    \n",
    "    for val in df['email']:\n",
    "        if val not in coded_dict:\n",
    "            coded_dict[val] = cter\n",
    "            cter+=1\n",
    "        \n",
    "        email_encoded.append(coded_dict[val])\n",
    "    return email_encoded\n",
    "\n",
    "email_encoded = email_mapper()\n",
    "del df['email']\n",
    "df['user_id'] = email_encoded\n",
    "\n",
    "# show header\n",
    "df.head()"
   ]
  },
  {
   "cell_type": "code",
   "execution_count": 252,
   "metadata": {},
   "outputs": [
    {
     "name": "stdout",
     "output_type": "stream",
     "text": [
      "It looks like you have everything right here! Nice job!\n"
     ]
    }
   ],
   "source": [
    "## If you stored all your results in the variable names above, \n",
    "## you shouldn't need to change anything in this cell\n",
    "\n",
    "sol_1_dict = {\n",
    "    '`50% of individuals have _____ or fewer interactions.`': median_val,\n",
    "    '`The total number of user-article interactions in the dataset is ______.`': user_article_interactions,\n",
    "    '`The maximum number of user-article interactions by any 1 user is ______.`': max_views_by_user,\n",
    "    '`The most viewed article in the dataset was viewed _____ times.`': max_views,\n",
    "    '`The article_id of the most viewed article is ______.`': most_viewed_article_id,\n",
    "    '`The number of unique articles that have at least 1 rating ______.`': unique_articles,\n",
    "    '`The number of unique users in the dataset is ______`': unique_users,\n",
    "    '`The number of unique articles on the IBM platform`': total_articles\n",
    "}\n",
    "\n",
    "# Test your dictionary against the solution\n",
    "t.sol_1_test(sol_1_dict)"
   ]
  },
  {
   "cell_type": "markdown",
   "metadata": {},
   "source": [
    "### <a class=\"anchor\" id=\"Rank\">Part II: Rank-Based Recommendations</a>\n",
    "\n",
    "Unlike in the earlier lessons, we don't actually have ratings for whether a user liked an article or not.  We only know that a user has interacted with an article.  In these cases, the popularity of an article can really only be based on how often an article was interacted with.\n",
    "\n",
    "`1.` Fill in the function below to return the **n** top articles ordered with most interactions as the top. Test your function using the tests below."
   ]
  },
  {
   "cell_type": "code",
   "execution_count": 253,
   "metadata": {},
   "outputs": [],
   "source": [
    "def get_top_articles(n, df=df):\n",
    "    '''\n",
    "    INPUT:\n",
    "    n - (int) the number of top articles to return\n",
    "    df - (pandas dataframe) df as defined at the top of the notebook \n",
    "    \n",
    "    OUTPUT:\n",
    "    top_articles - (list) A list of the top 'n' article titles \n",
    "    \n",
    "    '''\n",
    "    # Your code here\n",
    "    top_articles = (df['title'].value_counts().reset_index()).rename(\n",
    "        columns={'index': 'title', 'title': 'freq'}).head(n)\n",
    "    top_articles = list(top_articles['title'])\n",
    "    \n",
    "    return top_articles # Return the top article titles from df (not df_content)\n",
    "\n",
    "def get_top_article_ids(n, df=df):\n",
    "    '''\n",
    "    INPUT:\n",
    "    n - (int) the number of top articles to return\n",
    "    df - (pandas dataframe) df as defined at the top of the notebook \n",
    "    \n",
    "    OUTPUT:\n",
    "    top_articles - (list) A list of the top 'n' article titles \n",
    "    \n",
    "    '''\n",
    "    # Your code here\n",
    "    top_articles = (df['article_id'].value_counts().reset_index()).rename(\n",
    "        columns={'index': 'article_id', 'article_id': 'freq'}).head(n)\n",
    "    top_articles = list(top_articles['article_id'])\n",
    " \n",
    "    return top_articles # Return the top article ids"
   ]
  },
  {
   "cell_type": "code",
   "execution_count": 254,
   "metadata": {},
   "outputs": [
    {
     "name": "stdout",
     "output_type": "stream",
     "text": [
      "['use deep learning for image classification', 'insights from new york car accident reports', 'visualize car data with brunel', 'use xgboost, scikit-learn & ibm watson machine learning apis', 'predicting churn with the spss random tree algorithm', 'healthcare python streaming application demo', 'finding optimal locations of new store using decision optimization', 'apache spark lab, part 1: basic concepts', 'analyze energy consumption in buildings', 'gosales transactions for logistic regression model']\n",
      "[1429.0, 1330.0, 1431.0, 1427.0, 1364.0, 1314.0, 1293.0, 1170.0, 1162.0, 1304.0]\n"
     ]
    }
   ],
   "source": [
    "print(get_top_articles(10))\n",
    "print(get_top_article_ids(10))"
   ]
  },
  {
   "cell_type": "code",
   "execution_count": 255,
   "metadata": {},
   "outputs": [
    {
     "name": "stdout",
     "output_type": "stream",
     "text": [
      "Your top_5 looks like the solution list! Nice job.\n",
      "Your top_10 looks like the solution list! Nice job.\n",
      "Your top_20 looks like the solution list! Nice job.\n"
     ]
    }
   ],
   "source": [
    "# Test your function by returning the top 5, 10, and 20 articles\n",
    "top_5 = get_top_articles(5)\n",
    "top_10 = get_top_articles(10)\n",
    "top_20 = get_top_articles(20)\n",
    "\n",
    "# Test each of your three lists from above\n",
    "t.sol_2_test(get_top_articles)"
   ]
  },
  {
   "cell_type": "markdown",
   "metadata": {},
   "source": [
    "### <a class=\"anchor\" id=\"User-User\">Part III: User-User Based Collaborative Filtering</a>\n",
    "\n",
    "\n",
    "`1.` Use the function below to reformat the **df** dataframe to be shaped with users as the rows and articles as the columns.  \n",
    "\n",
    "* Each **user** should only appear in each **row** once.\n",
    "\n",
    "\n",
    "* Each **article** should only show up in one **column**.  \n",
    "\n",
    "\n",
    "* **If a user has interacted with an article, then place a 1 where the user-row meets for that article-column**.  It does not matter how many times a user has interacted with the article, all entries where a user has interacted with an article should be a 1.  \n",
    "\n",
    "\n",
    "* **If a user has not interacted with an item, then place a zero where the user-row meets for that article-column**. \n",
    "\n",
    "Use the tests to make sure the basic structure of your matrix matches what is expected by the solution."
   ]
  },
  {
   "cell_type": "code",
   "execution_count": 256,
   "metadata": {},
   "outputs": [
    {
     "name": "stdout",
     "output_type": "stream",
     "text": [
      "article_id  0.0     2.0     4.0     8.0     9.0     12.0    14.0    15.0    \\\n",
      "user_id                                                                      \n",
      "1              0.0     0.0     0.0     0.0     0.0     0.0     0.0     0.0   \n",
      "2              0.0     0.0     0.0     0.0     0.0     0.0     0.0     0.0   \n",
      "3              0.0     0.0     0.0     0.0     0.0     1.0     0.0     0.0   \n",
      "4              0.0     0.0     0.0     0.0     0.0     0.0     0.0     0.0   \n",
      "5              0.0     0.0     0.0     0.0     0.0     0.0     0.0     0.0   \n",
      "...            ...     ...     ...     ...     ...     ...     ...     ...   \n",
      "5145           0.0     0.0     0.0     0.0     0.0     0.0     0.0     0.0   \n",
      "5146           0.0     0.0     0.0     0.0     0.0     0.0     0.0     0.0   \n",
      "5147           0.0     0.0     0.0     0.0     0.0     0.0     0.0     0.0   \n",
      "5148           0.0     0.0     0.0     0.0     0.0     0.0     0.0     0.0   \n",
      "5149           0.0     0.0     0.0     0.0     0.0     0.0     0.0     0.0   \n",
      "\n",
      "article_id  16.0    18.0    ...  1434.0  1435.0  1436.0  1437.0  1439.0  \\\n",
      "user_id                     ...                                           \n",
      "1              0.0     0.0  ...     0.0     0.0     1.0     0.0     1.0   \n",
      "2              0.0     0.0  ...     0.0     0.0     0.0     0.0     0.0   \n",
      "3              0.0     0.0  ...     0.0     0.0     1.0     0.0     0.0   \n",
      "4              0.0     0.0  ...     0.0     0.0     0.0     0.0     0.0   \n",
      "5              0.0     0.0  ...     0.0     0.0     0.0     0.0     0.0   \n",
      "...            ...     ...  ...     ...     ...     ...     ...     ...   \n",
      "5145           0.0     0.0  ...     0.0     0.0     0.0     0.0     0.0   \n",
      "5146           0.0     0.0  ...     0.0     0.0     0.0     0.0     0.0   \n",
      "5147           0.0     0.0  ...     0.0     0.0     0.0     0.0     0.0   \n",
      "5148           0.0     0.0  ...     0.0     0.0     0.0     0.0     0.0   \n",
      "5149           1.0     0.0  ...     0.0     0.0     0.0     0.0     0.0   \n",
      "\n",
      "article_id  1440.0  1441.0  1442.0  1443.0  1444.0  \n",
      "user_id                                             \n",
      "1              0.0     0.0     0.0     0.0     0.0  \n",
      "2              0.0     0.0     0.0     0.0     0.0  \n",
      "3              0.0     0.0     0.0     0.0     0.0  \n",
      "4              0.0     0.0     0.0     0.0     0.0  \n",
      "5              0.0     0.0     0.0     0.0     0.0  \n",
      "...            ...     ...     ...     ...     ...  \n",
      "5145           0.0     0.0     0.0     0.0     0.0  \n",
      "5146           0.0     0.0     0.0     0.0     0.0  \n",
      "5147           0.0     0.0     0.0     0.0     0.0  \n",
      "5148           0.0     0.0     0.0     0.0     0.0  \n",
      "5149           0.0     0.0     0.0     0.0     0.0  \n",
      "\n",
      "[5149 rows x 714 columns]\n"
     ]
    }
   ],
   "source": [
    "# create the user-article matrix with 1's and 0's\n",
    "\n",
    "def create_user_item_matrix(df):\n",
    "    '''\n",
    "    INPUT:\n",
    "    df - pandas dataframe with article_id, title, user_id columns\n",
    "    \n",
    "    OUTPUT:\n",
    "    user_item - user item matrix \n",
    "    \n",
    "    Description:\n",
    "    Return a matrix with user ids as rows and article ids on the columns with 1 values where a user interacted with \n",
    "    an article and a 0 otherwise\n",
    "    '''\n",
    "    # Fill in the function here\n",
    "    df['access'] = 1\n",
    "    user_group = df.groupby(['user_id', 'article_id'])['access'].max()\n",
    "    user_item = user_group.unstack()\n",
    "    user_item.fillna(0, inplace=True)   \n",
    "    return user_item # return the user_item matrix \n",
    "\n",
    "user_item = create_user_item_matrix(df)\n",
    "print(user_item)"
   ]
  },
  {
   "cell_type": "code",
   "execution_count": 257,
   "metadata": {},
   "outputs": [
    {
     "name": "stdout",
     "output_type": "stream",
     "text": [
      "You have passed our quick tests!  Please proceed!\n"
     ]
    }
   ],
   "source": [
    "## Tests: You should just need to run this cell.  Don't change the code.\n",
    "assert user_item.shape[0] == 5149, \"Oops!  The number of users in the user-article matrix doesn't look right.\"\n",
    "assert user_item.shape[1] == 714, \"Oops!  The number of articles in the user-article matrix doesn't look right.\"\n",
    "assert user_item.sum(axis=1)[1] == 36, \"Oops!  The number of articles seen by user 1 doesn't look right.\"\n",
    "print(\"You have passed our quick tests!  Please proceed!\")"
   ]
  },
  {
   "cell_type": "markdown",
   "metadata": {},
   "source": [
    "`2.` Complete the function below which should take a user_id and provide an ordered list of the most similar users to that user (from most similar to least similar).  The returned result should not contain the provided user_id, as we know that each user is similar to him/herself. Because the results for each user here are binary, it (perhaps) makes sense to compute similarity as the dot product of two users. \n",
    "\n",
    "Use the tests to test your function."
   ]
  },
  {
   "cell_type": "code",
   "execution_count": 258,
   "metadata": {},
   "outputs": [],
   "source": [
    "def find_similar_users(user_id, user_item=user_item):\n",
    "    '''\n",
    "    INPUT:\n",
    "    user_id - (int) a user_id\n",
    "    user_item - (pandas dataframe) matrix of users by articles: \n",
    "                1's when a user has interacted with an article, 0 otherwise\n",
    "    \n",
    "    OUTPUT:\n",
    "    similar_users - (list) an ordered list where the closest users (largest dot product users)\n",
    "                    are listed first\n",
    "    \n",
    "    Description:\n",
    "    Computes the similarity of every pair of users based on the dot product\n",
    "    Returns an ordered\n",
    "    \n",
    "    '''\n",
    "    # compute similarity of each user to the provided user\n",
    "    like_user = {}\n",
    "    no_of_users = user_item.shape[0]\n",
    "\n",
    "    for num in range(1, no_of_users + 1):\n",
    "        like_user[num] = np.dot(user_item.loc[user_id], np.transpose(user_item.loc[num]))\n",
    "        \n",
    "    # sort by similarity\n",
    "    sorted_like_user = pd.DataFrame.from_dict(like_user, orient = 'index').sort_values(0, ascending=False)\n",
    "\n",
    "    # create list of just the ids\n",
    "    most_similar_users = list(sorted_like_user.index)\n",
    "   \n",
    "    # remove the own user's id\n",
    "    most_similar_users.remove(user_id)\n",
    "       \n",
    "    return most_similar_users # return a list of the users in order from most to least similar\n",
    "        "
   ]
  },
  {
   "cell_type": "code",
   "execution_count": 259,
   "metadata": {},
   "outputs": [
    {
     "name": "stdout",
     "output_type": "stream",
     "text": [
      "The 10 most similar users to user 1 are: [3933, 23, 3782, 203, 4459, 3870, 131, 4201, 46, 5041]\n",
      "The 5 most similar users to user 3933 are: [1, 23, 3782, 203, 4459]\n",
      "The 3 most similar users to user 46 are: [4201, 3782, 23]\n"
     ]
    }
   ],
   "source": [
    "# Do a spot check of your function\n",
    "print(\"The 10 most similar users to user 1 are: {}\".format(find_similar_users(1)[:10]))\n",
    "print(\"The 5 most similar users to user 3933 are: {}\".format(find_similar_users(3933)[:5]))\n",
    "print(\"The 3 most similar users to user 46 are: {}\".format(find_similar_users(46)[:3]))"
   ]
  },
  {
   "cell_type": "markdown",
   "metadata": {},
   "source": [
    "`3.` Now that you have a function that provides the most similar users to each user, you will want to use these users to find articles you can recommend.  Complete the functions below to return the articles you would recommend to each user. "
   ]
  },
  {
   "cell_type": "code",
   "execution_count": 260,
   "metadata": {},
   "outputs": [],
   "source": [
    "def get_article_names(article_ids, df=df):\n",
    "    '''\n",
    "    INPUT:\n",
    "    article_ids - (list) a list of article ids\n",
    "    df - (pandas dataframe) df as defined at the top of the notebook\n",
    "    \n",
    "    OUTPUT:\n",
    "    article_names - (list) a list of article names associated with the list of article ids \n",
    "                    (this is identified by the title column)\n",
    "    '''\n",
    "    # Your code here\n",
    "    article_names = list(set(df[df['article_id'].isin(article_ids)]['title']))\n",
    "    \n",
    "    return article_names # Return the article names associated with list of article ids\n",
    "\n",
    "\n",
    "def get_user_articles(user_id, user_item=user_item):\n",
    "    '''\n",
    "    INPUT:\n",
    "    user_id - (int) a user id\n",
    "    user_item - (pandas dataframe) matrix of users by articles: \n",
    "                1's when a user has interacted with an article, 0 otherwise\n",
    "    \n",
    "    OUTPUT:\n",
    "    article_ids - (list) a list of the article ids seen by the user\n",
    "    article_names - (list) a list of article names associated with the list of article ids \n",
    "                    (this is identified by the doc_full_name column in df_content)\n",
    "    \n",
    "    Description:\n",
    "    Provides a list of the article_ids and article titles that have been seen by a user\n",
    "    '''\n",
    "    # Your code here\n",
    "    intersect = user_item.loc[user_id][user_item.loc[user_id] == 1]\n",
    "    article_ids = intersect.index.astype('str').to_list()\n",
    "    article_names = get_article_names(article_ids)\n",
    "    \n",
    "    return article_ids, article_names # return the ids and names\n",
    "\n",
    "\n",
    "def user_user_recs(user_id, m=10):\n",
    "    '''\n",
    "    INPUT:\n",
    "    user_id - (int) a user id\n",
    "    m - (int) the number of recommendations you want for the user\n",
    "    \n",
    "    OUTPUT:\n",
    "    recs - (list) a list of recommendations for the user\n",
    "    \n",
    "    Description:\n",
    "    Loops through the users based on closeness to the input user_id\n",
    "    For each user - finds articles the user hasn't seen before and provides them as recs\n",
    "    Does this until m recommendations are found\n",
    "    \n",
    "    Notes:\n",
    "    Users who are the same closeness are chosen arbitrarily as the 'next' user\n",
    "    \n",
    "    For the user where the number of recommended articles starts below m \n",
    "    and ends exceeding m, the last items are chosen arbitrarily\n",
    "    \n",
    "    '''\n",
    "    # Your code here\n",
    "    recs = []\n",
    "    seen_art_ids, seen_art_titles = get_user_articles(user_id)\n",
    "    close_users = find_similar_users(user_id)\n",
    "    \n",
    "    for close_user in close_users:\n",
    "        art_ids, art_titles = get_user_articles(close_user)\n",
    "        init_recs = np.setdiff1d(art_ids, seen_art_ids)\n",
    "        recs.extend(np.setdiff1d(init_recs, recs))\n",
    "        \n",
    "    recs = recs[:m]\n",
    "    \n",
    "    return recs # return your recommendations for this user_id    "
   ]
  },
  {
   "cell_type": "code",
   "execution_count": 261,
   "metadata": {},
   "outputs": [
    {
     "data": {
      "text/plain": [
       "['analyze facebook data using ibm watson and watson studio',\n",
       " 'analyze energy consumption in buildings',\n",
       " 'analyze accident reports on amazon emr spark',\n",
       " '1448    i ranked every intro to data science course on...\\nName: title, dtype: object',\n",
       " 'airbnb data for analytics: vancouver listings',\n",
       " 'data tidying in data science experience',\n",
       " 'airbnb data for analytics: mallorca reviews',\n",
       " 'a tensorflow regression model to predict house values',\n",
       " 'recommender systems: approaches & algorithms',\n",
       " '520    using notebooks with pixiedust for fast, flexi...\\nName: title, dtype: object']"
      ]
     },
     "execution_count": 261,
     "metadata": {},
     "output_type": "execute_result"
    }
   ],
   "source": [
    "# Check Results\n",
    "get_article_names(user_user_recs(1, 10)) # Return 10 recommendations for user 1"
   ]
  },
  {
   "cell_type": "code",
   "execution_count": 262,
   "metadata": {},
   "outputs": [
    {
     "name": "stdout",
     "output_type": "stream",
     "text": [
      "If this is all you see, you passed all of our tests!  Nice job!\n"
     ]
    }
   ],
   "source": [
    "# Test your functions here - No need to change this code - just run this cell\n",
    "assert set(get_article_names(['1024.0', '1176.0', '1305.0', '1314.0', '1422.0', '1427.0'])) == set(['using deep learning to reconstruct high-resolution audio', 'build a python app on the streaming analytics service', 'gosales transactions for naive bayes model', 'healthcare python streaming application demo', 'use r dataframes & ibm watson natural language understanding', 'use xgboost, scikit-learn & ibm watson machine learning apis']), \"Oops! Your the get_article_names function doesn't work quite how we expect.\"\n",
    "assert set(get_article_names(['1320.0', '232.0', '844.0'])) == set(['housing (2015): united states demographic measures','self-service data preparation with ibm data refinery','use the cloudant-spark connector in python notebook']), \"Oops! Your the get_article_names function doesn't work quite how we expect.\"\n",
    "assert set(get_user_articles(20)[0]) == set(['1320.0', '232.0', '844.0'])\n",
    "assert set(get_user_articles(20)[1]) == set(['housing (2015): united states demographic measures', 'self-service data preparation with ibm data refinery','use the cloudant-spark connector in python notebook'])\n",
    "assert set(get_user_articles(2)[0]) == set(['1024.0', '1176.0', '1305.0', '1314.0', '1422.0', '1427.0'])\n",
    "assert set(get_user_articles(2)[1]) == set(['using deep learning to reconstruct high-resolution audio', 'build a python app on the streaming analytics service', 'gosales transactions for naive bayes model', 'healthcare python streaming application demo', 'use r dataframes & ibm watson natural language understanding', 'use xgboost, scikit-learn & ibm watson machine learning apis'])\n",
    "print(\"If this is all you see, you passed all of our tests!  Nice job!\")"
   ]
  },
  {
   "cell_type": "markdown",
   "metadata": {},
   "source": [
    "`4.` Now we are going to improve the consistency of the **user_user_recs** function from above.  \n",
    "\n",
    "* Instead of arbitrarily choosing when we obtain users who are all the same closeness to a given user - choose the users that have the most total article interactions before choosing those with fewer article interactions.\n",
    "\n",
    "\n",
    "* Instead of arbitrarily choosing articles from the user where the number of recommended articles starts below m and ends exceeding m, choose articles with the articles with the most total interactions before choosing those with fewer total interactions. This ranking should be  what would be obtained from the **top_articles** function you wrote earlier."
   ]
  },
  {
   "cell_type": "code",
   "execution_count": 263,
   "metadata": {},
   "outputs": [],
   "source": [
    "def get_top_sorted_users(user_id, df=df, user_item=user_item):\n",
    "    '''\n",
    "    INPUT:\n",
    "    user_id - (int)\n",
    "    df - (pandas dataframe) df as defined at the top of the notebook \n",
    "    user_item - (pandas dataframe) matrix of users by articles: \n",
    "            1's when a user has interacted with an article, 0 otherwise\n",
    "    \n",
    "            \n",
    "    OUTPUT:\n",
    "    neighbors_df - (pandas dataframe) a dataframe with:\n",
    "                    neighbor_id - is a neighbor user_id\n",
    "                    similarity - measure of the similarity of each user to the provided user_id\n",
    "                    num_interactions - the number of articles viewed by the user - if a u\n",
    "                    \n",
    "    Other Details - sort the neighbors_df by the similarity and then by number of interactions where \n",
    "                    highest of each is higher in the dataframe\n",
    "     \n",
    "    '''\n",
    "    # Your code here\n",
    "    # Article dot product\n",
    "    art_prod = user_item.dot(np.transpose(user_item))\n",
    "    sim_df = art_prod.loc[user_id].sort_values(ascending = False) \n",
    "    \n",
    "    # Reset the similarity dataframe\n",
    "    sim_df = pd.DataFrame(sim_df.reset_index().drop(0, axis =0))\n",
    "    sim_df['similarity_level'] = sim_df[user_id]\n",
    "    sim_df.drop(user_id, axis=1, inplace=True)\n",
    "    \n",
    "    # Calculate the neighbors\n",
    "    neighbors = df['user_id'].value_counts()\n",
    "    neighbors = pd.DataFrame(neighbors).reset_index().rename(\n",
    "        columns={'index': 'user_id', 'user_id': 'interations'})\n",
    "    \n",
    "    # Merge the similarity and neighbors dataframes\n",
    "    neighbors = sim_df.merge(neighbors, on=['user_id'], how='outer')\n",
    "    neighbors_df = neighbors.sort_values(by=['similarity_level', 'interations'], ascending=False)\n",
    "    \n",
    "    return neighbors_df # Return the dataframe specified in the doc_string\n",
    "\n",
    "\n",
    "def user_user_recs_part2(user_id, m=10):\n",
    "    '''\n",
    "    INPUT:\n",
    "    user_id - (int) a user id\n",
    "    m - (int) the number of recommendations you want for the user\n",
    "    \n",
    "    OUTPUT:\n",
    "    recs - (list) a list of recommendations for the user by article id\n",
    "    rec_names - (list) a list of recommendations for the user by article title\n",
    "    \n",
    "    Description:\n",
    "    Loops through the users based on closeness to the input user_id\n",
    "    For each user - finds articles the user hasn't seen before and provides them as recs\n",
    "    Does this until m recommendations are found\n",
    "    \n",
    "    Notes:\n",
    "    * Choose the users that have the most total article interactions \n",
    "    before choosing those with fewer article interactions.\n",
    "\n",
    "    * Choose articles with the articles with the most total interactions \n",
    "    before choosing those with fewer total interactions. \n",
    "   \n",
    "    '''\n",
    "    # Your code here\n",
    "    my_recs = []\n",
    "    \n",
    "    seen_ids, seen_titles = get_user_articles(user_id)\n",
    "    sim_users = get_top_sorted_users(user_id)\n",
    "    \n",
    "    for users in sim_users['user_id'].values:\n",
    "        new_seen_ids, new_seen_titles = get_user_articles(users)\n",
    "        \n",
    "        # Drop articles already seen by user\n",
    "        matched_ids = np.setdiff1d(new_seen_ids, seen_ids)\n",
    "        matched_ids = np.setdiff1d(matched_ids, my_recs)\n",
    "        \n",
    "        # Sort rest articles by popularity\n",
    "        matched_ids = df[df['article_id'].isin(matched_ids)].groupby(\n",
    "            'article_id').count().sort_values('title', ascending = False).index.to_list()\n",
    "        my_recs.extend(matched_ids)\n",
    "        \n",
    "    recs = my_recs[:m]\n",
    "    rec_names = get_article_names(recs)\n",
    "    \n",
    "    return recs, rec_names\n"
   ]
  },
  {
   "cell_type": "code",
   "execution_count": 264,
   "metadata": {},
   "outputs": [
    {
     "name": "stdout",
     "output_type": "stream",
     "text": [
      "The top 10 recommendations for user 20 are the following article ids:\n",
      "[1330.0, 1427.0, 1364.0, 1170.0, 1162.0, 1304.0, 1351.0, 1160.0, 1354.0, 1368.0]\n",
      "\n",
      "The top 10 recommendations for user 20 are the following article names:\n",
      "['insights from new york car accident reports', 'analyze energy consumption in buildings', 'predicting churn with the spss random tree algorithm', 'putting a human face on machine learning', 'use xgboost, scikit-learn & ibm watson machine learning apis', 'gosales transactions for logistic regression model', 'movie recommender system with spark machine learning', 'analyze accident reports on amazon emr spark', 'model bike sharing data with spss', 'apache spark lab, part 1: basic concepts']\n"
     ]
    }
   ],
   "source": [
    "# Quick spot check - don't change this code - just use it to test your functions\n",
    "rec_ids, rec_names = user_user_recs_part2(20, 10)\n",
    "print(\"The top 10 recommendations for user 20 are the following article ids:\")\n",
    "print(rec_ids)\n",
    "print()\n",
    "print(\"The top 10 recommendations for user 20 are the following article names:\")\n",
    "print(rec_names)"
   ]
  },
  {
   "cell_type": "markdown",
   "metadata": {},
   "source": [
    "`5.` Use your functions from above to correctly fill in the solutions to the dictionary below.  Then test your dictionary against the solution.  Provide the code you need to answer each following the comments below."
   ]
  },
  {
   "cell_type": "code",
   "execution_count": 265,
   "metadata": {},
   "outputs": [],
   "source": [
    "### Tests with a dictionary of results\n",
    "\n",
    "# Find the user that is most similar to user 1\n",
    "user1_most_sim = list(get_top_sorted_users(1)['user_id'])[0]\n",
    "\n",
    "# Find the 10th most similar user to user 131\n",
    "user131_10th_sim = list(get_top_sorted_users(131)['user_id'])[9]"
   ]
  },
  {
   "cell_type": "code",
   "execution_count": 266,
   "metadata": {},
   "outputs": [
    {
     "name": "stdout",
     "output_type": "stream",
     "text": [
      "This all looks good!  Nice job!\n"
     ]
    }
   ],
   "source": [
    "## Dictionary Test Here\n",
    "sol_5_dict = {\n",
    "    'The user that is most similar to user 1.': user1_most_sim, \n",
    "    'The user that is the 10th most similar to user 131': user131_10th_sim,\n",
    "}\n",
    "\n",
    "t.sol_5_test(sol_5_dict)"
   ]
  },
  {
   "cell_type": "markdown",
   "metadata": {},
   "source": [
    "`6.` If we were given a new user, which of the above functions would you be able to use to make recommendations?  Explain.  Can you think of a better way we might make recommendations?  Use the cell below to explain a better method for new users."
   ]
  },
  {
   "cell_type": "markdown",
   "metadata": {},
   "source": [
    "**Provide your response here.**\n",
    "\n",
    "**None of the above functions will be able to make recommendations directly for a new user. 'Cold Start' problem will be encountered if an attempt is made, because the user has not had an interaction with any of the articles in the dataset. To make recommendations for such a user, I would first use the 'get_top_article_ids' function to enable them have some interactions with the articles.**"
   ]
  },
  {
   "cell_type": "markdown",
   "metadata": {},
   "source": [
    "`7.` Using your existing functions, provide the top 10 recommended articles you would provide for the a new user below.  You can test your function against our thoughts to make sure we are all on the same page with how we might make a recommendation."
   ]
  },
  {
   "cell_type": "code",
   "execution_count": 267,
   "metadata": {},
   "outputs": [
    {
     "name": "stdout",
     "output_type": "stream",
     "text": [
      "['1429.0' '1330.0' '1431.0' '1427.0' '1364.0' '1314.0' '1293.0' '1170.0'\n",
      " '1162.0' '1304.0']\n"
     ]
    }
   ],
   "source": [
    "new_user = '0.0'\n",
    "\n",
    "# What would your recommendations be for this new user '0.0'?  As a new user, they have no observed articles.\n",
    "# Provide a list of the top 10 article ids you would give to \n",
    "new_user_recs = np.array(get_top_article_ids(10)).astype(str)# Your recommendations here\n",
    "print(new_user_recs)"
   ]
  },
  {
   "cell_type": "code",
   "execution_count": 268,
   "metadata": {},
   "outputs": [
    {
     "name": "stdout",
     "output_type": "stream",
     "text": [
      "That's right!  Nice job!\n"
     ]
    }
   ],
   "source": [
    "assert set(new_user_recs) == set(['1314.0','1429.0','1293.0','1427.0','1162.0','1364.0','1304.0','1170.0','1431.0','1330.0']), \"Oops!  It makes sense that in this case we would want to recommend the most popular articles, because we don't know anything about these users.\"\n",
    "\n",
    "print(\"That's right!  Nice job!\")"
   ]
  },
  {
   "cell_type": "markdown",
   "metadata": {},
   "source": [
    "### <a class=\"anchor\" id=\"Matrix-Fact\">Part V: Matrix Factorization</a>\n",
    "\n",
    "In this part of the notebook, you will build use matrix factorization to make article recommendations to the users on the IBM Watson Studio platform.\n",
    "\n",
    "`1.` You should have already created a **user_item** matrix above in **question 1** of **Part III** above.  This first question here will just require that you run the cells to get things set up for the rest of **Part V** of the notebook. "
   ]
  },
  {
   "cell_type": "code",
   "execution_count": 269,
   "metadata": {},
   "outputs": [],
   "source": [
    "# Load the matrix here\n",
    "user_item_matrix = pd.read_pickle('user_item_matrix.p')"
   ]
  },
  {
   "cell_type": "code",
   "execution_count": 270,
   "metadata": {},
   "outputs": [
    {
     "data": {
      "text/html": [
       "<div>\n",
       "<style scoped>\n",
       "    .dataframe tbody tr th:only-of-type {\n",
       "        vertical-align: middle;\n",
       "    }\n",
       "\n",
       "    .dataframe tbody tr th {\n",
       "        vertical-align: top;\n",
       "    }\n",
       "\n",
       "    .dataframe thead th {\n",
       "        text-align: right;\n",
       "    }\n",
       "</style>\n",
       "<table border=\"1\" class=\"dataframe\">\n",
       "  <thead>\n",
       "    <tr style=\"text-align: right;\">\n",
       "      <th>article_id</th>\n",
       "      <th>0.0</th>\n",
       "      <th>100.0</th>\n",
       "      <th>1000.0</th>\n",
       "      <th>1004.0</th>\n",
       "      <th>1006.0</th>\n",
       "      <th>1008.0</th>\n",
       "      <th>101.0</th>\n",
       "      <th>1014.0</th>\n",
       "      <th>1015.0</th>\n",
       "      <th>1016.0</th>\n",
       "      <th>...</th>\n",
       "      <th>977.0</th>\n",
       "      <th>98.0</th>\n",
       "      <th>981.0</th>\n",
       "      <th>984.0</th>\n",
       "      <th>985.0</th>\n",
       "      <th>986.0</th>\n",
       "      <th>990.0</th>\n",
       "      <th>993.0</th>\n",
       "      <th>996.0</th>\n",
       "      <th>997.0</th>\n",
       "    </tr>\n",
       "    <tr>\n",
       "      <th>user_id</th>\n",
       "      <th></th>\n",
       "      <th></th>\n",
       "      <th></th>\n",
       "      <th></th>\n",
       "      <th></th>\n",
       "      <th></th>\n",
       "      <th></th>\n",
       "      <th></th>\n",
       "      <th></th>\n",
       "      <th></th>\n",
       "      <th></th>\n",
       "      <th></th>\n",
       "      <th></th>\n",
       "      <th></th>\n",
       "      <th></th>\n",
       "      <th></th>\n",
       "      <th></th>\n",
       "      <th></th>\n",
       "      <th></th>\n",
       "      <th></th>\n",
       "      <th></th>\n",
       "    </tr>\n",
       "  </thead>\n",
       "  <tbody>\n",
       "    <tr>\n",
       "      <th>1</th>\n",
       "      <td>0.0</td>\n",
       "      <td>0.0</td>\n",
       "      <td>0.0</td>\n",
       "      <td>0.0</td>\n",
       "      <td>0.0</td>\n",
       "      <td>0.0</td>\n",
       "      <td>0.0</td>\n",
       "      <td>0.0</td>\n",
       "      <td>0.0</td>\n",
       "      <td>0.0</td>\n",
       "      <td>...</td>\n",
       "      <td>0.0</td>\n",
       "      <td>0.0</td>\n",
       "      <td>1.0</td>\n",
       "      <td>0.0</td>\n",
       "      <td>0.0</td>\n",
       "      <td>0.0</td>\n",
       "      <td>0.0</td>\n",
       "      <td>0.0</td>\n",
       "      <td>0.0</td>\n",
       "      <td>0.0</td>\n",
       "    </tr>\n",
       "    <tr>\n",
       "      <th>2</th>\n",
       "      <td>0.0</td>\n",
       "      <td>0.0</td>\n",
       "      <td>0.0</td>\n",
       "      <td>0.0</td>\n",
       "      <td>0.0</td>\n",
       "      <td>0.0</td>\n",
       "      <td>0.0</td>\n",
       "      <td>0.0</td>\n",
       "      <td>0.0</td>\n",
       "      <td>0.0</td>\n",
       "      <td>...</td>\n",
       "      <td>0.0</td>\n",
       "      <td>0.0</td>\n",
       "      <td>0.0</td>\n",
       "      <td>0.0</td>\n",
       "      <td>0.0</td>\n",
       "      <td>0.0</td>\n",
       "      <td>0.0</td>\n",
       "      <td>0.0</td>\n",
       "      <td>0.0</td>\n",
       "      <td>0.0</td>\n",
       "    </tr>\n",
       "    <tr>\n",
       "      <th>3</th>\n",
       "      <td>0.0</td>\n",
       "      <td>0.0</td>\n",
       "      <td>0.0</td>\n",
       "      <td>0.0</td>\n",
       "      <td>0.0</td>\n",
       "      <td>0.0</td>\n",
       "      <td>0.0</td>\n",
       "      <td>0.0</td>\n",
       "      <td>0.0</td>\n",
       "      <td>0.0</td>\n",
       "      <td>...</td>\n",
       "      <td>1.0</td>\n",
       "      <td>0.0</td>\n",
       "      <td>0.0</td>\n",
       "      <td>0.0</td>\n",
       "      <td>0.0</td>\n",
       "      <td>0.0</td>\n",
       "      <td>0.0</td>\n",
       "      <td>0.0</td>\n",
       "      <td>0.0</td>\n",
       "      <td>0.0</td>\n",
       "    </tr>\n",
       "    <tr>\n",
       "      <th>4</th>\n",
       "      <td>0.0</td>\n",
       "      <td>0.0</td>\n",
       "      <td>0.0</td>\n",
       "      <td>0.0</td>\n",
       "      <td>0.0</td>\n",
       "      <td>0.0</td>\n",
       "      <td>0.0</td>\n",
       "      <td>0.0</td>\n",
       "      <td>0.0</td>\n",
       "      <td>0.0</td>\n",
       "      <td>...</td>\n",
       "      <td>0.0</td>\n",
       "      <td>0.0</td>\n",
       "      <td>0.0</td>\n",
       "      <td>0.0</td>\n",
       "      <td>0.0</td>\n",
       "      <td>0.0</td>\n",
       "      <td>0.0</td>\n",
       "      <td>0.0</td>\n",
       "      <td>0.0</td>\n",
       "      <td>0.0</td>\n",
       "    </tr>\n",
       "    <tr>\n",
       "      <th>5</th>\n",
       "      <td>0.0</td>\n",
       "      <td>0.0</td>\n",
       "      <td>0.0</td>\n",
       "      <td>0.0</td>\n",
       "      <td>0.0</td>\n",
       "      <td>0.0</td>\n",
       "      <td>0.0</td>\n",
       "      <td>0.0</td>\n",
       "      <td>0.0</td>\n",
       "      <td>0.0</td>\n",
       "      <td>...</td>\n",
       "      <td>0.0</td>\n",
       "      <td>0.0</td>\n",
       "      <td>0.0</td>\n",
       "      <td>0.0</td>\n",
       "      <td>0.0</td>\n",
       "      <td>0.0</td>\n",
       "      <td>0.0</td>\n",
       "      <td>0.0</td>\n",
       "      <td>0.0</td>\n",
       "      <td>0.0</td>\n",
       "    </tr>\n",
       "  </tbody>\n",
       "</table>\n",
       "<p>5 rows × 714 columns</p>\n",
       "</div>"
      ],
      "text/plain": [
       "article_id  0.0  100.0  1000.0  1004.0  1006.0  1008.0  101.0  1014.0  1015.0  \\\n",
       "user_id                                                                         \n",
       "1           0.0    0.0     0.0     0.0     0.0     0.0    0.0     0.0     0.0   \n",
       "2           0.0    0.0     0.0     0.0     0.0     0.0    0.0     0.0     0.0   \n",
       "3           0.0    0.0     0.0     0.0     0.0     0.0    0.0     0.0     0.0   \n",
       "4           0.0    0.0     0.0     0.0     0.0     0.0    0.0     0.0     0.0   \n",
       "5           0.0    0.0     0.0     0.0     0.0     0.0    0.0     0.0     0.0   \n",
       "\n",
       "article_id  1016.0  ...  977.0  98.0  981.0  984.0  985.0  986.0  990.0  \\\n",
       "user_id             ...                                                   \n",
       "1              0.0  ...    0.0   0.0    1.0    0.0    0.0    0.0    0.0   \n",
       "2              0.0  ...    0.0   0.0    0.0    0.0    0.0    0.0    0.0   \n",
       "3              0.0  ...    1.0   0.0    0.0    0.0    0.0    0.0    0.0   \n",
       "4              0.0  ...    0.0   0.0    0.0    0.0    0.0    0.0    0.0   \n",
       "5              0.0  ...    0.0   0.0    0.0    0.0    0.0    0.0    0.0   \n",
       "\n",
       "article_id  993.0  996.0  997.0  \n",
       "user_id                          \n",
       "1             0.0    0.0    0.0  \n",
       "2             0.0    0.0    0.0  \n",
       "3             0.0    0.0    0.0  \n",
       "4             0.0    0.0    0.0  \n",
       "5             0.0    0.0    0.0  \n",
       "\n",
       "[5 rows x 714 columns]"
      ]
     },
     "execution_count": 270,
     "metadata": {},
     "output_type": "execute_result"
    }
   ],
   "source": [
    "# quick look at the matrix\n",
    "user_item_matrix.head()"
   ]
  },
  {
   "cell_type": "markdown",
   "metadata": {},
   "source": [
    "`2.` In this situation, you can use Singular Value Decomposition from [numpy](https://docs.scipy.org/doc/numpy-1.14.0/reference/generated/numpy.linalg.svd.html) on the user-item matrix.  Use the cell to perform SVD, and explain why this is different than in the lesson."
   ]
  },
  {
   "cell_type": "code",
   "execution_count": 271,
   "metadata": {},
   "outputs": [
    {
     "name": "stdout",
     "output_type": "stream",
     "text": [
      "(5149, 5149) (714,) (714, 714)\n"
     ]
    }
   ],
   "source": [
    "# Perform SVD on the User-Item Matrix Here\n",
    "\n",
    "u, s, vt = np.linalg.svd(user_item_matrix, full_matrices=True) # use the built in to get the three matrices\n",
    "\n",
    "print(u.shape, s.shape, vt.shape)"
   ]
  },
  {
   "cell_type": "markdown",
   "metadata": {},
   "source": [
    "**Provide your response here.**<br><br>\n",
    "**This is different than in the lesson because the dataframe in the lesson has got a NAN value while this dataframe has not got a NAN value. So we can easily use the SVD technique here without encountering a 'Cold Start' problem.**\n",
    "\n",
    "**- u is a square matrix of 5149 rows by 5149 columns.**<br>\n",
    "**- s is an array of 714 elements.**<br>\n",
    "**- vt is a square matrix of 714 rows by 714 columns.**<br>"
   ]
  },
  {
   "cell_type": "markdown",
   "metadata": {},
   "source": [
    "`3.` Now for the tricky part, how do we choose the number of latent features to use?  Running the below cell, you can see that as the number of latent features increases, we obtain a lower error rate on making predictions for the 1 and 0 values in the user-item matrix.  Run the cell below to get an idea of how the accuracy improves as we increase the number of latent features."
   ]
  },
  {
   "cell_type": "code",
   "execution_count": 272,
   "metadata": {},
   "outputs": [
    {
     "data": {
      "image/png": "[encoded data removed]",
      "text/plain": [
       "<Figure size 432x288 with 1 Axes>"
      ]
     },
     "metadata": {
      "needs_background": "light"
     },
     "output_type": "display_data"
    }
   ],
   "source": [
    "num_latent_feats = np.arange(10,700+10,20)\n",
    "sum_errs = []\n",
    "\n",
    "for k in num_latent_feats:\n",
    "    # restructure with k latent features\n",
    "    s_new, u_new, vt_new = np.diag(s[:k]), u[:, :k], vt[:k, :]\n",
    "    \n",
    "    # take dot product\n",
    "    user_item_est = np.around(np.dot(np.dot(u_new, s_new), vt_new))\n",
    "    \n",
    "    # compute error for each prediction to actual value\n",
    "    diffs = np.subtract(user_item_matrix, user_item_est)\n",
    "    \n",
    "    # total errors and keep track of them\n",
    "    err = np.sum(np.sum(np.abs(diffs)))\n",
    "    sum_errs.append(err)\n",
    "    \n",
    "    \n",
    "plt.plot(num_latent_feats, 1 - np.array(sum_errs)/df.shape[0]);\n",
    "plt.xlabel('Number of Latent Features');\n",
    "plt.ylabel('Accuracy');\n",
    "plt.title('Accuracy vs. Number of Latent Features');"
   ]
  },
  {
   "cell_type": "markdown",
   "metadata": {},
   "source": [
    "`4.` From the above, we can't really be sure how many features to use, because simply having a better way to predict the 1's and 0's of the matrix doesn't exactly give us an indication of if we are able to make good recommendations.  Instead, we might split our dataset into a training and test set of data, as shown in the cell below.  \n",
    "\n",
    "Use the code from question 3 to understand the impact on accuracy of the training and test sets of data with different numbers of latent features. Using the split below: \n",
    "\n",
    "* How many users can we make predictions for in the test set?  \n",
    "* How many users are we not able to make predictions for because of the cold start problem?\n",
    "* How many articles can we make predictions for in the test set?  \n",
    "* How many articles are we not able to make predictions for because of the cold start problem?"
   ]
  },
  {
   "cell_type": "code",
   "execution_count": 273,
   "metadata": {},
   "outputs": [],
   "source": [
    "df_train = df.head(40000)\n",
    "df_test = df.tail(5993)\n",
    "\n",
    "def create_test_and_train_user_item(df_train, df_test):\n",
    "    '''\n",
    "    INPUT:\n",
    "    df_train - training dataframe\n",
    "    df_test - test dataframe\n",
    "    \n",
    "    OUTPUT:\n",
    "    user_item_train - a user-item matrix of the training dataframe \n",
    "                      (unique users for each row and unique articles for each column)\n",
    "    user_item_test - a user-item matrix of the testing dataframe \n",
    "                    (unique users for each row and unique articles for each column)\n",
    "    test_idx - all of the test user ids\n",
    "    test_arts - all of the test article ids\n",
    "    \n",
    "    '''\n",
    "    # Your code here\n",
    "    # The train dataset\n",
    "    df_train = df_train[['user_id', 'article_id', 'access']]\n",
    "    user_item_train = df_train.groupby(['user_id', 'article_id']).max().unstack().fillna(0)\n",
    "        \n",
    "    # The test dataset\n",
    "    df_test = df_test[['user_id', 'article_id', 'access']]\n",
    "    user_item_test = df_test.groupby(['user_id', 'article_id']).max().unstack().fillna(0)\n",
    "        \n",
    "    test_idx = user_item_test.index\n",
    "    \n",
    "    test_arts = user_item_test.columns.levels[1]\n",
    "    \n",
    "    return user_item_train, user_item_test, test_idx, test_arts\n",
    "\n",
    "user_item_train, user_item_test, test_idx, test_arts = create_test_and_train_user_item(df_train, df_test)"
   ]
  },
  {
   "cell_type": "code",
   "execution_count": 274,
   "metadata": {},
   "outputs": [
    {
     "name": "stdout",
     "output_type": "stream",
     "text": [
      "20\n"
     ]
    }
   ],
   "source": [
    "# How many users can we make predictions for in the test set?\n",
    "test_pred = len(set(test_idx).intersection(list(user_item_train.index)))\n",
    "print(test_pred)"
   ]
  },
  {
   "cell_type": "code",
   "execution_count": 275,
   "metadata": {},
   "outputs": [
    {
     "name": "stdout",
     "output_type": "stream",
     "text": [
      "662\n"
     ]
    }
   ],
   "source": [
    "# How many users in the test set are we not able to make predictions for because of the cold start problem?\n",
    "no_test_pred = len(set(test_idx)) - test_pred\n",
    "print(no_test_pred)"
   ]
  },
  {
   "cell_type": "code",
   "execution_count": 276,
   "metadata": {},
   "outputs": [
    {
     "name": "stdout",
     "output_type": "stream",
     "text": [
      "574\n"
     ]
    }
   ],
   "source": [
    "# How many articles can we make predictions for in the test set?\n",
    "art_pred = len(set(test_arts).intersection(list(user_item_train.columns.levels[1])))\n",
    "print(art_pred)"
   ]
  },
  {
   "cell_type": "code",
   "execution_count": 277,
   "metadata": {},
   "outputs": [
    {
     "name": "stdout",
     "output_type": "stream",
     "text": [
      "0\n"
     ]
    }
   ],
   "source": [
    "# How many articles in the test set are we not able to make predictions for because of the cold start problem?\n",
    "no_art_pred = len(test_arts) - art_pred\n",
    "print(no_art_pred)"
   ]
  },
  {
   "cell_type": "code",
   "execution_count": 278,
   "metadata": {},
   "outputs": [
    {
     "name": "stdout",
     "output_type": "stream",
     "text": [
      "Awesome job!  That's right!  All of the test movies are in the training data, but there are only 20 test users that were also in the training set.  All of the other users that are in the test set we have no data on.  Therefore, we cannot make predictions for these users using SVD.\n"
     ]
    }
   ],
   "source": [
    "# Replace the values in the dictionary below\n",
    "a = 662 \n",
    "b = 574 \n",
    "c = 20 \n",
    "d = 0 \n",
    "\n",
    "\n",
    "sol_4_dict = {\n",
    "    'How many users can we make predictions for in the test set?': c, \n",
    "    'How many users in the test set are we not able to make predictions for because of the cold start problem?': a, \n",
    "    'How many articles can we make predictions for in the test set?': b,\n",
    "    'How many articles in the test set are we not able to make predictions for because of the cold start problem?': d\n",
    "}\n",
    "\n",
    "t.sol_4_test(sol_4_dict)"
   ]
  },
  {
   "cell_type": "markdown",
   "metadata": {},
   "source": [
    "`5.` Now use the **user_item_train** dataset from above to find U, S, and V transpose using SVD. Then find the subset of rows in the **user_item_test** dataset that you can predict using this matrix decomposition with different numbers of latent features to see how many features makes sense to keep based on the accuracy on the test data. This will require combining what was done in questions `2` - `4`.\n",
    "\n",
    "Use the cells below to explore how well SVD works towards making predictions for recommendations on the test data.  "
   ]
  },
  {
   "cell_type": "code",
   "execution_count": 279,
   "metadata": {},
   "outputs": [],
   "source": [
    "# fit SVD on the user_item_train matrix\n",
    "u_train, s_train, vt_train = np.linalg.svd(user_item_train, full_matrices=True) # fit svd similar to above then use the cells below"
   ]
  },
  {
   "cell_type": "code",
   "execution_count": 280,
   "metadata": {},
   "outputs": [
    {
     "data": {
      "image/png": "[encoded data removed]",
      "text/plain": [
       "<Figure size 432x288 with 1 Axes>"
      ]
     },
     "metadata": {
      "needs_background": "light"
     },
     "output_type": "display_data"
    }
   ],
   "source": [
    "# Use these cells to see how well you can use the training \n",
    "# decomposition to predict on test data\n",
    "\n",
    "num_latent_feats = np.arange(10,700+10,20)\n",
    "sum_errs = []\n",
    "\n",
    "for k in num_latent_feats:\n",
    "    \n",
    "    # Restructure with k latent features\n",
    "    u_train_new, s_train_new, vt_train_new = u_train[:, :k], np.diag(s_train[:k]), vt_train[:k, :]\n",
    "    \n",
    "    u_intersect = user_item_train.index.isin(test_idx)\n",
    "    u_matrix = u_train[u_intersect, :]\n",
    "    \n",
    "    vt_intersect = user_item_train.columns.levels[1].isin(test_arts)\n",
    "    vt_matrix = vt_train[:, vt_intersect]\n",
    "    \n",
    "    u_matrix_new, vt_matrix_new = u_matrix[:, :k], vt_matrix[:k, :]\n",
    "        \n",
    "    # Take dot product\n",
    "    user_item_est = np.around(np.dot(np.dot(u_matrix_new, s_train_new), vt_matrix_new))\n",
    "        \n",
    "    # Compute error for each prediction to actual value\n",
    "    \n",
    "    init_intersect = user_item_test.index.isin(user_item_train.index[u_intersect])\n",
    "    mid_intersect = user_item_test.index[init_intersect]\n",
    "    \n",
    "    diffs = np.subtract(user_item_test.loc[mid_intersect], user_item_est)\n",
    "    \n",
    "    # Total errors and keep track of them\n",
    "    err = np.sum(np.sum(np.abs(diffs)))\n",
    "    sum_errs.append(err)\n",
    "    \n",
    "    \n",
    "plt.plot(num_latent_feats, 1 - np.array(sum_errs)/df.shape[0]);\n",
    "plt.xlabel('Number of Latent Features');\n",
    "plt.ylabel('Accuracy');\n",
    "plt.title('Accuracy vs. Number of Latent Features');"
   ]
  },
  {
   "cell_type": "markdown",
   "metadata": {
    "collapsed": true
   },
   "source": [
    "`6.` Use the cell below to comment on the results you found in the previous question. Given the circumstances of your results, discuss what you might do to determine if the recommendations you make with any of the above recommendation systems are an improvement to how users currently find articles? "
   ]
  },
  {
   "cell_type": "markdown",
   "metadata": {},
   "source": [
    "**Your response here.**<br><br>\n",
    "**From the above analysis, the prediction accuracy decreases as the number of latent features increases. This implies that the SVD is not very suitable for datasets with very many latent features.**<br>\n",
    "\n",
    "**To determine whether my recommendations are an improvement, I will carry out an experiment, preferrably with A/B testing. It will also be helpful to design the experiment in such a way that it will attract greater number of user-article interactions.**"
   ]
  },
  {
   "cell_type": "code",
   "execution_count": 281,
   "metadata": {},
   "outputs": [
    {
     "data": {
      "text/plain": [
       "1"
      ]
     },
     "execution_count": 281,
     "metadata": {},
     "output_type": "execute_result"
    }
   ],
   "source": [
    "from subprocess import call\n",
    "call(['python', '-m', 'nbconvert', 'Recommendations_with_IBM.ipynb'])"
   ]
  }
 ],
 "metadata": {
  "kernelspec": {
   "display_name": "Python 3",
   "language": "python",
   "name": "python3"
  },
  "language_info": {
   "codemirror_mode": {
    "name": "ipython",
    "version": 3
   },
   "file_extension": ".py",
   "mimetype": "text/x-python",
   "name": "python",
   "nbconvert_exporter": "python",
   "pygments_lexer": "ipython3",
   "version": "3.8.5"
  }
 },
 "nbformat": 4,
 "nbformat_minor": 2
}
